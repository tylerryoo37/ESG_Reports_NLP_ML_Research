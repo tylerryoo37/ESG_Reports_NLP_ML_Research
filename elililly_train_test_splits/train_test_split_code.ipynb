{
 "cells": [
  {
   "cell_type": "markdown",
   "metadata": {},
   "source": [
    "### NOTE: This notebook was used to do a quick test on training the Logistics Regression using all the reports except EliLilly and test the model on EliLily"
   ]
  },
  {
   "cell_type": "code",
   "execution_count": 65,
   "metadata": {},
   "outputs": [
    {
     "name": "stdout",
     "output_type": "stream",
     "text": [
      "78258\n",
      "891\n"
     ]
    },
    {
     "data": {
      "text/html": [
       "<div>\n",
       "<style scoped>\n",
       "    .dataframe tbody tr th:only-of-type {\n",
       "        vertical-align: middle;\n",
       "    }\n",
       "\n",
       "    .dataframe tbody tr th {\n",
       "        vertical-align: top;\n",
       "    }\n",
       "\n",
       "    .dataframe thead th {\n",
       "        text-align: right;\n",
       "    }\n",
       "</style>\n",
       "<table border=\"1\" class=\"dataframe\">\n",
       "  <thead>\n",
       "    <tr style=\"text-align: right;\">\n",
       "      <th></th>\n",
       "      <th>relevant_sentences</th>\n",
       "      <th>company_label</th>\n",
       "      <th>class</th>\n",
       "    </tr>\n",
       "  </thead>\n",
       "  <tbody>\n",
       "    <tr>\n",
       "      <th>0</th>\n",
       "      <td>From 2012 to 2020, we achieved a 26% reduction...</td>\n",
       "      <td>EliLilly</td>\n",
       "      <td>1</td>\n",
       "    </tr>\n",
       "    <tr>\n",
       "      <th>1</th>\n",
       "      <td>In 2021, we achieved a 9% absolute emissions r...</td>\n",
       "      <td>EliLilly</td>\n",
       "      <td>1</td>\n",
       "    </tr>\n",
       "    <tr>\n",
       "      <th>2</th>\n",
       "      <td>This reduction was partially driven by energy ...</td>\n",
       "      <td>EliLilly</td>\n",
       "      <td>1</td>\n",
       "    </tr>\n",
       "    <tr>\n",
       "      <th>3</th>\n",
       "      <td>In 2021, 9.6% of our purchased electricity cam...</td>\n",
       "      <td>EliLilly</td>\n",
       "      <td>1</td>\n",
       "    </tr>\n",
       "    <tr>\n",
       "      <th>4</th>\n",
       "      <td>A large portion of this renewable electricity ...</td>\n",
       "      <td>EliLilly</td>\n",
       "      <td>1</td>\n",
       "    </tr>\n",
       "  </tbody>\n",
       "</table>\n",
       "</div>"
      ],
      "text/plain": [
       "                                  relevant_sentences company_label  class\n",
       "0  From 2012 to 2020, we achieved a 26% reduction...      EliLilly      1\n",
       "1  In 2021, we achieved a 9% absolute emissions r...      EliLilly      1\n",
       "2  This reduction was partially driven by energy ...      EliLilly      1\n",
       "3  In 2021, 9.6% of our purchased electricity cam...      EliLilly      1\n",
       "4  A large portion of this renewable electricity ...      EliLilly      1"
      ]
     },
     "execution_count": 65,
     "metadata": {},
     "output_type": "execute_result"
    }
   ],
   "source": [
    "# pull in the csv data\n",
    "\n",
    "import pandas as pd\n",
    "\n",
    "# irrelevant = pd.read_csv(\"../relevant_irrelevant_sentences/extracted_irrelevant_sentences_from_all.csv\")\n",
    "# relevant = pd.read_csv(\"../relevant_irrelevant_sentences/extracted_relevant_sentences_from_rel.csv\")\n",
    "\n",
    "irrelevant = pd.read_csv(\"../relevant_irrelevant_sentences_labeled/extracted_irrelevant_sentences.csv\")\n",
    "relevant = pd.read_csv(\"../relevant_irrelevant_sentences_labeled/extracted_relevant_sentences.csv\")\n",
    "\n",
    "print(len(irrelevant))\n",
    "print(len(relevant))\n",
    "irrelevant[\"class\"] = 0\n",
    "relevant[\"class\"] = 1\n",
    "\n",
    "irrelevant = irrelevant[['relevant_sentences', 'company_label', 'class']]\n",
    "relevant = relevant[['relevant_sentences', 'company_label', 'class']]\n",
    "relevant.head()"
   ]
  },
  {
   "cell_type": "code",
   "execution_count": 66,
   "metadata": {},
   "outputs": [],
   "source": [
    "elililly_irrelevant = irrelevant[irrelevant['company_label'] == 'EliLilly']\n",
    "elililly_relevant = relevant[relevant['company_label'] == 'EliLilly']\n",
    "\n",
    "rest_irrelevant = irrelevant[irrelevant['company_label'] != 'EliLilly']\n",
    "rest_relevant = relevant[relevant['company_label'] != 'EliLilly']"
   ]
  },
  {
   "cell_type": "code",
   "execution_count": 68,
   "metadata": {},
   "outputs": [
    {
     "data": {
      "text/plain": [
       "(15, 84, 78174, 876)"
      ]
     },
     "execution_count": 68,
     "metadata": {},
     "output_type": "execute_result"
    }
   ],
   "source": [
    "len(elililly_relevant), len(elililly_irrelevant), len(rest_irrelevant), len(rest_relevant)"
   ]
  },
  {
   "cell_type": "code",
   "execution_count": 73,
   "metadata": {},
   "outputs": [
    {
     "data": {
      "text/plain": [
       "15"
      ]
     },
     "execution_count": 73,
     "metadata": {},
     "output_type": "execute_result"
    }
   ],
   "source": [
    "# sample the irrelevant data so it is balanced with the relevant\n",
    "\n",
    "sample_irr = elililly_irrelevant.sample(n=len(elililly_relevant), random_state=1)\n",
    "sample_irr.head()\n",
    "len(sample_irr)"
   ]
  },
  {
   "cell_type": "code",
   "execution_count": 1,
   "metadata": {},
   "outputs": [
    {
     "ename": "NameError",
     "evalue": "name 'pd' is not defined",
     "output_type": "error",
     "traceback": [
      "\u001b[0;31m---------------------------------------------------------------------------\u001b[0m",
      "\u001b[0;31mNameError\u001b[0m                                 Traceback (most recent call last)",
      "\u001b[0;32m/var/folders/c8/4mvtm2vs4_vdgzz_n030prfm0000gn/T/ipykernel_63924/598759547.py\u001b[0m in \u001b[0;36m<module>\u001b[0;34m\u001b[0m\n\u001b[1;32m      1\u001b[0m \u001b[0;31m#create the final df\u001b[0m\u001b[0;34m\u001b[0m\u001b[0;34m\u001b[0m\u001b[0m\n\u001b[0;32m----> 2\u001b[0;31m \u001b[0mconcat\u001b[0m \u001b[0;34m=\u001b[0m \u001b[0mpd\u001b[0m\u001b[0;34m.\u001b[0m\u001b[0mconcat\u001b[0m\u001b[0;34m(\u001b[0m\u001b[0;34m[\u001b[0m\u001b[0melililly_relevant\u001b[0m\u001b[0;34m,\u001b[0m \u001b[0msample_irr\u001b[0m\u001b[0;34m]\u001b[0m\u001b[0;34m,\u001b[0m \u001b[0mignore_index\u001b[0m\u001b[0;34m=\u001b[0m\u001b[0;32mTrue\u001b[0m\u001b[0;34m)\u001b[0m\u001b[0;34m\u001b[0m\u001b[0;34m\u001b[0m\u001b[0m\n\u001b[0m\u001b[1;32m      3\u001b[0m \u001b[0mlen\u001b[0m\u001b[0;34m(\u001b[0m\u001b[0mconcat\u001b[0m\u001b[0;34m)\u001b[0m\u001b[0;34m\u001b[0m\u001b[0;34m\u001b[0m\u001b[0m\n",
      "\u001b[0;31mNameError\u001b[0m: name 'pd' is not defined"
     ]
    }
   ],
   "source": [
    "#create the final df\n",
    "concat = pd.concat([elililly_relevant, sample_irr], ignore_index=True)\n",
    "len(concat)"
   ]
  },
  {
   "cell_type": "code",
   "execution_count": 75,
   "metadata": {},
   "outputs": [],
   "source": [
    "# train and test sets and export to csvs\n",
    "from sklearn.model_selection import train_test_split\n",
    "\n",
    "X_train, X_test, y_train, y_test = train_test_split(concat['relevant_sentences'], concat['class'], test_size=0.1, random_state=100)\n"
   ]
  },
  {
   "cell_type": "code",
   "execution_count": 76,
   "metadata": {},
   "outputs": [],
   "source": [
    "# export to csvs\n",
    "\n",
    "dfbalanced = pd.concat([concat], ignore_index=True)\n",
    "dfbalanced.to_csv('elililly_balanced_data.csv')\n",
    "\n",
    "dfbalanced_train = pd.concat([X_train.to_frame(), y_train.to_frame()], axis = 1, ignore_index = True)\n",
    "dfbalanced_train.columns = ['sentences', 'class']\n",
    "dfbalanced_train.to_csv('elililly_balanced_data_train.csv')\n",
    "\n",
    "dfbalanced_test = pd.concat([X_test.to_frame(), y_test.to_frame()], axis = 1, ignore_index = True)\n",
    "dfbalanced_test.columns = ['sentences', 'class']\n",
    "dfbalanced_test.to_csv('elililly_balanced_data_test.csv')"
   ]
  },
  {
   "cell_type": "code",
   "execution_count": null,
   "metadata": {},
   "outputs": [],
   "source": []
  }
 ],
 "metadata": {
  "kernelspec": {
   "display_name": "Python 3 (ipykernel)",
   "language": "python",
   "name": "python3"
  },
  "language_info": {
   "codemirror_mode": {
    "name": "ipython",
    "version": 3
   },
   "file_extension": ".py",
   "mimetype": "text/x-python",
   "name": "python",
   "nbconvert_exporter": "python",
   "pygments_lexer": "ipython3",
   "version": "3.9.7"
  },
  "vscode": {
   "interpreter": {
    "hash": "db1c1e886ca7e5218f158543d1b9804c0a5c522f5654be9e23cd8543b350db84"
   }
  }
 },
 "nbformat": 4,
 "nbformat_minor": 2
}
