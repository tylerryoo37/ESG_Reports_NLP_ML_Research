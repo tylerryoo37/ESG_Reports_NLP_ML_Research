{
 "cells": [
  {
   "cell_type": "code",
   "execution_count": 129,
   "id": "708301a5",
   "metadata": {},
   "outputs": [],
   "source": [
    "import torch\n",
    "import PyPDF2\n",
    "import nltk\n",
    "from scipy.spatial.distance import cosine\n",
    "import numpy as np"
   ]
  },
  {
   "cell_type": "markdown",
   "id": "bfe7aa08",
   "metadata": {},
   "source": [
    "# Extracting PDF"
   ]
  },
  {
   "cell_type": "code",
   "execution_count": 40,
   "id": "1455e17d",
   "metadata": {},
   "outputs": [],
   "source": [
    "file = r\"Reports\\EliLilly_2021_Environmental_ESG_report.pdf\""
   ]
  },
  {
   "cell_type": "code",
   "execution_count": 41,
   "id": "2ea60c2a",
   "metadata": {},
   "outputs": [],
   "source": [
    "pdfReader = PyPDF2.PdfFileReader(file) "
   ]
  },
  {
   "cell_type": "code",
   "execution_count": 42,
   "id": "be6a59f0",
   "metadata": {},
   "outputs": [],
   "source": [
    "n = len(pdfReader.pages)\n",
    "txt = ''\n",
    "for i in range(n):\n",
    "    temp = pdfReader.pages[i].extractText()\n",
    "    txt = txt + temp"
   ]
  },
  {
   "cell_type": "code",
   "execution_count": 43,
   "id": "45fa31c1",
   "metadata": {},
   "outputs": [],
   "source": [
    "tokens = nltk.sent_tokenize(txt.replace('\\n', ''))"
   ]
  },
  {
   "cell_type": "code",
   "execution_count": 44,
   "id": "b1977ca6",
   "metadata": {
    "scrolled": true
   },
   "outputs": [
    {
     "name": "stdout",
     "output_type": "stream",
     "text": [
      "7/7/22, 10:29 AM Environmental | 2021 ESG Report | Eli Lilly and Companyhttps://esg.lilly.com/environmental#tab-control-tab4 1/7Our purpose, to make life better, includes protecting and preserving the world we live in.\n",
      "Making medicines requires the use of valuableresources including energy, water and raw materials.\n",
      "We’re committed to reducing our environmental footprint across the life cycles ofour products and our supply chain.\n",
      "T o track our progress, we measure and manage energy and water use, greenhouse gas (GHG)emissions and the generation of waste and wastewater thr oughout our manufacturing pr ocess.\n",
      "Lilly manages health, saf ety and theenvironment (HSE) under a uni\u0000ed governance structure.Our 2030 Envir onmental GoalsClimateCarbon neutralin our own operations100%renewable electricityEnhancefull value-chain emissions reportingWasteZerowaste to land\u0000ll100%of plastic waste repurposed forbene\u0000cial use with at least 90%recycled or reusedIntegrate sustainabilityinto product and packaging designWaterNo adverse impactto water-stressed areasNo adverse impactfrom pharmaceuticals in theenvironmentClimateWasteWaterProduct StewardshipClimateOur Environmental Appr oachSkip to main contentMenu7/7/22, 10:29 AM Environmental | 2021 ESG Report | Eli Lilly and Companyhttps://esg.lilly.com/environmental#tab-control-tab4 2/7Management ApproachLilly acknowledges that climate change is an e ver-present reality that is contributing to a reduction in human and envir onmental health.Action against climate change is r equired to achieve the goals of the Paris Agreement and to avoid the most detrimental effects ofclimate change by limiting the global temperature rise to 1.5°C.\n",
      "Lilly is continuously working t o reduce our GHG emissions within ouroperations and along our value chain.\n",
      "We are working on calculating our Scope 3 emissions and identifying climate-r elated risks andopportunities in our business and intend t o develop measurable Scope 3 goals.\n",
      "As a global company committed t o making life better for people, we recognize our responsibility to reduce our carbon footprint andmanage climate-related risks and opportunities to support the transition to a low-carbon economy.\n",
      "Lilly discloses informationaccording to recommendations of the Task Force on Climate-related Financial Disclosures (TCFD) and aims to implement theserecommendations across the TCFD categories of Governance, Strategy, Risk Management and Metrics & T argets.\n",
      "For more information,please see our 2021 TCFD metrics.In This SectionClimate Action Strategy2030 Climate Goals and Progress to Date Recent AchievementsReducing Our Energy Use EmissionsReducing Emissions through Cleaner EnergyOffsetting through Carbon Removal ProjectsScope 3 Emissions and Supply Chain EngagementClimate Performance DataClimate Action StrategyTo mitigate the impact of Lilly ’s business operations on the environment and achieve our 2030 goals (described below), we ar e applyinga comprehensive three-pronged approach:  1.\n",
      "Reducing our energy and emissions by making our overall operations more e\u0000cient 2.\n",
      "Replacing carbon-intensive processes and energy sources with low-carbon alternativ es 3.\n",
      "Offsetting remaining emissions and ener gy sources that could not be reduced or replaced, by purchasing emissions offsets fr omhigh-quality, third-party veri\u0000ed carbon reduction projects (note: it is not currently possible to eliminate all emissions sour ces ortransition all direct energy supplies to renewable sources).\n",
      "For more information regarding our governance and approach to climate change and related risks/opportunities see our CDP Climate response.\n",
      "2030 Climate Goals and Our Pr ogress to Date Lilly is committed to reducing our GHG emissions, and prioritizing ener gy e\u0000ciency to become a more climate-resilient organization.Looking toward the future, we have set climate goals for 2030 as we work t oward contributing to a low-carbon economy: Secure 100% of our purchased electricity from renewable sourcesIn 2021, 9.6% of our purchased electricity came from renewable sources.\n",
      "A large portion of this renewable electricity is deliveredthrough our utility providers to our sites in Alcobendas, Spain; Kinsale, Ir eland; and Bracknell, UK.\n",
      "We plan to increase the amountof renewable electricity utilized as we advance new projects, including solar arrays at our sites in Puerto Rico and France, and anexpansion to our solar array in Kinsale, Ireland, and another solar array in Alcobendas, Spain.\n",
      "Become carbon neutral in our own operations (Scope 1 and 2 emissions)Lilly strives to be carbon neutral by 2030, and we are working to drive GHG emissions reductions throughout our operations.\n",
      "Ourinitial priority is to reduce emissions as much as possible internally befor e we purchase offsets to cover the remainingemissions.\n",
      "From 2012 to 2020, we achieved a 26% reduction in absolute emissions.\n",
      "In 2021, we achie ved a 9% absoluteemissions reduction versus 2020.\n",
      "This reduction was partially driven by energy e\u0000ciency improvements and an increase in theuse of renewable electricity including the  startup of our solar array in Kinsale.\n",
      "Climate Action StrategySkip to main content Menu7/7/22, 10:29 AM Environmental | 2021 ESG Report | Eli Lilly and Companyhttps://esg.lilly.com/environmental#tab-control-tab4 3/7Enhance tracking and reporting of emissions from our full value-chain In 2021, we advanced our efforts toward achieving this goal by undertaking the measurement of our full Scope 3 (value-chain)emissions.\n",
      "This complex work is expected t o be complete in mid-2022.\n",
      "Once complete, we will include por tions of thisinformation in our public disclosur es such as our CDP report.\n",
      "These data will also be used t o inform our supply chainengagement strategy related to climate change.\n",
      "Recent AchievementsThroughout 2020 and 2021, because of the CO VID-19 pandemic, many of our administr ative areas were operating at reducedoccupancy.\n",
      "We continued to emphasize reducing energy consumption by minimizing access to unoccupied areas and adjusting HVAC,lighting and other systems to conserve energy.\n",
      "In 2021, we reduced our energy consumption by 2.9%, and we reduced our absolute GHGemissions by 9% compared to 2020.\n",
      "These improvements were made while production volume increased.\n",
      "Our emissions reductionswere driven by a combination of energy and process e\u0000ciencies, and changes in our ener gy supply mix to include cleaner energysources.\n",
      "Reducing Our Energy Use EmissionsWe continue to evaluate how to improve our energy resiliency and expand our use of r enewable electricity consistent with our goal t odiversify our energy sources and decrease our GHG emissions over time.\n",
      "Our current initiatives include:  Designing for energy e\u0000ciency in new or updated pr ocesses and facilities Operating our facilities and equipment in incr easingly e\u0000cient ways  Facilitating the use of advanced energy monitoring and control solutions Conducting and acting on ener gy assessments and implementing r ecommended projects to improve energy e\u0000ciency Evaluating and incorporating alternative energy sources, new technologies and best pr actices for energy use and GHG emissionreductions Participating in local, regional and national forums t o understand and integrate energy management best practices and to supportresponsible and cost-effective decision-making and policy de velopment (e.g., the U.S. Envir onmental Protection Agency’s ENERGYSTAR Pharmaceutical Focus Group) Climate HighlightsRecent Energy InitiativesHVAC Systems Optimization – Sites in Alcobendas, Spain, F egersheim, France and Indianapolis in the U.S. ha vecompleted initiatives to decrease energy consumed in HVAC systems.\n",
      "These projects include chiller replacements,building air handler optimizations and air \u0000ow r eduction initiatives.\n",
      "Sesto implemented new drive-belt technology on airhandlers to improve e\u0000ciency.\n",
      "Collectively, we expect that these projects will reduce energy consumption by anestimated 14,000 MWh per y ear.Chiller System Optimization  – Chilled water and cooling systems ar e some of the highest energy consuming systemsin pharmaceutical operations, and they continued to be a focus for our engineering r esources in 2021.\n",
      "Our site inKinsale, Ireland replaced \u0000xed speed pump motors with variable speed motors.\n",
      "In Indianapolis, a chiller was r eplacedwith a new, higher e\u0000ciency chiller.\n",
      "One of our sites in Puerto Rico implemented the \u0000rst phase of a chilled water andcooling tower optimization project, and another site began a substantial e\u0000ciency upgr ade to its chilled water systemthat is expected to be completed in mid-2022.\n",
      "These pr ojects are expected to reduce energy consumption by over12,500 MWh per year.Encouraging Eco-E\u0000ciency Across Our OperationsIn 2006, we established the Ener gy, Waste and Water Reduction Fund to encourage projects that demonstrate the greatestpotential for reductions in emissions and ener gy use but are not funded by site capital budgets.\n",
      "Since then, we ha veapproved over $50 million supporting more than 190 projects.\n",
      "Since the inception of the pr ogram, these projectscollectively save more than one trillion BTUs of energy annually, avoiding approximately 131,000 metric tonnes of GHGSkip to main content Menu7/7/22, 10:29 AM Environmental | 2021 ESG Report | Eli Lilly and Companyhttps://esg.lilly.com/environmental#tab-control-tab4 4/7Reducing Emissions thr ough Cleaner Energy We continue to evaluate how to improve our energy resiliency and expand our use of r enewable electricity consistent with our goal t odiversify our energy sources and decrease our GHG emissions over time.\n",
      "emissions each year, measured as carbon dioxide equivalents.\n",
      "We also actively recognize innovation and excellence in Health, Safety and the Environment (HSE) management b ygranting annual HSE awards.\n",
      "Nominations represent a signi\u0000cant accomplishment, and the awar ds recognize ouremployees for helping Lilly achieve energy and GHG emissions reduction goals.\n",
      "Projects are also assessed on theirpotential to scale in other areas across the company.Enhancing the Use of SolarIn 2021, 9.6% of our purchased electricity was secur ed from renewable sources.\n",
      "We have reduced GHG emissions at keyfacilities by leveraging solar energy.\n",
      "These projects include: Kinsale – In July, 2021, Lilly started up a 20-acre solar array in Kinsale, Ireland consisting of over 12,600 solar panels,which at the time of construction r epresented the largest solar development in Ireland.\n",
      "The solar array is expected toprovide up to 15% of the site’s purchased electricity, resulting in an estimated 2,350 t onne reduction in the site’s annualcarbon footprint.\n",
      "Lilly Kinsale has initiated a 10-acr e expansion to this solar array, which is expected to be online by theend of 2022.Solar \u0000eld at Lilly’s Kinsale, Ireland location.\n",
      "India – In 2019, Lilly India began oper ating a rooftop solar array on its administrative building in Gurugram (Gurgaon),India.\n",
      "The 40-kW capacity solar panels will help r educe Lilly’s carbon footprint in the city – a k ey priority due to risingpollution levels.\n",
      "The solar panels supply appr oximately 10% of the site’s energy needs.Manufacturing facilities in Fegersheim, France and Sesto, Italy have solar arrays of 62 kW and 145 kW, respectively.Additional solar capacity is being installed at our manufacturing facilities in Puer to Rico and Fegersheim.Energy ResiliencyIn 2017, we began designing a new 9 megawatt (MW ) combined heat and power system at our Puer to Rico facility, whichsuccessfully commenced oper ation in 2021.\n",
      "The combined heat and power (CHP) system will signi\u0000cantly impr ove theresiliency of our Puerto Rico manufacturing operations and will also result in lower energy expenses and reduced GHGemissions.\n",
      "We also operate combined heat and power systems at our manufacturing sites in Kinsale, Ir eland and Sesto,Italy.Fleet Fuel EconomyOur GREENDirections program focuses on \u0000eet fuel economy and GHG emissions, o\u0000ce ener gy conservation and wastereduction for our sales and mark eting a\u0000liates around the world.\n",
      "Each year, our a\u0000liates look for opportunities toSkip to main content Menu7/7/22, 10:29 AM Environmental | 2021 ESG Report | Eli Lilly and Companyhttps://esg.lilly.com/environmental#tab-control-tab4 5/7Off-Setting through Carbon Remo val ProjectsWhile our primary strategy is to directly reduce emissions and replace carbon-intensive sources with clean energy sources wherepossible, to achieve carbon neutrality we recognize the remaining emissions will need t o be offset by purchasing certi\u0000cates fromclimate protection projects with recognized quality standards.\n",
      "In 2021, we did not purchase any carbon offsets.\n",
      "The decision t opurchase offsets will be made based on the r emaining emissions that cannot be eliminated.Scope 3 Emissions and Supply Chain Engagement We are working to advance transparency across our value chain, including in our full Scope 3 emissions, which ar e currently beingcalculated and are expected to be reported for the \u0000rst time in the later half of 2022 thr ough our CDP Climate report.\n",
      "We are engagingwith key suppliers and identifying ar eas of our value chain where we could potentially make improvements and increase resiliency.Climate Performance DataGreenhouse GasEmissions (Scope1 and Scope 2)(metric tonnesCO2e) 832,000788,000710,000645,000Scope 1 201,000192,000159,000157,000Scope 2 631,000596,000551,000488,000Greenhouse GasEmissions (Scope1 and Scope 2)(metric tonnesCO2e)Not previouslyreportedNot previouslyreportedNot previouslyreported623,000enhance their environmental performance.\n",
      "We optimize the fuel e\u0000ciency and reduce the GHG emissions gener ated by our sales force \u0000eet by choosing vehicleswith better fuel economy and pr omoting driving and work practices that emphasize safety and fuel savings.\n",
      "We haveintroduced hybrid or electric \u0000eet v ehicles in several geographies where infrastructure is available.\n",
      "For example, Lilly’s\u0000eet in Japan consists of appr oximately 80% hybrid vehicles, and our a\u0000liate in Germany has begun including electricvehicles in their \u0000eet offering.\n",
      "We centrally manage vehicle selection across the EU, Japan and the U.S., which impr ovese\u0000ciency and supports the implementation of strong safety and environmental standards.\n",
      "Green LogisticsGreenhouse GasEmissions(Location-based)(1)20182019202020212Greenhouse GasEmissions(Market-Based) (1)20182019202020212Skip to main content Menu7/7/22, 10:29 AM Environmental | 2021 ESG Report | Eli Lilly and Companyhttps://esg.lilly.com/environmental#tab-control-tab4 6/7Scope 1 Not previouslyreportedNot previouslyreportedNot previouslyreported157,000Scope 2 Not previouslyreportedNot previouslyreportedNot previouslyreported466,000Scope 3 Emissions(metric tonnesCO2e)263,000235,000176,000Not yet availableTotal EnergyConsumption(million BTUs)6,650,0006,400,0006,200,0006,100,000Direct EnergyConsumption(million BTUs)1,730,0001,690,0001,700,0001,600,000Indirect EnergyConsumption(million BTUs)4,920,0004,700,0004,500,0004,500,000RenewableElectricityNot previouslyreportedNot previouslyreported7.0%9.6%100% Renewable Electricity 100% 9.6%Carbon Neutral (Market-Based Scope1 and Scope 2) Carbon Neutral623,000 tonnes CO2eEnhance Tracking and Reporting ofFull Value-Chain Emissions (Scope 3) N/A On trackFootnotesNote: Some segments do not add up t o totals due to rounding.Note: Bureau Veritas was engaged by Eli Lilly and Company to provide limited assurance in relation to speci\u0000ed 2021 environmentalperformance data presented.1.\n",
      "A location-based method re\u0000ects the average emissions intensity of grids on which energy consumption occurs (using mostly grid-average emission factordata).\n",
      "A market-based method re\u0000ects emissions from electricity that companies have purposefully chosen (or their lack of choice).\n",
      "It derives emission factorsfrom contractual instruments, which include any type of contract between two parties for the sale and purchase of energy bundled with attributes about theenergy generation, or for unbundled attribute claims.\n",
      "https://ghgprotocol.org/sites/default/\u0000les/Scope2_ExecSum_Final.pdf2.\n",
      "Includes Scope 1 emissions and energy from onsite fuel combustion (excluding mobile sources) and Scope 2 emissions and energy from site-purchasedenergy (i.e., electricity, steam and chilled water).\n",
      "For smaller locations not billed directly to Lilly, data are estimated based on square footage.3.\n",
      "2018 through 2020 Scope 3 data include the following Scope 3 categories: upstream transportation and distribution, waste generated in operations, businesstravel, employee commuting, upstream leased assets, downstream leased assets, franchises, investments.\n",
      "We are currently working to advance transparencyacross our value chain, including reporting on all 15 Scope 3 emissions, which are being calculated and expected to be reported for the \u0000rst time in mid-2022.Greenhouse GasEmissions(Market-Based) (1)2018201920202021Value-ChainGreenhouse GasEmissions20182019202020213Energy 201820192020202145Climate Goals 2030 Goal 2021 PerformanceSkip to main content Menu7/7/22, 10:29 AM Environmental | 2021 ESG Report | Eli Lilly and Companyhttps://esg.lilly.com/environmental#tab-control-tab4 7/7See important information about our ESG report.Copyright © 2022 Eli Lilly and Company .\n",
      "All rights reserved.\n",
      "4.\n",
      "Data includes energy from combustion of coal, fuel oil, natural gas and liquid propane.5.\n",
      "Data includes energy from purchased electricity, steam and chilled water.View Lilly’s environmental data from 2020, including our previous goals and progress through 2020.\n",
      "Additional historical data areavailable in our reporting archives.\n",
      "Download Our 2021 ESG DataDiversityContactSuppliersLogin To speak to customersupport:Call (800) 545-5979    Terms of UsePrivacy StatementAccessibility StatementSitemapMenu\n"
     ]
    }
   ],
   "source": [
    "#checking extracted sentences\n",
    "for t in tokens:\n",
    "    print(t)"
   ]
  },
  {
   "cell_type": "markdown",
   "id": "6e5ae3f5",
   "metadata": {},
   "source": [
    "# Preprocessing String"
   ]
  },
  {
   "cell_type": "code",
   "execution_count": 45,
   "id": "0fe73d51",
   "metadata": {},
   "outputs": [],
   "source": [
    "#giving new name for preprocess strings\n",
    "#keeping only sentences with length greater than 3\n",
    "pre_tokens = []\n",
    "for sen in tokens:\n",
    "    if len(sen.split(' ')) > 3:\n",
    "        pre_tokens.append(sen)\n",
    "   "
   ]
  },
  {
   "cell_type": "markdown",
   "id": "5dd49f87",
   "metadata": {},
   "source": [
    "# Importing Climate Bert"
   ]
  },
  {
   "cell_type": "code",
   "execution_count": 46,
   "id": "03cc54e4",
   "metadata": {},
   "outputs": [],
   "source": [
    "from transformers import AutoTokenizer, AutoModelForMaskedLM\n",
    "\n",
    "tokenizer = AutoTokenizer.from_pretrained(\"climatebert/distilroberta-base-climate-f\")\n",
    "\n",
    "model = AutoModelForMaskedLM.from_pretrained(\"climatebert/distilroberta-base-climate-f\",output_hidden_states = True)"
   ]
  },
  {
   "cell_type": "code",
   "execution_count": 89,
   "id": "99eae5e5",
   "metadata": {},
   "outputs": [
    {
     "data": {
      "text/plain": [
       "torch.Size([768])"
      ]
     },
     "execution_count": 89,
     "metadata": {},
     "output_type": "execute_result"
    }
   ],
   "source": []
  },
  {
   "cell_type": "code",
   "execution_count": 20,
   "id": "2935151a",
   "metadata": {},
   "outputs": [
    {
     "data": {
      "text/plain": [
       "RobertaForMaskedLM(\n",
       "  (roberta): RobertaModel(\n",
       "    (embeddings): RobertaEmbeddings(\n",
       "      (word_embeddings): Embedding(50500, 768, padding_idx=1)\n",
       "      (position_embeddings): Embedding(514, 768, padding_idx=1)\n",
       "      (token_type_embeddings): Embedding(1, 768)\n",
       "      (LayerNorm): LayerNorm((768,), eps=1e-05, elementwise_affine=True)\n",
       "      (dropout): Dropout(p=0.1, inplace=False)\n",
       "    )\n",
       "    (encoder): RobertaEncoder(\n",
       "      (layer): ModuleList(\n",
       "        (0): RobertaLayer(\n",
       "          (attention): RobertaAttention(\n",
       "            (self): RobertaSelfAttention(\n",
       "              (query): Linear(in_features=768, out_features=768, bias=True)\n",
       "              (key): Linear(in_features=768, out_features=768, bias=True)\n",
       "              (value): Linear(in_features=768, out_features=768, bias=True)\n",
       "              (dropout): Dropout(p=0.1, inplace=False)\n",
       "            )\n",
       "            (output): RobertaSelfOutput(\n",
       "              (dense): Linear(in_features=768, out_features=768, bias=True)\n",
       "              (LayerNorm): LayerNorm((768,), eps=1e-05, elementwise_affine=True)\n",
       "              (dropout): Dropout(p=0.1, inplace=False)\n",
       "            )\n",
       "          )\n",
       "          (intermediate): RobertaIntermediate(\n",
       "            (dense): Linear(in_features=768, out_features=3072, bias=True)\n",
       "            (intermediate_act_fn): GELUActivation()\n",
       "          )\n",
       "          (output): RobertaOutput(\n",
       "            (dense): Linear(in_features=3072, out_features=768, bias=True)\n",
       "            (LayerNorm): LayerNorm((768,), eps=1e-05, elementwise_affine=True)\n",
       "            (dropout): Dropout(p=0.1, inplace=False)\n",
       "          )\n",
       "        )\n",
       "        (1): RobertaLayer(\n",
       "          (attention): RobertaAttention(\n",
       "            (self): RobertaSelfAttention(\n",
       "              (query): Linear(in_features=768, out_features=768, bias=True)\n",
       "              (key): Linear(in_features=768, out_features=768, bias=True)\n",
       "              (value): Linear(in_features=768, out_features=768, bias=True)\n",
       "              (dropout): Dropout(p=0.1, inplace=False)\n",
       "            )\n",
       "            (output): RobertaSelfOutput(\n",
       "              (dense): Linear(in_features=768, out_features=768, bias=True)\n",
       "              (LayerNorm): LayerNorm((768,), eps=1e-05, elementwise_affine=True)\n",
       "              (dropout): Dropout(p=0.1, inplace=False)\n",
       "            )\n",
       "          )\n",
       "          (intermediate): RobertaIntermediate(\n",
       "            (dense): Linear(in_features=768, out_features=3072, bias=True)\n",
       "            (intermediate_act_fn): GELUActivation()\n",
       "          )\n",
       "          (output): RobertaOutput(\n",
       "            (dense): Linear(in_features=3072, out_features=768, bias=True)\n",
       "            (LayerNorm): LayerNorm((768,), eps=1e-05, elementwise_affine=True)\n",
       "            (dropout): Dropout(p=0.1, inplace=False)\n",
       "          )\n",
       "        )\n",
       "        (2): RobertaLayer(\n",
       "          (attention): RobertaAttention(\n",
       "            (self): RobertaSelfAttention(\n",
       "              (query): Linear(in_features=768, out_features=768, bias=True)\n",
       "              (key): Linear(in_features=768, out_features=768, bias=True)\n",
       "              (value): Linear(in_features=768, out_features=768, bias=True)\n",
       "              (dropout): Dropout(p=0.1, inplace=False)\n",
       "            )\n",
       "            (output): RobertaSelfOutput(\n",
       "              (dense): Linear(in_features=768, out_features=768, bias=True)\n",
       "              (LayerNorm): LayerNorm((768,), eps=1e-05, elementwise_affine=True)\n",
       "              (dropout): Dropout(p=0.1, inplace=False)\n",
       "            )\n",
       "          )\n",
       "          (intermediate): RobertaIntermediate(\n",
       "            (dense): Linear(in_features=768, out_features=3072, bias=True)\n",
       "            (intermediate_act_fn): GELUActivation()\n",
       "          )\n",
       "          (output): RobertaOutput(\n",
       "            (dense): Linear(in_features=3072, out_features=768, bias=True)\n",
       "            (LayerNorm): LayerNorm((768,), eps=1e-05, elementwise_affine=True)\n",
       "            (dropout): Dropout(p=0.1, inplace=False)\n",
       "          )\n",
       "        )\n",
       "        (3): RobertaLayer(\n",
       "          (attention): RobertaAttention(\n",
       "            (self): RobertaSelfAttention(\n",
       "              (query): Linear(in_features=768, out_features=768, bias=True)\n",
       "              (key): Linear(in_features=768, out_features=768, bias=True)\n",
       "              (value): Linear(in_features=768, out_features=768, bias=True)\n",
       "              (dropout): Dropout(p=0.1, inplace=False)\n",
       "            )\n",
       "            (output): RobertaSelfOutput(\n",
       "              (dense): Linear(in_features=768, out_features=768, bias=True)\n",
       "              (LayerNorm): LayerNorm((768,), eps=1e-05, elementwise_affine=True)\n",
       "              (dropout): Dropout(p=0.1, inplace=False)\n",
       "            )\n",
       "          )\n",
       "          (intermediate): RobertaIntermediate(\n",
       "            (dense): Linear(in_features=768, out_features=3072, bias=True)\n",
       "            (intermediate_act_fn): GELUActivation()\n",
       "          )\n",
       "          (output): RobertaOutput(\n",
       "            (dense): Linear(in_features=3072, out_features=768, bias=True)\n",
       "            (LayerNorm): LayerNorm((768,), eps=1e-05, elementwise_affine=True)\n",
       "            (dropout): Dropout(p=0.1, inplace=False)\n",
       "          )\n",
       "        )\n",
       "        (4): RobertaLayer(\n",
       "          (attention): RobertaAttention(\n",
       "            (self): RobertaSelfAttention(\n",
       "              (query): Linear(in_features=768, out_features=768, bias=True)\n",
       "              (key): Linear(in_features=768, out_features=768, bias=True)\n",
       "              (value): Linear(in_features=768, out_features=768, bias=True)\n",
       "              (dropout): Dropout(p=0.1, inplace=False)\n",
       "            )\n",
       "            (output): RobertaSelfOutput(\n",
       "              (dense): Linear(in_features=768, out_features=768, bias=True)\n",
       "              (LayerNorm): LayerNorm((768,), eps=1e-05, elementwise_affine=True)\n",
       "              (dropout): Dropout(p=0.1, inplace=False)\n",
       "            )\n",
       "          )\n",
       "          (intermediate): RobertaIntermediate(\n",
       "            (dense): Linear(in_features=768, out_features=3072, bias=True)\n",
       "            (intermediate_act_fn): GELUActivation()\n",
       "          )\n",
       "          (output): RobertaOutput(\n",
       "            (dense): Linear(in_features=3072, out_features=768, bias=True)\n",
       "            (LayerNorm): LayerNorm((768,), eps=1e-05, elementwise_affine=True)\n",
       "            (dropout): Dropout(p=0.1, inplace=False)\n",
       "          )\n",
       "        )\n",
       "        (5): RobertaLayer(\n",
       "          (attention): RobertaAttention(\n",
       "            (self): RobertaSelfAttention(\n",
       "              (query): Linear(in_features=768, out_features=768, bias=True)\n",
       "              (key): Linear(in_features=768, out_features=768, bias=True)\n",
       "              (value): Linear(in_features=768, out_features=768, bias=True)\n",
       "              (dropout): Dropout(p=0.1, inplace=False)\n",
       "            )\n",
       "            (output): RobertaSelfOutput(\n",
       "              (dense): Linear(in_features=768, out_features=768, bias=True)\n",
       "              (LayerNorm): LayerNorm((768,), eps=1e-05, elementwise_affine=True)\n",
       "              (dropout): Dropout(p=0.1, inplace=False)\n",
       "            )\n",
       "          )\n",
       "          (intermediate): RobertaIntermediate(\n",
       "            (dense): Linear(in_features=768, out_features=3072, bias=True)\n",
       "            (intermediate_act_fn): GELUActivation()\n",
       "          )\n",
       "          (output): RobertaOutput(\n",
       "            (dense): Linear(in_features=3072, out_features=768, bias=True)\n",
       "            (LayerNorm): LayerNorm((768,), eps=1e-05, elementwise_affine=True)\n",
       "            (dropout): Dropout(p=0.1, inplace=False)\n",
       "          )\n",
       "        )\n",
       "      )\n",
       "    )\n",
       "  )\n",
       "  (lm_head): RobertaLMHead(\n",
       "    (dense): Linear(in_features=768, out_features=768, bias=True)\n",
       "    (layer_norm): LayerNorm((768,), eps=1e-05, elementwise_affine=True)\n",
       "    (decoder): Linear(in_features=768, out_features=50500, bias=True)\n",
       "  )\n",
       ")"
      ]
     },
     "execution_count": 20,
     "metadata": {},
     "output_type": "execute_result"
    }
   ],
   "source": [
    "model.eval()"
   ]
  },
  {
   "cell_type": "markdown",
   "id": "d1be906b",
   "metadata": {},
   "source": [
    "# Sanity Checks"
   ]
  },
  {
   "cell_type": "code",
   "execution_count": null,
   "id": "01f3eb58",
   "metadata": {},
   "outputs": [],
   "source": [
    "#get vocab of Bert Model\n",
    "\n",
    "\n",
    "\n",
    "#get consine distance from vocab to keywords\n",
    "\n",
    "\n"
   ]
  },
  {
   "cell_type": "markdown",
   "id": "db6047db",
   "metadata": {},
   "source": [
    "# Getting the input embeddings of the tokens"
   ]
  },
  {
   "cell_type": "code",
   "execution_count": 73,
   "id": "3a6a62c8",
   "metadata": {},
   "outputs": [],
   "source": [
    "# input embedding matrix\n",
    "a = model.roberta.get_input_embeddings().weight"
   ]
  },
  {
   "cell_type": "markdown",
   "id": "4d33da72",
   "metadata": {},
   "source": [
    "# Finding the top 20 tokens near keywords from each token "
   ]
  },
  {
   "cell_type": "code",
   "execution_count": 85,
   "id": "ea0afcbb",
   "metadata": {},
   "outputs": [],
   "source": [
    "keywords = ['Electric vehicle',\n",
    "'Solar',\n",
    "'Wind',\n",
    "'Hydroelectric' ,\n",
    "'Nuclear',\n",
    "'REC',\n",
    "'Efficiency',\n",
    "'Deforestation',\n",
    "'Afforestation',\n",
    "'carbon',\n",
    "'credit',\n",
    "'capture',\n",
    "'sequestration',\n",
    "'storage',\n",
    "'Hydrogen',\n",
    "'Geothermal',\n",
    "'Biomass',\n",
    "'Renewable', \n",
    "'Energy',\n",
    "'emissions',\n",
    "'reforestation',\n",
    "'Decreased', \n",
    "'Reduced']"
   ]
  },
  {
   "cell_type": "code",
   "execution_count": 1,
   "id": "495d39a7",
   "metadata": {},
   "outputs": [
    {
     "ename": "NameError",
     "evalue": "name 'keywords' is not defined",
     "output_type": "error",
     "traceback": [
      "\u001b[1;31m---------------------------------------------------------------------------\u001b[0m",
      "\u001b[1;31mNameError\u001b[0m                                 Traceback (most recent call last)",
      "Input \u001b[1;32mIn [1]\u001b[0m, in \u001b[0;36m<cell line: 2>\u001b[1;34m()\u001b[0m\n\u001b[0;32m      1\u001b[0m target \u001b[38;5;241m=\u001b[39m []\n\u001b[1;32m----> 2\u001b[0m \u001b[38;5;28;01mfor\u001b[39;00m ids,sen \u001b[38;5;129;01min\u001b[39;00m \u001b[38;5;28menumerate\u001b[39m(\u001b[43mkeywords\u001b[49m):\n\u001b[0;32m      4\u001b[0m     marked_text \u001b[38;5;241m=\u001b[39m \u001b[38;5;124m\"\u001b[39m\u001b[38;5;124m[CLS] \u001b[39m\u001b[38;5;124m\"\u001b[39m \u001b[38;5;241m+\u001b[39m sen \u001b[38;5;241m+\u001b[39m \u001b[38;5;124m\"\u001b[39m\u001b[38;5;124m [SEP]\u001b[39m\u001b[38;5;124m\"\u001b[39m\n\u001b[0;32m      5\u001b[0m     \u001b[38;5;66;03m# Split the sentence into tokens.\u001b[39;00m\n",
      "\u001b[1;31mNameError\u001b[0m: name 'keywords' is not defined"
     ]
    }
   ],
   "source": [
    "target = []\n",
    "for ids,sen in enumerate(keywords):\n",
    "    \n",
    "    marked_text = \"[CLS] \" + sen + \" [SEP]\"\n",
    "    # Split the sentence into tokens.\n",
    "    tokenized_text = tokenizer.tokenize(marked_text)\n",
    "\n",
    "\n",
    "    # Map the token strings to their vocabulary indeces.\n",
    "    indexed_tokens = tokenizer.convert_tokens_to_ids(tokenized_text)\n",
    "\n",
    "\n",
    "    #creating segment ids for the sentence\n",
    "    segments_ids = [1] * len(tokenized_text)\n",
    "\n",
    "    # Convert inputs to PyTorch tensors\n",
    "    tokens_tensor = torch.tensor([indexed_tokens])\n",
    "    segments_tensors = torch.tensor([segments_ids])\n",
    "\n",
    "    hidden_states = []\n",
    "    with torch.no_grad():\n",
    "        outputs = model(tokens_tensor, segments_tensors)\n",
    "        # Evaluating the model will return a different number of objects based on \n",
    "        # how it's  configured in the `from_pretrained` call earlier. In this case, \n",
    "        # becase we set `output_hidden_states = True`, the third item will be the \n",
    "        # hidden states from all layers. See the documentation for more details:\n",
    "        # https://huggingface.co/transformers/model_doc/bert.html#bertmodel\n",
    "\n",
    "        hidden_states = outputs[-1]\n",
    "\n",
    "\n",
    "    #print('Tensor shape for each layer: ', hidden_states[0].size())\n",
    "\n",
    "    token_embeddings = torch.stack(hidden_states, dim=0)\n",
    "    token_embeddings = torch.squeeze(token_embeddings, dim=1)\n",
    "\n",
    "    # Swap dimensions 0 and 1.\n",
    "    token_embeddings = token_embeddings.permute(1,0,2)\n",
    "\n",
    "    # token_embeddings.size()\n",
    "\n",
    "    # Stores the token vectors, with shape [22 x 3,072]\n",
    "    token_vecs_cat = []\n",
    "\n",
    "    # `token_embeddings` is a [22 x 12 x 768] tensor.\n",
    "\n",
    "    # For each token in the sentence...\n",
    "    for token in token_embeddings:\n",
    "\n",
    "        # `token` is a [12 x 768] tensor\n",
    "\n",
    "        # Concatenate the vectors (that is, append them together) from the last \n",
    "        # four layers.\n",
    "        # Each layer vector is 768 values, so `cat_vec` is length 3,072.\n",
    "        sum_vec = torch.sum(token[-4:], dim=0)\n",
    "\n",
    "        # Use `cat_vec` to represent `token`.\n",
    "        token_vecs_cat.append(sum_vec)\n",
    "        \n",
    "    target.append(torch.stack(token_vecs_cat, dim = 0).mean(dim = 0))"
   ]
  },
  {
   "cell_type": "code",
   "execution_count": 168,
   "id": "fc876ccf",
   "metadata": {},
   "outputs": [
    {
     "data": {
      "text/plain": [
       "9"
      ]
     },
     "execution_count": 168,
     "metadata": {},
     "output_type": "execute_result"
    }
   ],
   "source": [
    "len(token_vecs_cat)"
   ]
  },
  {
   "cell_type": "code",
   "execution_count": 155,
   "id": "6e66a58c",
   "metadata": {},
   "outputs": [
    {
     "data": {
      "text/plain": [
       "tensor([[-0.1040,  0.1478, -0.0783,  ..., -0.0496, -0.0153, -0.3452],\n",
       "        [ 0.2337,  2.1944,  1.5224,  ...,  0.4638,  0.1454, -1.0760],\n",
       "        [ 0.0764,  2.6973,  0.8157,  ..., -1.8009, -0.6251, -1.4696],\n",
       "        ...,\n",
       "        [ 0.3301,  0.0796,  0.9269,  ..., -1.4880,  0.2279, -1.4488],\n",
       "        [-0.0771,  1.2568,  1.3948,  ..., -0.5472, -0.2325, -1.6407],\n",
       "        [-0.6514, -2.0505,  1.3429,  ..., -2.2260, -1.0185, -1.0036]])"
      ]
     },
     "execution_count": 155,
     "metadata": {},
     "output_type": "execute_result"
    }
   ],
   "source": [
    "target[0]"
   ]
  },
  {
   "cell_type": "code",
   "execution_count": 145,
   "id": "7f13725a",
   "metadata": {},
   "outputs": [],
   "source": [
    "#We normalize embeddings, so that euclidian distance is equivalent to cosine distance\n",
    "all_embeddings = a.detach().numpy()\n",
    "normed_embeddings = (all_embeddings.T / (all_embeddings**2).sum(axis=1) ** 0.5).T"
   ]
  },
  {
   "cell_type": "code",
   "execution_count": 148,
   "id": "26752854",
   "metadata": {},
   "outputs": [],
   "source": [
    "from sklearn.neigbhbors import KDTree\n",
    "#making kd tree\n",
    "indexer = KDTree(normed_embeddings)"
   ]
  },
  {
   "cell_type": "code",
   "execution_count": 149,
   "id": "ed523de9",
   "metadata": {},
   "outputs": [
    {
     "data": {
      "text/plain": [
       "array([[50264,     0,     2,     4,     5, 50118,    20,    11,   133,\n",
       "            9,    16, 50109, 50091,     6,     7,    13, 50190, 50102,\n",
       "        50061,    32]], dtype=int64)"
      ]
     },
     "execution_count": 149,
     "metadata": {},
     "output_type": "execute_result"
    }
   ],
   "source": [
    "#querying tree according to the kw vectors\n",
    "indexer.query(target[0].reshape(1, -1),return_distance = False, k = 20)"
   ]
  },
  {
   "cell_type": "code",
   "execution_count": 150,
   "id": "ad68bd9c",
   "metadata": {
    "scrolled": true
   },
   "outputs": [
    {
     "name": "stdout",
     "output_type": "stream",
     "text": [
      "[[50264     0     2     4     5 50118    20    11   133     9    16 50109\n",
      "  50091     6     7    13 50190 50102 50061    32]]\n",
      "[[50264     0     2     4     5    20 50118    11   133     9    16     6\n",
      "  50109     7 50091    36    13 50190    32 50102]]\n",
      "[[50264     0     2     4     5    20 50118     9   133    11    16 50109\n",
      "      7     6    13 50091    36    32 50190 50061]]\n",
      "[[50264     0     2     4    20     5 50118   133     9    11    16     6\n",
      "  50091 50109     7    32 50190    36    34    13]]\n",
      "[[50264     0     2     4     5 50118    20    11   133     9    16 50109\n",
      "      6 50091     7    36    13 50102 50190    34]]\n",
      "[[50264     0     2     4     5 50118    20    11     9    16   133 50109\n",
      "      6 50091     7    32 50102    36    13 50241]]\n",
      "[[50264     0     2     4     5    20 50118    11     9    16   133 50109\n",
      "      6     7 50190 50091 50102    13 50061    32]]\n",
      "[[50264     0     2     4     5    20    11     9 50118   133    16 50109\n",
      "      7 50091     6    13 50190 50102    32    36]]\n",
      "[[50264     0     2     4     5    20    11 50118     9   133    16 50109\n",
      "  50091     7 50190     6 50102    13 50061    36]]\n",
      "[[50264     0     2     4     5    20 50118    11     9 50109   133    16\n",
      "      6 50091     7 50102    13 50190 50061 50241]]\n",
      "[[50264     0     2     4     5    20 50118     9    11   133    16 50109\n",
      "      6     7 50091 50102 50061    36    32 50241]]\n",
      "[[50264     0     2     4     5 50118    20    11     9 50109   133    16\n",
      "      6     7 50091    36 50102 50241 50190    13]]\n",
      "[[50264     0     2     4     5    20    11 50118     9   133 50109    16\n",
      "      6     7 50091    36 50102    13 50241 50190]]\n",
      "[[50264     0     2     4     5 50118    20    11     9   133    16 50109\n",
      "      6     7 50091    36 50241 50102    13 50061]]\n",
      "[[50264     0     2     4    20     5 50118   133    11     9    16     6\n",
      "  50109     7    13    36 50190 50102 50091    19]]\n",
      "[[50264     0     2     4    20     5 50118   133     9    11    16 50109\n",
      "      6     7 50091    13    36 50102 50190 50061]]\n",
      "[[50264     0     2     4     5    20 50118   133     9    11    16 50109\n",
      "      6 50091     7 50102 50190    13 50241    36]]\n",
      "[[50264     0     2     4     5    20 50118   133     9    11    16 50109\n",
      "  50091     7     6    13 50190 50102    32    36]]\n",
      "[[50264     0     2     4     5 50118    20   133    11     9    16     6\n",
      "  50109     7    13 50091 50190    32    36 50102]]\n",
      "[[50264     0     2     4     5    20    11 50118    16     9   133 50109\n",
      "      6 50091     7 50102 50190 50061    32 50248]]\n",
      "[[50264     0     2     4     5    20    11 50118     9   133    16     7\n",
      "  50109     6 50091    13 50102 50190    36    32]]\n",
      "[[50264     0     2     4     5 50118    20    11     9   133    16 50109\n",
      "  50190 50102 50091     6    32    13     7 50061]]\n",
      "[[50264     0     2     4     5 50118    20    11   133     9    16 50109\n",
      "  50190 50091     6     7 50102    13 50061    32]]\n"
     ]
    }
   ],
   "source": [
    "result = []\n",
    "vocab = np.array(list(tokenizer.vocab.keys()))\n",
    "for emb in zip(target,keywords):\n",
    "    top_20 = indexer.query(emb[0].reshape(1, -1),return_distance = False, k = 20)\n",
    "    print(top_20)\n",
    "    result.append([emb[1],vocab[top_20]])\n",
    "    "
   ]
  },
  {
   "cell_type": "code",
   "execution_count": 151,
   "id": "7412fc5b",
   "metadata": {},
   "outputs": [
    {
     "data": {
      "text/plain": [
       "[['Electric vehicle',\n",
       "  array([['bite', 'ĠThai', 'Ġcrackdown', 'Esc', 'Ġ200', 'ĠGaddafi', 'ĠTHC',\n",
       "          'Ġprett', 'ĠDry', 'Ġinf', 'Ġclues', 'ĠGrant', 'Ġevangel', 'hall',\n",
       "          'Ġdental', 'enabled', 'Ġvolley', 'Ġfilings', 'Ġcrater',\n",
       "          'Ġprotagonist']], dtype='<U128')],\n",
       " ['Solar',\n",
       "  array([['bite', 'ĠThai', 'Ġcrackdown', 'Esc', 'Ġ200', 'ĠTHC', 'ĠGaddafi',\n",
       "          'Ġprett', 'ĠDry', 'Ġinf', 'Ġclues', 'hall', 'ĠGrant', 'Ġdental',\n",
       "          'Ġevangel', 'ĠHaving', 'enabled', 'Ġvolley', 'Ġprotagonist',\n",
       "          'Ġfilings']], dtype='<U128')],\n",
       " ['Wind',\n",
       "  array([['bite', 'ĠThai', 'Ġcrackdown', 'Esc', 'Ġ200', 'ĠTHC', 'ĠGaddafi',\n",
       "          'Ġinf', 'ĠDry', 'Ġprett', 'Ġclues', 'ĠGrant', 'Ġdental', 'hall',\n",
       "          'enabled', 'Ġevangel', 'ĠHaving', 'Ġprotagonist', 'Ġvolley',\n",
       "          'Ġcrater']], dtype='<U128')],\n",
       " ['Hydroelectric',\n",
       "  array([['bite', 'ĠThai', 'Ġcrackdown', 'Esc', 'ĠTHC', 'Ġ200', 'ĠGaddafi',\n",
       "          'ĠDry', 'Ġinf', 'Ġprett', 'Ġclues', 'hall', 'Ġevangel', 'ĠGrant',\n",
       "          'Ġdental', 'Ġprotagonist', 'Ġvolley', 'ĠHaving', 'Ġaffili',\n",
       "          'enabled']], dtype='<U128')],\n",
       " ['Nuclear',\n",
       "  array([['bite', 'ĠThai', 'Ġcrackdown', 'Esc', 'Ġ200', 'ĠGaddafi', 'ĠTHC',\n",
       "          'Ġprett', 'ĠDry', 'Ġinf', 'Ġclues', 'ĠGrant', 'hall', 'Ġevangel',\n",
       "          'Ġdental', 'ĠHaving', 'enabled', 'Ġfilings', 'Ġvolley',\n",
       "          'Ġaffili']], dtype='<U128')],\n",
       " ['REC',\n",
       "  array([['bite', 'ĠThai', 'Ġcrackdown', 'Esc', 'Ġ200', 'ĠGaddafi', 'ĠTHC',\n",
       "          'Ġprett', 'Ġinf', 'Ġclues', 'ĠDry', 'ĠGrant', 'hall', 'Ġevangel',\n",
       "          'Ġdental', 'Ġprotagonist', 'Ġfilings', 'ĠHaving', 'enabled',\n",
       "          'enty']], dtype='<U128')],\n",
       " ['Efficiency',\n",
       "  array([['bite', 'ĠThai', 'Ġcrackdown', 'Esc', 'Ġ200', 'ĠTHC', 'ĠGaddafi',\n",
       "          'Ġprett', 'Ġinf', 'Ġclues', 'ĠDry', 'ĠGrant', 'hall', 'Ġdental',\n",
       "          'Ġvolley', 'Ġevangel', 'Ġfilings', 'enabled', 'Ġcrater',\n",
       "          'Ġprotagonist']], dtype='<U128')],\n",
       " ['Deforestation',\n",
       "  array([['bite', 'ĠThai', 'Ġcrackdown', 'Esc', 'Ġ200', 'ĠTHC', 'Ġprett',\n",
       "          'Ġinf', 'ĠGaddafi', 'ĠDry', 'Ġclues', 'ĠGrant', 'Ġdental',\n",
       "          'Ġevangel', 'hall', 'enabled', 'Ġvolley', 'Ġfilings',\n",
       "          'Ġprotagonist', 'ĠHaving']], dtype='<U128')],\n",
       " ['Afforestation',\n",
       "  array([['bite', 'ĠThai', 'Ġcrackdown', 'Esc', 'Ġ200', 'ĠTHC', 'Ġprett',\n",
       "          'ĠGaddafi', 'Ġinf', 'ĠDry', 'Ġclues', 'ĠGrant', 'Ġevangel',\n",
       "          'Ġdental', 'Ġvolley', 'hall', 'Ġfilings', 'enabled', 'Ġcrater',\n",
       "          'ĠHaving']], dtype='<U128')],\n",
       " ['carbon',\n",
       "  array([['bite', 'ĠThai', 'Ġcrackdown', 'Esc', 'Ġ200', 'ĠTHC', 'ĠGaddafi',\n",
       "          'Ġprett', 'Ġinf', 'ĠGrant', 'ĠDry', 'Ġclues', 'hall', 'Ġevangel',\n",
       "          'Ġdental', 'Ġfilings', 'enabled', 'Ġvolley', 'Ġcrater', 'enty']],\n",
       "        dtype='<U128')],\n",
       " ['credit',\n",
       "  array([['bite', 'ĠThai', 'Ġcrackdown', 'Esc', 'Ġ200', 'ĠTHC', 'ĠGaddafi',\n",
       "          'Ġinf', 'Ġprett', 'ĠDry', 'Ġclues', 'ĠGrant', 'hall', 'Ġdental',\n",
       "          'Ġevangel', 'Ġfilings', 'Ġcrater', 'ĠHaving', 'Ġprotagonist',\n",
       "          'enty']], dtype='<U128')],\n",
       " ['capture',\n",
       "  array([['bite', 'ĠThai', 'Ġcrackdown', 'Esc', 'Ġ200', 'ĠGaddafi', 'ĠTHC',\n",
       "          'Ġprett', 'Ġinf', 'ĠGrant', 'ĠDry', 'Ġclues', 'hall', 'Ġdental',\n",
       "          'Ġevangel', 'ĠHaving', 'Ġfilings', 'enty', 'Ġvolley', 'enabled']],\n",
       "        dtype='<U128')],\n",
       " ['sequestration',\n",
       "  array([['bite', 'ĠThai', 'Ġcrackdown', 'Esc', 'Ġ200', 'ĠTHC', 'Ġprett',\n",
       "          'ĠGaddafi', 'Ġinf', 'ĠDry', 'ĠGrant', 'Ġclues', 'hall',\n",
       "          'Ġdental', 'Ġevangel', 'ĠHaving', 'Ġfilings', 'enabled', 'enty',\n",
       "          'Ġvolley']], dtype='<U128')],\n",
       " ['storage',\n",
       "  array([['bite', 'ĠThai', 'Ġcrackdown', 'Esc', 'Ġ200', 'ĠGaddafi', 'ĠTHC',\n",
       "          'Ġprett', 'Ġinf', 'ĠDry', 'Ġclues', 'ĠGrant', 'hall', 'Ġdental',\n",
       "          'Ġevangel', 'ĠHaving', 'enty', 'Ġfilings', 'enabled', 'Ġcrater']],\n",
       "        dtype='<U128')],\n",
       " ['Hydrogen',\n",
       "  array([['bite', 'ĠThai', 'Ġcrackdown', 'Esc', 'ĠTHC', 'Ġ200', 'ĠGaddafi',\n",
       "          'ĠDry', 'Ġprett', 'Ġinf', 'Ġclues', 'hall', 'ĠGrant', 'Ġdental',\n",
       "          'enabled', 'ĠHaving', 'Ġvolley', 'Ġfilings', 'Ġevangel', 'ĠBS']],\n",
       "        dtype='<U128')],\n",
       " ['Geothermal',\n",
       "  array([['bite', 'ĠThai', 'Ġcrackdown', 'Esc', 'ĠTHC', 'Ġ200', 'ĠGaddafi',\n",
       "          'ĠDry', 'Ġinf', 'Ġprett', 'Ġclues', 'ĠGrant', 'hall', 'Ġdental',\n",
       "          'Ġevangel', 'enabled', 'ĠHaving', 'Ġfilings', 'Ġvolley',\n",
       "          'Ġcrater']], dtype='<U128')],\n",
       " ['Biomass',\n",
       "  array([['bite', 'ĠThai', 'Ġcrackdown', 'Esc', 'Ġ200', 'ĠTHC', 'ĠGaddafi',\n",
       "          'ĠDry', 'Ġinf', 'Ġprett', 'Ġclues', 'ĠGrant', 'hall', 'Ġevangel',\n",
       "          'Ġdental', 'Ġfilings', 'Ġvolley', 'enabled', 'enty', 'ĠHaving']],\n",
       "        dtype='<U128')],\n",
       " ['Renewable',\n",
       "  array([['bite', 'ĠThai', 'Ġcrackdown', 'Esc', 'Ġ200', 'ĠTHC', 'ĠGaddafi',\n",
       "          'ĠDry', 'Ġinf', 'Ġprett', 'Ġclues', 'ĠGrant', 'Ġevangel',\n",
       "          'Ġdental', 'hall', 'enabled', 'Ġvolley', 'Ġfilings',\n",
       "          'Ġprotagonist', 'ĠHaving']], dtype='<U128')],\n",
       " ['Energy',\n",
       "  array([['bite', 'ĠThai', 'Ġcrackdown', 'Esc', 'Ġ200', 'ĠGaddafi', 'ĠTHC',\n",
       "          'ĠDry', 'Ġprett', 'Ġinf', 'Ġclues', 'hall', 'ĠGrant', 'Ġdental',\n",
       "          'enabled', 'Ġevangel', 'Ġvolley', 'Ġprotagonist', 'ĠHaving',\n",
       "          'Ġfilings']], dtype='<U128')],\n",
       " ['emissions',\n",
       "  array([['bite', 'ĠThai', 'Ġcrackdown', 'Esc', 'Ġ200', 'ĠTHC', 'Ġprett',\n",
       "          'ĠGaddafi', 'Ġclues', 'Ġinf', 'ĠDry', 'ĠGrant', 'hall',\n",
       "          'Ġevangel', 'Ġdental', 'Ġfilings', 'Ġvolley', 'Ġcrater',\n",
       "          'Ġprotagonist', 'ĠMoving']], dtype='<U128')],\n",
       " ['reforestation',\n",
       "  array([['bite', 'ĠThai', 'Ġcrackdown', 'Esc', 'Ġ200', 'ĠTHC', 'Ġprett',\n",
       "          'ĠGaddafi', 'Ġinf', 'ĠDry', 'Ġclues', 'Ġdental', 'ĠGrant',\n",
       "          'hall', 'Ġevangel', 'enabled', 'Ġfilings', 'Ġvolley', 'ĠHaving',\n",
       "          'Ġprotagonist']], dtype='<U128')],\n",
       " ['Decreased',\n",
       "  array([['bite', 'ĠThai', 'Ġcrackdown', 'Esc', 'Ġ200', 'ĠGaddafi', 'ĠTHC',\n",
       "          'Ġprett', 'Ġinf', 'ĠDry', 'Ġclues', 'ĠGrant', 'Ġvolley',\n",
       "          'Ġfilings', 'Ġevangel', 'hall', 'Ġprotagonist', 'enabled',\n",
       "          'Ġdental', 'Ġcrater']], dtype='<U128')],\n",
       " ['Reduced',\n",
       "  array([['bite', 'ĠThai', 'Ġcrackdown', 'Esc', 'Ġ200', 'ĠGaddafi', 'ĠTHC',\n",
       "          'Ġprett', 'ĠDry', 'Ġinf', 'Ġclues', 'ĠGrant', 'Ġvolley',\n",
       "          'Ġevangel', 'hall', 'Ġdental', 'Ġfilings', 'enabled', 'Ġcrater',\n",
       "          'Ġprotagonist']], dtype='<U128')]]"
      ]
     },
     "execution_count": 151,
     "metadata": {},
     "output_type": "execute_result"
    }
   ],
   "source": [
    "result"
   ]
  },
  {
   "cell_type": "code",
   "execution_count": 176,
   "id": "fcb684cd",
   "metadata": {},
   "outputs": [
    {
     "data": {
      "text/plain": [
       "array([['Ġbrewery', 'ĠStatic', 'existence', 'Ġsublime', 'Ġsetup',\n",
       "        'Ġearly', 'ĠAunt', 'ĠSk', 'ingu', 'SE', 'Double', 'Ġstrengths',\n",
       "        'Ġirritating', 'oday', 'Ġcor', 'Ġtransmitting', 'Ġlied',\n",
       "        'Ġgunshots', 'Ġgraphical', 'Ġtimet']], dtype='<U128')"
      ]
     },
     "execution_count": 176,
     "metadata": {},
     "output_type": "execute_result"
    }
   ],
   "source": [
    "#Solar\n",
    "solar_emb = all_embeddings[tokenizer.vocab['Solar']]\n",
    "top_20 = indexer.query(solar_emb.reshape(1, -1),return_distance = False, k = 20)\n",
    "vocab[top_20]"
   ]
  },
  {
   "cell_type": "code",
   "execution_count": 177,
   "id": "5cbe8878",
   "metadata": {},
   "outputs": [
    {
     "data": {
      "text/plain": [
       "array([['Ġtilted', 'Ġmicrophones', 'ĠPhillies', 'Ġrisking', 'LEY',\n",
       "        'redo', 'Ġbanana', 'reenshot', 'Ġnecessarily', 'Ġcig', 'itable',\n",
       "        'ĠHog', 'ĠSEC', 'Ġfortunate', 'Ġencoded', 'Ġ354', 'Ġprince',\n",
       "        'knit', 'Ġinsulted', 'Ġshown']], dtype='<U128')"
      ]
     },
     "execution_count": 177,
     "metadata": {},
     "output_type": "execute_result"
    }
   ],
   "source": [
    "#carbon\n",
    "solar_emb = all_embeddings[tokenizer.vocab['carbon']]\n",
    "top_20 = indexer.query(solar_emb.reshape(1, -1),return_distance = False, k = 20)\n",
    "vocab[top_20]"
   ]
  },
  {
   "cell_type": "code",
   "execution_count": 178,
   "id": "d30f3fc1",
   "metadata": {},
   "outputs": [
    {
     "data": {
      "text/plain": [
       "array([['Ġirritating', 'ĠMeridian', 'Ġ354', 'Ġprecept', 'ĠLOW',\n",
       "        'reduced', 'Double', 'ĠIsles', 'Ġkb', 'Offline', 'Ġanimation',\n",
       "        'ĠImprovement', 'ĠDiego', 'ackers', 'ĠFans', '2007', 'ingu',\n",
       "        'Ġdiscard', 'ise', 'Ġbrewery']], dtype='<U128')"
      ]
     },
     "execution_count": 178,
     "metadata": {},
     "output_type": "execute_result"
    }
   ],
   "source": [
    "#Energy\n",
    "solar_emb = all_embeddings[tokenizer.vocab['Energy']]\n",
    "top_20 = indexer.query(solar_emb.reshape(1, -1),return_distance = False, k = 20)\n",
    "vocab[top_20]"
   ]
  },
  {
   "cell_type": "code",
   "execution_count": 180,
   "id": "9bb84b82",
   "metadata": {},
   "outputs": [
    {
     "data": {
      "text/plain": [
       "array([['Ġcontam', 'Ġcleaned', 'Ġmetabol', 'ĠBay', 'ĠMotion',\n",
       "        'Ġeducation', 'ĠPhoto', 'Ġswords', 'andals', 'ign', 'ĠHispanics',\n",
       "        'ĠPRESIDENT', 'Ġbothered', 'ĠPf', 'Ġevolution', 'ĠACT',\n",
       "        'Ġcrates', 'ĠBened', 'Ġret', 'Ġlogistical']], dtype='<U128')"
      ]
     },
     "execution_count": 180,
     "metadata": {},
     "output_type": "execute_result"
    }
   ],
   "source": [
    "#Renewable\n",
    "solar_emb = all_embeddings[tokenizer.vocab['forest']]\n",
    "top_20 = indexer.query(solar_emb.reshape(1, -1),return_distance = False, k = 20)\n",
    "vocab[top_20]"
   ]
  },
  {
   "cell_type": "code",
   "execution_count": 31,
   "id": "9afc26e8",
   "metadata": {},
   "outputs": [],
   "source": [
    "# for sen in tokens[0]:\n",
    "from collections import defaultdict\n",
    "chest = defaultdict()\n",
    "\n",
    "for ids,sen in enumerate(pre_tokens):\n",
    "    \n",
    "    marked_text = \"[CLS] \" + sen + \" [SEP]\"\n",
    "    # Split the sentence into tokens.\n",
    "    tokenized_text = tokenizer.tokenize(marked_text)\n",
    "\n",
    "\n",
    "    # Map the token strings to their vocabulary indeces.\n",
    "    indexed_tokens = tokenizer.convert_tokens_to_ids(tokenized_text)\n",
    "\n",
    "\n",
    "    #creating segment ids for the sentence\n",
    "    segments_ids = [1] * len(tokenized_text)\n",
    "\n",
    "    # Convert inputs to PyTorch tensors\n",
    "    tokens_tensor = torch.tensor([indexed_tokens])\n",
    "    segments_tensors = torch.tensor([segments_ids])\n",
    "\n",
    "    hidden_states = []\n",
    "    with torch.no_grad():\n",
    "        outputs = model(tokens_tensor, segments_tensors)\n",
    "        # Evaluating the model will return a different number of objects based on \n",
    "        # how it's  configured in the `from_pretrained` call earlier. In this case, \n",
    "        # becase we set `output_hidden_states = True`, the third item will be the \n",
    "        # hidden states from all layers. See the documentation for more details:\n",
    "        # https://huggingface.co/transformers/model_doc/bert.html#bertmodel\n",
    "\n",
    "        hidden_states = outputs[-1]\n",
    "\n",
    "\n",
    "    #print('Tensor shape for each layer: ', hidden_states[0].size())\n",
    "\n",
    "    token_embeddings = torch.stack(hidden_states, dim=0)\n",
    "    token_embeddings = torch.squeeze(token_embeddings, dim=1)\n",
    "\n",
    "    # Swap dimensions 0 and 1.\n",
    "    token_embeddings = token_embeddings.permute(1,0,2)\n",
    "\n",
    "    # token_embeddings.size()\n",
    "\n",
    "    # Stores the token vectors, with shape [22 x 3,072]\n",
    "    token_vecs_cat = []\n",
    "\n",
    "    # `token_embeddings` is a [22 x 12 x 768] tensor.\n",
    "\n",
    "    # For each token in the sentence...\n",
    "    for token in token_embeddings:\n",
    "\n",
    "        # `token` is a [12 x 768] tensor\n",
    "\n",
    "        # Concatenate the vectors (that is, append them together) from the last \n",
    "        # four layers.\n",
    "        # Each layer vector is 768 values, so `cat_vec` is length 3,072.\n",
    "        cat_vec = torch.cat((token[-1], token[-2], token[-3], token[-4]), dim=0)\n",
    "\n",
    "        # Use `cat_vec` to represent `token`.\n",
    "        token_vecs_cat.append(cat_vec)\n",
    "\n",
    "    # take mean of all tensors in token_vecs_cat\n",
    "    chest[ids] = torch.stack(token_vecs_cat, dim = 0).mean(dim = 0)\n",
    "    \n",
    "    \n"
   ]
  },
  {
   "cell_type": "code",
   "execution_count": 8,
   "id": "8fd0f93d",
   "metadata": {},
   "outputs": [
    {
     "ename": "NameError",
     "evalue": "name 'tokenizer' is not defined",
     "output_type": "error",
     "traceback": [
      "\u001b[1;31m---------------------------------------------------------------------------\u001b[0m",
      "\u001b[1;31mNameError\u001b[0m                                 Traceback (most recent call last)",
      "Input \u001b[1;32mIn [8]\u001b[0m, in \u001b[0;36m<cell line: 4>\u001b[1;34m()\u001b[0m\n\u001b[0;32m      2\u001b[0m marked_text \u001b[38;5;241m=\u001b[39m \u001b[38;5;124m\"\u001b[39m\u001b[38;5;124m[CLS] \u001b[39m\u001b[38;5;124m\"\u001b[39m \u001b[38;5;241m+\u001b[39m sen \u001b[38;5;241m+\u001b[39m \u001b[38;5;124m\"\u001b[39m\u001b[38;5;124m [SEP]\u001b[39m\u001b[38;5;124m\"\u001b[39m\n\u001b[0;32m      3\u001b[0m \u001b[38;5;66;03m# Split the sentence into tokens.\u001b[39;00m\n\u001b[1;32m----> 4\u001b[0m tokenized_text \u001b[38;5;241m=\u001b[39m \u001b[43mtokenizer\u001b[49m\u001b[38;5;241m.\u001b[39mtokenize(marked_text)\n\u001b[0;32m      7\u001b[0m \u001b[38;5;66;03m# Map the token strings to their vocabulary indeces.\u001b[39;00m\n\u001b[0;32m      8\u001b[0m indexed_tokens \u001b[38;5;241m=\u001b[39m tokenizer\u001b[38;5;241m.\u001b[39mconvert_tokens_to_ids(tokenized_text)\n",
      "\u001b[1;31mNameError\u001b[0m: name 'tokenizer' is not defined"
     ]
    }
   ],
   "source": [
    "sen = tokens[2]\n",
    "marked_text = \"[CLS] \" + sen + \" [SEP]\"\n",
    "# Split the sentence into tokens.\n",
    "tokenized_text = tokenizer.tokenize(marked_text)\n",
    "\n",
    "\n",
    "# Map the token strings to their vocabulary indeces.\n",
    "indexed_tokens = tokenizer.convert_tokens_to_ids(tokenized_text)\n",
    "\n",
    "\n",
    "#creating segment ids for the sentence\n",
    "segments_ids = [1] * len(tokenized_text)\n",
    "\n",
    "# Convert inputs to PyTorch tensors\n",
    "tokens_tensor = torch.tensor([indexed_tokens])\n",
    "segments_tensors = torch.tensor([segments_ids])\n",
    "\n",
    "hidden_states = []\n",
    "with torch.no_grad():\n",
    "    outputs = model(tokens_tensor, segments_tensors)\n",
    "    # Evaluating the model will return a different number of objects based on \n",
    "    # how it's  configured in the `from_pretrained` call earlier. In this case, \n",
    "    # becase we set `output_hidden_states = True`, the third item will be the \n",
    "    # hidden states from all layers. See the documentation for more details:\n",
    "    # https://huggingface.co/transformers/model_doc/bert.html#bertmodel\n",
    "\n",
    "    hidden_states = outputs[-1]\n",
    "\n",
    "\n",
    "#print('Tensor shape for each layer: ', hidden_states[0].size())\n",
    "\n",
    "token_embeddings = torch.stack(hidden_states, dim=0)\n",
    "token_embeddings = torch.squeeze(token_embeddings, dim=1)\n",
    "\n",
    "# Swap dimensions 0 and 1.\n",
    "token_embeddings = token_embeddings.permute(1,0,2)\n",
    "\n",
    "# token_embeddings.size()\n",
    "\n",
    "# Stores the token vectors, with shape [22 x 3,072]\n",
    "token_vecs_cat = []\n",
    "\n",
    "# `token_embeddings` is a [22 x 12 x 768] tensor.\n",
    "\n",
    "# For each token in the sentence...\n",
    "for token in token_embeddings:\n",
    "\n",
    "    # `token` is a [12 x 768] tensor\n",
    "\n",
    "    # Concatenate the vectors (that is, append them together) from the last \n",
    "    # four layers.\n",
    "    # Each layer vector is 768 values, so `cat_vec` is length 3,072.\n",
    "    cat_vec = torch.cat((token[-1], token[-2], token[-3], token[-4]), dim=0)\n",
    "\n",
    "    # Use `cat_vec` to represent `token`.\n",
    "    token_vecs_cat.append(cat_vec)\n",
    "\n",
    "# take mean of all tensors in token_vecs_cat\n",
    "# chest[ids] = torch.stack(token_vecs_cat, dim = 0).mean(dim = 0)"
   ]
  },
  {
   "cell_type": "code",
   "execution_count": 22,
   "id": "9995e97f",
   "metadata": {
    "scrolled": true
   },
   "outputs": [
    {
     "data": {
      "text/plain": [
       "[tensor([-0.0227,  0.0696, -0.0534,  ...,  0.0638,  0.0382, -0.0609]),\n",
       " tensor([-0.1132, -0.0195,  0.0453,  ...,  0.2379,  0.2747,  0.0322]),\n",
       " tensor([-0.0088,  0.0372, -0.0074,  ..., -0.3526,  0.0089, -0.2931]),\n",
       " tensor([-0.2523, -0.1380,  0.1747,  ..., -0.4824, -0.0483, -0.1880]),\n",
       " tensor([-0.0521, -0.2170,  0.1018,  ..., -0.0007, -0.3277, -0.2686]),\n",
       " tensor([ 0.0575,  0.0659, -0.0555,  ...,  0.3185, -0.1242,  0.2988]),\n",
       " tensor([-0.1485, -0.1143, -0.2501,  ...,  0.4499,  0.0978,  0.1220]),\n",
       " tensor([-0.0625,  0.0650, -0.0694,  ...,  0.1919,  0.1436, -0.0012]),\n",
       " tensor([-0.3260, -0.0296, -0.2715,  ...,  0.3067,  0.1489,  0.0349]),\n",
       " tensor([ 0.0193,  0.0814, -0.0041,  ..., -0.0198,  0.4140,  0.0816]),\n",
       " tensor([-0.1979,  0.0909, -0.2429,  ..., -0.1548, -0.6206, -0.3269]),\n",
       " tensor([-0.2348, -0.1096, -0.0956,  ..., -0.3618,  0.4425, -0.2723]),\n",
       " tensor([ 0.0234, -0.0267, -0.1142,  ..., -0.1734,  0.3193, -0.0743]),\n",
       " tensor([ 0.0307, -0.0044, -0.1531,  ..., -0.2912,  0.4400, -0.1886]),\n",
       " tensor([-0.1047,  0.2031,  0.0064,  ...,  0.0142,  0.7615, -0.3565]),\n",
       " tensor([-0.0078, -0.3711, -0.0679,  ...,  0.5209,  0.4977, -0.2086]),\n",
       " tensor([-0.1380,  0.2653, -0.0637,  ...,  0.5276,  0.5624, -0.2704]),\n",
       " tensor([ 0.0272,  0.0112,  0.0913,  ..., -1.0937, -0.2756, -0.2983]),\n",
       " tensor([ 0.0681, -0.0510, -0.0025,  ..., -0.2362,  0.3404, -0.4066]),\n",
       " tensor([-0.0314, -0.0762,  0.2389,  ..., -0.6413,  0.0379, -0.3692]),\n",
       " tensor([ 0.0429, -0.0531,  0.0608,  ..., -0.9481, -0.1525,  0.1310]),\n",
       " tensor([-0.0653,  0.1651, -0.0752,  ..., -0.3967, -0.0705, -0.1511]),\n",
       " tensor([-0.0031,  0.1952, -0.0066,  ..., -0.0923,  0.1717, -0.5899]),\n",
       " tensor([ 0.0979, -0.0149, -0.1171,  ..., -0.0198,  0.2636, -0.5961]),\n",
       " tensor([ 0.0971,  0.2824, -0.1423,  ..., -1.0089,  0.1629, -0.5980]),\n",
       " tensor([ 0.0258, -0.2707, -0.2070,  ..., -0.3054,  0.4263, -0.2074]),\n",
       " tensor([ 0.0988,  0.0210, -0.1015,  ..., -0.2262,  0.5580,  0.1642]),\n",
       " tensor([ 0.0359, -0.1061, -0.2619,  ..., -0.4926,  0.0647,  0.1436]),\n",
       " tensor([ 0.0023,  0.0197, -0.4612,  ..., -1.0632,  0.0371,  0.2108]),\n",
       " tensor([ 0.2041, -0.0209,  0.0191,  ..., -0.6318, -0.0556,  0.2010]),\n",
       " tensor([ 0.1461, -0.0354, -0.3432,  ...,  0.1896,  0.4491,  0.5910]),\n",
       " tensor([ 0.2815,  0.1540, -0.1643,  ..., -0.2835,  0.2085,  0.6543]),\n",
       " tensor([-0.1062,  0.0027, -0.1703,  ..., -0.3197,  0.4199,  0.6413]),\n",
       " tensor([ 0.1173,  0.0036,  0.1344,  ..., -0.6468,  0.3329,  0.4211]),\n",
       " tensor([ 0.0231,  0.1112,  0.0914,  ..., -0.1457,  0.1471,  0.3159]),\n",
       " tensor([ 0.0226, -0.1839,  0.0102,  ...,  0.2005, -0.1565,  0.1956]),\n",
       " tensor([ 0.0033, -0.2892, -0.0048,  ...,  0.0165, -0.1880,  0.2100]),\n",
       " tensor([-0.0920, -0.2507,  0.0364,  ..., -0.0355, -0.2007,  0.1170]),\n",
       " tensor([-0.0758,  0.3218,  0.3567,  ...,  0.3433,  0.4059,  0.3303]),\n",
       " tensor([ 0.2018,  0.0899, -0.0131,  ...,  0.3170,  0.0319, -0.4944]),\n",
       " tensor([ 0.0419, -0.1181, -0.0123,  ...,  0.7263, -0.1162, -0.4056]),\n",
       " tensor([-0.1292,  0.0635,  0.0303,  ..., -0.1845, -0.0005, -0.2871]),\n",
       " tensor([-0.2130,  0.1942, -0.0236,  ..., -0.6257, -0.3054, -0.0548]),\n",
       " tensor([-0.1138, -0.0078,  0.1435,  ..., -0.2663,  0.3370, -0.0619]),\n",
       " tensor([-0.2231,  0.0017, -0.0384,  ...,  0.6289, -0.0312, -0.2041]),\n",
       " tensor([-0.1653,  0.2168, -0.0603,  ..., -0.8111, -0.4948, -0.2215]),\n",
       " tensor([-0.0211, -0.0476,  0.1422,  ..., -0.5735,  0.0441,  0.1350]),\n",
       " tensor([-0.2453,  0.6696, -0.0944,  ..., -0.4421, -0.0872, -0.2354]),\n",
       " tensor([-0.1971,  0.1202, -0.0904,  ..., -0.6681, -0.2980, -0.2800]),\n",
       " tensor([-0.0497, -0.0158,  0.1601,  ...,  0.1688, -0.0864, -0.1502]),\n",
       " tensor([-0.2966,  0.0819,  0.0103,  ..., -0.4112, -0.0054, -0.2933]),\n",
       " tensor([ 0.1158,  0.0467, -0.0259,  ..., -0.4274,  0.4752, -0.1500]),\n",
       " tensor([-0.0687,  0.2964,  0.1099,  ..., -0.0243, -0.0078, -0.4455]),\n",
       " tensor([-0.2660, -0.2228,  0.3207,  ..., -0.8646, -0.2341, -0.4077])]"
      ]
     },
     "execution_count": 22,
     "metadata": {},
     "output_type": "execute_result"
    }
   ],
   "source": [
    "token_vecs_cat"
   ]
  },
  {
   "cell_type": "markdown",
   "id": "f6c218a6",
   "metadata": {},
   "source": [
    "# Generating word embedding of the keywords"
   ]
  },
  {
   "cell_type": "code",
   "execution_count": 32,
   "id": "acb6a8cb",
   "metadata": {},
   "outputs": [
    {
     "name": "stdout",
     "output_type": "stream",
     "text": [
      "['Electric vehicle', 'Solar', 'Wind', 'Hydroelectric', 'Nuclear', 'REC', 'Efficiency', 'Deforestation', 'Afforestation', 'carbon', 'credit', 'capture', 'sequestration', 'storage', 'Hydrogen', 'Geothermal', 'Biomass', 'Renewable', 'Energy', 'emissions', 'reforestation', 'Decreased', 'Reduced']\n"
     ]
    }
   ],
   "source": [
    "keywords = ['Electric vehicle',\n",
    "'Solar',\n",
    "'Wind',\n",
    "'Hydroelectric' ,\n",
    "'Nuclear',\n",
    "'REC',\n",
    "'Efficiency',\n",
    "'Deforestation',\n",
    "'Afforestation',\n",
    "'carbon',\n",
    "'credit',\n",
    "'capture',\n",
    "'sequestration',\n",
    "'storage',\n",
    "'Hydrogen',\n",
    "'Geothermal',\n",
    "'Biomass',\n",
    "'Renewable', \n",
    "'Energy',\n",
    "'emissions',\n",
    "'reforestation',\n",
    "'Decreased', \n",
    "'Reduced']\n",
    "print(keywords)\n"
   ]
  },
  {
   "cell_type": "code",
   "execution_count": 33,
   "id": "7b98cc16",
   "metadata": {},
   "outputs": [],
   "source": [
    "target = []\n",
    "\n",
    "for ids,sen in enumerate(keywords):\n",
    "    \n",
    "    marked_text = \"[CLS] \" + sen + \" [SEP]\"\n",
    "    # Split the sentence into tokens.\n",
    "    tokenized_text = tokenizer.tokenize(marked_text)\n",
    "\n",
    "\n",
    "    # Map the token strings to their vocabulary indeces.\n",
    "    indexed_tokens = tokenizer.convert_tokens_to_ids(tokenized_text)\n",
    "\n",
    "\n",
    "    #creating segment ids for the sentence\n",
    "    segments_ids = [1] * len(tokenized_text)\n",
    "\n",
    "    # Convert inputs to PyTorch tensors\n",
    "    tokens_tensor = torch.tensor([indexed_tokens])\n",
    "    segments_tensors = torch.tensor([segments_ids])\n",
    "\n",
    "    hidden_states = []\n",
    "    with torch.no_grad():\n",
    "        outputs = model(tokens_tensor, segments_tensors)\n",
    "        # Evaluating the model will return a different number of objects based on \n",
    "        # how it's  configured in the `from_pretrained` call earlier. In this case, \n",
    "        # becase we set `output_hidden_states = True`, the third item will be the \n",
    "        # hidden states from all layers. See the documentation for more details:\n",
    "        # https://huggingface.co/transformers/model_doc/bert.html#bertmodel\n",
    "\n",
    "        hidden_states = outputs[-1]\n",
    "\n",
    "\n",
    "    #print('Tensor shape for each layer: ', hidden_states[0].size())\n",
    "\n",
    "    token_embeddings = torch.stack(hidden_states, dim=0)\n",
    "    token_embeddings = torch.squeeze(token_embeddings, dim=1)\n",
    "\n",
    "    # Swap dimensions 0 and 1.\n",
    "    token_embeddings = token_embeddings.permute(1,0,2)\n",
    "\n",
    "    # token_embeddings.size()\n",
    "\n",
    "    # Stores the token vectors, with shape [22 x 3,072]\n",
    "    token_vecs_cat = []\n",
    "\n",
    "    # `token_embeddings` is a [22 x 12 x 768] tensor.\n",
    "\n",
    "    # For each token in the sentence...\n",
    "    for token in token_embeddings:\n",
    "\n",
    "        # `token` is a [12 x 768] tensor\n",
    "\n",
    "        # Concatenate the vectors (that is, append them together) from the last \n",
    "        # four layers.\n",
    "        # Each layer vector is 768 values, so `cat_vec` is length 3,072.\n",
    "        cat_vec = torch.cat((token[-1], token[-2], token[-3], token[-4]), dim=0)\n",
    "\n",
    "        # Use `cat_vec` to represent `token`.\n",
    "        token_vecs_cat.append(cat_vec)\n",
    "        \n",
    "    target.append(torch.stack(token_vecs_cat, dim = 0).mean(dim = 0))\n",
    "    \n",
    "    "
   ]
  },
  {
   "cell_type": "code",
   "execution_count": 34,
   "id": "637ace42",
   "metadata": {},
   "outputs": [],
   "source": [
    "#getting the embedding representation\n",
    "grader = torch.stack(target, dim = 0).mean(dim = 0)"
   ]
  },
  {
   "cell_type": "markdown",
   "id": "4fcbc5ce",
   "metadata": {},
   "source": [
    "# Finding cosine distance "
   ]
  },
  {
   "cell_type": "code",
   "execution_count": 35,
   "id": "c0929923",
   "metadata": {},
   "outputs": [],
   "source": [
    "tracker = []\n",
    "for key,val in chest.items():\n",
    "    tracker.append([key,1 - cosine(val, grader)])"
   ]
  },
  {
   "cell_type": "code",
   "execution_count": 36,
   "id": "e934d710",
   "metadata": {},
   "outputs": [],
   "source": [
    "tracker.sort(key = lambda val : val[1],reverse=True)"
   ]
  },
  {
   "cell_type": "markdown",
   "id": "21796eca",
   "metadata": {},
   "source": [
    "# Ranking sentences"
   ]
  },
  {
   "cell_type": "code",
   "execution_count": 38,
   "id": "838e2441",
   "metadata": {
    "scrolled": true
   },
   "outputs": [
    {
     "name": "stdout",
     "output_type": "stream",
     "text": [
      "Additional historical data areavailable in our reporting archives.\n",
      "These improvements were made while production volume increased.\n",
      "Sesto implemented new drive-belt technology on airhandlers to improve e\u0000ciency.\n",
      "In 2021, we did not purchase any carbon offsets.\n",
      "We have reduced GHG emissions at keyfacilities by leveraging solar energy.\n",
      "Our site inKinsale, Ireland replaced \u0000xed speed pump motors with variable speed motors.\n",
      "In Indianapolis, a chiller was r eplacedwith a new, higher e\u0000ciency chiller.\n",
      "For smaller locations not billed directly to Lilly, data are estimated based on square footage.3.\n",
      "We haveintroduced hybrid or electric \u0000eet v ehicles in several geographies where infrastructure is available.\n",
      "These projects include chiller replacements,building air handler optimizations and air \u0000ow r eduction initiatives.\n",
      "Reducing our energy and emissions by making our overall operations more e\u0000cient 2.\n",
      "In 2021, we achie ved a 9% absoluteemissions reduction versus 2020.\n",
      "These data will also be used t o inform our supply chainengagement strategy related to climate change.\n",
      "Data includes energy from combustion of coal, fuel oil, natural gas and liquid propane.5.\n",
      "Replacing carbon-intensive processes and energy sources with low-carbon alternativ es 3.\n",
      "We also actively recognize innovation and excellence in Health, Safety and the Environment (HSE) management b ygranting annual HSE awards.\n",
      "This complex work is expected t o be complete in mid-2022.\n",
      "emissions each year, measured as carbon dioxide equivalents.\n",
      "A market-based method re\u0000ects emissions from electricity that companies have purposefully chosen (or their lack of choice).\n",
      "India – In 2019, Lilly India began oper ating a rooftop solar array on its administrative building in Gurugram (Gurgaon),India.\n",
      "Lilly is continuously working t o reduce our GHG emissions within ouroperations and along our value chain.\n",
      "Since then, we ha veapproved over $50 million supporting more than 190 projects.\n",
      "From 2012 to 2020, we achieved a 26% reduction in absolute emissions.\n",
      "For example, Lilly’s\u0000eet in Japan consists of appr oximately 80% hybrid vehicles, and our a\u0000liate in Germany has begun including electricvehicles in their \u0000eet offering.\n",
      "The 40-kW capacity solar panels will help r educe Lilly’s carbon footprint in the city – a k ey priority due to risingpollution levels.\n",
      "Once complete, we will include por tions of thisinformation in our public disclosur es such as our CDP report.\n",
      "Making medicines requires the use of valuableresources including energy, water and raw materials.\n",
      "A large portion of this renewable electricity is deliveredthrough our utility providers to our sites in Alcobendas, Spain; Kinsale, Ir eland; and Bracknell, UK.\n",
      "The combined heat and power (CHP) system will signi\u0000cantly impr ove theresiliency of our Puerto Rico manufacturing operations and will also result in lower energy expenses and reduced GHGemissions.\n",
      "Lilly Kinsale has initiated a 10-acr e expansion to this solar array, which is expected to be online by theend of 2022.Solar \u0000eld at Lilly’s Kinsale, Ireland location.\n",
      "Our emissions reductionswere driven by a combination of energy and process e\u0000ciencies, and changes in our ener gy supply mix to include cleaner energysources.\n",
      "A location-based method re\u0000ects the average emissions intensity of grids on which energy consumption occurs (using mostly grid-average emission factordata).\n",
      "We also operate combined heat and power systems at our manufacturing sites in Kinsale, Ir eland and Sesto,Italy.Fleet Fuel EconomyOur GREENDirections program focuses on \u0000eet fuel economy and GHG emissions, o\u0000ce ener gy conservation and wastereduction for our sales and mark eting a\u0000liates around the world.\n",
      "Nominations represent a signi\u0000cant accomplishment, and the awar ds recognize ouremployees for helping Lilly achieve energy and GHG emissions reduction goals.\n",
      "Data includes energy from purchased electricity, steam and chilled water.View Lilly’s environmental data from 2020, including our previous goals and progress through 2020.\n",
      "This reduction was partially driven by energy e\u0000ciency improvements and an increase in theuse of renewable electricity including the  startup of our solar array in Kinsale.\n",
      "Ourinitial priority is to reduce emissions as much as possible internally befor e we purchase offsets to cover the remainingemissions.\n",
      "We continued to emphasize reducing energy consumption by minimizing access to unoccupied areas and adjusting HVAC,lighting and other systems to conserve energy.\n",
      "We centrally manage vehicle selection across the EU, Japan and the U.S., which impr ovese\u0000ciency and supports the implementation of strong safety and environmental standards.\n",
      "Recent AchievementsThroughout 2020 and 2021, because of the CO VID-19 pandemic, many of our administr ative areas were operating at reducedoccupancy.\n",
      "These pr ojects are expected to reduce energy consumption by over12,500 MWh per year.Encouraging Eco-E\u0000ciency Across Our OperationsIn 2006, we established the Ener gy, Waste and Water Reduction Fund to encourage projects that demonstrate the greatestpotential for reductions in emissions and ener gy use but are not funded by site capital budgets.\n",
      "One of our sites in Puerto Rico implemented the \u0000rst phase of a chilled water andcooling tower optimization project, and another site began a substantial e\u0000ciency upgr ade to its chilled water systemthat is expected to be completed in mid-2022.\n",
      "Download Our 2021 ESG DataDiversityContactSuppliersLogin To speak to customersupport:Call (800) 545-5979    Terms of UsePrivacy StatementAccessibility StatementSitemapMenu\n",
      "Collectively, we expect that these projects will reduce energy consumption by anestimated 14,000 MWh per y ear.Chiller System Optimization  – Chilled water and cooling systems ar e some of the highest energy consuming systemsin pharmaceutical operations, and they continued to be a focus for our engineering r esources in 2021.\n",
      "For more information regarding our governance and approach to climate change and related risks/opportunities see our CDP Climate response.\n",
      "We are working on calculating our Scope 3 emissions and identifying climate-r elated risks andopportunities in our business and intend t o develop measurable Scope 3 goals.\n",
      "Projects are also assessed on theirpotential to scale in other areas across the company.Enhancing the Use of SolarIn 2021, 9.6% of our purchased electricity was secur ed from renewable sources.\n",
      "We’re committed to reducing our environmental footprint across the life cycles ofour products and our supply chain.\n",
      "Climate Action StrategySkip to main content Menu7/7/22, 10:29 AM Environmental | 2021 ESG Report | Eli Lilly and Companyhttps://esg.lilly.com/environmental#tab-control-tab4 3/7Enhance tracking and reporting of emissions from our full value-chain In 2021, we advanced our efforts toward achieving this goal by undertaking the measurement of our full Scope 3 (value-chain)emissions.\n",
      "These projects include: Kinsale – In July, 2021, Lilly started up a 20-acre solar array in Kinsale, Ireland consisting of over 12,600 solar panels,which at the time of construction r epresented the largest solar development in Ireland.\n",
      "T o track our progress, we measure and manage energy and water use, greenhouse gas (GHG)emissions and the generation of waste and wastewater thr oughout our manufacturing pr ocess.\n",
      "We optimize the fuel e\u0000ciency and reduce the GHG emissions gener ated by our sales force \u0000eet by choosing vehicleswith better fuel economy and pr omoting driving and work practices that emphasize safety and fuel savings.\n",
      "It derives emission factorsfrom contractual instruments, which include any type of contract between two parties for the sale and purchase of energy bundled with attributes about theenergy generation, or for unbundled attribute claims.\n",
      "Lilly discloses informationaccording to recommendations of the Task Force on Climate-related Financial Disclosures (TCFD) and aims to implement theserecommendations across the TCFD categories of Governance, Strategy, Risk Management and Metrics & T argets.\n",
      "For more information,please see our 2021 TCFD metrics.In This SectionClimate Action Strategy2030 Climate Goals and Progress to Date Recent AchievementsReducing Our Energy Use EmissionsReducing Emissions through Cleaner EnergyOffsetting through Carbon Removal ProjectsScope 3 Emissions and Supply Chain EngagementClimate Performance DataClimate Action StrategyTo mitigate the impact of Lilly ’s business operations on the environment and achieve our 2030 goals (described below), we ar e applyinga comprehensive three-pronged approach:  1.\n",
      "The solar panels supply appr oximately 10% of the site’s energy needs.Manufacturing facilities in Fegersheim, France and Sesto, Italy have solar arrays of 62 kW and 145 kW, respectively.Additional solar capacity is being installed at our manufacturing facilities in Puer to Rico and Fegersheim.Energy ResiliencyIn 2017, we began designing a new 9 megawatt (MW ) combined heat and power system at our Puer to Rico facility, whichsuccessfully commenced oper ation in 2021.\n",
      "The decision t opurchase offsets will be made based on the r emaining emissions that cannot be eliminated.Scope 3 Emissions and Supply Chain Engagement We are working to advance transparency across our value chain, including in our full Scope 3 emissions, which ar e currently beingcalculated and are expected to be reported for the \u0000rst time in the later half of 2022 thr ough our CDP Climate report.\n",
      "We plan to increase the amountof renewable electricity utilized as we advance new projects, including solar arrays at our sites in Puerto Rico and France, and anexpansion to our solar array in Kinsale, Ireland, and another solar array in Alcobendas, Spain.\n",
      "Each year, our a\u0000liates look for opportunities toSkip to main content Menu7/7/22, 10:29 AM Environmental | 2021 ESG Report | Eli Lilly and Companyhttps://esg.lilly.com/environmental#tab-control-tab4 5/7Off-Setting through Carbon Remo val ProjectsWhile our primary strategy is to directly reduce emissions and replace carbon-intensive sources with clean energy sources wherepossible, to achieve carbon neutrality we recognize the remaining emissions will need t o be offset by purchasing certi\u0000cates fromclimate protection projects with recognized quality standards.\n",
      "Since the inception of the pr ogram, these projectscollectively save more than one trillion BTUs of energy annually, avoiding approximately 131,000 metric tonnes of GHGSkip to main content Menu7/7/22, 10:29 AM Environmental | 2021 ESG Report | Eli Lilly and Companyhttps://esg.lilly.com/environmental#tab-control-tab4 4/7Reducing Emissions thr ough Cleaner Energy We continue to evaluate how to improve our energy resiliency and expand our use of r enewable electricity consistent with our goal t odiversify our energy sources and decrease our GHG emissions over time.\n",
      "In 2021, we reduced our energy consumption by 2.9%, and we reduced our absolute GHGemissions by 9% compared to 2020.\n",
      "7/7/22, 10:29 AM Environmental | 2021 ESG Report | Eli Lilly and Companyhttps://esg.lilly.com/environmental#tab-control-tab4 1/7Our purpose, to make life better, includes protecting and preserving the world we live in.\n",
      "Includes Scope 1 emissions and energy from onsite fuel combustion (excluding mobile sources) and Scope 2 emissions and energy from site-purchasedenergy (i.e., electricity, steam and chilled water).\n",
      "Become carbon neutral in our own operations (Scope 1 and 2 emissions)Lilly strives to be carbon neutral by 2030, and we are working to drive GHG emissions reductions throughout our operations.\n",
      "Reducing Our Energy Use EmissionsWe continue to evaluate how to improve our energy resiliency and expand our use of r enewable electricity consistent with our goal t odiversify our energy sources and decrease our GHG emissions over time.\n",
      "2018 through 2020 Scope 3 data include the following Scope 3 categories: upstream transportation and distribution, waste generated in operations, businesstravel, employee commuting, upstream leased assets, downstream leased assets, franchises, investments.\n",
      "Offsetting remaining emissions and ener gy sources that could not be reduced or replaced, by purchasing emissions offsets fr omhigh-quality, third-party veri\u0000ed carbon reduction projects (note: it is not currently possible to eliminate all emissions sour ces ortransition all direct energy supplies to renewable sources).\n",
      "The solar array is expected toprovide up to 15% of the site’s purchased electricity, resulting in an estimated 2,350 t onne reduction in the site’s annualcarbon footprint.\n",
      "We are currently working to advance transparencyacross our value chain, including reporting on all 15 Scope 3 emissions, which are being calculated and expected to be reported for the \u0000rst time in mid-2022.Greenhouse GasEmissions(Market-Based) (1)2018201920202021Value-ChainGreenhouse GasEmissions20182019202020213Energy 201820192020202145Climate Goals 2030 Goal 2021 PerformanceSkip to main content Menu7/7/22, 10:29 AM Environmental | 2021 ESG Report | Eli Lilly and Companyhttps://esg.lilly.com/environmental#tab-control-tab4 7/7See important information about our ESG report.Copyright © 2022 Eli Lilly and Company .\n",
      "2030 Climate Goals and Our Pr ogress to Date Lilly is committed to reducing our GHG emissions, and prioritizing ener gy e\u0000ciency to become a more climate-resilient organization.Looking toward the future, we have set climate goals for 2030 as we work t oward contributing to a low-carbon economy: Secure 100% of our purchased electricity from renewable sourcesIn 2021, 9.6% of our purchased electricity came from renewable sources.\n",
      "As a global company committed t o making life better for people, we recognize our responsibility to reduce our carbon footprint andmanage climate-related risks and opportunities to support the transition to a low-carbon economy.\n",
      "We are engagingwith key suppliers and identifying ar eas of our value chain where we could potentially make improvements and increase resiliency.Climate Performance DataGreenhouse GasEmissions (Scope1 and Scope 2)(metric tonnesCO2e) 832,000788,000710,000645,000Scope 1 201,000192,000159,000157,000Scope 2 631,000596,000551,000488,000Greenhouse GasEmissions (Scope1 and Scope 2)(metric tonnesCO2e)Not previouslyreportedNot previouslyreportedNot previouslyreported623,000enhance their environmental performance.\n",
      "Our current initiatives include:  Designing for energy e\u0000ciency in new or updated pr ocesses and facilities Operating our facilities and equipment in incr easingly e\u0000cient ways  Facilitating the use of advanced energy monitoring and control solutions Conducting and acting on ener gy assessments and implementing r ecommended projects to improve energy e\u0000ciency Evaluating and incorporating alternative energy sources, new technologies and best pr actices for energy use and GHG emissionreductions Participating in local, regional and national forums t o understand and integrate energy management best practices and to supportresponsible and cost-effective decision-making and policy de velopment (e.g., the U.S. Envir onmental Protection Agency’s ENERGYSTAR Pharmaceutical Focus Group) Climate HighlightsRecent Energy InitiativesHVAC Systems Optimization – Sites in Alcobendas, Spain, F egersheim, France and Indianapolis in the U.S. ha vecompleted initiatives to decrease energy consumed in HVAC systems.\n",
      "Lilly manages health, saf ety and theenvironment (HSE) under a uni\u0000ed governance structure.Our 2030 Envir onmental GoalsClimateCarbon neutralin our own operations100%renewable electricityEnhancefull value-chain emissions reportingWasteZerowaste to land\u0000ll100%of plastic waste repurposed forbene\u0000cial use with at least 90%recycled or reusedIntegrate sustainabilityinto product and packaging designWaterNo adverse impactto water-stressed areasNo adverse impactfrom pharmaceuticals in theenvironmentClimateWasteWaterProduct StewardshipClimateOur Environmental Appr oachSkip to main contentMenu7/7/22, 10:29 AM Environmental | 2021 ESG Report | Eli Lilly and Companyhttps://esg.lilly.com/environmental#tab-control-tab4 2/7Management ApproachLilly acknowledges that climate change is an e ver-present reality that is contributing to a reduction in human and envir onmental health.Action against climate change is r equired to achieve the goals of the Paris Agreement and to avoid the most detrimental effects ofclimate change by limiting the global temperature rise to 1.5°C.\n",
      "Green LogisticsGreenhouse GasEmissions(Location-based)(1)20182019202020212Greenhouse GasEmissions(Market-Based) (1)20182019202020212Skip to main content Menu7/7/22, 10:29 AM Environmental | 2021 ESG Report | Eli Lilly and Companyhttps://esg.lilly.com/environmental#tab-control-tab4 6/7Scope 1 Not previouslyreportedNot previouslyreportedNot previouslyreported157,000Scope 2 Not previouslyreportedNot previouslyreportedNot previouslyreported466,000Scope 3 Emissions(metric tonnesCO2e)263,000235,000176,000Not yet availableTotal EnergyConsumption(million BTUs)6,650,0006,400,0006,200,0006,100,000Direct EnergyConsumption(million BTUs)1,730,0001,690,0001,700,0001,600,000Indirect EnergyConsumption(million BTUs)4,920,0004,700,0004,500,0004,500,000RenewableElectricityNot previouslyreportedNot previouslyreported7.0%9.6%100% Renewable Electricity 100% 9.6%Carbon Neutral (Market-Based Scope1 and Scope 2) Carbon Neutral623,000 tonnes CO2eEnhance Tracking and Reporting ofFull Value-Chain Emissions (Scope 3) N/A On trackFootnotesNote: Some segments do not add up t o totals due to rounding.Note: Bureau Veritas was engaged by Eli Lilly and Company to provide limited assurance in relation to speci\u0000ed 2021 environmentalperformance data presented.1.\n"
     ]
    }
   ],
   "source": [
    "for ele in tracker:\n",
    "    print(pre_tokens[ele[0]])"
   ]
  },
  {
   "cell_type": "code",
   "execution_count": null,
   "id": "3c852ce9",
   "metadata": {},
   "outputs": [],
   "source": []
  }
 ],
 "metadata": {
  "kernelspec": {
   "display_name": "Python 3.10.5 ('nlp')",
   "language": "python",
   "name": "python3"
  },
  "language_info": {
   "codemirror_mode": {
    "name": "ipython",
    "version": 3
   },
   "file_extension": ".py",
   "mimetype": "text/x-python",
   "name": "python",
   "nbconvert_exporter": "python",
   "pygments_lexer": "ipython3",
   "version": "3.10.5"
  },
  "vscode": {
   "interpreter": {
    "hash": "7ac0299e59e0d70458a5970d26bf8f33138a0c4c728eb3df577e6d5038f0a507"
   }
  }
 },
 "nbformat": 4,
 "nbformat_minor": 5
}
