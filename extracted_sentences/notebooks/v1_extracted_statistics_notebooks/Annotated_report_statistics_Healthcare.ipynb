{
 "cells": [
  {
   "cell_type": "code",
   "execution_count": 1,
   "metadata": {},
   "outputs": [],
   "source": [
    "import os\n",
    "import PyPDF2\n",
    "import fitz"
   ]
  },
  {
   "cell_type": "code",
   "execution_count": 2,
   "metadata": {},
   "outputs": [],
   "source": [
    "dir = 'annoted_sustainability_reports/Healthcare'\n",
    " "
   ]
  },
  {
   "cell_type": "code",
   "execution_count": 3,
   "metadata": {
    "scrolled": true
   },
   "outputs": [
    {
     "name": "stdout",
     "output_type": "stream",
     "text": [
      "annoted_sustainability_reports/Healthcare/EliLilly_2021_Environmental_ESG_report.pdf\n",
      "Document('annoted_sustainability_reports/Healthcare/EliLilly_2021_Environmental_ESG_report.pdf')\n",
      "['From 2012 to 2020, we achieved a 26% reduction in absolute emissions', ' In 2021, we achieved a 9% absolute emissions reduction versus 2020', ' This reduction was partially driven by energy e�ciency improvements and an increase in the use of renewable electricity including the startup of our solar array in Kinsale', '\\xa0 In 2021, 9', '6% of our purchased electricity came from renewable sources', '\\xa0A large portion of this renewable electricity is delivered through our utility providers to our sites in Alcobendas, Spain; Kinsale, Ireland; and Bracknell, UK', 'In 2021, we reduced our energy consumption by 2', '9%,In 2021, 9', '6% of our purchased electricity was secured from renewable sources', ' We have reduced GHG emissions at key facilities by leveraging solar energy', ' These projects include: Kinsale – In July, 2021, Lilly started up a 20-acre solar array in Kinsale, Ireland consisting of over 12,600 solar panels, which at the time of construction represented the largest solar development in Ireland', ' The solar array is expected to provide up to 15% of the site’s purchased electricity, resulting in an estimated 2,350 tonne reduction in the site’s annual carbon footprint', ' Manufacturing facilities in Fegersheim, France and Sesto, Italy have solar arrays of 62 kW and 145 kW, respectively', ' In 2019, Lilly India began operating a rooftop solar array on its administrative building in Gurugram (Gurgaon), India', ' The 40-kW capacity solar panels will help reduce Lilly’s carbon footprint in the city – a key priority due to rising pollution levels', ' The solar panels supply approximately 10% of the site’s energy needs', 'For example, Lilly’s �eet in Japan consists of approximately 80% hybrid vehicles, and our a�liate in Germany has begun including electric vehicles in their �eet offering', '9', '6% Renewable Electricity'] \n",
      " 19\n",
      "annoted_sustainability_reports/Healthcare/UnitedHealthGroup_2021-sustainability-report.pdf\n",
      "Document('annoted_sustainability_reports/Healthcare/UnitedHealthGroup_2021-sustainability-report.pdf')\n",
      "[''] \n",
      " 1\n",
      "annoted_sustainability_reports/Healthcare/Merck_2021_ESG_report.pdf\n",
      "Document('annoted_sustainability_reports/Healthcare/Merck_2021_ESG_report.pdf')\n",
      "['In 2020, a new solar array was installed at one of our offices in Australia (VPPAs) for utility-scale energy projects based in Texas and Spain', ' These projects will address approximately 35 percent of our company’s Scope 2 emissions by collectively adding 145 megawatts (MW) of solar and wind energy to the grid', ' These agreements follow a 2018 U', 'S', ' wind VPPA, which has added 60 MW of new renewable energy capacity, while providing our company with the associated renewable energy credits', ' Our company recently signed three virtual power purchase agreements 40 percent of our U', 'S', ' fleet are now partial-zero-emission vehicles (PZEV), and we are expanding our use of hybrid vehicles', ' Over 50 percent of the vehicles being utilized in our Asia/Pacific markets are hybrids', ' Approximately nine percent of our total Scope 1 and 2 GHG emissions are associated with our vehicle fleet', 'Renewable energy generated and used onsite (Scope 1)4 0', '05%Renewable energy generated and used onsite (Scope 1)4 9', '1%On Track: 37', '7% of our purchased electricity comes from renewablesFrom 2019 to 2020, we reduced our year-over-year Scope 1 and Scope 2 market-based GHG emissions by eight percent due to our continued focus on energy efficiency and an increased utilization of renewable energy', ' WhereThe decrease in SOx emissions from 2019 to 2020 can be attributed to the use of fuel with a lower sulfur content', ' VOC emissions decreased from 2019 to 2020 due to variations in production and because of continuous data collection improvements with the adoption of more accurate emission-tracking methods', ''] \n",
      " 17\n",
      "annoted_sustainability_reports/Healthcare/BristolMyersSquibb_2020_ESG.pdf\n",
      "Document('annoted_sustainability_reports/Healthcare/BristolMyersSquibb_2020_ESG.pdf')\n",
      "['We have photovoltaic installations at five sites We have photovoltaic installations at five sites in the U', 'S', ', Switzerland and China, installations at five sites in the U', 'S', ', Switzerland and China, providing a combined annual U', 'S', ', Switzerland and China, providing a combined annual electricity output of 3,632,000 providing a combined annual electricity output of 3,632,000 kWh, equivalent to taking electricity kWh,we partnered with CarbonFund', ' org to develop a program to offset carbon emissions for corporate travel by supporting efforts to stop deforestation and drive sustainable economic growth in the Amazonian Basin', ' Between 2019 and 2020, the total contribution made equates to 6,723 metric tonnes of CO2 sequestered—equivalentAs part of our Sustainability 2020 Goals, we transitioned Orencia’s packaging to a As part of our Sustainability 2020 Goals, we transitioned Orencia’s packaging to a high product density lightweight packaging, we transitioned Orencia’s packaging to a high product density lightweight packaging, leading to: high product leading to: 320,000 leading to: 320,000 tons in annual CO2e emissions reduction', ' 320,000 tons in annual CO2e emissions reduction', ''] \n",
      " 11\n",
      "annoted_sustainability_reports/Healthcare/Danaher_2021_sustainability_report.pdf\n",
      "Document('annoted_sustainability_reports/Healthcare/Danaher_2021_sustainability_report.pdf')\n",
      "['In 2020, Pall’s facility in Bad Kreuznach, Germany purchased 8,919 MT CO2e allowances as part of the EU Emissions Trading System, and Pall also purchased 285 MT CO2e offsets to commemorate Earth Day', ' CO2e also purchased 285 MT CO2e offsets to commemorate Earth Day', 'Total Energy Use (intensity) Reduction 3,696,540 193', '7 -9', '0% y/y Total GHG Emissions, Scope 1 and 2 Total GHG Emissions, Scope 1 and 2 (intensity) Reduction 312,860 16', '4 -7', '5% y/y'] \n",
      " 7\n",
      "annoted_sustainability_reports/Healthcare/johnsonandjohnson_2021-health-for-humanity-report-pdf.pdf\n",
      "Document('annoted_sustainability_reports/Healthcare/johnsonandjohnson_2021-health-for-humanity-report-pdf.pdf')\n",
      "NoneType found\n",
      "['Progress: Produced or procured 52% of electricity from renewable energy sources', ' Progress: 34% reduction in Scope 1 + 2 carbon emissions vs', ' 2016 baseline', ' Progress: +1% increase in greenhouse gas (GHG) emissions – Scope 3 (upstream) vs', ' 2016 baseline', 'Johnson & Johnson maintains more than 50 on-site renewable energy systems in 17 countries and has executed multiple deals for off-site renewable electricity procurement', ' In 2021, Johnson & Johnson signed four new renewable Power Purchase Agreements (PPAs)—one in North America and three in Europe—as well as two Utility Green Tariff contracts in the United States', ' These On-Site Generated Energy Use by Type (TJ)*We continued to expand the installation of on-site solar arrays at our facilities, with new installations in 2021 in China, Colombia, South Africa and Thailand', ' New this year was the introduction of on-site PPA structure in the form of multiyear “energy as a service” contracts at two sites, enabling GHG-reduction benefits without the need for capital investment', ' At one of the largest manufacturing sites in South Africa, the Cape Town installation represented the first renewable electricity initiative for Johnson & Johnson in South Africa', ' As part of our ongoing efforts to leverage data science across our operations, in 2021, we automated a manual freight load planning process to produce a 3D loading plan that optimizes space utilization of shipping containers, resulting in lower GHG emissions from shipping, a faster loading process and cost savings', ' In Europe, we identified opportunities to switch deliveries from our Belgium distribution center to Denmark, France and Spain from air to road—significantly reducing the carbon emissions with minimal impact to customer service', 'In 2021, for example, for application in our late-stage product portfolio, we achieved process intensification and highly efficient processes via biocatalysis and organocatalysis', ' Biocatalysis and organocatalysis enable a reduction in the use of organic solvents and generate lower levels of organic waste, resulting in fewer GHG emissions', 'From renewable sources 3,355 Percent\\xa0renewable\\xa0electricity\\xa0by\\xa0region North America 67%◊ Europe 79%◊ On-site generated energy use by type (TJ)1 Co-generation 456 Wind 111 Solar PV 86 Geothermal 21 Fuel cell 4 Biomass 3 On-site clean/renewable energy capacity by type4 Solar PV Co-generation 44% 29% 23% 2% 2% 1% Fuel cell Biomass Geothermal Wind On-site clean/renewable energy technology capacity, (MW) On-site clean/renewable capacity, (MW) 67', '2 Electricity generated from renewable sources 52%◊'] \n",
      " 16\n",
      "annoted_sustainability_reports/Healthcare/Pfizer_NetZero_2022_update.pdf\n",
      "Document('annoted_sustainability_reports/Healthcare/Pfizer_NetZero_2022_update.pdf')\n",
      "['��������������������������������������������������������������������������������������������������������'] \n",
      " 1\n",
      "annoted_sustainability_reports/Healthcare/Abbott_2021_sustainability_report.pdf\n",
      "Document('annoted_sustainability_reports/Healthcare/Abbott_2021_sustainability_report.pdf')\n",
      "['Throughout 2021, absolute Scope 1 and 2 emissions production increased by 3', '3% compared to 2020', ' When adjusted for sales, Scope 1 and 2 emissions decreased 17% over this same time period', ' More than 200 metric tons CO2e annual reduction were realized by installing a boiler oxygen management system in our three steam boilers', ' Another project to upgrade cooling-tower fins, louvres and in-fills resulted in an annual reduction of about 250 metric tons CO2e', ' This switch also resulted in a financial saving, plus an environmental benefit of an annual GHG emission reduction of about 20 metric tons', ' In 2021, we purchased 190 million kWh of low-carbon and renewable energy, resulting in savings of 80,000 metric tons of CO2e', ' In addition, we also generated 1', '8 million kWh from solar installations at eight of our sites', 'Scope 1 and 2 Carbon Emissions Intensity\\xa0— Normalized to Sales Metric Tons CO2e per $ Million Sales Scope 1 and 2 Carbon Emissions 1,000 Metric Tons CO2e Scope 1 and 2 Carbon 1,000 Metric Tons CO2eEnergy Consumption by Source(o) 1,000 Gigajoules Generated Electricity (Cogeneration) Generated Electricity (Renewables) 196 7 Generated On-Site from Renewables 7 Purchased Renewables from Third Party 678 % of Renewable Energy Purchased Electricity Consumption by Type Purchased Energy Consumed (1,000 15% Renewable Energy 678Electricity From Renewable Energy Sources by Region 1,000 Gigajoules North America Region Total 63'] \n",
      " 10\n",
      "annoted_sustainability_reports/Healthcare/ThermoFisherScientifiic_2021_CSR_report.pdf\n",
      "Document('annoted_sustainability_reports/Healthcare/ThermoFisherScientifiic_2021_CSR_report.pdf')\n",
      "['In 2021, we achieved a 12% reduction in absolute Scope 1 and Scope 2 emissions compared to our 2018 baseline', ' Over the past year of operational growth alone, our Scope 1 and Scope 2 carbon intensity equalled 16 metric tons of carbon dioxide per million USD in revenue, down from 19 in 2020 and 27 prior to the pandemic', ' Renewable electricity procurement is critical to our near-term strategy', ' We achieved a new record in 2021, with 22% of global electricity coming from renewable sources, a 69% increase over the prior year', '3', '5MW of solar power 3', '5MW of solar power installed at our sites 3MW of wind energy 3MW of wind energy installed at our sitesScope 2, market based (electricity and steam)† 314,972Renewable electricity\\xa0(% of total electricity) Renewable energy (% of total energy) Use of sold products (category 11) 2,228,880 22 10 Total leased vehicles 7,514 \\xa0Battery electric vehicles (BEV) 16 Renewable electricity† 258,848 On-site generation† PPA/supply contract† Environmental attribute certificates30† 10,760 131,029 117,059'] \n",
      " 7\n",
      "annoted_sustainability_reports/Healthcare/Amgen_2021_ESG_report.pdf\n",
      "Document('annoted_sustainability_reports/Healthcare/Amgen_2021_ESG_report.pdf')\n",
      "['Through innovative manufacturing technologies ENVIRONMENTAL implemented at our manufacturing facility in ENVIRONMENTAL Singapore , we reduced carbon emissions by 69% and water ENVIRONMENTAL use by 54%, as compared to conventional biotechnology ENVIRONMENTAL manufacturing ', '26 ENVIRONMENTAL In 2021, we increased the number of WATER ENVIRONMENTAL facilities sourcing renewable energy, including our major WATER ENVIRONMENTAL North American sites in Rhode Island and our headquarters WATER ENVIRONMENTAL in California; our aim is for all Amgen facilities, wherever WATER ENVIRONMENTAL feasible, to procure 100% renewable electricity by 2027 Our WATER ENVIRONMENTAL At the end of 2021, renewable electricity accounted for 79% of WATER ENVIRONMENTAL our total electricity consumption, compared to 41% in 2020 We WATER ENVIRONMENTAL We achieved this increase in renewable electricity through WATER ENVIRONMENTAL the purchase of renewable energy certificates for electricity WATER ENVIRONMENTAL consumption at our North American facilities ENVIRONMENTAL“It Nevertheless, as of January 1, 2022, Barrera’s team has placed “It orders for 195 electric vehicles, which have been assigned “It to field staffENERGY In 2021, we increased the amount of renewable energy in ENERGY our purchased electricity to 79% compared to 41% in 2020 We ENERGY We purchased in-country renewable energy certificates to ENERGY make our facilities in Thousand Oaks, CA; West Greenwich, ENERGY RI; Louisville, KY; Cambridge, MA; Breda, Netherlands; and ENERGY Singapore use 100% renewable electricity This 2021 Energy Use by SourceCarbon emissions from onsite combustion of fuel and * ENVIRONMENTAL purchased energy in 2021 decreased by 88,000 metric tons * ENVIRONMENTAL (MT) from 2020 This represents a 36% reduction from * ENVIRONMENTAL the previous year and was primarily achieved through the * ENVIRONMENTAL increased procurement of renewable electricity, as discussed * ENVIRONMENTAL above, for our North American facilities Carbon * ENVIRONMENTAL'] \n",
      " 2\n"
     ]
    }
   ],
   "source": [
    "highlight_list = []\n",
    "rel_text = []\n",
    "\n",
    "for file in os.listdir(dir):\n",
    "    f = os.path.join(dir, file)\n",
    "    print(f)\n",
    "\n",
    "    doc = fitz.open(f)\n",
    "    print(doc)\n",
    "    result = []\n",
    "    \n",
    "    for page in doc:\n",
    "\n",
    "        highlights = []\n",
    "        annot = page.first_annot\n",
    "        while annot:\n",
    "            if annot.type[0] == 8:\n",
    "                all_coordinates = annot.vertices\n",
    "                try:\n",
    "                    if len(all_coordinates) == 4:\n",
    "                        highlight_coord = fitz.Quad(all_coordinates).rect\n",
    "                        highlights.append(highlight_coord)\n",
    "                    else:\n",
    "                        all_coordinates = [all_coordinates[x:x+4] for x in range(0, len(all_coordinates), 4)]\n",
    "                        for i in range(0,len(all_coordinates)):\n",
    "                            coord = fitz.Quad(all_coordinates[i]).rect\n",
    "                            highlights.append(coord)\n",
    "                except:\n",
    "                    print(\"NoneType found\")\n",
    "            annot = annot.next\n",
    "\n",
    "        all_words = page.get_text_words()\n",
    "        highlight_text = []\n",
    "        if len(highlights) > 0:\n",
    "            for h in highlights:\n",
    "                sentence = []\n",
    "                for w in all_words:\n",
    "                    if fitz.Rect(w[0:4]).intersects(h):\n",
    "                        sentence.append(w[4])\n",
    "                highlight_text.append(\" \".join(sentence))\n",
    "        if len(highlight_text) > 0:\n",
    "            result.append(\" \".join(highlight_text))\n",
    "        \n",
    "\n",
    "    s = \"\"\n",
    "        \n",
    "    for r in result:\n",
    "        if r is not None:\n",
    "            s += r\n",
    "        \n",
    "    #create array of highlighted sentences in the pdf\n",
    "    highlighted_sentences = s.split('.')\n",
    "\n",
    "    print(highlighted_sentences, \"\\n\", len(highlighted_sentences))\n",
    "\n",
    "    rel_text.append(highlighted_sentences)\n",
    "\n",
    "    num_highlighted = len(highlighted_sentences)\n",
    "\n",
    "    highlight_list.append(num_highlighted)\n"
   ]
  },
  {
   "cell_type": "code",
   "execution_count": 4,
   "metadata": {},
   "outputs": [
    {
     "name": "stdout",
     "output_type": "stream",
     "text": [
      "annoted_sustainability_reports/Healthcare/EliLilly_2021_Environmental_ESG_report.pdf\n",
      "132\n",
      "annoted_sustainability_reports/Healthcare/UnitedHealthGroup_2021-sustainability-report.pdf\n",
      "1214\n",
      "annoted_sustainability_reports/Healthcare/Merck_2021_ESG_report.pdf\n"
     ]
    },
    {
     "name": "stderr",
     "output_type": "stream",
     "text": [
      "Xref table not zero-indexed. ID numbers for objects will be corrected.\n"
     ]
    },
    {
     "name": "stdout",
     "output_type": "stream",
     "text": [
      "3179\n",
      "annoted_sustainability_reports/Healthcare/BristolMyersSquibb_2020_ESG.pdf\n",
      "1543\n",
      "annoted_sustainability_reports/Healthcare/Danaher_2021_sustainability_report.pdf\n"
     ]
    },
    {
     "name": "stderr",
     "output_type": "stream",
     "text": [
      "Xref table not zero-indexed. ID numbers for objects will be corrected.\n"
     ]
    },
    {
     "name": "stdout",
     "output_type": "stream",
     "text": [
      "1130\n",
      "annoted_sustainability_reports/Healthcare/johnsonandjohnson_2021-health-for-humanity-report-pdf.pdf\n",
      "3300\n",
      "annoted_sustainability_reports/Healthcare/Pfizer_NetZero_2022_update.pdf\n",
      "139\n",
      "annoted_sustainability_reports/Healthcare/Abbott_2021_sustainability_report.pdf\n"
     ]
    },
    {
     "name": "stderr",
     "output_type": "stream",
     "text": [
      "Xref table not zero-indexed. ID numbers for objects will be corrected.\n"
     ]
    },
    {
     "name": "stdout",
     "output_type": "stream",
     "text": [
      "2801\n",
      "annoted_sustainability_reports/Healthcare/ThermoFisherScientifiic_2021_CSR_report.pdf\n",
      "1060\n",
      "annoted_sustainability_reports/Healthcare/Amgen_2021_ESG_report.pdf\n",
      "1596\n"
     ]
    }
   ],
   "source": [
    "#Extracting all sentences from the file\n",
    "sentences_list = []\n",
    "all_text = []\n",
    "\n",
    "for file in os.listdir(dir):\n",
    "    f = os.path.join(dir, file)\n",
    "    print(f)\n",
    "\n",
    "    pdfFileObj = open(f, 'rb') \n",
    "    pdfReader = PyPDF2.PdfFileReader(pdfFileObj) \n",
    "\n",
    "    t = \"\"\n",
    "\n",
    "    for count in range(len(fitz.open(f))):\n",
    "        # print(count)\n",
    "        pageObj = pdfReader.getPage(count)\n",
    "        t += pageObj.extractText()\n",
    "        \n",
    "\n",
    "    pdfFileObj.close() \n",
    "    total_sentences = t.split('.')\n",
    "    print(len(total_sentences))\n",
    "\n",
    "    all_text.append(total_sentences)\n",
    "\n",
    "    num_sentences = len(total_sentences)\n",
    "\n",
    "    sentences_list.append(num_sentences)\n",
    "\n",
    "#1910 total sentences in Amazon_2021_sustainability_report.pdf\n"
   ]
  },
  {
   "cell_type": "code",
   "execution_count": 8,
   "metadata": {},
   "outputs": [
    {
     "data": {
      "image/png": "[encoded data removed]",
      "text/plain": [
       "<Figure size 640x480 with 1 Axes>"
      ]
     },
     "metadata": {},
     "output_type": "display_data"
    }
   ],
   "source": [
    "import matplotlib.pyplot as plt\n",
    "import numpy as np\n",
    "import glob\n",
    "y = []\n",
    "\n",
    "x = [\"EliLilly\", \"UnitedHealthGroup\", \"Merck\", \"BristolMyersSquibb\", \"Danaher\", \"Johnson&Johnson\", \"Pfizer\", \"Abbott\", \"ThermosFisherSc\", \"Amgen\"]\n",
    "\n",
    "i = 0\n",
    "\n",
    "for file in os.listdir(dir):\n",
    "    y.append(100 * (highlight_list[i])/sentences_list[i])\n",
    "    i = i+1\n",
    "\n",
    "plt.bar(x, y, width = 0.8)\n",
    "plt.xticks(rotation='vertical')\n",
    "plt.xlabel(\"Company\")\n",
    "plt.ylabel(\"Percent of sentences highlighted\")\n",
    "plt.yticks(np.arange(0, 50, 10))\n",
    "plt.show()"
   ]
  },
  {
   "cell_type": "code",
   "execution_count": 9,
   "metadata": {},
   "outputs": [
    {
     "data": {
      "text/plain": [
       "count    10.000000\n",
       "mean      1.869042\n",
       "std       4.406674\n",
       "min       0.082372\n",
       "25%       0.388974\n",
       "50%       0.577114\n",
       "75%       0.699767\n",
       "max      14.393939\n",
       "dtype: float64"
      ]
     },
     "execution_count": 9,
     "metadata": {},
     "output_type": "execute_result"
    }
   ],
   "source": [
    "import pandas as pd\n",
    "\n",
    "series = pd.Series(y)\n",
    "series.describe()"
   ]
  },
  {
   "cell_type": "code",
   "execution_count": 11,
   "metadata": {},
   "outputs": [
    {
     "name": "stdout",
     "output_type": "stream",
     "text": [
      "Stored 'HC_reltext' (list)\n",
      "Stored 'HC_alltext' (list)\n"
     ]
    }
   ],
   "source": [
    "#storing variable so they can be called between notebooks (for ML and aggregate work later on)\n",
    "\n",
    "HC_reltext = rel_text\n",
    "HC_alltext = all_text\n",
    "\n",
    "%store HC_reltext\n",
    "%store HC_alltext"
   ]
  },
  {
   "cell_type": "code",
   "execution_count": null,
   "metadata": {},
   "outputs": [],
   "source": []
  }
 ],
 "metadata": {
  "kernelspec": {
   "display_name": "Python 3.9.13 ('pythondata')",
   "language": "python",
   "name": "python3"
  },
  "language_info": {
   "codemirror_mode": {
    "name": "ipython",
    "version": 3
   },
   "file_extension": ".py",
   "mimetype": "text/x-python",
   "name": "python",
   "nbconvert_exporter": "python",
   "pygments_lexer": "ipython3",
   "version": "3.9.13"
  },
  "vscode": {
   "interpreter": {
    "hash": "db1c1e886ca7e5218f158543d1b9804c0a5c522f5654be9e23cd8543b350db84"
   }
  }
 },
 "nbformat": 4,
 "nbformat_minor": 4
}
