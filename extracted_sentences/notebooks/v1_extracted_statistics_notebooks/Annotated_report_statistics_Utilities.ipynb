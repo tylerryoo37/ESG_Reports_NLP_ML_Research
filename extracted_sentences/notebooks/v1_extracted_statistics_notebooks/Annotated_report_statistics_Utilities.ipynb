{
 "cells": [
  {
   "cell_type": "code",
   "execution_count": 1,
   "id": "ac129345",
   "metadata": {},
   "outputs": [],
   "source": [
    "import os\n",
    "import PyPDF2\n",
    "import fitz"
   ]
  },
  {
   "cell_type": "code",
   "execution_count": 2,
   "id": "0ef95e9d",
   "metadata": {},
   "outputs": [],
   "source": [
    "dir = 'annoted_sustainability_reports/Utilities'"
   ]
  },
  {
   "cell_type": "code",
   "execution_count": 3,
   "id": "f927fefc",
   "metadata": {},
   "outputs": [
    {
     "name": "stdout",
     "output_type": "stream",
     "text": [
      "annoted_sustainability_reports/Utilities/Dominion_Energy_2021-climate-report.pdf\n",
      "Document('annoted_sustainability_reports/Utilities/Dominion_Energy_2021-climate-report.pdf')\n",
      "['Dominion Energy Consolidated Energy Mix (GWh) Renewable Build Scenario Dominion Energy Consolidated Energy Mix (GWh) Resource Constraints Scenario Dominion Energy Consolidated Energy Mix (GWh) Advanced Dispatchable Technology Scenario'] \n",
      " 1\n",
      "annoted_sustainability_reports/Utilities/Duke_Energy_2021-esg-report-full.pdf\n",
      "Document('annoted_sustainability_reports/Utilities/Duke_Energy_2021-esg-report-full.pdf')\n",
      "['We are also expanding our renewable footprint and own, operate or purchased over 10 gigawatts (GW) of renewables (solar and wind) in 2021, targeting 24 GW by 2030', 'Since 2010, we’ve retired 56 coal units representing approximately 7,500 MW', ' Already, the company has reduced carbon emissions from electricity generation by 44% from 2005 levels – the equivalent of removing 13 million vehicles from the road', ' Moving Toward a Cleaner Generation Fleet and Increased Fuel Diversity (Represents total company view) Transforming the way we produce power (Generation (MWh) by fuel type) 2005 1 2021 1, 2 2030E 3 1% Hydro, wind and solar 33% Nuclear 6% Natural gas 60% Coal/oil 7% Hydro, wind and solar 35% Nuclear 36% Natural gas 22% Coal/oil 25% Hydro, wind and solar 30% Nuclear 40% Natural gas 5% Coal/oil  1 2005 and 2021 data based on Duke Energy’s ownership share of U', 'S', ' generationDeploying renewables such as solar, wind and energy storage at unprecedented rates, expanding the renewables we own, operate or purchase from 10 GW in 2021 to 24 GW in 2030', ' In Oklahoma, the company expanded its Frontier Windpower project – its largest with 550 MW ofcapacity', ' In Texas, the company began operation at the 182-MW Maryneal Windpower project', ' One of the nation’s and Duke Energy’s fastest-growing areas for solar power is Florida and in 2021, the company expanded solar through its regulated utility in the Sunshine State with the addition of 225 MW through three new solar power plants', ' In both North Carolina and South Carolina, we have more than 4,500 MW of solar capacity connected to its gridIn 2021, approximately 83% of Duke Energy’s carbon-free generation was from nuclear energy, and about 37% of our total generation was from nuclear energy', ' The Duke Energy nuclear fleet generated more than 75 billion kilowatt-hours of electricity and avoided the release of over 50 million tons of carbon dioxide, which equates to about 10 million cars no longer on the road', 'We’ve eliminated cast iron and bare steel pipe from our system', ' These pipeline replacements have resulted in eliminating more than 95% of the methane emissions previously attributed to cast iron and bare steel pipe infrastructure', ' Cross-compression technology is being used in certain operational activities such as decommissioning a pipe or in-line inspections to eliminate the release of natural gas to the atmosphere or flaring the natural gas', ' This technology moves natural gas from a pipeline being depressurized into another section of the natural gas system and has reduced methane emissions through these activities by nearly 99% and saved 2', '4 million cubic feet of natural gas thus far', 'Asheville Plant Gallagher Station Allen Steam Station 1, 2 IN 2, 3, 4 NC 2, 3, 4 NC 378 2020 280 2021 677 2021In Florida, the company’s Park and Plug pilot has installed more than 600 EV public charging stations throughout the state', ' To date, drivers have used the Park & Plug network for almost 130,000 charging sessions, displacing more than 215,000 gallons of gasoline Regulated and Commercial Businesses Combined: 2021 Electricity Generated and Generation Capacity 2021 Electricity Generated 1 36% Natural gas 35% Nuclear 22% Coal 5% Wind/solar 1% Conv', 'hydro 0', '2% Fuel cell 0', '1% Oil 1 Excludes pumped-storage hydro', ' Fuels Consumed For Electric Generation 1 Coal (million tons) 63', '1 Oil (million gallons) 231 Natural gas (billion cubic feet) 163 2021 Generation Capacity 1 37% Natural gas 29% Coal 17% Nuclear 9% Wind/solar 2% Conv', 'hydro 2% Oil 0', '1% Fuel cell 24', '3 19', '7 26', '0 19', '4 567 585 Fuels consumed for electric generation Since 2008, the use of coal and oil as generation fuels has significantly decreased', ' These fuels are being replaced by cleaner natural gas and renewables', ' Equivalent to 8% Equivalent to 8% 9,088 Purchased Carbon-free Generation (Includes PPAs)2 Purchased Carbon-free (Includes PPAs)2 Equivalent to 4% Equivalent to 4% 4,212 ENVIRONMENTAL PERFORMANCE METRICS 2021 Electricity Generated and Generation Capacity 1 2021 electricity generated and generation capacity Duke Energy has a diverse, increasingly clean generation portfolio', ' Over 40% of the electricity we generated in 2021 was from carbon-free sources, including nuclear, wind, hydro and solar', ' Thirty six percent was from lower-carbon natural gas, which emits about half as much carbon dioxide as coal', ' And about 22% was from higher-carbon coal and oil', ' Taken together, owned and purchased renewables are equivalent to almost 11% of our electricity generation', ' Electricity Generated (net megawatt-hours) Electricity Generated (net megawatt-hours) MWh (thousands) MWh (thousands) Percent Nuclear 75,328 34', '9% Wind 2 7,387 3', '4% Conventional Hydro2 2,870 1', '3% Solar2 4,325 2', '0% Natural Gas 77,679 36', '0% Fuel Cell 374 0', '2% Coal 48,181 22', '3% Oil 214 0', '1% Pumped-Storage Hydro 3 (614) -0', '3% Generation Capacity (megawatts) Generation Capacity (megawatts) MW Percent 8,907 16', '5% 2,987 5', '5% 1,339 2', '5% 1,973 3', '7% 19,788 36', '7% 44 0', '1% 15,652 29', '0% 995 1', '8% 2,300 4', '3% Total Carbon-Free 89,910 15,206 41', '7% 28', '2% 78,053 48,395 22', '4% 19,832 36', '7% 30', '8% 16,647 215,745 100% 53,985 100% 36', '2% 2021 19', '9 27', '3 631Emissions From Electric Generation 1'] \n",
      " 62\n",
      "annoted_sustainability_reports/Utilities/AEP_2022_Sustainability-Report.pdf\n",
      "Document('annoted_sustainability_reports/Utilities/AEP_2022_Sustainability-Report.pdf')\n",
      "['Our goal is to reduce AEP’s carbon emissions from directly owned generation (scope 1) 80% by 2030 compared to 2000 levels and to achieve net-zero emissions by 2050 (scopes 1 and 2)', ' The climate scenarios we conducted showed that we can reach more than 95% toward zero by 2050 with conventional technologies, and we remain hopeful that emerging technologies such as advanced nuclear, carbon capture, hydrogen and energy storage will help us close that gap', ' Through the end of 2021, AEP has reduced its carbon emissions 70% from 2000 levels', ' Increasingly, we have seen renewables become more cost competitive, enabling AEP to invest in economical clean energy resources that also reduce our carbon footprint', ' In total, from 2011 to 2021, AEP has retired or sold more than 13,700 MW of coal-fueled generation, and we have plans to retire another 5,300 MW between 2022 and 2028', ' That will leave five remaining coal plants on our system totaling 6,500 MW', '2021 marked an important milestone in AEP’s clean energy transition when the company announced a plan to shift our generation portfolio from majority fossil fuel to majority renewables by the end of this decade', ' The strategy proposes adding approximately 16 gigawatts of new regulated renewable resources by 2030', 'The increased stakeholder demand for clean energy combined with approximately 8 GW of planned retirements and expiring purchase power agreements (PPAs) between 2022-2030, is creating economic energy opportunities and driving renewable energy growth', ' By 2030, our resource plans indicate an opportunity to add approximately 16 GW of regulated renewable energy, which will represent approximately half of our generating capacity', 'Together, the wind farms provide 1,484 MW of clean energy to customers of Public Service Company of Oklahoma and the Southwestern Electric Power Company, whichFor example, Appalachian Power has petitioned regulators to add nearly 500 MW of solar and wind power to the company’s renewables portfolio by 2025', ' This is part of its long-range plan to meet the renewable energy targets established by Virginia’s Clean Economy Act', ' Passed in 2020 by the General Assembly, the law requires Appalachian Power to file an annual plan with the Virginia State Corporation Commission outlining how it will meet key mandates as it reaches 100 percent carbon-free status by 2050', ' In addition, Indiana Michigan Power (I&M) intends to significantly expand its clean energy generation as part of its Powering the Next Tomorrow plan, calling for the addition of 2,100 MW of wind and solar energy generation by 2028', ' I&M expects up to 1,300 MWs of new renewable resources to be online as early as the end of 2024', ' The scheduled retirement of I&M’s coal-fueled Rockport Plant by the end of 2028 supports AEP’s goal of net-zero emissions by 2050', ' Together, the new resources would more than quadruple I&M’s current solar and wind generation', ' This is in addition to I&M’s Cook Nuclear Plant, wind and solar resources, and power from six hydro-electric plants that generated more than 80% of carbon-emission-free energy in I&M', 'Technologies of interest include: Renewable Energy Energy Storage Small Modular Nuclear Reactors (SMRs) Carbon Capture with Utilization or Storage Hydrogen and Other Chemical Energy Carriers Other Technologies (as they are identified) In addition, AEP continues to operate the 636 MW Smith Mountain hydroelectric facility located near Roanoke, Virginia', 'AEP’s Donald C', ' Cook Nuclear Plant in Bridgman, Michigan, can provide 2,296 MW of carbon- free electricity when operating at full power – enough to power 1', '5 million homes', ''] \n",
      " 23\n",
      "annoted_sustainability_reports/Utilities/NextEraEnergyZeroCarbonBlueprint.pdf\n",
      "Document('annoted_sustainability_reports/Utilities/NextEraEnergyZeroCarbonBlueprint.pdf')\n"
     ]
    },
    {
     "name": "stdout",
     "output_type": "stream",
     "text": [
      "['Our carbon goal is to be emissions-free completely emissions-free by completely no later Our carbon later to be emissions-free 2045', ' goal is emissions-free than 2045', ' is to emissions-free 2045', ' be completely emissions-free Our completely by plan completely no plan includes completely carbon later includes emissions-free than meaningful emissions-free 2045', ' meaningful emissions-free Our milestones by no plan milestones later includes milestones in five- no later includes milestones than 2045', ' meaningful year increments than meaningful year Our plan milestones increments plan includes milestones increments that would includes in would includes five- would meaningful milestones increments to reach meaningful increments allow us to meaningful year allow milestones that reach Real milestones in would Real Zero in five- would Zero year increments that would allow us to reach Real emissions by no later than would Zero than 2045', ' allow us emissions NextEra reach Real later has been us to reach emissions by Energy reach by no Energy has us emissions NextEra Real Zero than been working Zero 2045', ' working2005 Continued the transition away from foreign oil and added 2,214 MW of natural gas and 434 MW of wind', ' 2006 Acquired 615 MW of nuclear and added 824 MW of wind', ' 2007 Acquired 1,024 MW of nuclear, added 1,150 MW natural gas and 824 MW of wind', ' 2008 Added 2,500 MW of natural gas, 1,061 MW of wind and 25 MW of solar', ' 2009 Added 1,169 MW of wind', ' 2010 Added 91 MW of solar and 683 MW of wind', ' 2011 Completed 176 MW nuclear additions, added 1,250 MW of natural gas, 378 MW of wind and 5 MW of solar', ' 2012 Completed 514 MW nuclear additions, added 1,523 MW of wind and 40 MW of solar', ' 2013 Modernized 1,200 MW of natural gas, added 1,364 MW of wind and 20 MW of solar', ' 2014 Modernized 1,250 MW of natural gas, added 374 MW of wind and 623 MW of solar', ' 2015 Added 522 MW of wind and 47 MW of solar', ' 2016 Modernized 1,277 MW of natural gas, divested 3,828 MW of natural gas, added 621 MW of wind and 1,012 MW of solar', ' 2017 Retired and demolished 250 MW of coal, repowered 1,597 MW of wind, added 354 MW of wind and 497 MW of solar', ' 2018 Retired and demolished 636 MW of coal and 2,530 MW of natural gas and oil, repowered 928 MW of wind, added 1,405 MW of wind and 924 MW of solar, and completed a 26 MW nuclear addition', ' 2019 Aquired Gulf Power, which added 1,750 MW of natural gas, repowered 1,091 MW of wind, and added 1,025 MW of wind and 830 MW of solar', ' 2020 Retired 615 MW of nuclear and 330 MW of coal, converted 924 MW of coal to natural gas, completed a 23 MW nuclear uprate, repowered 1,432 MW of wind, added 1,993 MW of solar, 2,679 MW of wind and 26 MW of energy storage', ' 2021 Added 2,008 MW of wind, 1,547 MW of solar and 1,017 MW of battery storage and repowered 435 MW of wind', 'offsets offsets rely on not Does'] \n",
      " 25\n"
     ]
    }
   ],
   "source": [
    "highlight_list = []\n",
    "rel_text = []\n",
    "\n",
    "for file in os.listdir(dir):\n",
    "    f = os.path.join(dir, file)\n",
    "    print(f)\n",
    "    \n",
    "    doc = fitz.open(f)\n",
    "    print(doc)\n",
    "    result = []\n",
    "    \n",
    "    for page in doc:\n",
    "        \n",
    "        highlights = []\n",
    "        annot = page.first_annot\n",
    "        while annot: \n",
    "            if annot.type[0] == 8:\n",
    "                all_coordinates = annot.vertices\n",
    "                try: \n",
    "                    if len(all_coordinates) == 4:\n",
    "                        highlight_coord = fitz.Quad(all_coordinates).rect\n",
    "                        highlights.append(highlight_coord)\n",
    "                    else: \n",
    "                        all_coordinates = [all_coordinates[x:x+4] for x in range(0,len(all_coordinates),4)]\n",
    "                        for i in range(0, len(all_coordinates)):\n",
    "                            coord = fitz.Quad(all_coordinates[i]).rect\n",
    "                            highlights.append(coord)\n",
    "                except:\n",
    "                    print(\"NoneType found\")\n",
    "            annot = annot.next\n",
    "        all_words = page.get_text_words()\n",
    "        highlight_text = []\n",
    "        if len(highlights) > 0:\n",
    "            for h in highlights:\n",
    "                sentence = []\n",
    "                for w in all_words:\n",
    "                    if fitz.Rect(w[0:4]).intersects(h):\n",
    "                        sentence.append(w[4])\n",
    "                highlight_text.append(\" \".join(sentence))\n",
    "        if len(highlight_text) > 0:\n",
    "            result.append(\" \".join(highlight_text))\n",
    "    s = \"\"\n",
    "\n",
    "    for r in result:\n",
    "        if r is not None:\n",
    "            s += r\n",
    "\n",
    "    # Create array of highlighted sentences in the pdf\n",
    "    highlighted_sentences = s.split('.')\n",
    "\n",
    "    print(highlighted_sentences, \"\\n\", len(highlighted_sentences))\n",
    "    \n",
    "    rel_text.append(highlighted_sentences)\n",
    "    \n",
    "    num_highlighted = len(highlighted_sentences)\n",
    "    \n",
    "    highlight_list.append(num_highlighted)"
   ]
  },
  {
   "cell_type": "code",
   "execution_count": 4,
   "id": "7cfdbcda",
   "metadata": {},
   "outputs": [
    {
     "name": "stderr",
     "output_type": "stream",
     "text": [
      "Xref table not zero-indexed. ID numbers for objects will be corrected.\n"
     ]
    },
    {
     "name": "stdout",
     "output_type": "stream",
     "text": [
      "annoted_sustainability_reports/Utilities/Dominion_Energy_2021-climate-report.pdf\n"
     ]
    },
    {
     "name": "stderr",
     "output_type": "stream",
     "text": [
      "Xref table not zero-indexed. ID numbers for objects will be corrected.\n"
     ]
    },
    {
     "name": "stdout",
     "output_type": "stream",
     "text": [
      "798\n",
      "annoted_sustainability_reports/Utilities/Duke_Energy_2021-esg-report-full.pdf\n",
      "1306\n",
      "annoted_sustainability_reports/Utilities/AEP_2022_Sustainability-Report.pdf\n"
     ]
    },
    {
     "name": "stderr",
     "output_type": "stream",
     "text": [
      "Xref table not zero-indexed. ID numbers for objects will be corrected.\n"
     ]
    },
    {
     "name": "stdout",
     "output_type": "stream",
     "text": [
      "1767\n",
      "annoted_sustainability_reports/Utilities/NextEraEnergyZeroCarbonBlueprint.pdf\n",
      "267\n"
     ]
    }
   ],
   "source": [
    "# Extracting all sentences from the file \n",
    "sentences_list = []\n",
    "all_text = []\n",
    "\n",
    "for file in os.listdir(dir):\n",
    "    f = os.path.join(dir,file)\n",
    "    print(f)\n",
    "    \n",
    "    pdfFileObj = open(f, 'rb')\n",
    "    pdfReader  = PyPDF2.PdfFileReader(pdfFileObj)\n",
    "    \n",
    "    t = \"\"\n",
    "    \n",
    "    for count in range(len(fitz.open(f))):\n",
    "        pageObj = pdfReader.getPage(count)\n",
    "        t += pageObj.extractText()\n",
    "        \n",
    "    pdfFileObj.close()\n",
    "    total_sentences = t.split('.')\n",
    "    print(len(total_sentences))\n",
    "    \n",
    "    all_text.append(total_sentences)\n",
    "    \n",
    "    num_sentences = len(total_sentences)\n",
    "    \n",
    "    sentences_list.append(num_sentences)"
   ]
  },
  {
   "cell_type": "code",
   "execution_count": 11,
   "id": "d181ca06",
   "metadata": {},
   "outputs": [
    {
     "data": {
      "image/png": "[encoded data removed]",
      "text/plain": [
       "<Figure size 432x288 with 1 Axes>"
      ]
     },
     "metadata": {
      "needs_background": "light"
     },
     "output_type": "display_data"
    }
   ],
   "source": [
    "import matplotlib.pyplot as plt\n",
    "import numpy as np\n",
    "import glob\n",
    "y = []\n",
    "\n",
    "x = [\"Dominion_Energy\", \"Duke_Energy\", \"AEP\",\"NextEra\"]\n",
    "\n",
    "i = 0\n",
    "\n",
    "for file in os.listdir(dir):\n",
    "    y.append(100 * (highlight_list[i])/sentences_list[i])\n",
    "    i = i+1\n",
    "\n",
    "plt.bar(x, y, width = 0.8)\n",
    "plt.xticks(rotation='vertical')\n",
    "plt.xlabel(\"Company\")\n",
    "plt.ylabel(\"Percent of sentences highlighted\")\n",
    "plt.yticks(np.arange(0, 50, 10))\n",
    "plt.show()"
   ]
  },
  {
   "cell_type": "code",
   "execution_count": 12,
   "id": "df70a682",
   "metadata": {},
   "outputs": [
    {
     "data": {
      "text/plain": [
       "count    4.000000\n",
       "mean     3.884393\n",
       "std      4.145854\n",
       "min      0.125313\n",
       "25%      1.007559\n",
       "50%      3.024481\n",
       "75%      5.901314\n",
       "max      9.363296\n",
       "dtype: float64"
      ]
     },
     "execution_count": 12,
     "metadata": {},
     "output_type": "execute_result"
    }
   ],
   "source": [
    "import pandas as pd\n",
    "\n",
    "series = pd.Series(y)\n",
    "series.describe()"
   ]
  },
  {
   "cell_type": "code",
   "execution_count": 13,
   "id": "095790fd",
   "metadata": {},
   "outputs": [
    {
     "name": "stdout",
     "output_type": "stream",
     "text": [
      "Stored 'Utilities_reltext' (list)\n",
      "Stored 'Utilities_alltext' (list)\n"
     ]
    }
   ],
   "source": [
    "#storing variable so they can be called between notebooks (for aggregate analysis, test/train data sets, and modeling later on)\n",
    "\n",
    "Utilities_reltext = rel_text\n",
    "Utilities_alltext = all_text\n",
    "\n",
    "%store Utilities_reltext\n",
    "%store Utilities_alltext"
   ]
  },
  {
   "cell_type": "code",
   "execution_count": null,
   "id": "b3a8b1ef",
   "metadata": {},
   "outputs": [],
   "source": []
  }
 ],
 "metadata": {
  "kernelspec": {
   "display_name": "Python 3 (ipykernel)",
   "language": "python",
   "name": "python3"
  },
  "language_info": {
   "codemirror_mode": {
    "name": "ipython",
    "version": 3
   },
   "file_extension": ".py",
   "mimetype": "text/x-python",
   "name": "python",
   "nbconvert_exporter": "python",
   "pygments_lexer": "ipython3",
   "version": "3.9.7"
  }
 },
 "nbformat": 4,
 "nbformat_minor": 5
}
