{
 "cells": [
  {
   "cell_type": "code",
   "execution_count": 1,
   "metadata": {},
   "outputs": [],
   "source": [
    "#pull in all the data across notebooks\n",
    "%store -r HC_reltext\n",
    "%store -r HC_alltext\n",
    "\n",
    "%store -r IND_reltext\n",
    "%store -r IND_alltext\n",
    "\n",
    "%store -r Energy_reltext\n",
    "%store -r Energy_alltext\n",
    "\n",
    "%store -r CONSTA_reltext\n",
    "%store -r CONSTA_alltext\n",
    "\n",
    "%store -r CONDIS_reltext\n",
    "%store -r CONDIS_alltext\n",
    "\n",
    "%store -r IT_reltext\n",
    "%store -r IT_alltext\n",
    "\n",
    "%store -r Real_Estate_reltext\n",
    "%store -r Real_Estate_alltext\n",
    "\n",
    "%store -r Materials_reltext\n",
    "%store -r Materials_alltext\n",
    "\n",
    "%store -r Utilities_reltext\n",
    "%store -r Utilities_alltext"
   ]
  },
  {
   "cell_type": "code",
   "execution_count": 2,
   "metadata": {},
   "outputs": [
    {
     "data": {
      "text/plain": [
       "1603"
      ]
     },
     "execution_count": 2,
     "metadata": {},
     "output_type": "execute_result"
    }
   ],
   "source": [
    "# looping to reformat into a single list\n",
    "all_relevant = HC_reltext+IND_reltext+Energy_reltext+CONSTA_reltext+CONDIS_reltext+IT_reltext+Real_Estate_reltext+Materials_reltext+Utilities_reltext\n",
    "\n",
    "# all_relevant[0][0]\n",
    "\n",
    "relevant = []\n",
    "\n",
    "for company in all_relevant:\n",
    "\n",
    "    for line in company:\n",
    "        \n",
    "        relevant.append(line)\n",
    "\n",
    "len(relevant)"
   ]
  },
  {
   "cell_type": "code",
   "execution_count": 3,
   "metadata": {},
   "outputs": [
    {
     "data": {
      "text/plain": [
       "115199"
      ]
     },
     "execution_count": 3,
     "metadata": {},
     "output_type": "execute_result"
    }
   ],
   "source": [
    "# same as above but for all text\n",
    "all_text = HC_alltext+IND_alltext+Energy_alltext+CONSTA_alltext+CONDIS_alltext+IT_alltext+Real_Estate_alltext+Materials_alltext+Utilities_alltext\n",
    "\n",
    "all = []\n",
    "\n",
    "for company in all_text:\n",
    "\n",
    "    for line in company:\n",
    "\n",
    "        all.append(line)\n",
    "\n",
    "len(all)"
   ]
  },
  {
   "cell_type": "code",
   "execution_count": 4,
   "metadata": {},
   "outputs": [],
   "source": [
    "# pulling out the irrelevant text from all text\n",
    "irrelevant = []\n",
    "\n",
    "for i in all:\n",
    "    if i not in relevant:\n",
    "        irrelevant.append(i)\n",
    "\n",
    "# print(irrelevant)"
   ]
  },
  {
   "cell_type": "code",
   "execution_count": 5,
   "metadata": {},
   "outputs": [
    {
     "data": {
      "text/plain": [
       "1603"
      ]
     },
     "execution_count": 5,
     "metadata": {},
     "output_type": "execute_result"
    }
   ],
   "source": [
    "# creating a label/target list to classify the relevant text. 1 = relevant\n",
    "class_rel = []\n",
    "\n",
    "for i in relevant:\n",
    "    class_rel.append(1)\n",
    "\n",
    "len(class_rel)"
   ]
  },
  {
   "cell_type": "code",
   "execution_count": 6,
   "metadata": {},
   "outputs": [
    {
     "data": {
      "text/plain": [
       "0"
      ]
     },
     "execution_count": 6,
     "metadata": {},
     "output_type": "execute_result"
    }
   ],
   "source": [
    "# same as above, for for irrelevant text. 0 = irrelevant\n",
    "class_irr = []\n",
    "\n",
    "for i in irrelevant:\n",
    "    class_irr.append(0)\n",
    "\n",
    "class_irr[0]"
   ]
  },
  {
   "cell_type": "code",
   "execution_count": 7,
   "metadata": {},
   "outputs": [],
   "source": [
    "# creating dfs of irrelevant and relevant text\n",
    "import pandas as pd\n",
    "\n",
    "zipped = list(zip(relevant, class_rel))\n",
    "zipped2 = list(zip(irrelevant, class_irr))\n",
    "\n",
    "df = pd.DataFrame(zipped, columns=['text', 'class'])\n",
    "df2 = pd.DataFrame(zipped2, columns = ['text', 'class'])\n"
   ]
  },
  {
   "cell_type": "code",
   "execution_count": 8,
   "metadata": {},
   "outputs": [
    {
     "data": {
      "text/plain": [
       "102350"
      ]
     },
     "execution_count": 8,
     "metadata": {},
     "output_type": "execute_result"
    }
   ],
   "source": [
    "# concatenating the two dfs\n",
    "\n",
    "merged = pd.concat([df, df2], ignore_index=True)\n",
    "\n",
    "merged['class'].unique()\n",
    "\n",
    "len(merged)"
   ]
  },
  {
   "cell_type": "code",
   "execution_count": 9,
   "metadata": {},
   "outputs": [],
   "source": [
    "import nltk\n",
    "from nltk.corpus import stopwords\n",
    "#nltk.download('stopwords')\n",
    "from nltk.stem import PorterStemmer\n",
    "import re\n",
    "\n",
    "stemmer = PorterStemmer()\n",
    "words = stopwords.words(\"english\")\n"
   ]
  },
  {
   "cell_type": "code",
   "execution_count": 10,
   "metadata": {},
   "outputs": [],
   "source": [
    "# processing the text to take out extraneous words and stem any applicable words\n",
    "merged['processed'] = merged['text'].apply(lambda x: \" \".join([stemmer.stem(i) for i in re.sub(\"[^a-zA-Z]\", \" \", x).split() if i not in words]).lower())"
   ]
  },
  {
   "cell_type": "code",
   "execution_count": 11,
   "metadata": {},
   "outputs": [
    {
     "data": {
      "text/html": [
       "<div>\n",
       "<style scoped>\n",
       "    .dataframe tbody tr th:only-of-type {\n",
       "        vertical-align: middle;\n",
       "    }\n",
       "\n",
       "    .dataframe tbody tr th {\n",
       "        vertical-align: top;\n",
       "    }\n",
       "\n",
       "    .dataframe thead th {\n",
       "        text-align: right;\n",
       "    }\n",
       "</style>\n",
       "<table border=\"1\" class=\"dataframe\">\n",
       "  <thead>\n",
       "    <tr style=\"text-align: right;\">\n",
       "      <th></th>\n",
       "      <th>text</th>\n",
       "      <th>class</th>\n",
       "      <th>processed</th>\n",
       "    </tr>\n",
       "  </thead>\n",
       "  <tbody>\n",
       "    <tr>\n",
       "      <th>0</th>\n",
       "      <td>From 2012 to 2020, we achieved a 26% reduction...</td>\n",
       "      <td>1</td>\n",
       "      <td>from achiev reduct absolut emiss</td>\n",
       "    </tr>\n",
       "    <tr>\n",
       "      <th>1</th>\n",
       "      <td>In 2021, we achieved a 9% absolute emissions ...</td>\n",
       "      <td>1</td>\n",
       "      <td>in achiev absolut emiss reduct versu</td>\n",
       "    </tr>\n",
       "    <tr>\n",
       "      <th>2</th>\n",
       "      <td>This reduction was partially driven by energy...</td>\n",
       "      <td>1</td>\n",
       "      <td>thi reduct partial driven energi e cienci impr...</td>\n",
       "    </tr>\n",
       "    <tr>\n",
       "      <th>3</th>\n",
       "      <td>In 2021, 9</td>\n",
       "      <td>1</td>\n",
       "      <td>in</td>\n",
       "    </tr>\n",
       "    <tr>\n",
       "      <th>4</th>\n",
       "      <td>6% of our purchased electricity came from rene...</td>\n",
       "      <td>1</td>\n",
       "      <td>purchas electr came renew sourc</td>\n",
       "    </tr>\n",
       "  </tbody>\n",
       "</table>\n",
       "</div>"
      ],
      "text/plain": [
       "                                                text  class  \\\n",
       "0  From 2012 to 2020, we achieved a 26% reduction...      1   \n",
       "1   In 2021, we achieved a 9% absolute emissions ...      1   \n",
       "2   This reduction was partially driven by energy...      1   \n",
       "3                                         In 2021, 9      1   \n",
       "4  6% of our purchased electricity came from rene...      1   \n",
       "\n",
       "                                           processed  \n",
       "0                   from achiev reduct absolut emiss  \n",
       "1               in achiev absolut emiss reduct versu  \n",
       "2  thi reduct partial driven energi e cienci impr...  \n",
       "3                                                 in  \n",
       "4                    purchas electr came renew sourc  "
      ]
     },
     "execution_count": 11,
     "metadata": {},
     "output_type": "execute_result"
    }
   ],
   "source": [
    "merged.head()"
   ]
  },
  {
   "cell_type": "code",
   "execution_count": 12,
   "metadata": {},
   "outputs": [
    {
     "data": {
      "text/html": [
       "<div>\n",
       "<style scoped>\n",
       "    .dataframe tbody tr th:only-of-type {\n",
       "        vertical-align: middle;\n",
       "    }\n",
       "\n",
       "    .dataframe tbody tr th {\n",
       "        vertical-align: top;\n",
       "    }\n",
       "\n",
       "    .dataframe thead th {\n",
       "        text-align: right;\n",
       "    }\n",
       "</style>\n",
       "<table border=\"1\" class=\"dataframe\">\n",
       "  <thead>\n",
       "    <tr style=\"text-align: right;\">\n",
       "      <th></th>\n",
       "      <th>text</th>\n",
       "      <th>class</th>\n",
       "      <th>processed</th>\n",
       "    </tr>\n",
       "  </thead>\n",
       "  <tbody>\n",
       "    <tr>\n",
       "      <th>0</th>\n",
       "      <td>From 2012 to 2020, we achieved a 26% reduction...</td>\n",
       "      <td>1</td>\n",
       "      <td>from achiev reduct absolut emiss</td>\n",
       "    </tr>\n",
       "    <tr>\n",
       "      <th>1</th>\n",
       "      <td>In 2021, we achieved a 9% absolute emissions ...</td>\n",
       "      <td>1</td>\n",
       "      <td>in achiev absolut emiss reduct versu</td>\n",
       "    </tr>\n",
       "    <tr>\n",
       "      <th>2</th>\n",
       "      <td>This reduction was partially driven by energy...</td>\n",
       "      <td>1</td>\n",
       "      <td>thi reduct partial driven energi e cienci impr...</td>\n",
       "    </tr>\n",
       "    <tr>\n",
       "      <th>3</th>\n",
       "      <td>In 2021, 9</td>\n",
       "      <td>1</td>\n",
       "      <td>in</td>\n",
       "    </tr>\n",
       "    <tr>\n",
       "      <th>4</th>\n",
       "      <td>6% of our purchased electricity came from rene...</td>\n",
       "      <td>1</td>\n",
       "      <td>purchas electr came renew sourc</td>\n",
       "    </tr>\n",
       "    <tr>\n",
       "      <th>...</th>\n",
       "      <td>...</td>\n",
       "      <td>...</td>\n",
       "      <td>...</td>\n",
       "    </tr>\n",
       "    <tr>\n",
       "      <th>102345</th>\n",
       "      <td>\\n→ NextEra Energy Resources would invest in e...</td>\n",
       "      <td>0</td>\n",
       "      <td>nextera energi resourc would invest electr com...</td>\n",
       "    </tr>\n",
       "    <tr>\n",
       "      <th>102346</th>\n",
       "      <td>\\n→ All non-FPL fossil generation assets would...</td>\n",
       "      <td>0</td>\n",
       "      <td>all non fpl fossil gener asset would reach end...</td>\n",
       "    </tr>\n",
       "    <tr>\n",
       "      <th>102347</th>\n",
       "      <td>\\n→ Vehicle fleet conversions are based on the...</td>\n",
       "      <td>0</td>\n",
       "      <td>vehicl fleet convers base avail clean fuel ele...</td>\n",
       "    </tr>\n",
       "    <tr>\n",
       "      <th>102348</th>\n",
       "      <td>Assumptions\\n0\\n0\\nREALZERO</td>\n",
       "      <td>0</td>\n",
       "      <td>assumpt realzero</td>\n",
       "    </tr>\n",
       "    <tr>\n",
       "      <th>102349</th>\n",
       "      <td>COM\\n</td>\n",
       "      <td>0</td>\n",
       "      <td>com</td>\n",
       "    </tr>\n",
       "  </tbody>\n",
       "</table>\n",
       "<p>102350 rows × 3 columns</p>\n",
       "</div>"
      ],
      "text/plain": [
       "                                                     text  class  \\\n",
       "0       From 2012 to 2020, we achieved a 26% reduction...      1   \n",
       "1        In 2021, we achieved a 9% absolute emissions ...      1   \n",
       "2        This reduction was partially driven by energy...      1   \n",
       "3                                              In 2021, 9      1   \n",
       "4       6% of our purchased electricity came from rene...      1   \n",
       "...                                                   ...    ...   \n",
       "102345  \\n→ NextEra Energy Resources would invest in e...      0   \n",
       "102346  \\n→ All non-FPL fossil generation assets would...      0   \n",
       "102347  \\n→ Vehicle fleet conversions are based on the...      0   \n",
       "102348                        Assumptions\\n0\\n0\\nREALZERO      0   \n",
       "102349                                              COM\\n      0   \n",
       "\n",
       "                                                processed  \n",
       "0                        from achiev reduct absolut emiss  \n",
       "1                    in achiev absolut emiss reduct versu  \n",
       "2       thi reduct partial driven energi e cienci impr...  \n",
       "3                                                      in  \n",
       "4                         purchas electr came renew sourc  \n",
       "...                                                   ...  \n",
       "102345  nextera energi resourc would invest electr com...  \n",
       "102346  all non fpl fossil gener asset would reach end...  \n",
       "102347  vehicl fleet convers base avail clean fuel ele...  \n",
       "102348                                   assumpt realzero  \n",
       "102349                                                com  \n",
       "\n",
       "[102350 rows x 3 columns]"
      ]
     },
     "execution_count": 12,
     "metadata": {},
     "output_type": "execute_result"
    }
   ],
   "source": [
    "merged['processed'].unique\n",
    "merged.dropna(how='any')"
   ]
  },
  {
   "cell_type": "code",
   "execution_count": 13,
   "metadata": {},
   "outputs": [],
   "source": [
    "merged[['processed', 'class']].to_csv('data.csv')"
   ]
  },
  {
   "cell_type": "code",
   "execution_count": 14,
   "metadata": {},
   "outputs": [
    {
     "data": {
      "text/plain": [
       "\"\\ndfrelavant = df.head(1603)\\ndfirrelavant = df.tail(100747).sample(n=1603)\\n\\ndfbalanced = pd.concat([dfrelavant, dfirrelavant], ignore_index=True)\\ndfbalanced.to_csv('balanced_data.csv')\\n\\nX_train, X_test, y_train, y_test = train_test_split(dfbalanced['processed'], dfbalanced['class'], test_size=0.1, random_state=100)\\n\\ndfbalanced_train = pd.concat([X_train.to_frame(), y_train.to_frame()], axis = 1, ignore_index = True)\\ndfbalanced_train.columns = ['processed', 'class']\\ndfbalanced_train.to_csv('data/balanced_data_train.csv')\\n\\ndfbalanced_test = pd.concat([X_test.to_frame(), y_test.to_frame()], axis = 1, ignore_index = True)\\ndfbalanced_test.columns = ['processed', 'class']\\ndfbalanced_test.to_csv('data/balanced_data_test.csv')\\n\\n\\n\\ndf_relavant_train = df.head(1442)\\ndf_irrelavant_train = df.tail(90672)\\ndf_train = pd.concat([df_relavant_train, df_irrelavant_train], ignore_index=True)\\ndf_train.to_csv('data/labled_data_train.csv')\\n\\ndf_relavant_train = df.loc[1443:1604]\\ndf_irrelavant_test = df.loc[1604:10075]\\ndf_train = pd.concat([df_relavant_train, df_irrelavant_test], ignore_index=True)\\ndf_train.to_csv('data/labled_data_test.csv')\\n\\n\""
      ]
     },
     "execution_count": 14,
     "metadata": {},
     "output_type": "execute_result"
    }
   ],
   "source": [
    "# splitting into test train sets\n",
    "from sklearn.model_selection import train_test_split\n",
    "from sklearn.model_selection import StratifiedKFold\n",
    " \n",
    "\n",
    "label = merged['class']\n",
    "\n",
    "df = merged[['processed', 'class']]\n",
    "\n",
    "#1603 1s\n",
    "#100747 0s\n",
    "\n",
    "#create dataset with equal number of relavent and irrelavant sentences\n",
    "\n",
    "'''\n",
    "dfrelavant = df.head(1603)\n",
    "dfirrelavant = df.tail(100747).sample(n=1603)\n",
    "\n",
    "dfbalanced = pd.concat([dfrelavant, dfirrelavant], ignore_index=True)\n",
    "dfbalanced.to_csv('balanced_data.csv')\n",
    "\n",
    "X_train, X_test, y_train, y_test = train_test_split(dfbalanced['processed'], dfbalanced['class'], test_size=0.1, random_state=100)\n",
    "\n",
    "dfbalanced_train = pd.concat([X_train.to_frame(), y_train.to_frame()], axis = 1, ignore_index = True)\n",
    "dfbalanced_train.columns = ['processed', 'class']\n",
    "dfbalanced_train.to_csv('data/balanced_data_train.csv')\n",
    "\n",
    "dfbalanced_test = pd.concat([X_test.to_frame(), y_test.to_frame()], axis = 1, ignore_index = True)\n",
    "dfbalanced_test.columns = ['processed', 'class']\n",
    "dfbalanced_test.to_csv('data/balanced_data_test.csv')\n",
    "\n",
    "\n",
    "\n",
    "df_relavant_train = df.head(1442)\n",
    "df_irrelavant_train = df.tail(90672)\n",
    "df_train = pd.concat([df_relavant_train, df_irrelavant_train], ignore_index=True)\n",
    "df_train.to_csv('data/labled_data_train.csv')\n",
    "\n",
    "df_relavant_train = df.loc[1443:1604]\n",
    "df_irrelavant_test = df.loc[1604:10075]\n",
    "df_train = pd.concat([df_relavant_train, df_irrelavant_test], ignore_index=True)\n",
    "df_train.to_csv('data/labled_data_test.csv')\n",
    "\n",
    "'''\n",
    "\n"
   ]
  },
  {
   "cell_type": "code",
   "execution_count": 15,
   "metadata": {},
   "outputs": [
    {
     "ename": "NameError",
     "evalue": "name 'X_train' is not defined",
     "output_type": "error",
     "traceback": [
      "\u001b[0;31m---------------------------------------------------------------------------\u001b[0m",
      "\u001b[0;31mNameError\u001b[0m                                 Traceback (most recent call last)",
      "Cell \u001b[0;32mIn [15], line 1\u001b[0m\n\u001b[0;32m----> 1\u001b[0m \u001b[39mprint\u001b[39m(X_train\u001b[39m.\u001b[39mvalues\u001b[39m.\u001b[39mastype(\u001b[39m'\u001b[39m\u001b[39mU\u001b[39m\u001b[39m'\u001b[39m))\n",
      "\u001b[0;31mNameError\u001b[0m: name 'X_train' is not defined"
     ]
    }
   ],
   "source": [
    "print(X_train.values.astype('U'))"
   ]
  },
  {
   "cell_type": "code",
   "execution_count": null,
   "metadata": {},
   "outputs": [],
   "source": [
    "from xml.sax.handler import feature_namespace_prefixes\n",
    "from sklearn.feature_extraction.text import TfidfVectorizer\n",
    "\n",
    "vectorizer_tfidf = TfidfVectorizer(stop_words='english', max_df=0.7)\n",
    "\n",
    "train_tfIdf = vectorizer_tfidf.fit_transform(X_train.values.astype('U'))\n",
    "\n",
    "test_tfIdf = vectorizer_tfidf.transform(X_test.values.astype('U'))\n",
    "\n",
    "# print(vectorizer_tfidf.get_feature_names()[5000:5010])"
   ]
  },
  {
   "cell_type": "code",
   "execution_count": null,
   "metadata": {},
   "outputs": [],
   "source": [
    "# for val, feature_name in zip(vectorizer_tfidf.idf_, vectorizer_tfidf.get_feature_names_out()):\n",
    "#     print(val, \"and\", feature_name)"
   ]
  },
  {
   "cell_type": "code",
   "execution_count": null,
   "metadata": {},
   "outputs": [],
   "source": [
    "#naive bayes classifier prediction and evaluation\n",
    "from sklearn.naive_bayes import MultinomialNB\n",
    "from sklearn import metrics\n",
    "from sklearn.metrics import classification_report\n",
    "\n",
    "nb_classifier = MultinomialNB()\n",
    "\n",
    "nb_classifier.fit(train_tfIdf, y_train)\n",
    "\n",
    "pred = nb_classifier.predict(test_tfIdf) \n",
    "\n",
    "cr = classification_report(pred, y_test)\n",
    "\n",
    "print(cr)\n"
   ]
  },
  {
   "cell_type": "code",
   "execution_count": null,
   "metadata": {},
   "outputs": [],
   "source": [
    "# logistic regression prediction and evaluation\n",
    "from sklearn.linear_model import LogisticRegression\n",
    "\n",
    "lr = LogisticRegression()\n",
    "lr.fit(train_tfIdf, y_train)\n",
    "\n",
    "predLR =  lr.predict(test_tfIdf)\n",
    "\n",
    "crLR = classification_report(pred, y_test)\n",
    "\n",
    "print(crLR)\n"
   ]
  },
  {
   "cell_type": "code",
   "execution_count": null,
   "metadata": {},
   "outputs": [],
   "source": []
  }
 ],
 "metadata": {
  "kernelspec": {
   "display_name": "Python 3",
   "language": "python",
   "name": "python3"
  },
  "language_info": {
   "codemirror_mode": {
    "name": "ipython",
    "version": 3
   },
   "file_extension": ".py",
   "mimetype": "text/x-python",
   "name": "python",
   "nbconvert_exporter": "python",
   "pygments_lexer": "ipython3",
   "version": "3.9.13"
  },
  "vscode": {
   "interpreter": {
    "hash": "db1c1e886ca7e5218f158543d1b9804c0a5c522f5654be9e23cd8543b350db84"
   }
  }
 },
 "nbformat": 4,
 "nbformat_minor": 2
}
