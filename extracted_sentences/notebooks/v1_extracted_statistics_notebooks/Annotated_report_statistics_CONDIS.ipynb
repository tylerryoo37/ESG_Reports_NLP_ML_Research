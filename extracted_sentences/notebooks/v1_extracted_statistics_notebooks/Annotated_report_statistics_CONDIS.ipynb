{
 "cells": [
  {
   "cell_type": "code",
   "execution_count": 2,
   "metadata": {},
   "outputs": [],
   "source": [
    "import os\n",
    "import PyPDF2\n",
    "import fitz"
   ]
  },
  {
   "cell_type": "code",
   "execution_count": 3,
   "metadata": {},
   "outputs": [],
   "source": [
    "dir = 'annoted_sustainability_reports/Consumer_Discretionary/'\n"
   ]
  },
  {
   "cell_type": "code",
   "execution_count": 4,
   "metadata": {},
   "outputs": [
    {
     "name": "stdout",
     "output_type": "stream",
     "text": [
      "annoted_sustainability_reports/Consumer_Discretionary/McDonalds_2021_Climate_report.pdf\n",
      "Document('annoted_sustainability_reports/Consumer_Discretionary/McDonalds_2021_Climate_report.pdf')\n",
      "['We pledged to put McDonald’s on the path to net zero emissions by 2050,By 2030, we aim to partner with Franchisees to reduce GHG emissions related to McDonald’s restaurants and offices by 36% from a 2015 base year', ' By 2030, we aim to reduce emissions intensity (per metric ton of food and packaging) by 31% across our supply chain from the 2015 baseline', ' Once all 2019–2021 transacted U', 'S', ' renewable energy projects are online, the energy generated is expected to be equivalent to over 8,000 U', 'S', ' restaurants’ worth of electricity and contribute to a 22% reduction from the 2015 baseline', ''] \n",
      " 8\n",
      "annoted_sustainability_reports/Consumer_Discretionary/TJX_2021_Sustainability_report.pdf\n",
      "Document('annoted_sustainability_reports/Consumer_Discretionary/TJX_2021_Sustainability_report.pdf')\n",
      "['Our global approach to reducing our climate impact includes a balanced CLIMATE AND ENERGY: Our global approach to reducing our climate impact includes a balanced portfolio of emissions-reduction activities focused on reducing our energy consumption and portfolio of emissions-reduction activities focused on reducing our energy consumption and expense, investing in energy efficiency projects, and sourcing low-carbon and renewable energy expense, investing in energy efficiency projects, and sourcing low-carbon and renewable energy sources for our direct operations', ' We have also purchased a limited amount of carbon offsets for sources for our direct operations', ' We have also purchased a limited our Canadian division that support forest conservation projects', 'In fiscal 2021, we set a long-term global goal to reduce In fiscal 2021, we set a long-term global goal to reduce GHG emissions from our direct operations by 55% by GHG emissions from our direct operations by 55% fiscal 2030 against a baseline year of fiscal 2017', 'CO2e Emissions Reductions: CO2e Emissions Reductions: Energy efficiency measures Energy efficiency measures that result in carbon that result in carbon reductions and cost savings ~7,700 ~7,700 metric tons metric tons of CO2e of CO2e savedchains)', ' Carbon Reductions: Together energy management and renewable and low carbon efforts Carbon Reductions: Together energy management and renewable and low carbon efforts resulted in a reduction of over 154,000 metric tons of CO2e from our operations saving an resulted in a reduction estimated $1', '7 million', ' estimated $1', '7 million', ' About 26%, or over 400 million kilowatt hours, of our global electricity use comes from About 26%, or over 400 million kilowatt hours, renewable or low-carbon energy sources', ' / TJX purchased 29,000 megawatt hours more renewable and low-carbon energy TJX purchased 29,000 megawatt hours more renewable and low-carbon energy including renewable energy certificates (RECs), onsite solar power purchase agreements including renewable energy certificates (RECs), onsite solar power purchase agreements (PPAs), and utility-supplied renewable energy in fiscal 2021 than in fiscal 2020', ' We (PPAs), and utility-supplied renewable energy in fiscal 2021 than in fiscal 2020', ' We estimate that the incremental increase in renewable purchases decreased metric tons of estimate that the incremental increase in renewable purchases CO2e by 2', '3%, approximately 15,400 metric tons of CO2e', 'TJX Canada was carbon neutral for its Scope 1 and 2 and reported Scope 3 (business travel and TJX Canada was carbon neutral for its Scope 1 and 2 and reported Scope 3 (business travel and waste) emissions from operations for its third consecutive year', ' The regional team reduced waste) emissions from operations for its third consecutive year', ' The regional team reduced energy usage and purchased renewable energy credits as well as carbon offsets to support this energy usage strategy', ' strategy', ' Through its regional energy and climate strategy, TJX Canada avoided or offset over 35,500 Through its regional energy and climate strategy, TJX Canada avoided metric tons of CO2e calculated for its fiscal 2021 GHG inventory', ' Conserving Energy: In fiscal 2021, TJX Canada continued to implement technologies, like Conserving Energy: In fiscal 2021, TJX Canada continued to implement technologies, like LED lighting and HVAC replacements, which reduced our GHG inventory by over 739,000 LED lighting and kilowatt hours', ' TJX Canada has purchased wind energy since fiscal 2017, which Renewable Energy: TJX Canada has purchased wind energy since fiscal 2017, which reduces its annual Scope 2 market-based emissions by about 83% annually and its total reduces its annual Scope 2 market-based market-based emissions by about 47%', 'Conserving Energy: Installing LED lighting in new and remodeled stores and processing centers', ' In Installing LED lighting in new and remodeled stores and processing centers', ' In fiscal 2021, LED lighting was installed across 32 stores in the U', 'K', ' resulting in a fiscal 2021, LED lighting was installed across 32 stores in the savings of 37% and more than 1', '6 million kilowatt hours', ' Renewable Energy: TJX Europe expanded its renewable energy sourcing strategy to include the U', 'K', ' TJX Europe expanded its renewable energy sourcing strategy to include the operations and purchased an additional 90 million kilowatt hours of energy operations and purchased an additional 90 million kilowatt hours of energy made from renewable sources in fiscal 2021 compared to fiscal 2020', ' made from renewable sources in fiscal 2021 compared to fiscal 2020', ' Together with the renewable energy sourced for our Ireland operations, TJX Together with the renewable energy sourced for our Ireland operations, TJX Europe helped reduce TJX’s global corporate market-based GHG inventory by Europe helped reduce TJX’s global over 34,000 metric tons of CO2e', 'low-carbon and renewable energy to further reduce our GHG emissions from electricity In certain geographies, we leverage carbon offsets16 12to offset emissions resulting from our consumption', ' In certain geographies, direct operations and business travel', ' In fiscal 2021, we sourced over 325 million kilowatt hours of renewable energy in total, generated from In fiscal 2021, we sourced over 325 million kilowatt hours of renewable energy in total, generated from a variety of technologies', ' Together, our renewable and low-carbon energy sourcing strategy in fiscal a variety of technologies', ' Together, our renewable and low-carbon energy sourcing strategy in fiscal 2021 enabled us to reduce our Scope 2 market-based GHG inventory by more than 146,000 metric tons 2021 enabled us to reduce our Scope 2 market-based of CO2e, or by about 25% over the prior year', ''] \n",
      " 38\n",
      "annoted_sustainability_reports/Consumer_Discretionary/HomeDepot_2021_ESG_report.pdf\n",
      "Document('annoted_sustainability_reports/Consumer_Discretionary/HomeDepot_2021_ESG_report.pdf')\n",
      "NoneType found\n",
      "['Committed to setting Science Based Targets initiative (SBTi) Scope 1, 2 and 3 goals by 2023 to reduce emissions in line Committed to setting Science Based Targets initiative (SBTi) Scope 1, 2 and 3 goals by 2023 to reduce emissions in line with Paris Agreement goals Scope 1, 2 and 3 goals by 2023 with Paris Agreement goals 100% renewable electricity for all Home Depot facilities worldwide by 2030 100% renewable electricity worldwide by 2030 Science-based target to reduce emissions 40% by 2030, 50% by 2035 Science-based 50% by 2035 Procure/produce 335 megawatts of renewable or alternative energy Procure/produce 335 alternative energyCarbon EmissionsUnder our science-based target goal linked to our annual CDP reporting, we have committed to reducing our Scope 1 and Scope 2 carbon dioxide emissions 2', '1% per year to achieve a 40% reduction by 2030 and a 50% reduction by 2035', 'Scope 1 and Our efficiency 2 carbon intensity', ' Our investments in efficiency helped us achieve a 22% investments in efficiency helped us achieve a 22% reduction in the carbon helped us achieve a 22% reduction in the carbon dioxide emitted for each reduction in the carbon dioxide emitted for each dollar of revenue we earned, dioxide emitted for each dollar of revenue we earned, compared to 2019', ' dollar of revenue we compared to 2019', 'Across our U', 'S', ' stores, we’ve cut electricity use 44% since 2010', ' We did that by installing LED lighting, efficiency-driving building automation systems, updated air-conditioning and heating systems and more', ' After In 2020, our U', 'S', ' stores reduced electricity use by more than 14% year over year', ' We boosted our alternative and renewable energy capacity by more than 13%, compared to 2019', 'We’ve pledged to have 100% renewable electricity for all Home Depot facilities worldwide by 2030', ' we anticipate about three- quarters of our alternative and renewable energy capacity will come from solar by the end of 2023', ' Furthermore, at the end of 2020, solar farms were operating atop 71 U', 'S', ' stores — up from 47 stores in 2019', 'We installed 836 energy-efficient heating, We installed 836 energy-efficient heating, air-conditioning and energy-efficient heating, air-conditioning and ventilation systems in air-conditioning and ventilation systems in more than 70 U', 'S', ' stores ventilation systems in more than 70 U', 'S', ' stores in 2020', ' more than in 2020', 'In 2020, we installed hydrogen fuel cells at nine U', 'S', ' supply In 2020, we installed hydrogen fuel cells at nine U', 'S', ' supply chain facilities, giving us 12 fuel cells at nine U', 'S', ' supply chain facilities, giving us 12 locations with emissions-free chain facilities, giving us 12 locations with emissions-free fuel for forklifts', ' We estimate locations with emissions-free fuel for forklifts', ' We estimate these fuel cells helped us reduce fuel for forklifts', ' We estimate these fuel cells helped us reduce electricity consumption by about these fuel cells helped us reduce electricity consumption by about 16 million kilowatt hours in 2020', ' electricity consumption by about 16 million kilowatt hours in 2020', 'We estimate our customers’ purchases of Energy Star products in 2020 helped reduce annual electricity use by 7', '5 billion kilowatt hours, saving over $1 billion on energy costs and lowering carbon emissions by over 5 million metric tons', 'In 2020, our solar program completed installations at over 4,500 homes, giving our customers the capacity to produce nearly 34,000 kilowatts of solar energy', 'The Home Depot provided over 3', '4 million pounds of The Home Depot provided over 3', '4 million pounds of shredded paper for recycling over 3', '4 million pounds of shredded paper for recycling in 2020', ' Here’s how that shredded paper for recycling in 2020', ' Here’s how that helped the planet: in 2020', ' Here’s how helped the planet: Avoided 2', '5 million pounds of CO2 Avoided 2', '5 million pounds of CO2 emissions pounds of emissions'] \n",
      " 47\n",
      "annoted_sustainability_reports/Consumer_Discretionary/Lowes_2021_CSR_report.pdf\n",
      "Document('annoted_sustainability_reports/Consumer_Discretionary/Lowes_2021_CSR_report.pdf')\n"
     ]
    },
    {
     "name": "stdout",
     "output_type": "stream",
     "text": [
      "['In 2021, the lighting retrofit projects contributed to the reduction of our overall energy consumption by more than 11% from 2020', ' Our first renewable power purchase agreement, the Mesquite Star wind farm in Texas, produced more than 280,000 MWh of energy in 2021, its first full year of operation', ' This production helped reduce our carbon emissions by more than 4% from our 2016 baseline', ''] \n",
      " 4\n",
      "annoted_sustainability_reports/Consumer_Discretionary/Target_2021_Corporate_Responsibility_report.pdf\n",
      "Document('annoted_sustainability_reports/Consumer_Discretionary/Target_2021_Corporate_Responsibility_report.pdf')\n",
      "['Total Renewable Energy Consumption Grid Electricity: Grid Electricity: 17% Electricity: 17% FY20 Total: 38% RECs: 21%All of our actions to address climate change support our top-level commitment to be a net zero enterprise by 2040', ' Our emissions reduction journey began in earnest in 2019 with our goal—approved by the SBTi—to reduce our retail purchased goods and services emissions by 30% by 2030 from a 2017 baseline', 'We are also working on sourcing 100% of our electricity from renewable sources by 2030 for our operations, with an interim goal of 60% by 2025', ' Our off-site projects invest in the use of renewables in communities where we operate', ' In 2020, we signed several renewable power purchase and utility agreements', ' These further our commitment to power our operations with renewable energy and include: • Golden Buckle Solar Project in Texas (160 MW) • Haystack Wind project in Nebraska (90 MW) • Sparta solar project in Texas (42 MW) • Salt River Project Central Line Solar in Arizona • Duke Energy Clean Energy Connection Program in Florida Percentage of total energy that is renewable and for which we retire RECs (%)10 Percentage RECs (%)10 14%11 Percentage of global electricity consumption that is renewable12 38% Covered by Target RECs Grid-renewable portion Total number of stores and distribution centers with rooftop solarTo date, Target has certified 59 stores to the U', 'S', ' Environmental Protection Agency (EPA)’s GreenChill standards and installed around 15,000 hydrofluorocarbon (HFC)-free units in our stores, accounting for approximately 57% of our operations’ refrigerants in stand-alone cases', 'What We Achieved Planet (Environment)'] \n",
      " 9\n",
      "annoted_sustainability_reports/Consumer_Discretionary/BookingHoldings_2021_Sustainability_report.pdf\n",
      "Document('annoted_sustainability_reports/Consumer_Discretionary/BookingHoldings_2021_Sustainability_report.pdf')\n",
      "['By the end of 2030, we aim to reduce our scope 1 and 2 emissions by 95%', ' We have reduced our scope 1 emissions, or the direct emissions from owned or controlled sources, and scope 2 emissions, or the indirect emissions from the generation of purchased energy, by 92% from the 2019 baseline', ' Our reduction thus far has been primarily due to our 2021 transition to 100% renewable electricity across our enterprise through the purchase of unbundled energy attribute certificates (EACs) that matched our total electricity consumption for the year of which 92% is compliant with the RE100 market boundary criteria', ' We set a target reduction of 50% in scope 3 carbon emissions by 2030', 'We offset emissions that we are unable to reduce through the purchase of credible carbon offset projects from organizations such as Gold Standard and Verified Carbon Standard (VCS)', ' Our primary strategy for offsetting is avoidance and nature-based solutions, and in the near future we will transition to carbon removal projects', ' This carbon sequestration project prevents emissions that would have otherwise been caused by logging activities', ' The project area connects a network of protected lands into one contiguous conservation area of over 100,000 hectares, preserving habitat for at-risk native wildlife and acting as a \"living laboratory\" for scientists conducting research', ' This grid-connected, run-of-river hydroelectricity plant is built on the upper banks of the Musi River near the port city of Bengkulu', ' It delivers enough energy to meet the demands of over 700,000 Indonesians on average each year', ' The Genneia Wind project is installing 71 state-of-the-art wind turbines across six wind farms in Argentina', ' The Kariba project protects almost 785,000 hectares of forests near the Zimbabwe-Zambia border', ' It is registered with REDD+, a United Nations–backed program that aims to stop the destruction of forests', ''] \n",
      " 14\n",
      "annoted_sustainability_reports/Consumer_Discretionary/Tesla_2021_Impact_report.pdf\n",
      "Document('annoted_sustainability_reports/Consumer_Discretionary/Tesla_2021_Impact_report.pdf')\n",
      "['In 2021, the global fleet of Tesla vehicles, energy storage and solar panels enabled our customers to avoid emitting 8', '4 million metric tons of CO2e The 6', '8 million metric tons of vehicle CO2e savings estimate is based on the net CO2e savings during the use-phase of a Tesla vehicle compared to an ICE vehicle with a real-world fuel economy of ~24 mpg (of which 0', '9 million metric tons was avoided through annual renewables matching for the global Supercharger network and home charging in California)', ' The 1', '6 million metric tons of solar + storage CO2e savings estimate is based on CO2e avoided through generation of zero-emission electricity from Tesla solar panels, including energy stored and later dispatched from our energy storage products', ' Geographic distribution of our deliveries (both vehicle and solar), grid mix at the country, state and province level and upstream emissions are reflected in these figures', ''] \n",
      " 8\n",
      "annoted_sustainability_reports/Consumer_Discretionary/Amazon_2021_sustainability_report.pdf\n",
      "Document('annoted_sustainability_reports/Consumer_Discretionary/Amazon_2021_sustainability_report.pdf')\n",
      "['In 2019, Amazon co-founded The Climate Pledge— a commitment to achieve net-zero carbon emissions In 2019, Amazon co-founded The Climate Pledge— a commitment to achieve net-zero carbon emissions across our business by 2040 and to invite others to a commitment to achieve net-zero carbon emissions across our business by 2040 and to invite others to sign on to this new level of ambition', ' On a path to powering our operations with 100% renewable energy by 2025 25 30 across our business sign on to this new 25 across our business by 2040 and to invite on to this new level of ambition', ' Making 50% of all shipments net-zero carbon by 2030 Reaching net-zero carbon emissions across our operations by 2040Deploying 100,000 custom electric delivery vehicles by 2030Our renewable energy investments made Amazon the world’s largest corporate buyer of renewable energy in 2020, and we achieved 65% renewable energy across our operations, up from 42% in 2019', ' While Amazon’s business grew significantly in 2020 and our absolute carbon emissions increased 19% during the same period, our overall carbon intensity decreased 16%, from 122', '8 grams of CO2e per dollar of GMS in 2019 to 102', '7 grams of CO2e per dollar of GMS in 2020', ' This carbon CO2e 102', '7 grams of CO2e per dollar of GMS in 2020', ' This intensity value is in line with the targets we are developingNearly half of our carbon intensity improvement is a result of our investments in renewable energy and operational efficiency enhancements', ' A third of this improvement reflects a shift in customer and employee behavior due to the COVID-19 pandemic', 'Nature-based solutions are conservation, restoration, and improved land management activities that increase carbon storage in areas such as forests, wetlands, peatlands, and grasslands', ' Amazon uses nature-based solutions to mitigate carbon emissions outside of our value chain, supplementing the carbon-reduction efforts we are driving across our business operations', 'As of June 2021, Amazon has 232 solar and wind projects across the globe', ' These projects have a combined capacity to generate 10,000 megawatts (MW) and deliver 27 million megawatt hours (MWh) of energy annually', ' These projects helped power the 24 million MWh of electricity consumed by Amazon in 2020 and led to a 4% reduction in our carbon emissions from purchased electricity from 2019 to 2020', 'As of June 2021, Amazon’s largest renewable energy investment is a wind project in the Netherlands', ' Scheduled for operation by 2024, this offshore wind farm will have an overall capacity of 759 MW', ' Amazon is purchasing more than half of that capacity—a total of 380 MW—to power our operations in Europe', ' Our first renewable energy project in Singapore is a 62-MW system of ground-mounted solar panels', ' This system allows for the solar panels to be optimally positioned to capture sun exposure as weather conditions change', ' Upon its completion in 2022, the project is expected to generate 80,000 MWh of clean energy annually, enough to power more than 10,000 homes in Singapore', ' A solar farm in Pittsylvania County, Virginia, will power Amazon’s new headquarters in Arlington and other Amazon operations in the region, including Whole Foods Market stores and Amazon fulfillment centers', ' Amazon is sharing the project with Arlington County through a public- private partnership', ' Amazon has contracted 82 MW of the new 120- MW solar farm and Arlington County will take the remainder of the energy generated from this project, which is planned for completion by the first quarter of 2022', ' In 2019, we installed the largest rooftop solar array in the state of Colorado at an Amazon fulfillment center in Thornton', ' The solar array comprises more than 17,000 panels spanning 19 acres, approximately the size of 14 football fields', ' The 6-MW system generates enough energy to provide up to 45% of the 855,000-square-foot facility’s annual energy needs', ' Our first operational off-site project in Europe is the Alcalá de Guadaíra solar park in Spain', ' This solar project provides 149 MW of renewable energy for Amazon logistics facilities and AWS data centers in Spain, equivalent to the energy needed to supply more than 30,000 Spanish homes', ' In 2020, we unveiled Amazon’s largest solar rooftop installation in Europe at a fulfillment center in the UK', ' The facility is outfitted with more than 11,500 solar panels, which generate enough electricity to power the equivalent of 700 homes in the UK for one year', ''] \n",
      " 32\n",
      "annoted_sustainability_reports/Consumer_Discretionary/Nike_2021_Impact_report.pdf\n",
      "Document('annoted_sustainability_reports/Consumer_Discretionary/Nike_2021_Impact_report.pdf')\n"
     ]
    },
    {
     "name": "stdout",
     "output_type": "stream",
     "text": [
      "['70% absolute reduction of greenhouse gas (GHG) emissions in owned or operated facilities through 100% emissions in owned or operated facilities through 100% renewable electricity and fleet electrification14,15 renewable electricity and fleet electrification14,15 0', '5M metric tons emissions reduction through 50% environmentally preferred materials19 environmentally preferred materials19BY 2030, WE AIM TO HIT OUR BY 2030, WE AIM TO HIT OUR SCIENCE-BASED AIM TO HIT OUR SCIENCE-BASED TARGETS TARGETS Scope 1 & 2 Target: -65% Scope 3 Target: -30% Scope 3 Target: -30% BY 2050, WE AIM BY 2050, WE AIM TO REACH WE AIM TO REACH NET ZERO SCIENCE-BASED TARGETS TO REACH NET ZERO NET ZERO Scope 1, 2, & 3 Target: -90% Target: -90%In FY21, NIKE made strides toward our target to reach 100% renewable electricity in NIKE owned or operated facilities', ' In September 2020, electricity in NIKE owned or operated facilities', ' In September 2020, NIKE’s groundbreaking virtual power purchase agreement (vPPA) in NIKE’s groundbreaking virtual power purchase agreement (vPPA) in Spain went live, covering our owned or operated electricity footprint Spain went live, covering our owned or operated electricity footprint in Europe', ' Iberdrola, S', 'A', '’s Cavar wind project provides NIKE’s European Europe', ' Iberdrola, S', 'A', '’s Cavar wind project provides NIKE’s European operations with 110,000 MWh per year of renewable electricity', ' This operations with 110,000 MWh per year of renewable electricity', ' This project, along with PPAs delivering power across the U', 'S', ' and Canada project, along with PPAs delivering power across the U', 'S', ' and Canada and various onsite solar projects globally, brings NIKE to 78% of our and various onsite solar projects globally, brings NIKE to 78% of our 100% renewable energy target in owned or operated facilities', ' 100% renewable energy target in owned or operated facilities', ' At our Tepana distribution went live', ' The solar array is center in Mexico, a rooftop solar array went live', ' The solar array is estimated to produce 1,000 MWh annually, covering ~50% of the estimated to produce 1,000 MWh annually, covering ~50% of the facility’s electricity needs and representing more than 10% of NIKE’s facility’s electricity needs and representing more than 10% of NIKE’s load in Mexico', ' In Belgium, at our Converse European Logistics load in Mexico', ' In Belgium, at our Converse European Logistics Campus, a rooftop solar array also went live and is estimated to Campus, a rooftop solar array also went live and is estimated to produce 3,000 MWh annually, covering a significant portion of the facility’s 3,000 MWh annually, covering a significant portion of the facility’s electricity needs', ' electricity needs', 'In FY21, we saw a 42% reduction in Scope 1 And a 48% reduction in emissions from emissions from FY20', ' And a 48% reduction in emissions from transportation vehicles due to reduction in services at our WHQ transportation vehicles due to reduction in services at our WHQ campus', 'In FY21, NIKE launched onsite solar programs in Vietnam and Indonesia, and suppliers added significant onsite solar PV capacity, with 25 facilities and suppliers added significant onsite solar PV capacity, with 25 facilities signing contracts for 32 MW of solar energy', ' signing contracts for 32 MW of solar energy', 'In total, our investments in these pilots secured alternative about 4% of our total inbound volume, resulting in the reduction fuels for about 4% of our total inbound volume, resulting in the reduction of approximately 11,000 metric tons of carbon emissions', ' of approximately 11,000 metric tons of carbon emissions', '0', '5M metric tons of GHG emissions reduced through increasing our 0', '5M metric tons of GHG emissions reduced through increasing our use of environmentally preferred reduced through increasing our use of environmentally preferred materials to 50% of all key materials39 use of environmentally preferred materials to 50% of all key materials39'] \n",
      " 32\n",
      "annoted_sustainability_reports/Consumer_Discretionary/Starbucks_2021_Global_Environmental_and_Social_Impact_Report.pdf\n",
      "Document('annoted_sustainability_reports/Consumer_Discretionary/Starbucks_2021_Global_Environmental_and_Social_Impact_Report.pdf')\n",
      "['2030 Planet Goals Carbon 50% absolute reduction in scope 1, 2 and 3 greenhouse (GHG) emissions representing all of Starbucks direct operations and value chain', 'With performance-based standards that incorporate design and extend throughout the life of a store, Starbucks Greener Stores in North America have reduced energy consumption by 30% compared with the company’s prior store designs', 'Worldwide, Starbucks purchases enough renewable electricity to power 100% of our company-operated stores in the U', 'S', ', Canada and U', 'K', ' In FY21, renewable energy powered 66% of company-operated facilities globally compared to 72% in FY20,'] \n",
      " 7\n"
     ]
    }
   ],
   "source": [
    "highlight_list = []\n",
    "rel_text = []\n",
    "\n",
    "for file in os.listdir(dir):\n",
    "    f = os.path.join(dir, file)\n",
    "    print(f)\n",
    "\n",
    "    doc = fitz.open(f)\n",
    "    print(doc)\n",
    "    result = []\n",
    "    \n",
    "    for page in doc:\n",
    "\n",
    "        highlights = []\n",
    "        annot = page.first_annot\n",
    "        while annot:\n",
    "            if annot.type[0] == 8:\n",
    "                all_coordinates = annot.vertices\n",
    "                try:\n",
    "                    if len(all_coordinates) == 4:\n",
    "                        highlight_coord = fitz.Quad(all_coordinates).rect\n",
    "                        highlights.append(highlight_coord)\n",
    "                    else:\n",
    "                        all_coordinates = [all_coordinates[x:x+4] for x in range(0, len(all_coordinates), 4)]\n",
    "                        for i in range(0,len(all_coordinates)):\n",
    "                            coord = fitz.Quad(all_coordinates[i]).rect\n",
    "                            highlights.append(coord)\n",
    "                except:\n",
    "                    print(\"NoneType found\")\n",
    "            annot = annot.next\n",
    "\n",
    "        all_words = page.get_text_words()\n",
    "        highlight_text = []\n",
    "        if len(highlights) > 0:\n",
    "            for h in highlights:\n",
    "                sentence = []\n",
    "                for w in all_words:\n",
    "                    if fitz.Rect(w[0:4]).intersects(h):\n",
    "                        sentence.append(w[4])\n",
    "                highlight_text.append(\" \".join(sentence))\n",
    "        if len(highlight_text) > 0:\n",
    "            result.append(\" \".join(highlight_text))\n",
    "        \n",
    "\n",
    "    s = \"\"\n",
    "        \n",
    "    for r in result:\n",
    "        if r is not None:\n",
    "            s += r\n",
    "        \n",
    "    #create array of highlighted sentences in the pdf\n",
    "    highlighted_sentences = s.split('.')\n",
    "\n",
    "    print(highlighted_sentences, \"\\n\", len(highlighted_sentences))\n",
    "\n",
    "    rel_text.append(highlighted_sentences)\n",
    "\n",
    "    num_highlighted = len(highlighted_sentences)\n",
    "\n",
    "    highlight_list.append(num_highlighted)"
   ]
  },
  {
   "cell_type": "code",
   "execution_count": 5,
   "metadata": {},
   "outputs": [
    {
     "name": "stderr",
     "output_type": "stream",
     "text": [
      "Xref table not zero-indexed. ID numbers for objects will be corrected.\n"
     ]
    },
    {
     "name": "stdout",
     "output_type": "stream",
     "text": [
      "annoted_sustainability_reports/Consumer_Discretionary/McDonalds_2021_Climate_report.pdf\n",
      "441\n",
      "annoted_sustainability_reports/Consumer_Discretionary/TJX_2021_Sustainability_report.pdf\n",
      "2535\n",
      "annoted_sustainability_reports/Consumer_Discretionary/HomeDepot_2021_ESG_report.pdf\n",
      "1878\n",
      "annoted_sustainability_reports/Consumer_Discretionary/Lowes_2021_CSR_report.pdf\n",
      "899\n",
      "annoted_sustainability_reports/Consumer_Discretionary/Target_2021_Corporate_Responsibility_report.pdf\n"
     ]
    },
    {
     "name": "stderr",
     "output_type": "stream",
     "text": [
      "Xref table not zero-indexed. ID numbers for objects will be corrected.\n"
     ]
    },
    {
     "name": "stdout",
     "output_type": "stream",
     "text": [
      "2198\n",
      "annoted_sustainability_reports/Consumer_Discretionary/BookingHoldings_2021_Sustainability_report.pdf\n",
      "859\n",
      "annoted_sustainability_reports/Consumer_Discretionary/Tesla_2021_Impact_report.pdf\n"
     ]
    },
    {
     "name": "stderr",
     "output_type": "stream",
     "text": [
      "Xref table not zero-indexed. ID numbers for objects will be corrected.\n"
     ]
    },
    {
     "name": "stdout",
     "output_type": "stream",
     "text": [
      "1721\n",
      "annoted_sustainability_reports/Consumer_Discretionary/Amazon_2021_sustainability_report.pdf\n"
     ]
    },
    {
     "name": "stderr",
     "output_type": "stream",
     "text": [
      "Xref table not zero-indexed. ID numbers for objects will be corrected.\n"
     ]
    },
    {
     "name": "stdout",
     "output_type": "stream",
     "text": [
      "1910\n",
      "annoted_sustainability_reports/Consumer_Discretionary/Nike_2021_Impact_report.pdf\n",
      "2632\n",
      "annoted_sustainability_reports/Consumer_Discretionary/Starbucks_2021_Global_Environmental_and_Social_Impact_Report.pdf\n",
      "1406\n"
     ]
    }
   ],
   "source": [
    "#Extracting all sentences from the file\n",
    "sentences_list = []\n",
    "all_text = []\n",
    "\n",
    "for file in os.listdir(dir):\n",
    "    f = os.path.join(dir, file)\n",
    "    print(f)\n",
    "\n",
    "    pdfFileObj = open(f, 'rb') \n",
    "    pdfReader = PyPDF2.PdfFileReader(pdfFileObj) \n",
    "\n",
    "    t = \"\"\n",
    "\n",
    "    for count in range(len(fitz.open(f))):\n",
    "        # print(count)\n",
    "        pageObj = pdfReader.getPage(count)\n",
    "        t += pageObj.extractText()\n",
    "        \n",
    "\n",
    "    pdfFileObj.close() \n",
    "    total_sentences = t.split('.')\n",
    "    print(len(total_sentences))\n",
    "\n",
    "    all_text.append(total_sentences)\n",
    "\n",
    "    num_sentences = len(total_sentences)\n",
    "\n",
    "    sentences_list.append(num_sentences)\n",
    "\n",
    "#1910 total sentences in Amazon_2021_sustainability_report.pdf\n"
   ]
  },
  {
   "cell_type": "code",
   "execution_count": 9,
   "metadata": {},
   "outputs": [
    {
     "data": {
      "image/png": "[encoded data removed]",
      "text/plain": [
       "<Figure size 432x288 with 1 Axes>"
      ]
     },
     "metadata": {
      "needs_background": "light"
     },
     "output_type": "display_data"
    }
   ],
   "source": [
    "import matplotlib.pyplot as plt\n",
    "import numpy as np\n",
    "import glob\n",
    "y = []\n",
    "\n",
    "x = [\"McDonalds\", \"TJX\", \"Home Depot\", \"Lowes\", \"Target\", \"BookingHoldings\", \"Tesla\",\n",
    "     \"Amazon\", \"Nike\", \"Starbucks\"]\n",
    "\n",
    "\n",
    "i = 0\n",
    "\n",
    "for file in os.listdir(dir):\n",
    "    y.append(100 * (highlight_list[i])/sentences_list[i])\n",
    "    i = i+1\n",
    "\n",
    "plt.bar(x, y, width = 0.8)\n",
    "plt.xticks(rotation='vertical')\n",
    "plt.title(\"Consumer Discretionary\")\n",
    "plt.xlabel(\"Company\")\n",
    "plt.ylabel(\"Percent of sentences highlighted\")\n",
    "plt.yticks(np.arange(0, 50, 10))\n",
    "plt.show()"
   ]
  },
  {
   "cell_type": "code",
   "execution_count": 10,
   "metadata": {},
   "outputs": [
    {
     "data": {
      "text/plain": [
       "count    10.000000\n",
       "mean      1.215385\n",
       "std       0.730337\n",
       "min       0.409463\n",
       "25%       0.473101\n",
       "50%       1.357410\n",
       "75%       1.663995\n",
       "max       2.502662\n",
       "dtype: float64"
      ]
     },
     "execution_count": 10,
     "metadata": {},
     "output_type": "execute_result"
    }
   ],
   "source": [
    "import pandas as pd\n",
    "\n",
    "series = pd.Series(y)\n",
    "series.describe()"
   ]
  },
  {
   "cell_type": "code",
   "execution_count": 11,
   "metadata": {},
   "outputs": [
    {
     "name": "stdout",
     "output_type": "stream",
     "text": [
      "Stored 'CONDIS_reltext' (list)\n",
      "Stored 'CONDIS_alltext' (list)\n"
     ]
    }
   ],
   "source": [
    "CONDIS_reltext = rel_text\n",
    "CONDIS_alltext = all_text\n",
    "\n",
    "%store CONDIS_reltext\n",
    "%store CONDIS_alltext"
   ]
  },
  {
   "cell_type": "code",
   "execution_count": null,
   "metadata": {},
   "outputs": [],
   "source": []
  }
 ],
 "metadata": {
  "kernelspec": {
   "display_name": "Python 3 (ipykernel)",
   "language": "python",
   "name": "python3"
  },
  "language_info": {
   "codemirror_mode": {
    "name": "ipython",
    "version": 3
   },
   "file_extension": ".py",
   "mimetype": "text/x-python",
   "name": "python",
   "nbconvert_exporter": "python",
   "pygments_lexer": "ipython3",
   "version": "3.9.7"
  }
 },
 "nbformat": 4,
 "nbformat_minor": 4
}
