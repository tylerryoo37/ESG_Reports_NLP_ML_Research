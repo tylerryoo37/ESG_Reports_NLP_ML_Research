{
 "cells": [
  {
   "cell_type": "code",
   "execution_count": 1,
   "id": "110d00ef",
   "metadata": {},
   "outputs": [],
   "source": [
    "import os\n",
    "import PyPDF2\n",
    "import fitz"
   ]
  },
  {
   "cell_type": "code",
   "execution_count": 2,
   "id": "3d71ff8e",
   "metadata": {},
   "outputs": [],
   "source": [
    "dir = 'annoted_sustainability_reports/Materials'\n",
    " "
   ]
  },
  {
   "cell_type": "code",
   "execution_count": 3,
   "id": "10524105",
   "metadata": {},
   "outputs": [
    {
     "name": "stdout",
     "output_type": "stream",
     "text": [
      "annoted_sustainability_reports/Materials/Linde_2020_sustainability_report.pdf\n",
      "Document('annoted_sustainability_reports/Materials/Linde_2020_sustainability_report.pdf')\n",
      "['productivity, energy use and GHG In fact, we calculate that and hydrogen, enabled our emissions for our customers or end users', ' In fact, we calculate that in 2020, Linde gases, principally oxygen and hydrogen, enabled our customers to avoid 85 million metric tons of CO₂e, which is more than in 2020, Linde gases, principally oxygen and hydrogen, enabled our customers to avoid 85 million metric tons of CO₂e, which is more than twice as much GHG avoided than emitted from all our operations', ' customers to avoid 85 million metric tons of CO₂e, which is more than twice as much GHG avoided than emitted from all our operations', ' See page 14', 'accelerate', ' New Green fuels hydrogen usage technologies will be piloted and scaled commercially', ' Green fuels and materials will be scaling and the feasibility for hydrogen usage as an agent of decarbonization in multiple applications will be and materials will be scaling and the feasibility for hydrogen usage as an agent of decarbonization in multiple applications will be growing', ' SMRs will continue to be used for most large-scale hydrogen as an agent growing', ' production', 'Linde’s 2020 Scope 1 GHG emissions were 16', '2 MM MT CO₂e', ' This represents a 1 percent absolute reduction, driven by lower hydrogen Linde’s 2020 Scope 1 GHG emissions were 16', '2 MM MT CO₂e', ' This represents a 1 percent absolute reduction, driven by lower hydrogen production due to the pandemic, improved HyCO GHG efficiency', ' represents a 1 percent absolute reduction, driven by lower hydrogen production due to the pandemic, improved HyCO GHG efficiency', ' Results were also impacted by increased direct emissions resulting Linde’s Scope 2 GHG emissions were 21 MM MT CO₂e', ' This represents a 6 percent absolute reduction versus 2019, driven by improvements Linde’s Scope 2 GHG emissions were 21 MM MT CO₂e', ' This represents a 6 percent absolute reduction versus 2019, driven by improvements in plant specific grid emission factors; increased low-carbon (LC) a 6 percent absolute reduction versus 2019, driven by improvements in plant specific grid emission factors; increased low-carbon (LC) and renewable power purchases; and lower production due to the in plant specific grid emission factors; increased low-carbon (LC) and renewable power purchases; and lower production due to the pandemic, as well as updated methodology for Scope 2 emissions and renewable power purchases; and lower production due to the pandemic, as well as updated methodology for Scope 2 emissions from steam', ' Scope 2 GHG were caused by the use of electricity and pandemic, as from steam', ' steam, a portion Linde’s combined Scope 1 + Scope 2 GHG emissions In 2020, Linde’s GHG intensity was 4', '3 MMT CO₂e/$ representing 16', '5 percent GHG intensity improvement over versus EBITDA', ' In 2020, Linde’s GHG intensity was 4', '3 MMT CO₂e/$ billion, representing 16', '5 percent GHG intensity improvement over 2018, resulting from lower production volumes due to the pandemic billion, representing 16', '5 percent GHG intensity improvement over 2018, resulting from lower production volumes due to the pandemic and increased renewable energy availability and sourcing', ' 2018, resulting from lower production volumes due to the pandemic and increased renewable energy availability and sourcing', ' of Scope 1 In 2020, 2020 results were GHG emissions sources, calculated into CO₂ equivalents', ' In 2020, these emissions were 1', '5 MM MT CO₂e (2019: 1', '7)', ' 2020 results were a 9', '3 percent improvement over the baseline', ' This performance these emissions were 1', '5 MM MT CO₂e (2019: 1', '7)', ' 2020 results a 9', '3 percent improvement over the baseline', ' This performance improvement was achieved by defining and improving best practices, a 9', '3 percent improvement over the baseline', ' This performance improvement was achieved by defining and improving best practices, particularly in U', 'S', ' electronics and reductions in refrigerants due to improvement was achieved by defining and improving best practices, particularly in U', 'S', ' electronics and reductions in refrigerants due to improved reporting', ' particularly in U', 'S', ' electronics improved reporting', ' The scope is all Linde operations within our GHG reporting boundary', ' In 2020, the company sourced 16 million MWh low-carbon energy, or 39 percent of all its purchased electricity', ' Low-carbon electricity In 2020, the company sourced 16 million MWh or 39 percent of all its purchased electricity', ' is defined as electricity produced from non-fossil Linde actively sourced 2', '4 TWh renewable energy in 2020', ' electricity use in the UK is almost 100 percent renewable usingTotal renewable electricity purchased in 2020 was 2', '5 million MWh, or 9', '0 million GJ', ' In 2020, active RE was 2', '493 million MWh and passive RE was 9', '176 million MWh, for a total of 11', '669 million MWh', ' Nuclear was 4', '750 million RE, bringing the total low carbon electricity to 16', '419 million MWh of low carbon electricity, which represents 39 percent of Linde’s total electricity consumption in 2020', 'Active renewable electricity consumed 2,493,000 Passive renewable electricity consumed Low carbon (nuclear) electricity consumed 9,176,000 4,750,000 Non-renewable fuels purchased and consumed 21,298,000 Total renewable electricity purchased or generated2 2,493,000Linde’s total Scope 1 emissions in 2020 were 16,247,000 MT CO2e, which is a decrease of 1', '3 percent from 2019', 'Linde’s Scope 2 GHG emissions in 2020 were 21 million metric tons CO2e (market-based), which is a 5', '8 percent decrease from 2019', 'Linde’s total sustainable productivity in 2020 yielded savings equivalent to 576,000 metric tons CO2e', ' These projects provided GHG savings from enhancing the energy efficiency of buildings, processes and the transportation fleet', ' VOC emissions decreased between 2019 and 2020 by nearly 19 percent, mainly due to the COVID-19 pandemic resulting in lower production volumes at plants with VOC emissions and decreases in transportation activities', \" The 8 percent increase in SOx emissions between 2019 and 2020 can be attributed largely to one of Linde's largest plants in Singapore, and the source of 56 percent of Linde's total SOx emissions in 2020\", ' The 13', '5 percent increase in NOx emissions between 2019 and 2020 was driven by a single facility in Mexico that accounts for more than 75 percent of the company’s NOx emissions', 'Linde is at the forefront in the transition to clean hydrogen and has installed nearly 200 hydrogen fueling stations and 80 hydrogen electrolysis plants worldwide and includes decarbonization investments within its SD 2028 targets', ''] \n",
      " 75\n",
      "annoted_sustainability_reports/Materials/Ecolab_2021 _CSR_report.pdf\n",
      "Document('annoted_sustainability_reports/Materials/Ecolab_2021 _CSR_report.pdf')\n",
      "['By 2030, our ambition is to help customers become carbon neutral by reducing greenhouse gas emissions by 6 million metric tons annually, preventing nearly 10 million pollution-related illnesses', 'Ecolab will halve carbon emissions by 2030, achieve net-zero carbon emissions by 2050 and achieve 100% renewable electricity by 2030', ' In 2021, we made progress by reducing absolute Scope 1 and 2 carbon emissions by 28% from a 2018 base year', ' In 2021, 69% of our total electricity usage was considered renewable', 'In 2021, we focused on continuous progress within our operations, completing process improvement projects that reduced total energy consumption by almost 5', '4 billion BTUs and GHG emissions by 324 MT CO2e', 'In 2021, 69% of our total electricity usage was considered renewable setting us well on our way to achieve our goal of using 100% renewable electricity by 2030', ' We currently partner with renewable energy producer Clearway Energy Group on our virtual power purchasing agreement (VPPA) to cover 100% of Ecolab’s annual electricity use in the United States and Canada', ' And in 2022, we announced our partnership with asset management firm Low Carbon on a VPPA to source 100% of the electricity needs for our European sites from the Mörknässkogen wind farm on the west coast of Finland', 'In 2021, we helped customers save 3', '6 million metric tons of GHG emissions, preventing 5', '8 million pollution-related illnesses', ' In 2021, we helped customers save 3', '6 million metric tons of GHG emissions, preventing 5', '8 million pollution-related illnesses', ' This is accomplished through utilization of many of Ecolab’s innovative products and services that help customers reduce energy use', ''] \n",
      " 17\n",
      "annoted_sustainability_reports/Materials/SherwinWilliams_2021_Sustainability_Report.pdf\n",
      "Document('annoted_sustainability_reports/Materials/SherwinWilliams_2021_Sustainability_Report.pdf')\n"
     ]
    },
    {
     "name": "stdout",
     "output_type": "stream",
     "text": [
      "['The decline in emissions from 2020 to 2021 was due to a combination of factors: the continued evolution of the energy grid toward greater use of renewable energy, ongoing energy efficiency initiatives in our facilities (including the installation of light-emitting diode [LED] lighting), and a 5', '6% improvement in the fuel efficiency of our fleet vehicles', 'Renewable Energy Percent of Total (%) 0', '06%'] \n",
      " 4\n",
      "annoted_sustainability_reports/Materials/IntrntlFlavorsandFragrances_2021_ESG_report.pdf\n",
      "Document('annoted_sustainability_reports/Materials/IntrntlFlavorsandFragrances_2021_ESG_report.pdf')\n",
      "['To underscore our commitment to supporting the health of the planet and leading in science-based climate action, we have identified the following high-level environmental goals: •\\t Reduce absolute direct and indirect (Scope 1 and 2 under our operational control) GHG emissions by 50% below 2021 levels by 2030 •\\t Achieve net zero (Scope 1 and 2) GHG emissions by 2040; and be net positive across our entire value chain (cradle-to-gate) by 205010Renewable energy certificates (RECs)† 330'] \n",
      " 1\n",
      "annoted_sustainability_reports/Materials/FreeportMcmoran_2021_sustainability_report.pdf\n",
      "Document('annoted_sustainability_reports/Materials/FreeportMcmoran_2021_sustainability_report.pdf')\n",
      "['To date, we have developed two GHG emissions (Scope 1 and 2) reduction targets for our business in order to help manage relevant, climate-related risks and support the decarbonization of our business – the first, established in 2020, seeks to reduce the GHG emissions intensity of Freeport Americas Copper operations by 15% from our 2018 baseline', ' The second, established this year, seeks to reduce the GHG emissions intensity of our Indonesia operations by 30% by 2030, from our 2018 baseline', 'ASSET OPTIMIZATION EFFORTS HAVE: Improved the average cycle-time of our haulage fleets at our Americas operations Improved the average cycle-time of our haulage fleets at our Americas operations by more than 3 minutes', ' haulage fleets at our Americas by more than 3 minutes', ' OR 66,000 METRIC TONS OF CO2 EQUIVALENT, REDUCING OUR ANNUAL 66,000 METRIC TONS OF CO2 EQUIVALENT, REDUCING OUR ANNUAL AMERICAS SCOPE 1 EMISSIONS BY ~3%', ' EQUIVALENT, AMERICAS SCOPE 1 EMISSIONS BY ~3%', 'As our Grasberg operations transitioned from open-pit to underground mining operations, PT-FI designed and built an autonomous electric train system to move ore through underground tunnels rather than traditional, diesel- powered trucks', ' Finally, from a carbon perspective, this results in an approximately 80,000 metric ton net reduction in CO2 equivalent per year (excluding Scope 3 and at full capacity) versus a comparable fleet of diesel trucks designed to do the same task', ' CO2 Scope 3 and at full capacity) versus a comparable fleet of diesel trucks designed to do the same task', '2020 ENERGY CONSUMPTION BY TYPE2020 INDIRECT ENERGY CONSUMED BY SOURCE'] \n",
      " 10\n",
      "annoted_sustainability_reports/Materials/Nucor_2021_Sustainability_Report.pdf\n",
      "Document('annoted_sustainability_reports/Materials/Nucor_2021_Sustainability_Report.pdf')\n",
      "['Nucor committed to a 35% combined reduction in its direct emissions (Scope 1) and indirect emissions from purchased electricity (Scope 2) GHG intensity for its steel mills segment by 2030', ' This commitment will be measured against a 2015 baseline, the year the Paris Climate Agreement was adopted', 'Nucor has entered into three Virtual Power Purchase Agreements (VPPAs), which will help enable the construction of 600 megawatts (MW) of new clean power generation', ' Nucor will receive Renewable Energy Credits (“RECs”) from these projects commensurate with the power we purchase', ''] \n",
      " 5\n",
      "annoted_sustainability_reports/Materials/AirProducts_2022_sustainability_report.pdf\n",
      "Document('annoted_sustainability_reports/Materials/AirProducts_2022_sustainability_report.pdf')\n",
      "['This facility, the largest of its type in the industrial gas industry, CO2 annually that is used in enhanced oil recovery', ' CO2 captures nearly one million tons of CO2 annually that is used in enhanced oil recovery', 'We plan to deliver on our CO2 intensity reduction goal through five mechanisms: executing carbon capture producing carbon-free hydrogen, executing low-carbon projects, continuing to improve our operations, and CO2 projects, producing carbon-free hydrogen, executing low-carbon projects, continuing to improve our operations, and increasing our use of renewable energy', '3', '6% improvement in ASU energy efficiency 27%   4% >3 times the ratio of CO2e avoided by our customers to our own emissionsa the ratio of CO2e avoided by our customers to our avoided by our customers to our own emissionsa customers to our own emissionsa improvement in CO2 emissions intensitya improvement in CO2 emissions intensitya CO2 intensitya of purchased electricity from of purchased electricity from renewable sources electricity from renewable sources metric tons of CO2e avoided through efficiency >1', '5 million metric tons of CO2e avoided through efficiency improvementsa >1', '5 million avoided through improvementsaIn 2021, percent CO2 we increased global procurement of renewable electricity by 14 percent compared to 2020', ' Overall, 27 percent of our electricity was from renewable sources in 2021', ' We purchase renewable electricity directly through our energy suppliers or by buying Renewable Energy Certificates (RECs) that link our power consumption to a specific asset that generates renewable electricity', 'In 2021 we launched a program to convert our distribution fleet to hydrogen', ''] \n",
      " 11\n",
      "annoted_sustainability_reports/Materials/Corteva_2021_Sustainability_and_ESG_Report.pdf\n",
      "Document('annoted_sustainability_reports/Materials/Corteva_2021_Sustainability_and_ESG_Report.pdf')\n",
      "[''] \n",
      " 1\n",
      "annoted_sustainability_reports/Materials/NewmontMining_2021_climate_report.pdf\n",
      "Document('annoted_sustainability_reports/Materials/NewmontMining_2021_climate_report.pdf')\n",
      "['2030 Climate targets (million tonnes of carbon dioxide equivalent) Target Base year 2030 32% reduction of Scope 1 and 2 emissions1 32% reduction of Scope 1 and 2 emissions intensity1 30% reduction of Scope 3 emissions2, 3 3', '57 0', '61 5', '72 2', '40 0', '41 4', '00commenced\\tdecarbonization\\tworkshops\\tfor\\teach\\tsite\\tto\\tdevelop\\ta\\troadmap\\tthat\\tdefines\\tthe\\tinitiatives\\tand\\t investments\\trequired', '\\tThe\\tenergy\\tefficiency\\tprojects\\twe\\tare\\tevaluating\\tinclude\\tfleet\\tmanagement\\tand\\t monitoring,\\thaul\\troad\\toptimization\\tand\\tfuel\\tstation\\toptimization;\\tfixed\\tplant\\tenergy\\tmonitoring\\tsystems;\\t investments\\trequired', '\\tThe\\tenergy\\tefficiency\\tprojects\\twe\\tare\\tevaluating\\tinclude\\tfleet\\tmanagement\\tand\\t monitoring,\\thaul\\troad\\toptimization\\tand\\tfuel\\tstation\\toptimization;\\tfixed\\tplant\\tenergy\\tmonitoring\\tsystems;\\t variable\\tfrequency\\tdrives\\tfor\\tpumps,\\tball\\tmills\\tand\\tflow\\tcontrol;\\tand\\twaste\\tor\\telectric\\theat\\trecovery\\tfor\\tmine\\t monitoring,\\thaul\\troad\\toptimization\\tand\\tfuel\\tstation\\toptimization;\\tfixed\\tplant\\tenergy\\tmonitoring\\tsystems;\\t variable\\tfrequency\\tdrives\\tfor\\tpumps,\\tball\\tmills\\tand\\tflow\\tcontrol;\\tand\\twaste\\tor\\telectric\\theat\\trecovery\\tfor\\tmine\\t ventilation', ' We plan to develop a methodology for setting site-level emissions reduction targets in 2022', ' variable\\tfrequency\\tdrives\\tfor\\tpumps,\\tball\\tmills\\tand\\tflow\\tcontrol;\\tand\\twaste\\tor\\telectric\\theat\\trecovery\\tfor\\tmine\\t ventilation', ' GHG EMISSIONS (SCOPE 1 AND 2) REDUCTION ROADMAP TO 2030GHG EMISSIONS (SCOPE 3) REDUCTION ROADMAP TO 2030 Scope\\t3\\temissions\\taccount\\tfor\\tapproximately\\t62\\tpercent\\tof\\tNewmont’s\\ttotal\\temissions\\tprofile,\\tand\\t91\\tpercent\\t of\\tthese\\temissions\\tfall\\twithin\\tfour\\tof\\tthe\\t15\\tScope\\t3\\temissions\\treporting\\tcategories\\t(as\\tdefined\\tby\\tthe\\t Scope\\t3\\temissions\\taccount\\tfor\\tapproximately\\t62\\tpercent\\tof\\tNewmont’s\\ttotal\\temissions\\tprofile,\\tand\\t91\\tpercent\\t of\\tthese\\temissions\\tfall\\twithin\\tfour\\tof\\tthe\\t15\\tScope\\t3\\temissions\\treporting\\tcategories\\t(as\\tdefined\\tby\\tthe\\t GHG\\xa0Protocol Corporate Value Chain (Scope 3) Accounting and Reporting Standard): of\\tthese\\temissions\\tfall\\twithin\\tfour\\tof\\tthe\\t15\\tScope\\t3\\temissions\\treporting\\tcategories\\t(as\\tdefined\\tby\\tthe\\t GHG\\xa0Protocol Corporate Value Chain (Scope 3) Accounting and Reporting Standard): • 36 percent are investments, which include our equity share in joint ventures’ Scope 1 and 2 emissions (category 15) 36 percent are (category 15) • 30 percent are purchased goods and services (category 1) • 13 percent are fuel- and energy-related activities (category 3) • 12 percent are processing of sold products (category 10)MARGINAL ABATEMENT COST CURVENewmont’s goal to be carbon neutral by 2050 is supported by a combination Newmont’s goal to be carbon neutral by 2050 is supported by a combination of our long-life portfolio of gold and by 2050 is supported by a combination of our long-life portfolio of gold and copper projects with anticipated 4 of our long-life portfolio of gold and copper projects with anticipated economic, technological and policy 3', '5 copper projects with anticipated economic, technological and policy improvements', ' We will also work economic, technological improvements', ' concurrently toAchieving\\tour\\tcarbon‑neutral\\tgoal\\tby\\t2050\\twill\\trequire\\tcarbon\\tremoval\\tto\\tneutralize\\tlimited\\t“hard\\tto\\tabate”\\t emissions\\tthat\\tcannot\\tyet\\tbe\\teliminated', '\\tThese\\tcarbon\\tremovals\\tare\\tcommonly\\treferred\\tto\\tas\\tcarbon\\toffsets\\tand\\t Achieving\\tour\\tcarbon‑neutral\\tgoal\\tby\\t2050\\twill\\trequire\\tcarbon\\tremoval\\tto\\tneutralize\\tlimited\\t“hard\\tto\\tabate”\\t emissions\\tthat\\tcannot\\tyet\\tbe\\teliminated', '\\tThese\\tcarbon\\tremovals\\tare\\tcommonly\\treferred\\tto\\tas\\tcarbon\\toffsets\\tand\\t such abatement may consider carbon sequestration or capture, as well as the implementation of nature-based emissions\\tthat\\tcannot\\tyet\\tbe\\teliminated', '\\tThese\\tcarbon\\tremovals\\tare\\tcommonly\\treferred\\tto\\tas\\tcarbon\\toffsets\\tand\\t such abatement may consider carbon sequestration or capture, as well as the implementation of nature-based solutions', '\\tOffsets\\talso\\tprovide\\trisk\\tmitigation\\tagainst\\tfluctuations\\tin\\temissions\\tand\\tunforeseen\\tconditions', '\\t such abatement solutions', '\\tOffsets\\talso\\tprovide\\trisk\\tmitigation\\tagainst\\tfluctuations\\tin\\temissions\\tand\\tunforeseen\\tconditions', '\\t'] \n",
      " 22\n",
      "annoted_sustainability_reports/Materials/Dow_2021_ESG_report.pdf\n",
      "Document('annoted_sustainability_reports/Materials/Dow_2021_ESG_report.pdf')\n"
     ]
    },
    {
     "name": "stdout",
     "output_type": "stream",
     "text": [
      "['By 2030, Dow will reduce its net annual carbon emissions by 5 million metric tons', ' This represents a 15% reduction from Dow’s 2020 baseline, and a 30% reduction from the 2005 baseline', ' By 2050, Dow intends to be carbon neutral (Scopes 1 + 2 + 3 plus product benefits)', 'In 2021, we expanded access to renewable power to more than 900 megawatts (MW), such that more than 25% of our purchased electricity comes from renewable sources', 'In 2021, Dow’s Scope 2 emissions were reduced by approximately 400,000 metric tons CO2e (6', '4% reduction) as a result of Dow’s efforts to source cleaner energy to support our sites', ' In 2021, we implemented sourcing of cleaner power agreements to support our operations in Europe, resulting in a material decrease in our Scope 2 emissions from 2020 sites', 'The following table outlines a sampling of reduction initiatives completed in 2021 that have had a material impact on Dow’s reported Scope 1 and Scope 2 emissions', ''] \n",
      " 9\n"
     ]
    }
   ],
   "source": [
    "highlight_list = []\n",
    "rel_text = []\n",
    "\n",
    "for file in os.listdir(dir):\n",
    "    f = os.path.join(dir, file)\n",
    "    print(f)\n",
    "    \n",
    "    doc = fitz.open(f)\n",
    "    print(doc)\n",
    "    result = []\n",
    "    \n",
    "    for page in doc:\n",
    "        \n",
    "        highlights = []\n",
    "        annot = page.first_annot\n",
    "        while annot: \n",
    "            if annot.type[0] == 8:\n",
    "                all_coordinates = annot.vertices\n",
    "                try: \n",
    "                    if len(all_coordinates) == 4:\n",
    "                        highlight_coord = fitz.Quad(all_coordinates).rect\n",
    "                        highlights.append(highlight_coord)\n",
    "                    else: \n",
    "                        all_coordinates = [all_coordinates[x:x+4] for x in range(0,len(all_coordinates),4)]\n",
    "                        for i in range(0, len(all_coordinates)):\n",
    "                            coord = fitz.Quad(all_coordinates[i]).rect\n",
    "                            highlights.append(coord)\n",
    "                except:\n",
    "                    print(\"NoneType found\")\n",
    "            annot = annot.next\n",
    "        all_words = page.get_text_words()\n",
    "        highlight_text = []\n",
    "        if len(highlights) > 0:\n",
    "            for h in highlights:\n",
    "                sentence = []\n",
    "                for w in all_words:\n",
    "                    if fitz.Rect(w[0:4]).intersects(h):\n",
    "                        sentence.append(w[4])\n",
    "                highlight_text.append(\" \".join(sentence))\n",
    "        if len(highlight_text) > 0:\n",
    "            result.append(\" \".join(highlight_text))\n",
    "    s = \"\"\n",
    "\n",
    "    for r in result:\n",
    "        if r is not None:\n",
    "            s += r\n",
    "\n",
    "    # Create array of highlighted sentences in the pdf\n",
    "    highlighted_sentences = s.split('.')\n",
    "\n",
    "    print(highlighted_sentences, \"\\n\", len(highlighted_sentences))\n",
    "    \n",
    "    rel_text.append(highlighted_sentences)\n",
    "    \n",
    "    num_highlighted = len(highlighted_sentences)\n",
    "    \n",
    "    highlight_list.append(num_highlighted)"
   ]
  },
  {
   "cell_type": "code",
   "execution_count": 4,
   "id": "b00bf7b3",
   "metadata": {},
   "outputs": [
    {
     "name": "stdout",
     "output_type": "stream",
     "text": [
      "annoted_sustainability_reports/Materials/Linde_2020_sustainability_report.pdf\n",
      "5128\n",
      "annoted_sustainability_reports/Materials/Ecolab_2021 _CSR_report.pdf\n",
      "2075\n",
      "annoted_sustainability_reports/Materials/SherwinWilliams_2021_Sustainability_Report.pdf\n",
      "1306\n",
      "annoted_sustainability_reports/Materials/IntrntlFlavorsandFragrances_2021_ESG_report.pdf\n",
      "2257\n",
      "annoted_sustainability_reports/Materials/FreeportMcmoran_2021_sustainability_report.pdf\n"
     ]
    },
    {
     "name": "stderr",
     "output_type": "stream",
     "text": [
      "Xref table not zero-indexed. ID numbers for objects will be corrected.\n"
     ]
    },
    {
     "name": "stdout",
     "output_type": "stream",
     "text": [
      "1303\n",
      "annoted_sustainability_reports/Materials/Nucor_2021_Sustainability_Report.pdf\n"
     ]
    },
    {
     "name": "stderr",
     "output_type": "stream",
     "text": [
      "Xref table not zero-indexed. ID numbers for objects will be corrected.\n"
     ]
    },
    {
     "name": "stdout",
     "output_type": "stream",
     "text": [
      "695\n",
      "annoted_sustainability_reports/Materials/AirProducts_2022_sustainability_report.pdf\n"
     ]
    },
    {
     "name": "stderr",
     "output_type": "stream",
     "text": [
      "Xref table not zero-indexed. ID numbers for objects will be corrected.\n"
     ]
    },
    {
     "name": "stdout",
     "output_type": "stream",
     "text": [
      "983\n",
      "annoted_sustainability_reports/Materials/Corteva_2021_Sustainability_and_ESG_Report.pdf\n"
     ]
    },
    {
     "name": "stderr",
     "output_type": "stream",
     "text": [
      "Xref table not zero-indexed. ID numbers for objects will be corrected.\n"
     ]
    },
    {
     "name": "stdout",
     "output_type": "stream",
     "text": [
      "958\n",
      "annoted_sustainability_reports/Materials/NewmontMining_2021_climate_report.pdf\n"
     ]
    },
    {
     "name": "stderr",
     "output_type": "stream",
     "text": [
      "Xref table not zero-indexed. ID numbers for objects will be corrected.\n"
     ]
    },
    {
     "name": "stdout",
     "output_type": "stream",
     "text": [
      "2571\n",
      "annoted_sustainability_reports/Materials/Dow_2021_ESG_report.pdf\n",
      "4120\n"
     ]
    }
   ],
   "source": [
    "# Extracting all sentences from the file \n",
    "sentences_list = []\n",
    "all_text = []\n",
    "\n",
    "for file in os.listdir(dir):\n",
    "    f = os.path.join(dir,file)\n",
    "    print(f)\n",
    "    \n",
    "    pdfFileObj = open(f, 'rb')\n",
    "    pdfReader  = PyPDF2.PdfFileReader(pdfFileObj)\n",
    "    \n",
    "    t = \"\"\n",
    "    \n",
    "    for count in range(len(fitz.open(f))):\n",
    "        pageObj = pdfReader.getPage(count)\n",
    "        t += pageObj.extractText()\n",
    "        \n",
    "    pdfFileObj.close()\n",
    "    total_sentences = t.split('.')\n",
    "    print(len(total_sentences))\n",
    "    \n",
    "    all_text.append(total_sentences)\n",
    "    \n",
    "    num_sentences = len(total_sentences)\n",
    "    \n",
    "    sentences_list.append(num_sentences)"
   ]
  },
  {
   "cell_type": "code",
   "execution_count": 8,
   "id": "a3a0c60d",
   "metadata": {},
   "outputs": [
    {
     "data": {
      "image/png": "[encoded data removed]",
      "text/plain": [
       "<Figure size 432x288 with 1 Axes>"
      ]
     },
     "metadata": {
      "needs_background": "light"
     },
     "output_type": "display_data"
    }
   ],
   "source": [
    "import matplotlib.pyplot as plt\n",
    "import numpy as np\n",
    "import glob\n",
    "y = []\n",
    "\n",
    "x = [\"Linde\", \"Ecolab\", \"SherwinWilliams\", \"IntrntlFlavorsandFragrances\", \"FreeportMcmoran\", \"Nucor\", \n",
    "     \"AirProducts\", \"Corteva\", \"NewmontMining\", \"Dow\"]\n",
    "\n",
    "i = 0\n",
    "\n",
    "for file in os.listdir(dir):\n",
    "    y.append(100 * (highlight_list[i])/sentences_list[i])\n",
    "    i = i+1\n",
    "\n",
    "plt.bar(x, y, width = 0.8)\n",
    "plt.xticks(rotation='vertical')\n",
    "plt.xlabel(\"Company\")\n",
    "plt.ylabel(\"Percent of sentences highlighted\")\n",
    "plt.yticks(np.arange(0, 50, 10))\n",
    "plt.show()"
   ]
  },
  {
   "cell_type": "code",
   "execution_count": 9,
   "id": "47a1fadb",
   "metadata": {},
   "outputs": [
    {
     "data": {
      "text/plain": [
       "count    10.000000\n",
       "mean      0.641686\n",
       "std       0.464049\n",
       "min       0.044307\n",
       "25%       0.240405\n",
       "50%       0.743442\n",
       "75%       0.846593\n",
       "max       1.462559\n",
       "dtype: float64"
      ]
     },
     "execution_count": 9,
     "metadata": {},
     "output_type": "execute_result"
    }
   ],
   "source": [
    "import pandas as pd\n",
    "\n",
    "series = pd.Series(y)\n",
    "series.describe()"
   ]
  },
  {
   "cell_type": "code",
   "execution_count": 10,
   "id": "45e02282",
   "metadata": {},
   "outputs": [
    {
     "name": "stdout",
     "output_type": "stream",
     "text": [
      "Stored 'Materials_reltext' (list)\n",
      "Stored 'Materials_alltext' (list)\n"
     ]
    }
   ],
   "source": [
    "#storing variable so they can be called between notebooks (for aggregate analysis, test/train data sets, and modeling later on)\n",
    "\n",
    "Materials_reltext = rel_text\n",
    "Materials_alltext = all_text\n",
    "\n",
    "%store Materials_reltext\n",
    "%store Materials_alltext"
   ]
  },
  {
   "cell_type": "code",
   "execution_count": null,
   "id": "3a34ddd5",
   "metadata": {},
   "outputs": [],
   "source": []
  }
 ],
 "metadata": {
  "kernelspec": {
   "display_name": "Python 3 (ipykernel)",
   "language": "python",
   "name": "python3"
  },
  "language_info": {
   "codemirror_mode": {
    "name": "ipython",
    "version": 3
   },
   "file_extension": ".py",
   "mimetype": "text/x-python",
   "name": "python",
   "nbconvert_exporter": "python",
   "pygments_lexer": "ipython3",
   "version": "3.9.7"
  }
 },
 "nbformat": 4,
 "nbformat_minor": 5
}
