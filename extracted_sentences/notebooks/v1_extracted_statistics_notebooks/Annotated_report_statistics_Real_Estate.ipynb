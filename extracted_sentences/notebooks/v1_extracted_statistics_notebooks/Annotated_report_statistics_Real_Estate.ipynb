{
 "cells": [
  {
   "cell_type": "code",
   "execution_count": 1,
   "id": "724a6f13",
   "metadata": {},
   "outputs": [],
   "source": [
    "import os\n",
    "import PyPDF2\n",
    "import fitz"
   ]
  },
  {
   "cell_type": "code",
   "execution_count": 2,
   "id": "3b6b7b47",
   "metadata": {},
   "outputs": [],
   "source": [
    "dir = 'annoted_sustainability_reports/Real_Estate'"
   ]
  },
  {
   "cell_type": "code",
   "execution_count": 3,
   "id": "790d316b",
   "metadata": {},
   "outputs": [
    {
     "name": "stdout",
     "output_type": "stream",
     "text": [
      "annoted_sustainability_reports/Real_Estate/AmericanTowerCorp_2021_Sustainability_report.pdf\n",
      "Document('annoted_sustainability_reports/Real_Estate/AmericanTowerCorp_2021_Sustainability_report.pdf')\n",
      "['American\\xa0Tower is targeting a 40% reduction in absolute scope 1 and 2 GHG emissions by 2035 from a 2019 base year', ' American\\xa0Tower is targeting a 40% reduction in indirect scope 3 value chain GHG emissions by 2035 from a 2019 base year', 'In 2021, our scope 1 emissions decreased 6', '5% to 636,157 MTCO2e and our scope 2 (market-based) MTCO2e emissions decreased 6', '6% to 486,410 MTCO2e, compared to our 2019 baseline', ' Our overall scope 1 and 2 emissions reduction of 6', '5%, compared to our 2019 baseline, is driven by several factors, including improving communications site energy efficiency, deploying renewable energy solutions and upgrading on-site energy storage systems', ' At 99% of the approximately 1,000 newly built sites and nearly 75% of the approximately 2,100 legacy sites, we have installed solar arrays and lithium-ion batteries (LIBs)', ' Also, where possible, we have accelerated grid connections at newly built sites to utilize Kenyan grid power, which is increasingly powered by renewables', 'As such, we have a goal to expand our renewable energy portfolio to 66 megawatts (MW) of solar capacity installed at over 12,000 sites by 2025', ' powered by solar energy, eliminating the need for grid-based 58 electricity or diesel fuel', ' Across our markets, we now have 60 sites that are 100% own', ' In 2021, these contracts totaled 213,000 MWh of renewable energy, with approximately 52,000 MWh covering our usage and more than three times that amount, approximately 161,000 MWh, provided to our tenants', ' In 2021, the South Africa team further expanded our use of renewable energy solutions and installed the Company’s first- ever wind turbine to harness on-site wind power generation', ' Installations Solar Installations Solar Capacity (MW) On-site Solar Capacity (MW)We more than doubled the number of sites with LIBs APPENDICES  compared to 2020, reaching a total of nearly 50,000 LIBs, with over 400 MWh of capacity at 13,600 communications sites', ' We estimate the installations reduced on-site diesel consumption by nearly 12 million liters in 2021, which reduced our scope 1 emissions by nearly 30,000 MTCO2e', ' Installations Number of Sites In 2021, the Africa markets have reduced their reliance on diesel by more than 50% compared to 2017', 'Energy GHG Emissions (Scope 1, Scope 2, Scope 3)'] \n",
      " 18\n",
      "annoted_sustainability_reports/Real_Estate/Prologis_21to22_ESG_report.pdf\n",
      "Document('annoted_sustainability_reports/Real_Estate/Prologis_21to22_ESG_report.pdf')\n",
      "['Our new goal is to reach net zero emissions across our value chain by 2040', ' We have been carbon neutral for scope 1 (direct emissions) and scope 2 (emissions from purchased energy) since 2019', ' We accomplished this by improving energy efficiency and through our purchase of high-quality carbon offsets and renewable energy certificates (RECs)', ' Scope 3 emissions (emissions not directly associated with our operations) represent 99', '9% of our total emissions footprint—and our best opportunity to make an impact', '2021 Scope 1 and 2 Sources 2021 Scope 3 Sources Our Scope 1 and 2 emissions declined 22% from 2020 to 2021, primarily due to reduced use of natural gas for heating in offices we own', ' Primary sources of Scope 1 emissions include fuel Our Scope 1 and 2 emissions declined 22% natural gas for heating in offices we own', ' consumption in Prologis-owned and -leased Our Scope 3 emissions declined 1% from 2020 to 2021', ' We have reduced Scope 3 emissions by 38% from our 2016 science-based-target baseline, primarily through increased building Our Scope 3 emissions declined 1% from 2020 to 2021', ' We have reduced Scope 3 emissions by 38% from our 2016 science-based-target baseline, primarily through increased building energy efficiency', ' Our two largest sources of Scope 3 emissions are customer/tenant energy by 38% from our 2016 energy efficiency', ' Our (downstream leased Our 2018 Science Based Target was to reduce emissions 21% (Scopes 1 and 2) and 15% (Scope 3) by 2025, and 56% (Scopes 1 and 2) and 40% (Scope 3) by 2040, from Our updated (2022) Science Based Target will be to achieve net zero emissions for our operations (Scopes 1 and 2) by 2030 and for our value chain (Scope 3) by 2040', ' energy and emissions data, including an emissions intensity metric and our Greenhouse Gas Assurance Statement, please see the Data and Assurance pages on thePrologis continues to be a leader in the generation of solar energy, with 285 MW of generating capacity worldwide at the end of 2021', '* At year-end 2021, we had installed LED lighting across 57% of the warehouse and office space in our portfolio', ' By 2025, we intend to reach 100%', ' In 2022, we plan to expand EV charging as a service to customers and expect to manage approximately 10 MWs of EV charging capacity', 'We have committed to achieving carbon neutral construction by We have committed to achieving carbon neutral construction by 2025 for every building we build carbon neutral construction by 2025 for every building we build or redevelop', ' 2025 for every or redevelop', 'Where appropriate, depending on a building’s location, we install white or reflective surfaces on roofs to reduce a building’s energy consumption', ' Benefits include an up- to-15% reduction in the amount of energy needed for air conditioning; reduced roof maintenance costs from ultra- violet and infra-red damage; and a reduction in the urban heat island effect', ' At year-end 2021, 47% of our rooftop space was covered with a cool or reflective coating', ' Prologis’ Park Moissy II DC1 is a 1 million square foot logistics facility in Paris', ' Built with no gas connection, the building relies on design efficiencies, rooftop solar, purchased renewable energy and borehole geothermal energy storage for heating, cooling and power', ' It features electric and natural gas vehicle infrastructure, a rain catchment system for irrigation, 12 acres of PARKlifeTM space and placement of beehives on site', ' (The honey is shared with the tenant', ') These innovations avoid 115,000 mtCO2e of greenhouse gas emission and reduce operating expenses by an estimated $215,000 each year, depending on energy prices', 'Since 2008, we’ve mitigated 6', '1 million metric tons of carbon through this partnership', ' In 2021, we purchased offsets for approximately 20% (~240,000 metric tons of CO2e) of our 2021 construction- related GHG emissions', ' These offsets included related GHG emissions', ' These offsets included rainforest conservation in Brazil, Canada and Mexico and conservation, habitat management and building insulation alternatives in the U', 'S', ' The use of CarbonCure in the three buildings’ floors, tilt walls and exterior paving saved almost 250 metric tons of CO2—roughly the amount absorbed by 300 acres of trees in one year', ' We absorbed by 300 acres of trees in one year', ' We'] \n",
      " 35\n",
      "annoted_sustainability_reports/Real_Estate/CrownCastle_2021_ESG_report.pdf\n",
      "Document('annoted_sustainability_reports/Real_Estate/CrownCastle_2021_ESG_report.pdf')\n",
      "['Established goal to be Carbon Neutral by 2025 in Scope 1 & 2 emissions Carbon Neutral in Scope 1 & 2 emissions We have converted 57% of our 12,000+ We have converted 57% of our 12,000+ lit towers', ' 57% of our lit towers', ' In 2021, we contracted to source ~110,000 MWh In 2021, we contracted to source ~110,000 MWh of renewable electricity to source ~110,000 MWh of renewable electricity across 13 states beginning of renewable electricity across 13 states beginning in 2022', ' This amounts to across 13 states beginning in 2022', ' This amounts to 63% of our 2021 electricity in 2022', ' This amounts to 63% of our 2021 electricity consumption', '2 63% of our 2021 consumption', '22021 Greenhouse Gas (GHG) Emissions 2021 Scope 1 & 2 Emissions1'] \n",
      " 8\n"
     ]
    }
   ],
   "source": [
    "highlight_list = []\n",
    "rel_text = []\n",
    "\n",
    "for file in os.listdir(dir):\n",
    "    f = os.path.join(dir, file)\n",
    "    print(f)\n",
    "    \n",
    "    doc = fitz.open(f)\n",
    "    print(doc)\n",
    "    result = []\n",
    "    \n",
    "    for page in doc:\n",
    "        \n",
    "        highlights = []\n",
    "        annot = page.first_annot\n",
    "        while annot: \n",
    "            if annot.type[0] == 8:\n",
    "                all_coordinates = annot.vertices\n",
    "                try: \n",
    "                    if len(all_coordinates) == 4:\n",
    "                        highlight_coord = fitz.Quad(all_coordinates).rect\n",
    "                        highlights.append(highlight_coord)\n",
    "                    else: \n",
    "                        all_coordinates = [all_coordinates[x:x+4] for x in range(0,len(all_coordinates),4)]\n",
    "                        for i in range(0, len(all_coordinates)):\n",
    "                            coord = fitz.Quad(all_coordinates[i]).rect\n",
    "                            highlights.append(coord)\n",
    "                except:\n",
    "                    print(\"NoneType found\")\n",
    "            annot = annot.next\n",
    "        all_words = page.get_text_words()\n",
    "        highlight_text = []\n",
    "        if len(highlights) > 0:\n",
    "            for h in highlights:\n",
    "                sentence = []\n",
    "                for w in all_words:\n",
    "                    if fitz.Rect(w[0:4]).intersects(h):\n",
    "                        sentence.append(w[4])\n",
    "                highlight_text.append(\" \".join(sentence))\n",
    "        if len(highlight_text) > 0:\n",
    "            result.append(\" \".join(highlight_text))\n",
    "    s = \"\"\n",
    "\n",
    "    for r in result:\n",
    "        if r is not None:\n",
    "            s += r\n",
    "\n",
    "    # Create array of highlighted sentences in the pdf\n",
    "    highlighted_sentences = s.split('.')\n",
    "\n",
    "    print(highlighted_sentences, \"\\n\", len(highlighted_sentences))\n",
    "    \n",
    "    rel_text.append(highlighted_sentences)\n",
    "    \n",
    "    num_highlighted = len(highlighted_sentences)\n",
    "    \n",
    "    highlight_list.append(num_highlighted)"
   ]
  },
  {
   "cell_type": "code",
   "execution_count": 4,
   "id": "631b37d0",
   "metadata": {},
   "outputs": [
    {
     "name": "stdout",
     "output_type": "stream",
     "text": [
      "annoted_sustainability_reports/Real_Estate/AmericanTowerCorp_2021_Sustainability_report.pdf\n"
     ]
    },
    {
     "name": "stderr",
     "output_type": "stream",
     "text": [
      "Xref table not zero-indexed. ID numbers for objects will be corrected.\n"
     ]
    },
    {
     "name": "stdout",
     "output_type": "stream",
     "text": [
      "1434\n",
      "annoted_sustainability_reports/Real_Estate/Prologis_21to22_ESG_report.pdf\n"
     ]
    },
    {
     "name": "stderr",
     "output_type": "stream",
     "text": [
      "Xref table not zero-indexed. ID numbers for objects will be corrected.\n"
     ]
    },
    {
     "name": "stdout",
     "output_type": "stream",
     "text": [
      "1491\n",
      "annoted_sustainability_reports/Real_Estate/CrownCastle_2021_ESG_report.pdf\n",
      "160\n"
     ]
    }
   ],
   "source": [
    "# Extracting all sentences from the file \n",
    "sentences_list = []\n",
    "all_text = []\n",
    "\n",
    "for file in os.listdir(dir):\n",
    "    f = os.path.join(dir,file)\n",
    "    print(f)\n",
    "    \n",
    "    pdfFileObj = open(f, 'rb')\n",
    "    pdfReader  = PyPDF2.PdfFileReader(pdfFileObj)\n",
    "    \n",
    "    t = \"\"\n",
    "    \n",
    "    for count in range(len(fitz.open(f))):\n",
    "        pageObj = pdfReader.getPage(count)\n",
    "        t += pageObj.extractText()\n",
    "        \n",
    "    pdfFileObj.close()\n",
    "    total_sentences = t.split('.')\n",
    "    print(len(total_sentences))\n",
    "    \n",
    "    all_text.append(total_sentences)\n",
    "    \n",
    "    num_sentences = len(total_sentences)\n",
    "    \n",
    "    sentences_list.append(num_sentences)"
   ]
  },
  {
   "cell_type": "code",
   "execution_count": 8,
   "id": "6b827610",
   "metadata": {},
   "outputs": [
    {
     "data": {
      "image/png": "[encoded data removed]",
      "text/plain": [
       "<Figure size 432x288 with 1 Axes>"
      ]
     },
     "metadata": {
      "needs_background": "light"
     },
     "output_type": "display_data"
    }
   ],
   "source": [
    "import matplotlib.pyplot as plt\n",
    "import numpy as np\n",
    "import glob\n",
    "y = []\n",
    "\n",
    "x = [\"AmericanTowerCorp\", \"Prologis\", \"CrownCastle\"]\n",
    "\n",
    "i = 0\n",
    "\n",
    "for file in os.listdir(dir):\n",
    "    y.append(100 * (highlight_list[i])/sentences_list[i])\n",
    "    i = i+1\n",
    "\n",
    "plt.bar(x, y, width = 0.8)\n",
    "plt.xticks(rotation='vertical')\n",
    "plt.xlabel(\"Company\")\n",
    "plt.ylabel(\"Percent of sentences highlighted\")\n",
    "plt.yticks(np.arange(0, 50, 10))\n",
    "plt.show()"
   ]
  },
  {
   "cell_type": "code",
   "execution_count": 9,
   "id": "da7ae593",
   "metadata": {},
   "outputs": [
    {
     "data": {
      "text/plain": [
       "count    3.000000\n",
       "mean     2.867549\n",
       "std      1.925806\n",
       "min      1.255230\n",
       "25%      1.801324\n",
       "50%      2.347418\n",
       "75%      3.673709\n",
       "max      5.000000\n",
       "dtype: float64"
      ]
     },
     "execution_count": 9,
     "metadata": {},
     "output_type": "execute_result"
    }
   ],
   "source": [
    "import pandas as pd\n",
    "\n",
    "series = pd.Series(y)\n",
    "series.describe()"
   ]
  },
  {
   "cell_type": "code",
   "execution_count": 10,
   "id": "a8457196",
   "metadata": {},
   "outputs": [
    {
     "name": "stdout",
     "output_type": "stream",
     "text": [
      "Stored 'Real_Estate_reltext' (list)\n",
      "Stored 'Real_Estate_alltext' (list)\n"
     ]
    }
   ],
   "source": [
    "#storing variable so they can be called between notebooks (for aggregate analysis, test/train data sets, and modeling later on)\n",
    "\n",
    "Real_Estate_reltext = rel_text\n",
    "Real_Estate_alltext = all_text\n",
    "\n",
    "%store Real_Estate_reltext\n",
    "%store Real_Estate_alltext"
   ]
  },
  {
   "cell_type": "code",
   "execution_count": null,
   "id": "b668b0aa",
   "metadata": {},
   "outputs": [],
   "source": []
  }
 ],
 "metadata": {
  "kernelspec": {
   "display_name": "Python 3 (ipykernel)",
   "language": "python",
   "name": "python3"
  },
  "language_info": {
   "codemirror_mode": {
    "name": "ipython",
    "version": 3
   },
   "file_extension": ".py",
   "mimetype": "text/x-python",
   "name": "python",
   "nbconvert_exporter": "python",
   "pygments_lexer": "ipython3",
   "version": "3.9.7"
  }
 },
 "nbformat": 4,
 "nbformat_minor": 5
}
