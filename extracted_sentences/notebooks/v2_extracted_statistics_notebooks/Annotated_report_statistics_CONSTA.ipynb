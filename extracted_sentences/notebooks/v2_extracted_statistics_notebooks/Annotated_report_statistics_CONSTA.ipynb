{
 "cells": [
  {
   "cell_type": "code",
   "execution_count": 1,
   "metadata": {},
   "outputs": [],
   "source": [
    "import os\n",
    "import PyPDF2\n",
    "import fitz"
   ]
  },
  {
   "cell_type": "code",
   "execution_count": 8,
   "metadata": {},
   "outputs": [],
   "source": [
    "from nltk import tokenize\n",
    "# import nltk\n",
    "# nltk.download('punkt')"
   ]
  },
  {
   "cell_type": "code",
   "execution_count": 9,
   "metadata": {},
   "outputs": [],
   "source": [
    "dir = 'annoted_sustainability_reports/Consumer_Staples/'\n"
   ]
  },
  {
   "cell_type": "code",
   "execution_count": 29,
   "metadata": {},
   "outputs": [
    {
     "name": "stdout",
     "output_type": "stream",
     "text": [
      "annoted_sustainability_reports/Consumer_Staples/Mondelez_Intl_2021_Snacking_Made_Right_ESG_Report.pdf\n",
      "Document('annoted_sustainability_reports/Consumer_Staples/Mondelez_Intl_2021_Snacking_Made_Right_ESG_Report.pdf')\n",
      "['By 2025, reduce end-to-end By 2025, reduce end-to-end CO2e emissions end-to-end CO2e emissions by 10%, reduce CO2e emissions by 10%, reduce absolute water by 10%, reduce absolute water usage in priority absolute water usage in priority sites by 10%, usage in priority sites by 10%, and reduce food sites by 10%, and reduce food waste in internal and reduce food waste in internal manufacturing waste in internal manufacturing by 15%, over 2018 manufacturing by 15%, over 2018 base 15%, over baseClimate Action For the past few years we have been on a path to reduce our carbon emissions and in 2021, we took a key step forward – For the past few years we have been on a path to reduce our carbon emissions and in 2021, we took a key step forward – setting a goal of net zero greenhouse gas emissions across carbon emissions and in 2021, we took a key step forward – setting a goal of net zero greenhouse gas emissions across our full value chain by 2050. setting a goal of net zero full value chain by 2050.zero, In the goals, which is subject to verification by the SBTi (by 2023 latest).', 'In the meantime, we continue to deliver against our 2025 public goals, including reducing our absolute end-to-end greenhouse gas meantime, we continue to deliver against our 2025 public goals, including reducing our absolute end-to-end greenhouse gas emissions by 10% by 2025 vs a 2018 baseline, which is equivalent including reducing our absolute end-to-end greenhouse gas emissions by 10% by 2025 vs a 2018 baseline, which is equivalent to a 23% reduction vs business-as-usual.', 'emissions by 10% by 2025 vs a 2018 baseline, to a 23% reduction vs business-as-usual.', 'In 2021, we reduced our Scope 1 and 2 (market-based) emissions by 21% versus our 2018 baseline by continuing to improve energy In 2021, we reduced our Scope 1 and 2 (market-based) emissions by 21% versus our 2018 baseline by continuing to improve energy efficiency and increase our use of renewable energy.', 'by 21% versus our 2018 baseline by continuing to improve efficiency and increase our use of renewable energy.', 'In South Africa, our Port Elizabeth site installed four centralized chiller units, saving 380 MWh per year in refrigeration, reducing In South Africa, our Port Elizabeth site installed four centralized chiller units, saving 380 MWh per year in refrigeration, reducing CO2e by 2240 metric tonnes.', 'chiller units, saving 380 MWh CO2e by 2240 metric tonnes.', 'Meanwhile in Poland, our Skarbimierz plant optimized its refrigeration system with the installation of dry coolers as Meanwhile in Poland, our Skarbimierz plant optimized its refrigeration system with the installation of dry coolers as a free cooling loop, reducing the workhours of the chillers and refrigeration system with the installation of dry coolers as a free cooling loop, reducing the workhours of the chillers and in so doing cutting out 1,300 metric tonnes of CO2e.', 'free cooling loop, reducing the workhours of the chillers so doing cutting out 1,300 metric tonnes of CO2e.', 'Our East Suzhou plant, in China, is using the 200°C air emitted by its ovens to heat water and generate savings across the Our East Suzhou plant, in China, is using the 200°C air emitted by its ovens to heat water and generate savings across the refrigeration process and other systems – saving 334 metric by its ovens to heat water and generate savings across the refrigeration process and other systems – saving 334 metric tonnes of CO2e.', 'refrigeration process tonnes of CO2e.', 'Our 2025 Ambition Our 2025 Ambition (In Progress) Our 2021 Scope 1 & Our 2021 Scope 1 & 2 Progress Scope 1 & ProgressIncreasing Our Use of Renewable Energy In 2021, 32% of the electricity used in our manufacturing sites was renewable compared to 23% in 2020.', 'This initiative was the most In 2021, 32% of the electricity used in our manufacturing sites was renewable compared to 23% in 2020.', 'This initiative was the most important contributor to our reduction of 56,000 tons of carbon renewable compared to 23% in 2020.', 'This initiative was the most important contributor to our reduction of 56,000 tons of carbon emissions in 2021. important contributor emissions in 2021.', 'At our Port Elizabeth site, in South Africa, a new contract for wind energy almost doubled the percentage of renewable electricity in At our Port Elizabeth site, in South Africa, a new contract for wind energy almost doubled the percentage of renewable electricity in 2021, from 30% to 57%, reducing CO2e emissions by 9,000 metric energy almost doubled the percentage of renewable electricity in 2021, from 30% to 57%, reducing CO2e emissions by 9,000 metric tonnes annually.', '2021, from 30% to tonnes annually.', 'Our Claremont site in Australia is reducing its dependence on fossil fuels by installing heat pumps and recovering waste heat.', 'Our Claremont site in Australia is reducing its dependence on fossil fuels by installing heat pumps and recovering waste heat.', 'They achieved more than 12,000 Gigajoules (GJ) in energy savings, fossil fuels by installing heat pumps and recovering waste heat.', 'They achieved more than 12,000 Gigajoules (GJ) in energy savings, reduced CO2e by 900 metric tonnes.', 'They achieved more than 12,000 Gigajoules reduced CO2e by 900 metric tonnes.', 'Our installation, In China, we’re reducing CO2e with the help of solar power.', 'Our East Suzhou plant launched its solar generation installation, generating 1,317 MWh of power and reducing CO2e by 800 East Suzhou plant launched its solar generation installation, generating 1,317 MWh of power and reducing CO2e by 800 metric tonnes annually.', 'Our Beijing plant’s new solar panels generating 1,317 MWh of power and reducing CO2e by 800 metric tonnes annually.', 'Our Beijing plant’s new solar panels are generating 187 Megawatt-hour (MWh) of electricity and saving metric tonnes annually.', 'Our Beijing plant’s new solar panels are generating 187 Megawatt-hour (MWh) of electricity and saving 117 metric tonnes of CO2e annually.', 'But it’s not just a solar story.', 'generating 187 Megawatt-hour (MWh) 117 metric tonnes of CO2e annually.', 'Our Guangzhou plant is purchasing 117 metric tonnes of CO2e annually.', 'But it’s not just a solar story.', 'Our Guangzhou plant is purchasing renewable electricity from wind, generating 2,000 MWh of power and in so doing, reducing Our Guangzhou plant is purchasing renewable electricity from wind, generating 2,000 MWh of power and in so doing, reducing CO2e by 1,200 metric tonnes annually.', 'wind, generating 2,000 MWh of power CO2e by 1,200 metric tonnes annually.Invest in new mobility concepts including electric and hydrogen trucks.', 'Invest in new mobility and hydrogen trucks.Offering Our First Ever Green Bond In September 2021, we announced the successful pricing of our first green bond – totalling €2 billion, it was the largest In September 2021, we announced the successful pricing of our first green bond – totalling €2 billion, it was the largest green bond issuance to date in the packaged foods and our first green bond – totalling €2 billion, it was the largest green bond issuance to date in the packaged foods and consumer goods industry.', 'We are allocating the net proceeds green bond issuance to date consumer goods industry.', 'from the offering to eligible'] \n",
      " 36\n",
      "annoted_sustainability_reports/Consumer_Staples/Hershey_2021_esg_report.pdf\n",
      "Document('annoted_sustainability_reports/Consumer_Staples/Hershey_2021_esg_report.pdf')\n",
      "['In March 2021, we announced new science- In March 2021, we announced new science- based GHG reduction goals to cut our based GHG reduction goals to cut our absolute Scope 1 and Scope 2 emissions absolute Scope 1 and Scope 2 emissions by 50% and our absolute Scope 3 emissions by 50% and our absolute Scope 3 emissions by 25% by 2030 against a 2018 baseline.', 'How We Achieved Progress on Our Science- How We Achieved Progress on Our Science- Based Targets (SBTs) Progress on Our Science- Based Targets (SBTs) Scope 1 (Direct) and Scope 2 (Indirect): • Invested in three solar farm projects with Invested in three solar farm projects with the first coming online in 2021 and the the first coming online in 2021 and the other two scheduled to generate power other two scheduled in 2022 and 2024.', '• Purchased zero-emissions credits to Purchased zero-emissions credits to support our progress while the solar farms support our progress are constructed.', '• Identified opportunities and invested Identified opportunities and invested in reducing the energy intensity of in reducing the manufacturing.', '• Reduced coal usage (already phased out Reduced coal usage (already phased in 2022) within our India plant, where in 2022) within our India plant, where we’ve transitioned to using rice husks we’ve transitioned as biofuel.', 'Scope 3 (Value Chain Emissions) • Strengthened on-farm sustainability.', '• Reduced land use change through 100% Reduced land use change through 100% independently verified cocoa sourcing.', '• Supported regenerative agricultural Supported regenerative agricultural practices in collaboration with partners practices in collaboration and suppliers.progress toward our Scope 1 and 2 emissions Hershey received more than 14,600 target.', 'Hershey received more than 14,600 Renewable Energy Credits (RECs) from solar Renewable Energy projects in 2021.', 'In 2021, 77% of our electricity consumption was In 2021, 77% of our electricity consumption renewable and zero emission energy.1GHG EMISSIONS3,4,5GHG EMISSIONS1,2,3 EMISSIONS INTENSITY4ENERGY CONSUMPTION1,2'] \n",
      " 10\n",
      "annoted_sustainability_reports/Consumer_Staples/Philip_Morris_Intl_2021_integrated_report.pdf\n",
      "Document('annoted_sustainability_reports/Consumer_Staples/Philip_Morris_Intl_2021_integrated_report.pdf')\n"
     ]
    },
    {
     "name": "stdout",
     "output_type": "stream",
     "text": [
      "['35% reduction in 35% reduction in absolute GHG emissions in our tobacco supply reduction in absolute GHG emissions in our tobacco supply chain versus 2019 baseline emissions in our tobacco supply chain versus 2019 baseline 25% reduction in absolute SI 25% reduction in absolute scope 3 GHG emissions reduction in absolute scope 3 GHG emissions versus 2019 baseline scope 3 GHG emissions versus 2019 baseline 50% reduction in 50% reduction in absolute scope 1+2 GHG emissions versus reduction in absolute scope 1+2 GHG emissions versus 2019 baseline (SBT) 1+2 GHG emissions 2019 baseline (SBT) Net zero GHG emissions in our Net zero GHG emissions in our value chain (scope 1+2+3) GHG emissions in our chain (scope 1+2+3) 50% reduction in 50% reduction in absolute scope 3 GHG emissions versus reduction in absolute scope 3 GHG emissions versus 2019 baseline (SBT) 3 GHG emissions versus 2019 baseline (SBT) 50% reduction in 50% reduction in absolute GHG emissions in our tobacco supply reduction in absolute GHG emissions in our tobacco supply chain versus 2019 baseline emissions in our tobacco supply chain versus 2019 baseline O U R A S P I R AT I O N SWe now aim to achieve carbon neutrality in our operations (scope 1+2) by 2025 and net zero emissions across our entire value chain (scope 1+2+3) by 2040.', 'Once we have maximized our emissions reductions, we compensate for the remaining unavoidable emissions.', 'We prioritize insetting projects in our supply chain when possible and purchase certified carbon credits when needed.', 'OurCarbon emissions along our value chain in 2021 Overall, in 2021, our emissions decreased in absolute terms by 1.7 percent across our value chain versus 2020, amounting to a total reduction of 84,000 tons of CO2e.', 'More specifically, we achieved an absolute reduction in scope 1 emissions CO2e.', 'achieved an absolute reduction in scope 1 emissions of 4.3 percent, in scope 2 of 28.9 percent, and in scope 3 of 1.2 percent versus 2020.Overall, carbon emissions from our offices and warehouses decreased by 46 percent versus the 2019 baseline, continuing the positive trend from 2020.', 'This PMI reviewed its carbon pricing policy in 2020 and took a pioneering approach by developing two complementary internal carbon pricing instruments: a shadow price of USD 65 per ton of CO2e and a shadow price of USD 65 per ton of CO2e a carbon levy of USD 8 per ton of CO2e.', 'While the shadow price helps prioritize the business case for investments in activities aimed at structurally reducing carbon emissions, our carbon levy helps determine the investments required to abate our emissions through offsetting or insetting initiatives.'] \n",
      " 8\n",
      "annoted_sustainability_reports/Consumer_Staples/PepsiCo_2021_ESG_report.pdf\n",
      "Document('annoted_sustainability_reports/Consumer_Staples/PepsiCo_2021_ESG_report.pdf')\n",
      "['At PepsiCo, we’re striving to achieve net-zero emissions by 2040, a decade earlier than called for in the Paris Agreement and we’ve set an ambitious interim goal for reducing absolute emissions across our value chain by more than 40% by 2030, including a reduction of 75% in Scope 1 and 2 emissions (2015 baseline).Goals & progress Achieve net-zero emissions across our value chain by 2040On our journey to achieve our overarching goal of net-zero emissions by 2040, we’re working to reduce absolute GHG emissions by more than 40% across our entire value chain by 2030.', 'We’re planning to transition to 100% renewable electricity through a diversified portfolio of options across all our company-owned and controlled operations globally by 2030 and across our entire franchise operations by 2040.', 'We are investing in zero- and near-zero emission delivery vehicles for our company-owned fleets and partnering with others to support decarbonization of the broader transport industry.', 'We are improving energy-use efficiency and working to scale renewable fuel solutions at our manufacturing facilities.We’re proud that our brands are leading the charge to become sustainability leaders, from Pepsi-branded products in 11 European markets transitioning to 100% rPET bottles by the end of 2022 (which is expected to eliminate over 70,000 tonnes of conventional virgin plastic per year and reduce GHG emissions per bottle by roughly 30%) to the effort of Frito-Lay’s Off The Eaten Path to reduce GHG emissions by offering commercially compostable packaging made with 85% plant-based materials.POSITIVE VALUE CHAIN: CLIMATE'] \n",
      " 4\n",
      "annoted_sustainability_reports/Consumer_Staples/Altria_Environmental_Data.pdf\n",
      "Document('annoted_sustainability_reports/Consumer_Staples/Altria_Environmental_Data.pdf')\n",
      "[] \n",
      " 0\n",
      "annoted_sustainability_reports/Consumer_Staples/PandG_2019_Environmental_Sustainability_report.pdf\n",
      "Document('annoted_sustainability_reports/Consumer_Staples/PandG_2019_Environmental_Sustainability_report.pdf')\n",
      "['We are proud to share that we are purchasing 100% renewable electricity in the U.S., Canada and Western Europe.', 'These three markets are among our largest and represent more than 70% of our purchased electricity, signifying a strong start to P&G’s Ambition 2030 goal of purchasing 100% renewable electricity globally by 2030.Reduce absolute GHG emissions by 30% by 2020 Reduce energy use at P&G facilities by 20% per unit of production by 2020 We have reduced absolute GHG emissions by 25% Achieved\\u2009—\\u200921% reduction per unit of production Ensure plants are powered by 30% renewable energy 13% of energy is from renewable sourcesWe’re on track to deliver our science-based target to reduce absolute greenhouse gas emissions by 30% in 2020 versus 2010.', 'We have reduced absolute scope 1 & 2 greenhouse gas emissions by 25%.', 'The We have two key strategies to reduce greenhouse gas emissions by 2020: • Improve operating efficiency by 20%.', 'We have exceeded that target delivery: a 21% improvement this year versus 2010.', '• Moving to low-carbon energy sources with a goal of utilizing 30% renewable energy by next year.', 'In 2018, we made another significant step on our journey to reducing greenhouse gas (GHG) emissions with the announcement of Ambition 2030.', 'We committed to: • Reducing our Scope 1 & 2 greenhouse gas emissions by 50% on an absolute basis by 2030 (versus 2010 baseline).', 'Purchasing 100% renewable electricity in North America by 2020 and globally by 2030.Environmental Resource and Waste Summary'] \n",
      " 9\n",
      "annoted_sustainability_reports/Consumer_Staples/Altria_TCFD_report.pdf\n",
      "Document('annoted_sustainability_reports/Consumer_Staples/Altria_TCFD_report.pdf')\n",
      "[] \n",
      " 0\n",
      "annoted_sustainability_reports/Consumer_Staples/Costco_2020_Sustainability_Archive.pdf\n",
      "Document('annoted_sustainability_reports/Consumer_Staples/Costco_2020_Sustainability_Archive.pdf')\n",
      "[] \n",
      " 0\n",
      "annoted_sustainability_reports/Consumer_Staples/CocaCola_Business_and_ESG_report.pdf\n",
      "Document('annoted_sustainability_reports/Consumer_Staples/CocaCola_Business_and_ESG_report.pdf')\n",
      "['We’ve announced both our science-based target to We’ve announced both our science-based target to reduce our absolute emissions by 25% by 2030 against a reduce our absolute emissions by 25% by 2030 against 2015 baseline and an ambition to be net zero carbon by 2015 baseline 2050.Because packaging accounts for almost Because packaging accounts for almost one-third of our overall carbon footprint, one-third of our overall carbon footprint, virtually everything we do toward our World virtually everything we do toward our World Without Waste initiative also helps to achieve Without Waste initiative also our science-based target.', '10-15% of our emissions come Renewable energy use from manufacturing.', 'Renewable energy use as a percentage of total electricity for the as a percentage of total system was 12% in 2021.1In December 2021, the Coca-Cola system in Europe In December 2021, the Coca-Cola system in Europe announced a goal to reach net zero by 2040 across all announced a goal to reach net zero by 2040 across all European markets, covering the entire European value European markets, covering the entire European value chain, building on net zero and science-based targets chain, building on net zero and science-based targets set by The Coca-Cola Company’s two leading bottling set by The Coca-Cola Company’s two leading bottling partners in Europe, Coca-Cola Europacific Partners and partners in Europe, Coca-Cola Europacific Partners Coca-Cola HBC.', 'This effort seeks a reduction of 2.5 Coca-Cola HBC.', 'This effort seeks a reduction of 2.5 million tons of CO2 equivalent annually in Europe by 2030 compared to 2015—a reduction of 30%.', 'million tons of CO2 equivalent annually compared to 2015—a reduction of 30%.In India, SLMG Beverages Private Limited—our largest In India, SLMG Beverages Private Limited—our largest franchise bottling partner in India—is working toward franchise bottling partner in India—is working toward maximizing use of solar energy in its operations through maximizing use of solar energy in its operations through investments and installation of solar panels across its investments and installation of solar panels across its facilities.', 'The company, which has seven state-of-the-art facilities.', 'The company, which has seven state-of-the-art plants and a strong network of 1,500+ distributors in the plants and a strong network of 1,500+ distributors in the country, met 22% of its electricity requirement in 2021 country, met 22% of its through solar energy.Greenhouse Gas Emissions & Waste'] \n",
      " 8\n",
      "annoted_sustainability_reports/Consumer_Staples/Altria_2021_Corporate_Responsibility_Progress_report.pdf\n",
      "Document('annoted_sustainability_reports/Consumer_Staples/Altria_2021_Corporate_Responsibility_Progress_report.pdf')\n"
     ]
    },
    {
     "name": "stdout",
     "output_type": "stream",
     "text": [
      "['The above are supportive of our progress toward long- term, 2030 targets to: – Reduce absolute Scope 1 & Scope 2 emissions by 55%1 – Reduce absolute Scope 3 emissions by 18%1 – Achieve 100% renewable electricity – Reduce waste sent to landfill by 25% – Achieve 100% water neutrality each year'] \n",
      " 1\n",
      "annoted_sustainability_reports/Consumer_Staples/Walmart_2022_ESG_summary_report.pdf\n",
      "Document('annoted_sustainability_reports/Consumer_Staples/Walmart_2022_ESG_summary_report.pdf')\n",
      "['Walmart has committed to science-based targets (SBTs) for emissions reduction—including achieving a 35% reduction in absolute scopes 1 & 2 emissions by 2025 and a 65% reduction by 2030 (vs. 2015 base year)—on the way to achieving zero emissions in our operations by 2040.', 'We are also committed to engaging suppliers through Project Gigaton™, an ambitious effort to reduce or avoid one billion metric tons (a gigaton) of GHG emissions in the global value chain by 2030.', 'We achieved a 17.5% reduction in combined scopes 1 and 2 emissions between our 2015 calendar year baseline and 2020.39 To continue our progress, we are focused on renewable energy procurement, energy efficiency, refrigeration, transportation and stationary fuels.'] \n",
      " 3\n",
      "annoted_sustainability_reports/Consumer_Staples/EsteeLauder_FY2021_Social_Impact_and_Sustainability_report.pdf\n",
      "Document('annoted_sustainability_reports/Consumer_Staples/EsteeLauder_FY2021_Social_Impact_and_Sustainability_report.pdf')\n",
      "['In fiscal 2020, we achieved Net Zero Scope 1 and Scope 2 emissions and sourced 100% renewable electricity globally for our direct operations—commitments that we met again in fiscal 2021* and intend to maintain moving forward.GOALS: GOALS: Reduce absolute Scope 1 and 2 GHG emissions 50% by 2030 from a 2018 base year.', '* Reduce absolute Scope 1 and 2030 from a 2018 base year.', '* In fiscal 2021, we continued to make progress toward our Scope 1 and 2 emissions reduction target through a portfolio of climate solutions, including on-site renewables, energy efficiency projects, green utility contracts, and renewable energy credits.', 'Reduce Scope 3 GHG emissions from purchased goods and services, upstream transportation and distribution, Reduce Scope 3 GHG emissions from purchased goods and services, upstream transportation and distribution, and business travel by 60% per unit revenue over the and services, upstream transportation and distribution, and business travel by 60% per unit revenue over the same time frame.', '** and business travel same time frame.', '**To address Scope 1 and 2 emissions, we pursue energy efficiency and on-site/off-site renewable energy.', 'For transportation and distribution-related emissions (Scope 3), we are focusing on improving data quality to enable better decision making and maximize efficiency.We are party to a Virtual Power Purchase Agreement (VPPA) for 22 megawatts (MW) of wind power from the Ponderosa wind farm in Oklahoma, United States.', 'The Ponderosa wind farm generated more than 57,700 megawatt hours (MWh) of power in fiscal 2021.We also purchase renewable energy credits (RECs) to offset emissions from electricity use.', 'As of fiscal 2021, our total solar capacity is 5.7 MW.', 'During the fiscal year, we generated more than 5,000 MWh of solar energy, which is equivalent to the amount of carbon sequestered by 4,300 acres of U.S. forests in one year.In fiscal 2021, Aveda launched carbon-neutral shipping in the United States, procuring enough carbon emissions offset credits to cover online delivery emissions to consumers.Reduction of emissions due to conservation and efficiency measures19 1.0* GREENHOUSE GAS (GHG) EMISSIONSENERGY Reduction of energy consumption due to conservation and efficiency measures 19 5.0*'] \n",
      " 10\n"
     ]
    }
   ],
   "source": [
    "highlight_list = []\n",
    "rel_text = []\n",
    "\n",
    "for file in os.listdir(dir):\n",
    "    f = os.path.join(dir, file)\n",
    "    print(f)\n",
    "\n",
    "    doc = fitz.open(f)\n",
    "    print(doc)\n",
    "    result = []\n",
    "    \n",
    "    for page in doc:\n",
    "\n",
    "        highlights = []\n",
    "        annot = page.first_annot\n",
    "        while annot:\n",
    "            if annot.type[0] == 8:\n",
    "                all_coordinates = annot.vertices\n",
    "                try:\n",
    "                    if len(all_coordinates) == 4:\n",
    "                        highlight_coord = fitz.Quad(all_coordinates).rect\n",
    "                        highlights.append(highlight_coord)\n",
    "                    else:\n",
    "                        all_coordinates = [all_coordinates[x:x+4] for x in range(0, len(all_coordinates), 4)]\n",
    "                        for i in range(0,len(all_coordinates)):\n",
    "                            coord = fitz.Quad(all_coordinates[i]).rect\n",
    "                            highlights.append(coord)\n",
    "                except:\n",
    "                    print(\"NoneType found\")\n",
    "            annot = annot.next\n",
    "\n",
    "        all_words = page.get_text_words()\n",
    "        highlight_text = []\n",
    "        if len(highlights) > 0:\n",
    "            for h in highlights:\n",
    "                sentence = []\n",
    "                for w in all_words:\n",
    "                    if fitz.Rect(w[0:4]).intersects(h):\n",
    "                        sentence.append(w[4])\n",
    "                highlight_text.append(\" \".join(sentence))\n",
    "        if len(highlight_text) > 0:\n",
    "            result.append(\" \".join(highlight_text))\n",
    "        \n",
    "\n",
    "    s = \"\"\n",
    "        \n",
    "    for r in result:\n",
    "        if r is not None:\n",
    "            s += r\n",
    "        \n",
    "    #create array of highlighted sentences in the pdf\n",
    "#     highlighted_sentences = s.split('.')\n",
    "    highlighted_sentences = tokenize.sent_tokenize(s)\n",
    "\n",
    "    print(highlighted_sentences, \"\\n\", len(highlighted_sentences))\n",
    "\n",
    "    rel_text.append(highlighted_sentences)\n",
    "\n",
    "    num_highlighted = len(highlighted_sentences)\n",
    "\n",
    "    highlight_list.append(num_highlighted)"
   ]
  },
  {
   "cell_type": "code",
   "execution_count": 34,
   "metadata": {},
   "outputs": [
    {
     "name": "stderr",
     "output_type": "stream",
     "text": [
      "Xref table not zero-indexed. ID numbers for objects will be corrected.\n"
     ]
    },
    {
     "name": "stdout",
     "output_type": "stream",
     "text": [
      "annoted_sustainability_reports/Consumer_Staples/Mondelez_Intl_2021_Snacking_Made_Right_ESG_Report.pdf\n"
     ]
    },
    {
     "name": "stderr",
     "output_type": "stream",
     "text": [
      "Xref table not zero-indexed. ID numbers for objects will be corrected.\n"
     ]
    },
    {
     "name": "stdout",
     "output_type": "stream",
     "text": [
      "1165\n",
      "annoted_sustainability_reports/Consumer_Staples/Hershey_2021_esg_report.pdf\n",
      "945\n",
      "annoted_sustainability_reports/Consumer_Staples/Philip_Morris_Intl_2021_integrated_report.pdf\n",
      "2841\n",
      "annoted_sustainability_reports/Consumer_Staples/PepsiCo_2021_ESG_report.pdf\n"
     ]
    },
    {
     "name": "stderr",
     "output_type": "stream",
     "text": [
      "Xref table not zero-indexed. ID numbers for objects will be corrected.\n"
     ]
    },
    {
     "name": "stdout",
     "output_type": "stream",
     "text": [
      "179\n",
      "annoted_sustainability_reports/Consumer_Staples/Altria_Environmental_Data.pdf\n",
      "22\n",
      "annoted_sustainability_reports/Consumer_Staples/PandG_2019_Environmental_Sustainability_report.pdf\n"
     ]
    },
    {
     "name": "stderr",
     "output_type": "stream",
     "text": [
      "Xref table not zero-indexed. ID numbers for objects will be corrected.\n"
     ]
    },
    {
     "name": "stdout",
     "output_type": "stream",
     "text": [
      "709\n",
      "annoted_sustainability_reports/Consumer_Staples/Altria_TCFD_report.pdf\n",
      "262\n",
      "annoted_sustainability_reports/Consumer_Staples/Costco_2020_Sustainability_Archive.pdf\n"
     ]
    },
    {
     "name": "stderr",
     "output_type": "stream",
     "text": [
      "unknown widths : \n",
      "[0, IndirectObject(2994, 0, 140241289629264)]\n",
      "unknown widths : \n",
      "[0, IndirectObject(2989, 0, 140241289629264)]\n",
      "unknown widths : \n",
      "[0, IndirectObject(2984, 0, 140241289629264)]\n",
      "unknown widths : \n",
      "[0, IndirectObject(2979, 0, 140241289629264)]\n",
      "unknown widths : \n",
      "[0, IndirectObject(2974, 0, 140241289629264)]\n",
      "unknown widths : \n",
      "[0, IndirectObject(2969, 0, 140241289629264)]\n"
     ]
    },
    {
     "name": "stdout",
     "output_type": "stream",
     "text": [
      "165\n",
      "annoted_sustainability_reports/Consumer_Staples/CocaCola_Business_and_ESG_report.pdf\n",
      "956\n",
      "annoted_sustainability_reports/Consumer_Staples/Altria_2021_Corporate_Responsibility_Progress_report.pdf\n",
      "587\n",
      "annoted_sustainability_reports/Consumer_Staples/Walmart_2022_ESG_summary_report.pdf\n",
      "576\n",
      "annoted_sustainability_reports/Consumer_Staples/EsteeLauder_FY2021_Social_Impact_and_Sustainability_report.pdf\n",
      "1508\n"
     ]
    }
   ],
   "source": [
    "#Extracting all sentences from the file\n",
    "sentences_list = []\n",
    "all_text = []\n",
    "\n",
    "for file in os.listdir(dir):\n",
    "    f = os.path.join(dir, file)\n",
    "    print(f)\n",
    "\n",
    "    pdfFileObj = open(f, 'rb') \n",
    "    pdfReader = PyPDF2.PdfFileReader(pdfFileObj) \n",
    "\n",
    "    t = \"\"\n",
    "\n",
    "    for count in range(len(fitz.open(f))):\n",
    "        # print(count)\n",
    "        pageObj = pdfReader.getPage(count)\n",
    "        t += pageObj.extractText()\n",
    "        \n",
    "\n",
    "    pdfFileObj.close() \n",
    "#     total_sentences = t.split('.')\n",
    "    total_sentences = tokenize.sent_tokenize(t)\n",
    "    print(len(total_sentences))\n",
    "\n",
    "    all_text.append(total_sentences)\n",
    "\n",
    "    num_sentences = len(total_sentences)\n",
    "    \n",
    "    sentences_list.append(num_sentences)\n",
    "\n",
    "#1910 total sentences in Amazon_2021_sustainability_report.pdf\n"
   ]
  },
  {
   "cell_type": "code",
   "execution_count": 35,
   "metadata": {},
   "outputs": [
    {
     "data": {
      "image/png": "[encoded data removed]",
      "text/plain": [
       "<Figure size 432x288 with 1 Axes>"
      ]
     },
     "metadata": {
      "needs_background": "light"
     },
     "output_type": "display_data"
    }
   ],
   "source": [
    "import matplotlib.pyplot as plt\n",
    "import numpy as np\n",
    "import glob\n",
    "y = []\n",
    "\n",
    "x = [\"Mondelez_Intl\", \"Hershey\", \"Philip_Morris_Intl\", \"PepsiCo\", \"Altria_Environmental\", \"PandG\", \"Altria_TCFD\",\n",
    "     \"Costco\", \"CocaCola\", \"Altria_2021\", \"Walmart\", \"EsteeLauder\"]\n",
    "\n",
    "\n",
    "i = 0\n",
    "\n",
    "for file in os.listdir(dir):\n",
    "    y.append(100 * (highlight_list[i])/sentences_list[i])\n",
    "    i = i+1\n",
    "\n",
    "plt.bar(x, y, width = 0.8)\n",
    "plt.xticks(rotation='vertical')\n",
    "plt.title(\"Consumer Staples\")\n",
    "plt.xlabel(\"Company\")\n",
    "plt.ylabel(\"Percent of sentences highlighted\")\n",
    "plt.yticks(np.arange(0, 50, 10))\n",
    "plt.show()"
   ]
  },
  {
   "cell_type": "code",
   "execution_count": 36,
   "metadata": {},
   "outputs": [
    {
     "data": {
      "text/plain": [
       "count    12.000000\n",
       "mean      0.843758\n",
       "std       0.965313\n",
       "min       0.000000\n",
       "25%       0.127768\n",
       "50%       0.591982\n",
       "75%       1.110999\n",
       "max       3.090129\n",
       "dtype: float64"
      ]
     },
     "execution_count": 36,
     "metadata": {},
     "output_type": "execute_result"
    }
   ],
   "source": [
    "import pandas as pd\n",
    "\n",
    "series = pd.Series(y)\n",
    "series.describe()"
   ]
  },
  {
   "cell_type": "code",
   "execution_count": 37,
   "metadata": {},
   "outputs": [
    {
     "name": "stdout",
     "output_type": "stream",
     "text": [
      "Stored 'CONSTA_reltext' (list)\n",
      "Stored 'CONSTA_alltext' (list)\n"
     ]
    }
   ],
   "source": [
    "#storing variable so they can be called between notebooks (for aggregate analysis, test/train data sets, and modeling later on)\n",
    "\n",
    "CONSTA_reltext = rel_text\n",
    "CONSTA_alltext = all_text\n",
    "\n",
    "%store CONSTA_reltext\n",
    "%store CONSTA_alltext"
   ]
  },
  {
   "cell_type": "code",
   "execution_count": 38,
   "metadata": {},
   "outputs": [],
   "source": [
    "def extract_sentences(text):\n",
    "    sentences = []\n",
    "    for report in text:\n",
    "        for sent in report:\n",
    "            sentences.append(sent)\n",
    "    return sentences"
   ]
  },
  {
   "cell_type": "code",
   "execution_count": 39,
   "metadata": {},
   "outputs": [],
   "source": [
    "pd.DataFrame(extract_sentences(CONSTA_reltext)).to_csv(\"CONSTA_reltext.csv\", encoding = 'utf-8-sig')"
   ]
  },
  {
   "cell_type": "code",
   "execution_count": 40,
   "metadata": {},
   "outputs": [],
   "source": [
    "pd.DataFrame(extract_sentences(CONSTA_alltext)).to_csv(\"CONSTA_alltext.csv\", encoding = 'utf-8-sig')"
   ]
  }
 ],
 "metadata": {
  "kernelspec": {
   "display_name": "Python 3.9.13 ('pythondata')",
   "language": "python",
   "name": "python3"
  },
  "language_info": {
   "codemirror_mode": {
    "name": "ipython",
    "version": 3
   },
   "file_extension": ".py",
   "mimetype": "text/x-python",
   "name": "python",
   "nbconvert_exporter": "python",
   "pygments_lexer": "ipython3",
   "version": "3.9.13"
  },
  "vscode": {
   "interpreter": {
    "hash": "db1c1e886ca7e5218f158543d1b9804c0a5c522f5654be9e23cd8543b350db84"
   }
  }
 },
 "nbformat": 4,
 "nbformat_minor": 4
}
