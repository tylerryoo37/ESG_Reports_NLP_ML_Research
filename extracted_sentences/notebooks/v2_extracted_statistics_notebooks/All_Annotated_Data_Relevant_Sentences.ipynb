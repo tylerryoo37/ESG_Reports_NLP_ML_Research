{
 "cells": [
  {
   "cell_type": "markdown",
   "metadata": {},
   "source": [
    "### Pulling in All the Data Across Notebooks (version 1: aggregated, all, relevant sentences.csv)"
   ]
  },
  {
   "cell_type": "code",
   "execution_count": 56,
   "metadata": {},
   "outputs": [],
   "source": [
    "import pandas as pd\n",
    "import os "
   ]
  },
  {
   "cell_type": "code",
   "execution_count": 55,
   "metadata": {},
   "outputs": [],
   "source": [
    "%store -r HC_reltext\n",
    "%store -r HC_alltext\n",
    "\n",
    "%store -r IND_reltext\n",
    "%store -r IND_alltext\n",
    "\n",
    "%store -r Energy_reltext\n",
    "%store -r Energy_alltext\n",
    "\n",
    "%store -r CONSTA_reltext\n",
    "%store -r CONSTA_alltext\n",
    "\n",
    "%store -r CONDIS_reltext\n",
    "%store -r CONDIS_alltext\n",
    "\n",
    "%store -r IT_reltext\n",
    "%store -r IT_alltext\n",
    "\n",
    "%store -r Real_Estate_reltext\n",
    "%store -r Real_Estate_alltext\n",
    "\n",
    "%store -r Materials_reltext\n",
    "%store -r Materials_alltext\n",
    "\n",
    "%store -r Utilities_reltext\n",
    "%store -r Utilities_alltext"
   ]
  },
  {
   "cell_type": "code",
   "execution_count": 57,
   "metadata": {},
   "outputs": [],
   "source": [
    "all_relevant = HC_reltext+IND_reltext+Energy_reltext+CONSTA_reltext+CONDIS_reltext+IT_reltext+Real_Estate_reltext+Materials_reltext+Utilities_reltext"
   ]
  },
  {
   "cell_type": "code",
   "execution_count": 58,
   "metadata": {},
   "outputs": [],
   "source": [
    "all_text = HC_alltext+IND_alltext+Energy_alltext+CONSTA_alltext+CONDIS_alltext+IT_alltext+Real_Estate_alltext+Materials_alltext+Utilities_alltext"
   ]
  },
  {
   "cell_type": "code",
   "execution_count": 96,
   "metadata": {},
   "outputs": [],
   "source": [
    "text_dict = {\"relevant text\": all_relevant, \"all text\": all_text}\n",
    "text_df = pd.DataFrame(text_dict)\n",
    "text_df.to_csv(\"aggregated_sentences.csv\", encoding = 'utf-8-sig')\n"
   ]
  },
  {
   "cell_type": "code",
   "execution_count": 98,
   "metadata": {},
   "outputs": [],
   "source": [
    "pd.DataFrame(all_relevant).to_csv(\"relevant_sentences.csv\", encoding = 'utf-8-sig')"
   ]
  },
  {
   "cell_type": "code",
   "execution_count": 99,
   "metadata": {},
   "outputs": [],
   "source": [
    "pd.DataFrame(all_text).to_csv(\"all_sentences.csv\", encoding = 'utf-8-sig')"
   ]
  },
  {
   "cell_type": "markdown",
   "metadata": {},
   "source": [
    "### Statistics of Aggregated Data"
   ]
  },
  {
   "cell_type": "code",
   "execution_count": 45,
   "metadata": {
    "scrolled": true
   },
   "outputs": [
    {
     "name": "stdout",
     "output_type": "stream",
     "text": [
      "Total number of documents: 72\n"
     ]
    }
   ],
   "source": [
    "print(\"Total number of documents:\", len(all_relevant))"
   ]
  },
  {
   "cell_type": "code",
   "execution_count": 61,
   "metadata": {},
   "outputs": [],
   "source": [
    "# Order of relevant text and all_text from Healthcare to Utilities\n",
    "\n",
    "Healthcare = [\"EliLilly\", \"UnitedHealthGroup\", \"Merck\", \"BristolMyersSquibb\", \"Danaher\", \"Johnson&Johnson\", \n",
    "             \"Pfizer\", \"Abbott\", \"ThermosFisherSc\", \"Amgen\"]\n",
    "\n",
    "IND = [\"Capterpillar\", \"Lockheed\", \"Boeing\", \"UPS\", \"Raytheon\", \"Delta\", \"Deere\", \"Honeywell\", \"3M\", \n",
    "       \"UnionPacific\"]\n",
    "\n",
    "Energy = [\"Total\", \"BP\", \"Shell\"]\n",
    "\n",
    "CONSTA = [\"Mondelez_Intl\", \"Hershey\", \"Philip_Morris_Intl\", \"PepsiCo\", \"Altria_Environmental\", \n",
    "          \"PandG\", \"Altria_TCFD\", \"Costco\", \"CocaCola\", \"Altria_2021\", \"Walmart\", \"EsteeLauder\"]\n",
    "\n",
    "CONDIS = [\"McDonalds\", \"TJX\", \"Home Depot\", \"Lowes\", \"Target\", \"BookingHoldings\", \"Tesla\",\n",
    "     \"Amazon\", \"Nike\", \"Starbucks\"]\n",
    "\n",
    "IT = [\"Accenture\", \"Broadcom\", \"Mastercard\", \"Nvidia\", \"Oracle\", \"Cisco\", \"Microsoft\", \"Visa\", \"Adobe\", \"Apple\"]\n",
    "\n",
    "RealEstate = [\"AmericanTowerCorp\", \"Prologis\", \"CrownCastle\"]\n",
    "\n",
    "Materials = [\"Linde\", \"Ecolab\", \"SherwinWilliams\", \"IntrntlFlavorsandFragrances\", \"FreeportMcmoran\", \"Nucor\", \n",
    "             \"AirProducts\", \"Corteva\", \"NewmontMining\", \"Dow\"]\n",
    "\n",
    "Utilities = [\"Dominion_Energy\", \"Duke_Energy\", \"AEP\",\"NextEra\"]"
   ]
  },
  {
   "cell_type": "code",
   "execution_count": 62,
   "metadata": {},
   "outputs": [],
   "source": [
    "all_companies = Healthcare + IND + Energy + CONSTA + CONDIS + IT + RealEstate + Materials + Utilities\n",
    "\n",
    "report_rel_dict = {}\n",
    "report_all_dict = {}\n",
    "\n",
    "for indx, all_comp in enumerate(all_companies):\n",
    "    report_rel_dict[all_comp] = len(all_relevant[indx])\n",
    "    report_all_dict[all_comp] = len(all_text[indx])"
   ]
  },
  {
   "cell_type": "code",
   "execution_count": 63,
   "metadata": {},
   "outputs": [],
   "source": [
    "ds = [report_rel_dict, report_all_dict]"
   ]
  },
  {
   "cell_type": "code",
   "execution_count": 64,
   "metadata": {},
   "outputs": [],
   "source": [
    "sentences_stat = pd.DataFrame(ds).transpose()\n",
    "sentences_stat = sentences_stat.rename(columns = {0:\"relevant_text\", 1:'all_text'})"
   ]
  },
  {
   "cell_type": "code",
   "execution_count": 65,
   "metadata": {},
   "outputs": [
    {
     "data": {
      "text/html": [
       "<div>\n",
       "<style scoped>\n",
       "    .dataframe tbody tr th:only-of-type {\n",
       "        vertical-align: middle;\n",
       "    }\n",
       "\n",
       "    .dataframe tbody tr th {\n",
       "        vertical-align: top;\n",
       "    }\n",
       "\n",
       "    .dataframe thead th {\n",
       "        text-align: right;\n",
       "    }\n",
       "</style>\n",
       "<table border=\"1\" class=\"dataframe\">\n",
       "  <thead>\n",
       "    <tr style=\"text-align: right;\">\n",
       "      <th></th>\n",
       "      <th>relevant_text</th>\n",
       "      <th>all_text</th>\n",
       "    </tr>\n",
       "  </thead>\n",
       "  <tbody>\n",
       "    <tr>\n",
       "      <th>EliLilly</th>\n",
       "      <td>12</td>\n",
       "      <td>94</td>\n",
       "    </tr>\n",
       "    <tr>\n",
       "      <th>UnitedHealthGroup</th>\n",
       "      <td>0</td>\n",
       "      <td>721</td>\n",
       "    </tr>\n",
       "    <tr>\n",
       "      <th>Merck</th>\n",
       "      <td>8</td>\n",
       "      <td>1874</td>\n",
       "    </tr>\n",
       "    <tr>\n",
       "      <th>BristolMyersSquibb</th>\n",
       "      <td>4</td>\n",
       "      <td>1051</td>\n",
       "    </tr>\n",
       "    <tr>\n",
       "      <th>Danaher</th>\n",
       "      <td>2</td>\n",
       "      <td>720</td>\n",
       "    </tr>\n",
       "    <tr>\n",
       "      <th>...</th>\n",
       "      <td>...</td>\n",
       "      <td>...</td>\n",
       "    </tr>\n",
       "    <tr>\n",
       "      <th>Dow</th>\n",
       "      <td>4</td>\n",
       "      <td>2196</td>\n",
       "    </tr>\n",
       "    <tr>\n",
       "      <th>Dominion_Energy</th>\n",
       "      <td>1</td>\n",
       "      <td>587</td>\n",
       "    </tr>\n",
       "    <tr>\n",
       "      <th>Duke_Energy</th>\n",
       "      <td>20</td>\n",
       "      <td>792</td>\n",
       "    </tr>\n",
       "    <tr>\n",
       "      <th>AEP</th>\n",
       "      <td>15</td>\n",
       "      <td>1501</td>\n",
       "    </tr>\n",
       "    <tr>\n",
       "      <th>NextEra</th>\n",
       "      <td>17</td>\n",
       "      <td>163</td>\n",
       "    </tr>\n",
       "  </tbody>\n",
       "</table>\n",
       "<p>72 rows × 2 columns</p>\n",
       "</div>"
      ],
      "text/plain": [
       "                    relevant_text  all_text\n",
       "EliLilly                       12        94\n",
       "UnitedHealthGroup               0       721\n",
       "Merck                           8      1874\n",
       "BristolMyersSquibb              4      1051\n",
       "Danaher                         2       720\n",
       "...                           ...       ...\n",
       "Dow                             4      2196\n",
       "Dominion_Energy                 1       587\n",
       "Duke_Energy                    20       792\n",
       "AEP                            15      1501\n",
       "NextEra                        17       163\n",
       "\n",
       "[72 rows x 2 columns]"
      ]
     },
     "execution_count": 65,
     "metadata": {},
     "output_type": "execute_result"
    }
   ],
   "source": [
    "sentences_stat"
   ]
  },
  {
   "cell_type": "code",
   "execution_count": 66,
   "metadata": {},
   "outputs": [],
   "source": [
    "sentences_stat['percentage'] = round(sentences_stat['relevant_text'] / sentences_stat['all_text'] * 100, 2)"
   ]
  },
  {
   "cell_type": "code",
   "execution_count": 67,
   "metadata": {},
   "outputs": [],
   "source": [
    "sentences_stat['percentage'] = sentences_stat['percentage'].astype(str) + \"%\""
   ]
  },
  {
   "cell_type": "code",
   "execution_count": 68,
   "metadata": {},
   "outputs": [
    {
     "data": {
      "text/html": [
       "<div>\n",
       "<style scoped>\n",
       "    .dataframe tbody tr th:only-of-type {\n",
       "        vertical-align: middle;\n",
       "    }\n",
       "\n",
       "    .dataframe tbody tr th {\n",
       "        vertical-align: top;\n",
       "    }\n",
       "\n",
       "    .dataframe thead th {\n",
       "        text-align: right;\n",
       "    }\n",
       "</style>\n",
       "<table border=\"1\" class=\"dataframe\">\n",
       "  <thead>\n",
       "    <tr style=\"text-align: right;\">\n",
       "      <th></th>\n",
       "      <th>relevant_text</th>\n",
       "      <th>all_text</th>\n",
       "      <th>percentage</th>\n",
       "    </tr>\n",
       "  </thead>\n",
       "  <tbody>\n",
       "    <tr>\n",
       "      <th>EliLilly</th>\n",
       "      <td>12</td>\n",
       "      <td>94</td>\n",
       "      <td>12.77%</td>\n",
       "    </tr>\n",
       "    <tr>\n",
       "      <th>UnitedHealthGroup</th>\n",
       "      <td>0</td>\n",
       "      <td>721</td>\n",
       "      <td>0.0%</td>\n",
       "    </tr>\n",
       "    <tr>\n",
       "      <th>Merck</th>\n",
       "      <td>8</td>\n",
       "      <td>1874</td>\n",
       "      <td>0.43%</td>\n",
       "    </tr>\n",
       "    <tr>\n",
       "      <th>BristolMyersSquibb</th>\n",
       "      <td>4</td>\n",
       "      <td>1051</td>\n",
       "      <td>0.38%</td>\n",
       "    </tr>\n",
       "    <tr>\n",
       "      <th>Danaher</th>\n",
       "      <td>2</td>\n",
       "      <td>720</td>\n",
       "      <td>0.28%</td>\n",
       "    </tr>\n",
       "    <tr>\n",
       "      <th>...</th>\n",
       "      <td>...</td>\n",
       "      <td>...</td>\n",
       "      <td>...</td>\n",
       "    </tr>\n",
       "    <tr>\n",
       "      <th>Dow</th>\n",
       "      <td>4</td>\n",
       "      <td>2196</td>\n",
       "      <td>0.18%</td>\n",
       "    </tr>\n",
       "    <tr>\n",
       "      <th>Dominion_Energy</th>\n",
       "      <td>1</td>\n",
       "      <td>587</td>\n",
       "      <td>0.17%</td>\n",
       "    </tr>\n",
       "    <tr>\n",
       "      <th>Duke_Energy</th>\n",
       "      <td>20</td>\n",
       "      <td>792</td>\n",
       "      <td>2.53%</td>\n",
       "    </tr>\n",
       "    <tr>\n",
       "      <th>AEP</th>\n",
       "      <td>15</td>\n",
       "      <td>1501</td>\n",
       "      <td>1.0%</td>\n",
       "    </tr>\n",
       "    <tr>\n",
       "      <th>NextEra</th>\n",
       "      <td>17</td>\n",
       "      <td>163</td>\n",
       "      <td>10.43%</td>\n",
       "    </tr>\n",
       "  </tbody>\n",
       "</table>\n",
       "<p>72 rows × 3 columns</p>\n",
       "</div>"
      ],
      "text/plain": [
       "                    relevant_text  all_text percentage\n",
       "EliLilly                       12        94     12.77%\n",
       "UnitedHealthGroup               0       721       0.0%\n",
       "Merck                           8      1874      0.43%\n",
       "BristolMyersSquibb              4      1051      0.38%\n",
       "Danaher                         2       720      0.28%\n",
       "...                           ...       ...        ...\n",
       "Dow                             4      2196      0.18%\n",
       "Dominion_Energy                 1       587      0.17%\n",
       "Duke_Energy                    20       792      2.53%\n",
       "AEP                            15      1501       1.0%\n",
       "NextEra                        17       163     10.43%\n",
       "\n",
       "[72 rows x 3 columns]"
      ]
     },
     "execution_count": 68,
     "metadata": {},
     "output_type": "execute_result"
    }
   ],
   "source": [
    "sentences_stat"
   ]
  },
  {
   "cell_type": "code",
   "execution_count": 69,
   "metadata": {},
   "outputs": [],
   "source": [
    "sentences_stat.to_csv(\"sentences_stat.csv\")"
   ]
  },
  {
   "cell_type": "markdown",
   "metadata": {},
   "source": [
    "### Aggregating all the csv files into total_relevanat_texts and total_all_texts"
   ]
  },
  {
   "cell_type": "code",
   "execution_count": 70,
   "metadata": {},
   "outputs": [],
   "source": [
    "industry_types = ['CONSTA', 'CONDIS', 'Energy', 'IND', 'IT', 'HC', 'Materials', 'Real_Estate', 'Utilities']\n",
    "\n",
    "file_lists = []\n",
    "\n",
    "for i in industry_types:    \n",
    "    rel_file_name = i + \"_reltext.csv\"\n",
    "    file_lists.append(rel_file_name)"
   ]
  },
  {
   "cell_type": "code",
   "execution_count": 71,
   "metadata": {},
   "outputs": [
    {
     "data": {
      "text/plain": [
       "['CONSTA_reltext.csv',\n",
       " 'CONDIS_reltext.csv',\n",
       " 'Energy_reltext.csv',\n",
       " 'IND_reltext.csv',\n",
       " 'IT_reltext.csv',\n",
       " 'HC_reltext.csv',\n",
       " 'Materials_reltext.csv',\n",
       " 'Real_Estate_reltext.csv',\n",
       " 'Utilities_reltext.csv']"
      ]
     },
     "execution_count": 71,
     "metadata": {},
     "output_type": "execute_result"
    }
   ],
   "source": [
    "file_lists"
   ]
  },
  {
   "cell_type": "code",
   "execution_count": 72,
   "metadata": {},
   "outputs": [],
   "source": [
    "path = \"/Users/tylerryoo/t3/sentences_csv\"\n",
    "files = [os.path.join(path, file) for file in os.listdir(path)]\n",
    "total_rel_text = pd.concat((pd.read_csv(f) for f in files if f.endswith('reltext.csv')), ignore_index=True).reset_index()\n",
    "total_rel_text = total_rel_text['0']\n",
    "total_rel_text.to_csv(\"total_relevant_texts.csv\", encoding = 'utf-8-sig')"
   ]
  },
  {
   "cell_type": "code",
   "execution_count": 73,
   "metadata": {},
   "outputs": [],
   "source": [
    "total_all_text = pd.concat((pd.read_csv(f) for f in files if f.endswith('alltext.csv')), ignore_index=True).reset_index()\n",
    "total_all_text = total_all_text['0']\n",
    "total_all_text.to_csv(\"total_all_texts.csv\", encoding = 'utf-8-sig')"
   ]
  },
  {
   "cell_type": "markdown",
   "metadata": {},
   "source": [
    "### Save the extracted files to Aggregated_sentences_csv Folder \n",
    "\n",
    "- total_relevant_texts.csv: final version of relevant texts\n",
    "- total_all_texts.csv: final version of all_texts\n",
    "- aggregated_sentences.csv: both relevant and all sentences \n",
    "- all_sentences.csv: all sentences only\n",
    "- relevant_sentences.csv: relevant sentences only\n",
    "- sentences_stat.csv: extracted data statistics\n",
    "\n"
   ]
  },
  {
   "cell_type": "code",
   "execution_count": null,
   "metadata": {},
   "outputs": [],
   "source": []
  }
 ],
 "metadata": {
  "kernelspec": {
   "display_name": "Python 3 (ipykernel)",
   "language": "python",
   "name": "python3"
  },
  "language_info": {
   "codemirror_mode": {
    "name": "ipython",
    "version": 3
   },
   "file_extension": ".py",
   "mimetype": "text/x-python",
   "name": "python",
   "nbconvert_exporter": "python",
   "pygments_lexer": "ipython3",
   "version": "3.9.13"
  },
  "vscode": {
   "interpreter": {
    "hash": "db1c1e886ca7e5218f158543d1b9804c0a5c522f5654be9e23cd8543b350db84"
   }
  }
 },
 "nbformat": 4,
 "nbformat_minor": 2
}
