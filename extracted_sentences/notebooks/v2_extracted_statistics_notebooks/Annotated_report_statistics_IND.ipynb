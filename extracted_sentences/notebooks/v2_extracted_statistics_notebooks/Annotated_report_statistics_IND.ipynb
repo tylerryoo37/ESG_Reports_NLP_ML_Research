{
 "cells": [
  {
   "cell_type": "code",
   "execution_count": 8,
   "metadata": {},
   "outputs": [],
   "source": [
    "import os\n",
    "import PyPDF2\n",
    "import fitz"
   ]
  },
  {
   "cell_type": "code",
   "execution_count": 9,
   "metadata": {},
   "outputs": [],
   "source": [
    "from nltk import tokenize\n",
    "# import nltk\n",
    "# nltk.download('punkt')"
   ]
  },
  {
   "cell_type": "code",
   "execution_count": 10,
   "metadata": {},
   "outputs": [],
   "source": [
    "dir = 'annoted_sustainability_reports/Industrials'\n",
    " "
   ]
  },
  {
   "cell_type": "code",
   "execution_count": 11,
   "metadata": {
    "scrolled": true
   },
   "outputs": [
    {
     "name": "stdout",
     "output_type": "stream",
     "text": [
      "annoted_sustainability_reports/Industrials/Caterpillar_sustainability_2021.pdf\n",
      "Document('annoted_sustainability_reports/Industrials/Caterpillar_sustainability_2021.pdf')\n",
      "['For example, renewable liquid fuels like hydrotreated vegetable oil (HVO) are being used in our C175-20 engines to provide stand by power at a Microsoft data center in Sweden.', 'HVO can reduce carbon intensity by 45% to 85% versus diesel.The D6E XE high-drive dozer, for example, offers up to 35% better fuel efficiency and up to 23% less fuel usage than previous models.', 'The 795 electric drive mining truck with a diesel-electric drivetrain has been paired with a trolley-assist system that allows the truck to use electric power while traveling uphill, and then switch back to diesel operation if electricity isn’t readily available.', 'The trolley system reduces fuel burn by more than 90% while on trolley.We began offering generator sets configured to use 100% hydrogen and automated fleets of mining machinery.Customers can reduce emissions up to 45% utilizing products with advanced technology such as the D6 XE, 966 XE, 972 XE, 980 XE, 982 XE, 320 or 336.', 'Further, Deep system integration of the Cat CVT, engine, hydraulic and cooling systems significantly improve fuel efficiency up to 35%.', 'The Next Gen Cat 966 XE and 972 XE Wheel Loaders — updated in late 2021—also improve fuel efficiencies up to 35% compared to the previous powershift models.The D11 XE large dozer is our highest producing, most fuel-efficient Cat dozer ever.', 'Equipped with an electric drive powertrain, it reduces fuel consumption by up to 25% with a machine lifespan up to 20% longer.', 'We also updated our D10 series dozers, which now use 4% less fuel while offering a 3% boost in productivity.', 'The Cat 992 Large Wheel Loader has set the standard in its size class for more than 50 years.', 'In 2021, we raised the bar with our new 992, which has been demonstrated to produce up to 32% less emissions than its 992K counterpart.CarbonPoint Solutions provides technology to concentrate and capture CO2 for utilization or sequestration, with applications including engines and turbines at oil and gas sites, distributed power and industrial plants, and waste-to-energy sites.In 2021, over 35% of our electrical energy was obtained from renewable or alternative sources.', 'or alternative sources.', 'In 2021, we reduced our energy intensity by 12% from our 2018 baseline.', 'baseline.', 'Our absolute GHG emissions decreased 32% from 2018 to 2021. to 2021.', 'In 2021, we reduced our GHG emissions intensity by 27% from our 2018 baseline.', 'baseline.Product take-back by weight 7, 8 millions of pounds of end-of-life Product take-back by weight millions of pounds of end-of-life material received millions of pounds material received 155 153 131 127 Product take-back by percentage 7, 8 % of actual end-of-life returns/eligible Product take-back by percentage % of actual end-of-life returns/eligible returns % of actual returns 92% 91% 89% 88%'] \n",
      " 16\n",
      "annoted_sustainability_reports/Industrials/Lockheed_Martin_2021_Sustainability_Report.pdf\n",
      "Document('annoted_sustainability_reports/Industrials/Lockheed_Martin_2021_Sustainability_Report.pdf')\n",
      "['In 2021, we reduced Scope 1 and 2 carbon emissions per dollar of gross profit by\\xa047%.compared.', 'This In 2021, the facilities teams called our Go Green gated capital cycle.', 'In 2021, the Environment, Safety and Health and facilities teams completed 64 energy efficiency projects that resulted in annual savings of Environment, Safety and Health and facilities teams completed 64 energy efficiency projects that resulted in annual savings of 40.0 million kilowatt-hours of electricity and 17,200 MMBTU of 64 energy efficiency projects that resulted in annual savings of 40.0 million kilowatt-hours of electricity and 17,200 MMBTU of natural gas, and the avoidance of $3.8 million in utility and 40.0 million kilowatt-hours of electricity and 17,200 MMBTU natural gas, and the avoidance of $3.8 million in utility and maintenance costs.', 'This Go Green gated capital cycle is a natural gas, and the maintenance costs.', 'centerpiece of our energynumber 28 on the U.S. Environmental Since 2008, we have installed 13 on- Protection Agency Green Power Partnership’s list of Top 30 on-site generators and at site solar systems and one biomass facility, for a total of 10.3 megawatts of capacity.', 'In 2021, we met expectations by using renewable energy for 22% of our total electricity across Lockheed Martin global operations.', 'In 2021, we met expectations by using Lockheed Martin global operations.'] \n",
      " 7\n",
      "annoted_sustainability_reports/Industrials/Boeing_2022_Sustainability_Report.pdf\n",
      "Document('annoted_sustainability_reports/Industrials/Boeing_2022_Sustainability_Report.pdf')\n",
      "['Achieve 55% absolute reduction in Scope 1 and 2 GHG from 2017 baseline1 • Maintain net-zero emissions for Scope 1 and 2 • Achieve 100% renewable electricityAchieved 28% renewable electricity in 2021 28% renewable electricity in 2021 on our path to 100% in 2030 renewable electricity in 2021 on our path to 100% in 2030Boeing achieved net-zero carbon emissions at manufacturing and other facilities and in business travel in 2021 for the second consecutive year, by expanding conservation and renewable energy use while securing verified offsets for the remaining greenhouse gas emissions.Greenhouse gas emissions were 10% under plan primarily due to reduced production activities and procurement of renewables.', 'Despite cold northwestern U.S. weather in December, energy continued to be under plan overall for the enterprise, ending the 2021 reporting year at 9.8% under plan.', 'Remote working conditions; reduced production activities; and conservation gains contributed.', 'Environmentally Responsible OperationsPercentage of total energy that is renewable 12%'] \n",
      " 4\n",
      "annoted_sustainability_reports/Industrials/UPS_2020_TCFD_report.pdf\n",
      "Document('annoted_sustainability_reports/Industrials/UPS_2020_TCFD_report.pdf')\n",
      "['Scope 3 CO2e emissions were 21,437 In 2020 (in ‘000 Metric Tonnes): Scope 1 CO2e emissions were 15,751 Scope 2 CO2e emissions were 749Increase Electricity From Renewable Sources to 25 Percent by 2025 In 2020, total electricity being generated from renewable sources reached 7.8 In 2020, total electricity being generated from renewable sources reached percent.', 'This includes several rooftop solar arrays on UPS facilities and procurement of almost 88% renewable electricity within our European operations.', '2025 In 2020, we continued investing in alternative fuels for our ground fleet, In 2020, we continued investing in alternative fuels for our ground fleet, purchasing 142 million gallons of alternative fuels, which represented 22 percent of our total ground fuel usage.', '2035 We have seen a 14% reduction in CO2e per package from 2010 to 2020.', 'Starting from a base year of 2020, we will reduce the CO2e per package delivered by 50% We have seen a 14% reduction in CO2e per package from 2010 to 2020.', 'Starting from a base year of 2020, we will reduce the CO2e per package delivered by 50% by 2035.', 'This will be achieved by the milestones described above, along with fleet from a base year of 2020, we will reduce the CO2e per package delivered by 50% by 2035.', 'This will be achieved by the milestones described above, along with fleet electrification.', 'By 2025 25% renewable electricity for facilities (existing goal).', '40% alternative fuel purchases as a percent of total ground fuel (existing goal).', 'By 2035 30% sustainable aviation fuel.', '100% renewable electricity for facilities.', '50% reduction in CO2 per package delivered for global small package (2010 baseline).'] \n",
      " 13\n",
      "annoted_sustainability_reports/Industrials/Raytheon_2021_ESG_Report.pdf\n",
      "Document('annoted_sustainability_reports/Industrials/Raytheon_2021_ESG_Report.pdf')\n",
      "['a Pratt & Whitney GTFTM engine takes off from one of our 58 airline Every 20 seconds, a Pratt & Whitney GTFTM engine powered aircraft takes off from one of our 58 airline customers, producing 16% lower CO2 emissions and powered aircraft takes off from one of our 58 airline customers, producing 16% lower CO2 emissions and delivering 50% less nitrogen-oxide (NOx) emissions customers, producing 16% lower CO2 emissions and delivering 50% less nitrogen-oxide (NOx) emissions compared to prior-generation best-in-class engines, delivering 50% less nitrogen-oxide (NOx) emissions compared to prior-generation best-in-class engines, namely the IAE V2500 turbofans from 2015 levels.', 'compared to prior-generation best-in-class engines, namely the IAE V2500 turbofans from 2015 levels.', 'The GTF engine builds on a long track record of Since entering into service in 2016, this technology has saved operators 600 million gallons of fuel Since entering into service in 2016, this technology has saved operators 600 million gallons of fuel and avoided nearly 6 million metric tons of CO2.', 'has saved operators 600 million gallons of fuel and avoided nearly 6 million metric tons of CO2.', 'Our engineers are determined to drive additionalOur GHG emissions in 2021 were 1,507,000 metric tons of CO2e – 23% lower than our 2019 emissions.', 'Our GHG emissions in 2021 were 1,507,000 metric tons of CO2e – 23% lower than our 2019 emissions.', 'Our Scope 1 emissions represent 34% of that total, tons of CO2e – 23% lower than our 2019 emissions.', 'Our Scope 1 emissions represent 34% of that total, while Scope 2 (location-based emissions) represents Our Scope 1 emissions represent 34% of that total, while Scope 2 (location-based emissions) represents 62% and Scope 3 business travel makes up 4%.', 'while Scope 2 (location-based emissions) represents 62% and Scope 3 business travel makes up 4%.', 'However, our 2021 GHG emissions are lower than 62% and Scope 3 business travel makes up 4%.', 'However, our 2021 GHG emissions are lower than is typical due to the effects of the COVID-19 pandemic.', 'However, our 2021 GHG emissions are lower than is typical due to the effects of the COVID-19 pandemic.', 'We expect our GHG emissions to increase over the typical due to the effects of the COVID-19 pandemic.', 'We expect our GHG emissions to increase over the next couple of years.', 'We expect our GHG emissions next couple of years.', 'We are projects and component of our decarbonization strategy.', 'We are involved in over 30 renewable electricity projects and contracts around the globe that generated 92,000 involved in over 30 renewable electricity projects and contracts around the globe that generated 92,000 megawatt hours in 2021.', 'In addition to 22 renewable contracts around the globe that generated 92,000 megawatt hours in 2021.', 'In addition to 22 renewable projects located on-site at company locations, we also megawatt hours in 2021.', 'In addition to 22 renewable projects located on-site at company locations, we also purchased renewable electricity from offsite projects.', 'projects located on-site at company locations, we also purchased renewable electricity from offsite projects.', 'One of our largest renewable energy contracts began participation in an off-site In addition, several Collins are buying green power community solar program.', 'In addition, several Collins and RI&S sites in the UK are buying green power equal to 100% of their consumption.', 'and RI&S sites in the UK are buying green equal to 100% of their consumption.', 'Currently, 3.5% of our electricity, inclusive of all global sites, is from renewable energy resources Currently, 3.5% of our electricity, inclusive of all global sites, is from renewable energy resources (up from 1.5% in 2020) and we are actively looking to global sites, is from renewable energy resources (up from 1.5% in 2020) and we are actively looking to increase this proportion.', 'As part of our expanded from 1.5% in 2020) and we increase this proportion.', 'climate commitment, we'] \n",
      " 27\n",
      "annoted_sustainability_reports/Industrials/Delta_2021-esg-report.pdf\n",
      "Document('annoted_sustainability_reports/Industrials/Delta_2021-esg-report.pdf')\n"
     ]
    },
    {
     "name": "stdout",
     "output_type": "stream",
     "text": [
      "['Our long-term goal is net zero by no later than 2050, and we have announced our intention to set a net zero GHG emission goal covering our airline operations and value chain (Scopes 1, 2 and 3), in alignment with the United Nations Race to Zero – Business Ambition for 1.5°C campaign.', 'We aim to reduce life cycle jet fuel GHG emissions on a per revenue ton kilometer basis by 2035 compared to a 2019 baseline.', 'Our ability to achieve our ambitious climate goals is dependent on the actions of governments and third parties and will require, among other things, significant capital investment, including from third parties, research and development from manufacturers and other stakeholders, along with government policies and incentives to reduce the cost, and incent production, of SAF and other technologies that are not presently in existence or available at scale.OUR DECARBONIZATION PATHWAY In order to achieve net zero by 2050 and meaningful emissions intensity improvement by 2035, we will need to use all levers In order to achieve net zero by 2050 and meaningful emissions intensity improvement by 2035, we will need to use all levers commercially and economically available to us now and intensity improvement by 2035, we will need to use all levers commercially and economically available to us now and in the future, including: commercially and economically in the future, including: Fleet renewal Expected to provide Fleet renewal Expected to provide the largest impact on advancing Expected to provide the largest impact on advancing our goals in near-term largest impact on advancing our goals in near-term Operational initiatives Operational initiatives New Carbon Council initiatives New Carbon Council expected to drive continuous New Carbon Council expected to drive continuous operational improvements expected to drive continuous operational improvements in fuel efficiency operational improvements in fuel efficiency SAF 10% SAF Goal of 10% SAF by the end of 2030 with 5% Goal of 10% SAF by the end of 2030 with 5% achieving 85% lower the end of 2030 with 5% achieving 85% lower life cycle GHG emissions achieving 85% lower life cycle GHG emissions than conventional jet fuel life cycle GHG emissions than conventional jet fuel Offsets Out-of-aviation Offsets Out-of-aviation sector solutions, such as Out-of-aviation sector solutions, such as removaloffsets, will solutions, such as removaloffsets, will likely play a role removaloffsets, will likely play a roleIn the short term, this means aiming for annual improvements in fleet- wide fuel efficiency each year through 2035, which, if achieved, we expect would represent a meaningful reduction in fuel consumption rate over this period from 2019 to 2035.', 'Following 2035, we envision availability of next-generation aircraft technology such as the deployment of novel airframe designs and advanced propulsion technologies that could continue to improve fuel efficiency.', 'By 2030, Delta aims to procure more than 400 million gallons of SAF annually to meet our 10% goal, which is almost 40 times the total global SAF production in 2019.', 'Delta is establishing a goal to replace at least 5% of conventional jet fuel consumption with SAF that achieves at least an 85% reduction in life cycle GHG emissions relative to conventional jet fuel by 2030, pending availability and feasibility.', 'Current feedstock and technologies can produce SAF with up to 80% lower life cycle emissions than conventional jet fuel, which can be blended with conventional jet fuel at up to 50%.Below are five Carbon Council initiatives to reduce fuel consumption, along with prior examples of their successful implementation: �� Fixed Weight: Reducing the weight that is permanently installed on the plane.', 'Fixed Weight: Reducing the weight permanently installed on the plane.', 'E.g., wireless seatback entertainment permanently installed on the plane.', 'E.g., wireless seatback entertainment and carbon brakes.', 'E.g., wireless seatback carbon brakes.', '�� Variable Weight: Reducing the weight that is boarded on the plane.', 'E.g., removal Variable Weight: Reducing the weight that is boarded on the plane.', 'E.g., removal of Sky Magazine and reducing the weight that is boarded on the plane.', 'E.g., removal of Sky Magazine and reducing the weight of Unit Load Devices (e.g., cargo pallets).', 'of Sky Magazine and reducing the weight of Unit Load Devices (e.g., cargo pallets).', '�� Flight Operations: Changes to routing and flight planning to reduce fuel burn.', 'Flight Operations: Changes to routing and flight planning to reduce fuel burn.', 'E.g., investments in flight planning and flight planning to reduce fuel burn.', 'E.g., investments in flight planning software and collaboration with E.g., investments in flight planning software and collaboration with Air Traffic Control regarding established Required Navigation Performance (EoR).', 'Air Traffic Control regarding established Required Navigation Performance (EoR).', 'Additionally, Delta will continue to seek to collaborate with governments, airports Additionally, Delta will continue to seek collaborate with governments, airports and others on cross-industry initiatives.', 'collaborate with governments, airports and others on cross-industry initiatives.', 'One example of this ongoing collaboration is through the NextGen Advisory One example of this ongoing collaboration is through the NextGen Advisory Committee, which provides independent is through the NextGen Advisory Committee, which provides independent advice and recommendations to the FAA Committee, which provides independent advice and recommendations to the FAA related to air traffic management.', 'advice and recommendations to the related to air traffic management.', '�� Ground Operations: Investments in ground procedures to reduce Ground Operations: Investments in ground procedures to reduce fuel burn.', 'E.g., investments in in ground procedures to reduce fuel burn.', 'E.g., investments in communications technologies fuel burn.', 'E.g., investments in communications technologies and APU procedure compliance.', 'communications technologies APU procedure compliance.', '�� Aerodynamic Modifications: Permanent modifications to aircraft to improve Aerodynamic Modifications: Permanent modifications to aircraft to improve their aerodynamic performance.', 'E.g., modifications to aircraft to improve their aerodynamic performance.', 'E.g., investments in split-scimitar winglets their aerodynamic performance.', 'E.g., investments in split-scimitar winglets and blade-tip coating research with the investments in split-scimitar winglets and blade-tip coating research with the U.S. Air Force.', 'and blade-tip U.S. Air Force.', 'For Delta to reach net zero, out-of-sector solutions will likely be a necessary complement to fleet, SAF, operational initiatives and other in-sector technology improvements, and there will be a need to transition from avoidance (preventing deforestation) and reduction (solar, wind) type projects to removal projects that are absorbing incremental and additional CO2 from the atmosphere.', 'Nature-based CO2 atmosphere.', 'Nature-based solutions such as afforestation and reforestation or technology offsets such as direct air capture and carbon sequestration technologies will be necessary.', 'We allocated a portion of our offset portfolio for 2021 to support climate mitigation efforts that can impact emissions in the near-term, such as through the prevention of deforestation.', 'We expect much of the remaining investment in support of our goal to spend $1 billion through 2030 toward airline carbon neutrality to be focused on solutions other than offsets.', 'However, CORSIA, which limits net international carbon emissions to 2019 levels, will require the use of out-of- sector offsets to address growth in emissions.', 'Offsets that meet ICAO’s criteria will be used to achieve this obligation.Hydrogen Fuel with Airbus – Delta and Airbus are working together to advance collective knowledge in the industry together to advance collective knowledge in the industry on the opportunities and challenges associated with using hydrogen fuel to power planes.Progress Towards Our Goals Fuel Efficiency Improve fuel efficiency on an ASM basis FUEL EFFICIENCY (ASM) 17.0 16.5 16.0 15.5 15.0 ASM: Fuel efficiency on a capacity basis improved by 14.5 ASM: Fuel efficiency on a capacity basis improved by 0.8% compared to 2020 capacity basis improved 0.8% compared to 2020 partially as a result of our 14.0 0.8% compared to 2020 partially as a result of our fleet retirements.', 'partially as a result fleet retirements.', '13.5 13.0 2009 2010 2011 2012 2013 2014 2015 2016 2017 2018 2019 2020 2021  Achieve Net Zero by 2050 Achieve Net Zero by 2050 39% SAF secured 39% of 2030 SAF secured through offtake agreements Announced intention to set science-based targets to achieve net zero GHG emissions no later than 2050 and improve emissions intensity no later than 2035 compared to a 2019 baseline $137M invested purchase and retire offsets $137M to purchase and retire offsets relating to 27M metric tons of 2021 carbon emissions 25% eGSE by 2022, 50% by 2025 25% eGSE by 2022, 50% by 2025 $1B Investment through 2030 $1B Investment through 2030 19% electric ground support 19% electric ground support equipment (eGSE) as of April 2022 10% SAF by 2030Currently, fleet renewal is our greatest opportunity to improve our fuel efficiency and emissions intensity, and we have established sustainability considerations as one of the core pillars that guide our fleet strategy and our capital allocation decisions with respect to fleet.', 'In 2021, Delta took delivery of 52 next-gen aircraft that were, on average, 25% more fuel efficient per seat mile than retired aircraft, contributing to a fleet-wide fuel efficiency improvement of 0.8% compared to 2020.', 'This resulted in overall fuel savings of 22.5M gallons from a combination of fleet renewal, operational initiatives and other factors.', 'In734 metric tons of 734 metric tons of CO2 reduced through this co-processing pilot reduced through this co-processing pilot 1,747 metric tons of CO2 1,747 metric tons of CO2 through the corporate SAF program through the corporate SAF programAll 130 Delta 737-900ER aircraft are now equipped with split-scimitar winglets.', 'This aerodynamic enhancement improves fuel efficiency by reducing lift-induced drag.', 'For this fleet type, these winglets are expected to yield an annual fuel savings of 8M gallons.', 'This system takes advantage of the FAA’s NextGen airspace modernization initiative and can shorten flight times by 3-5 minutes.', 'By reducing overall flight time, this system drives both fuel savings and can help customers reach their destination more quickly.', 'This system could drive an estimated one million gallons in fuel savings annually at LAX alone once fully utilized.', 'In an effort to reduce fuel burned from GSE that service aircraft between flights, Delta has invested to achieve a 25% electric GSE (eGSE) fleet by the end of 2022 and 50% by the end of 2025.', 'In 2021, Delta retired and replaced over 460 pieces of equipment with zero-emissions eGSE.', \"As of April 2022, 19% of Delta's ground support equipment has been electrified.OFFSET PROJECT TYPES AVOIDANCE: Includes projects that work to avoid the release of emissions, e.g.\", 'protecting forests • REDD+: Reducing Emissions from Deforestation from Deforestation and Forest Degradation • LULUCF: Land Use, Land Use Change and Forestry Use Change and Forestry REDUCTION: Includes technologies or projects that increase the availability of renewable energy and convert waste into energy • Energy Capture • Renewable Energy: projects like solar- and wind-generated like solar- and wind-generated power installations REMOVAL: Involves projects to remove CO2 from the atmosphere and store it CO2 and store it • Carbon Capture and Storage (CCS) Storage (CCS) • Afforestation 2021 OFFSET PROJECT TYPES (by Quantity Purchased, MT CO2e) AVOIDANCE 44% (REDD+, LULUCF) Delta purchased nearly 12M metric tons of offsets dedicated Delta purchased nearly 12M metric tons of offsets dedicated to preventing deforestation metric tons of offsets dedicated to preventing deforestation 6% OFFSETS PROGRESS While our primary focus is on decarbonizing aviation and reaching net zero by 2050, we invested $137 million in offsets for 2021 to balance 27 million metric tons of currently unavoidable carbon emissions in support of our goal to spend $1 billion through 2030 toward airline carbon neutrality.', 'Going forward we expect much of the remaining spend in support of this goal to be focused on solutions other than offsets as we seek to advance our decarbonization pathway.', 'Our 2021 carbon offset portfolio included projects such as renewable energy, landfill gas and preventing deforestation.', 'In order to achieve our net zero goal in 2050, we intend to utilize removal-based projects that will help propel the development and execution of direct air capture and carbon sequestration technologies.', '50% (Energy Capture & Renewable Energy) REDUCTION REMOVAL (Carbon Capture and Storage (CCS) (Carbon Capture and Storage (CCS) & Afforestation ) and Storage (CCS) & Afforestation )'] \n",
      " 60\n",
      "annoted_sustainability_reports/Industrials/Deere_sustainability-report-2021.pdf\n",
      "Document('annoted_sustainability_reports/Industrials/Deere_sustainability-report-2021.pdf')\n"
     ]
    },
    {
     "name": "stdout",
     "output_type": "stream",
     "text": [
      "['Reduce greenhouse gas emissions by 15% through 50% renewable-energy supply and excellence in energy efﬁ ciency.', 'Reduce greenhouse gas emissions by 15% supply and excellence in energy efﬁ ciency.meet customer needs and In 2021, John Deere launched which are the culmination of reduce greenhouse gas emissions.', 'In 2021, John Deere launched the C770 Cotton Harvesters, which are the culmination of more than a decade-long journey that started in 2009 to the C770 Cotton Harvesters, which are the culmination of more than a decade-long journey that started in 2009 to revolutionize cotton harvesting.', 'These machines represent more than a decade-long journey revolutionize cotton harvesting.', 'most signiﬁ cant advancement in The beneﬁ ts of the C770 include an impressive 20-percent fuel savings through efﬁ cient engine technology and machine The beneﬁ ts of the C770 include an impressive 20-percent fuel savings through efﬁ cient engine technology and machine design — reducing fuel costs for the customer and lowering fuel savings through efﬁ cient engine technology and machine design — reducing fuel costs for the customer and lowering greenhouse gas emissions for the environment — and a design — reducing fuel costs for the customer and greenhouse gas emissions for the environment — completely redesigned baler system.', 'During theenables operators to The controls intuitively mirror how control the boom on our machines as if it is a human arm.', 'The controls used for reaching and securing trees for harvest intuitively mirror how that piece of equipment might function if it was actually the operator’s used for reaching and securing trees for harvest intuitively mirror how that piece of equipment might function if it was actually the operator’s arm.', 'This allows the operator to be 10-percent more efﬁ cient, which that piece of equipment might function if it was actually the operator’s arm.', 'This allows the operator to be 10-percent more efﬁ cient, which translates into both fuel and time savings.', 'arm.', 'This allows the operator to be 10-percent translates into both fuel and time savings.renewable electricity.', 'And we are on a path to exceed this goal.', 'In 2021, we achieved 20-percent reduction in GHG emissions from 2017 baseline and 40.5-percent renewable electricity.¹ Key drivers In 2021, we achieved 20-percent reduction in GHG emissions 2017 baseline and 40.5-percent renewable electricity.¹ of the reductions we saw this year included: the implementation emissions from Key drivers implementation 2017 baseline and 40.5-percent renewable electricity.¹ Key drivers of the reductions we saw this year included: the implementation of more than 40 energy-efﬁ ciency projects globally, in lighting of the reductions we saw this year included: the implementation of more than 40 energy-efﬁ ciency projects globally, in lighting and controls, compressed air, and manufacturing processes; the of more than 40 energy-efﬁ ciency projects globally, in lighting and controls, compressed air, and manufacturing processes; the continued greening of our electricity supply; and an employee and controls, compressed air, and manufacturing processes; the continued greening of our electricity supply; and an employee focus on eliminating energy waste.', 'For 2021, our enterprise Scope continued greening of our electricity supply; and an employee focus on eliminating energy waste.', 'For 2021, our enterprise Scope 1 GHG emissions were 403,300 metric tons and our Scope 2 GHG focus on eliminating energy waste.', 'For 2021, our enterprise Scope 1 GHG emissions were 403,300 metric tons and our Scope 2 GHG emissions were 407,700 metric tons.', '1 GHG emissions were 403,300 metric emissions were 407,700 metric tons.% Renewable Electricity1,2 40.5% 83% % of Waste Recycled3'] \n",
      " 17\n",
      "annoted_sustainability_reports/Industrials/Honeywell_Corporate-Citizenship-Report.pdf\n",
      "Document('annoted_sustainability_reports/Industrials/Honeywell_Corporate-Citizenship-Report.pdf')\n",
      "['An excellent example is our Solstice® line of low global warming potential refrigerants, propellants, and solvents.', 'Just that product line alone has helped us - and our customers, avoid potential emissions of more than 200 million metric tons of carbon dioxide equivalent from the atmosphere.Since project tracking began in 2010, more than 5,700 efficiency projects, including building automation and controls, lighting, and mechanical upgrades have been implemented at our facilities, resulting in $100 million in annualized savings.', 'Efficiency projects installed at our site include site-wide LED lighting, new\\xa0variable frequency drives, upgrades to HVAC controls, and compressed air leak detection and repair, all estimated to save nearly 20% of the site’s GHG emissions.Our site implemented LED lighting in the production area and completed renewal projects for their steam traps and absorption cooling system with an estimated savings of 8% of the site’s GHG emissions.', 'Our site installed 1,152 solar modules with a total capacity of 426 kWp.', 'The now fully operational array is expected to reduce significant GHG emissions from the site and offset approximately 35% of energy use from the grid.', 'Ultimately, this increases HVAC efficiency and is expected to save energy usage by 5% while improving user comfort.'] \n",
      " 6\n",
      "annoted_sustainability_reports/Industrials/3M_2022_Global_Impact_report.pdf\n",
      "Document('annoted_sustainability_reports/Industrials/3M_2022_Global_Impact_report.pdf')\n",
      "NoneType found\n",
      "['3M’s goal is to achieve 3M’s goal is to achieve carbon neutrality by 2050 carbon neutralityGoal: improve energy Goal: improve energy efficiency, indexed efficiency, indexed to net sales, by 30% to net sales, by 2025 Goal: increase Goal: increase renewable energy to renewable energy to 50% of total electricity 50% of total electricity use by 2025 In 2019, we achieved our 2025 goal by surpassing 25% renewable electricity.', 'Goal: reduce Scope 1 Goal: reduce Scope and 2 market-based and 2 market-based GHG emissions from GHG emissions from our 2019 baseline by at our 2019 baseline by at least 50% by 2030, 80% least 50% by 2030, 80% by 2040, and be 100% by 2040, and be 100% carbon neutral in our carbon neutral in our operations by 2050 As part of our strategic focus on empowering Science for Climate, we increased our interim target from 25% to 50% renewable electricity by 2025, toward our ultimate goal of 100% renewable electricity by 2050.As of 2021, 3M improved energy efficiency, indexed to net sales, by 14.2% toward a goal of 30% by 2025 In 2019, we achieved our 2025 goal by surpassing 25% renewable electricity.3M has reduced Scope 1 GHG emissions by 82.3% since 2002, providing a direct and immediate reduction of our carbon emissions.', 'During this same timeframe, we achieved a 75.0% reduction in absolute Scope 1 and 2 location-based GHG emissions.', 'Since 2019, 3M reduced Scope 1 GHG emissions by 26.4%, and achieved a 26.1% reduction in absolute Scope 1 and 2 market-based GHG emissions.GHG emission reductions are achieved through a variety of methods: improving process and equipment efficiency, upgrading equipment, reducing our demand for energy use, increasing our use of renewable electricity, and implementing and maintaining emission control technologies.'] \n",
      " 4\n",
      "annoted_sustainability_reports/Industrials/UnionPacific_2021_climate_action_pln.pdf\n",
      "Document('annoted_sustainability_reports/Industrials/UnionPacific_2021_climate_action_pln.pdf')\n",
      "NoneType found\n",
      "['In 2019, Union Pacific reduced its target scope GHG emissions by roughly 10% from its baseline in 2018 due to improvements in operating efficiency.', 'In 2020, Union Pacific further reduced its target scope GHG emissions by another 10% from its base year.', 'The reduction in 2020 was largely driven by decreased volumes as a result of the COVID-19 pandemic.', 'As we now turn our focus toward growth, we anticipate we’ll have to rely on more than operational efficiencies to achieve our goals.At the same time, we have retired about 2,500 older, less fuel-efficient locomotives, which reduced our total fleet by approximately 35%.Nearly 175 high- and low-horsepower locomotives were overhauled in 2020, meaning they were completely rebuilt to meet more stringent emissions standards.', 'Each modernization results in an approximate 53% reduction in emissions and an additional 5% reduction in fuel consumption per engine.', 'Our Energy Management System (EMS) on locomotives helps us identify opportunities to save fuel.', 'EMS has been implemented in approximately two thirds of our active road fleet with a target of full implementation by 2025.', 'We estimate that EMS will reduce our absolute GHG emissions by 4% annually by 2025.', 'Additional management actions have allowed us to further reduce overall locomotive energy consumption by 1.5% from 2018 to 2020.estimates.', 'In 2020, we estimate that our customers eliminated approximately 21.9 million metric tons of GHG emissions by choosing rail over truck transportation.', 'That’s the equivalent of removing 4.32 million cars from our highways or planting 335 million trees.Introduced Genset and Green Goat locomotives for service in Introduced Genset and Green Goat locomotives for service in California, Texas and Chicago, locomotives for service in California, Texas and Chicago, with fuel-savings of more California, Texas and Chicago, with fuel-savings of more than 20% compared to with fuel-savings of more than 20% compared to diesel locomotives in than 20% compared to diesel locomotives in similar use diesel locomotives similar use Progress Rail approved the use of up to 20% biodiesel Progress Rail approved the use of up to 20% biodiesel blend in the vast majority of use of up to 20% biodiesel blend in the vast majority of Electro-Motive Diesel blend in the vast majority Electro-Motive Diesel (EMD) locomotives Electro-Motive Diesel (EMD) locomotives we operate (EMD) locomotives we operate reduce the size of our , which of our , which retire our , which allows us to retire ourWe replaced 160 light fixtures with LED lights in our Fort Worth locomotive shop to save annually approximately 425,000 kWh.', 'We completed a similar project in our North Platte Supply Department, replacing 47 fixtures to save annually approximately 100,000 kWh.'] \n",
      " 12\n"
     ]
    }
   ],
   "source": [
    "highlight_list = []\n",
    "rel_text = []\n",
    "\n",
    "for file in os.listdir(dir):\n",
    "    f = os.path.join(dir, file)\n",
    "    print(f)\n",
    "\n",
    "    doc = fitz.open(f)\n",
    "    print(doc)\n",
    "    result = []\n",
    "    \n",
    "    for page in doc:\n",
    "\n",
    "        highlights = []\n",
    "        annot = page.first_annot\n",
    "        while annot:\n",
    "            if annot.type[0] == 8:\n",
    "                all_coordinates = annot.vertices\n",
    "                try:\n",
    "                    if len(all_coordinates) == 4:\n",
    "                        highlight_coord = fitz.Quad(all_coordinates).rect\n",
    "                        highlights.append(highlight_coord)\n",
    "                    else:\n",
    "                        all_coordinates = [all_coordinates[x:x+4] for x in range(0, len(all_coordinates), 4)]\n",
    "                        for i in range(0,len(all_coordinates)):\n",
    "                            coord = fitz.Quad(all_coordinates[i]).rect\n",
    "                            highlights.append(coord)\n",
    "                except:\n",
    "                    print(\"NoneType found\")\n",
    "            annot = annot.next\n",
    "\n",
    "        all_words = page.get_text_words()\n",
    "        highlight_text = []\n",
    "        if len(highlights) > 0:\n",
    "            for h in highlights:\n",
    "                sentence = []\n",
    "                for w in all_words:\n",
    "                    if fitz.Rect(w[0:4]).intersects(h):\n",
    "                        sentence.append(w[4])\n",
    "                highlight_text.append(\" \".join(sentence))\n",
    "        if len(highlight_text) > 0:\n",
    "            result.append(\" \".join(highlight_text))\n",
    "        \n",
    "\n",
    "    s = \"\"\n",
    "        \n",
    "    for r in result:\n",
    "        if r is not None:\n",
    "            s += r\n",
    "        \n",
    "    #create array of highlighted sentences in the pdf\n",
    "#     highlighted_sentences = s.split('.')\n",
    "    highlighted_sentences = tokenize.sent_tokenize(s)\n",
    "\n",
    "    print(highlighted_sentences, \"\\n\", len(highlighted_sentences))\n",
    "\n",
    "    rel_text.append(highlighted_sentences)\n",
    "\n",
    "    num_highlighted = len(highlighted_sentences)\n",
    "\n",
    "    highlight_list.append(num_highlighted)\n"
   ]
  },
  {
   "cell_type": "code",
   "execution_count": 12,
   "metadata": {},
   "outputs": [
    {
     "name": "stdout",
     "output_type": "stream",
     "text": [
      "annoted_sustainability_reports/Industrials/Caterpillar_sustainability_2021.pdf\n",
      "602\n",
      "annoted_sustainability_reports/Industrials/Lockheed_Martin_2021_Sustainability_Report.pdf\n",
      "876\n",
      "annoted_sustainability_reports/Industrials/Boeing_2022_Sustainability_Report.pdf\n",
      "1082\n",
      "annoted_sustainability_reports/Industrials/UPS_2020_TCFD_report.pdf\n"
     ]
    },
    {
     "name": "stderr",
     "output_type": "stream",
     "text": [
      "Xref table not zero-indexed. ID numbers for objects will be corrected.\n"
     ]
    },
    {
     "name": "stdout",
     "output_type": "stream",
     "text": [
      "85\n",
      "annoted_sustainability_reports/Industrials/Raytheon_2021_ESG_Report.pdf\n",
      "1017\n",
      "annoted_sustainability_reports/Industrials/Delta_2021-esg-report.pdf\n",
      "605\n",
      "annoted_sustainability_reports/Industrials/Deere_sustainability-report-2021.pdf\n",
      "687\n",
      "annoted_sustainability_reports/Industrials/Honeywell_Corporate-Citizenship-Report.pdf\n",
      "536\n",
      "annoted_sustainability_reports/Industrials/3M_2022_Global_Impact_report.pdf\n"
     ]
    },
    {
     "name": "stderr",
     "output_type": "stream",
     "text": [
      "Xref table not zero-indexed. ID numbers for objects will be corrected.\n"
     ]
    },
    {
     "name": "stdout",
     "output_type": "stream",
     "text": [
      "2833\n",
      "annoted_sustainability_reports/Industrials/UnionPacific_2021_climate_action_pln.pdf\n",
      "292\n"
     ]
    }
   ],
   "source": [
    "#Extracting all sentences from the file\n",
    "sentences_list = []\n",
    "all_text = []\n",
    "\n",
    "for file in os.listdir(dir):\n",
    "    f = os.path.join(dir, file)\n",
    "    print(f)\n",
    "\n",
    "    pdfFileObj = open(f, 'rb') \n",
    "    pdfReader = PyPDF2.PdfFileReader(pdfFileObj) \n",
    "\n",
    "    t = \"\"\n",
    "\n",
    "    for count in range(len(fitz.open(f))):\n",
    "        # print(count)\n",
    "        pageObj = pdfReader.getPage(count)\n",
    "        t += pageObj.extractText()\n",
    "        \n",
    "\n",
    "    pdfFileObj.close() \n",
    "#     total_sentences = t.split('.')\n",
    "    total_sentences = tokenize.sent_tokenize(t)\n",
    "    print(len(total_sentences))\n",
    "\n",
    "    all_text.append(total_sentences)\n",
    "\n",
    "    num_sentences = len(total_sentences)\n",
    "\n",
    "    sentences_list.append(num_sentences)\n"
   ]
  },
  {
   "cell_type": "code",
   "execution_count": 13,
   "metadata": {},
   "outputs": [
    {
     "data": {
      "image/png": "[encoded data removed]",
      "text/plain": [
       "<Figure size 432x288 with 1 Axes>"
      ]
     },
     "metadata": {
      "needs_background": "light"
     },
     "output_type": "display_data"
    }
   ],
   "source": [
    "import matplotlib.pyplot as plt\n",
    "import numpy as np\n",
    "import glob\n",
    "y = []\n",
    "\n",
    "x = [\"Capterpillar\", \"Lockheed\", \"Boeing\", \"UPS\", \"Raytheon\", \"Delta\", \"Deere\", \"Honeywell\", \"3M\", \"UnionPacific\"]\n",
    "\n",
    "i = 0\n",
    "\n",
    "for file in os.listdir(dir):\n",
    "    y.append(100 * (highlight_list[i])/sentences_list[i])\n",
    "    i = i+1\n",
    "\n",
    "plt.bar(x, y, width = 0.8)\n",
    "plt.xticks(rotation='vertical')\n",
    "plt.xlabel(\"Company\")\n",
    "plt.ylabel(\"Percent of sentences highlighted\")\n",
    "plt.yticks(np.arange(0, 50, 10))\n",
    "plt.show()"
   ]
  },
  {
   "cell_type": "code",
   "execution_count": 14,
   "metadata": {},
   "outputs": [
    {
     "data": {
      "text/plain": [
       "count    10.000000\n",
       "mean      3.953763\n",
       "std       4.888922\n",
       "min       0.141193\n",
       "25%       0.879166\n",
       "50%       2.564697\n",
       "75%       3.746644\n",
       "max      15.294118\n",
       "dtype: float64"
      ]
     },
     "execution_count": 14,
     "metadata": {},
     "output_type": "execute_result"
    }
   ],
   "source": [
    "import pandas as pd\n",
    "\n",
    "series = pd.Series(y)\n",
    "series.describe()"
   ]
  },
  {
   "cell_type": "code",
   "execution_count": 15,
   "metadata": {},
   "outputs": [
    {
     "name": "stdout",
     "output_type": "stream",
     "text": [
      "Stored 'IND_reltext' (list)\n",
      "Stored 'IND_alltext' (list)\n"
     ]
    }
   ],
   "source": [
    "#storing variable so they can be called between notebooks (for aggregate analysis, test/train data sets, and modeling later on)\n",
    "\n",
    "IND_reltext = rel_text\n",
    "IND_alltext = all_text\n",
    "\n",
    "%store IND_reltext\n",
    "%store IND_alltext"
   ]
  },
  {
   "cell_type": "code",
   "execution_count": 16,
   "metadata": {},
   "outputs": [],
   "source": [
    "def extract_sentences(text):\n",
    "    sentences = []\n",
    "    for report in text:\n",
    "        for sent in report:\n",
    "            sentences.append(sent)\n",
    "    return sentences"
   ]
  },
  {
   "cell_type": "code",
   "execution_count": 17,
   "metadata": {},
   "outputs": [],
   "source": [
    "pd.DataFrame(extract_sentences(IND_reltext)).to_csv(\"IND_reltext.csv\", encoding = 'utf-8-sig')"
   ]
  },
  {
   "cell_type": "code",
   "execution_count": 18,
   "metadata": {},
   "outputs": [],
   "source": [
    "pd.DataFrame(extract_sentences(IND_alltext)).to_csv(\"IND_alltext.csv\", encoding = 'utf-8-sig')"
   ]
  }
 ],
 "metadata": {
  "kernelspec": {
   "display_name": "Python 3 (ipykernel)",
   "language": "python",
   "name": "python3"
  },
  "language_info": {
   "codemirror_mode": {
    "name": "ipython",
    "version": 3
   },
   "file_extension": ".py",
   "mimetype": "text/x-python",
   "name": "python",
   "nbconvert_exporter": "python",
   "pygments_lexer": "ipython3",
   "version": "3.9.7"
  },
  "vscode": {
   "interpreter": {
    "hash": "db1c1e886ca7e5218f158543d1b9804c0a5c522f5654be9e23cd8543b350db84"
   }
  }
 },
 "nbformat": 4,
 "nbformat_minor": 4
}
