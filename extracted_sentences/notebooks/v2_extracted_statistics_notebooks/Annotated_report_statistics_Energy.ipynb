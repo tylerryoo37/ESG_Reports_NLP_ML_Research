{
 "cells": [
  {
   "cell_type": "code",
   "execution_count": 8,
   "metadata": {},
   "outputs": [],
   "source": [
    "import os\n",
    "import PyPDF2\n",
    "import fitz"
   ]
  },
  {
   "cell_type": "code",
   "execution_count": 9,
   "metadata": {},
   "outputs": [],
   "source": [
    "from nltk import tokenize\n",
    "# import nltk\n",
    "# nltk.download('punkt')"
   ]
  },
  {
   "cell_type": "code",
   "execution_count": 10,
   "metadata": {},
   "outputs": [],
   "source": [
    "dir = 'annoted_sustainability_reports/Energy/'\n"
   ]
  },
  {
   "cell_type": "code",
   "execution_count": 11,
   "metadata": {},
   "outputs": [
    {
     "name": "stdout",
     "output_type": "stream",
     "text": [
      "annoted_sustainability_reports/Energy/Total_2022_Sustainability_report.pdf\n",
      "Document('annoted_sustainability_reports/Energy/Total_2022_Sustainability_report.pdf')\n",
      "NoneType found\n",
      "['We affirm our ambitious target of a more than 30% reduction in greenhouse gas emissions related to sales of petroleum prod- ucts (Scope 3 Oil) by 2030 compared to 2015.', 'To that, we add phased targets for reducing methane emissions (50% from 2020 levels by 2025 and 80% from 2020 levels by 2030) to move towards zero methane and an objective of less than 0.1 million cubic meters per day for routine gas flaring at our operated assets by 2025, before eliminating flaring com- pletely by 2030.otalEnergies is reducing the share of petro- leum products in its sales mix, from 65% in 2015 to 44% in 2021 (excluding the impact of Covid-19), and a targeted 30% in 2030.The Company aims to produce 2\\xa0TWh per year of biomethane starting in 2025 and over 5\\xa0TWh per year by 2030 worldwide.', 'In early 2021, TotalEnergies became a major player in biogas in France by acquiring Fonroche Biogaz, with 500 GWh of installed capacity.', 'The facility will use livestock manure from dairy farms to produce more than 40\\xa0GWh per year of biomethane; as a result, 45\\xa0kt of CO2e emissions will be avoided each year.— TotalEnergies, working with Engie, is developing the MassHylia green hydrogen project at the La Mède biorefinery.', 'It will be supplied by solar and wind farms with capacity of almost 300\\xa0MW.', 'The 125\\xa0MW electrolyzer will produce over 10,000 tons of green hydrogen a year, meeting the needs of the biorefinery and reducing its emissions by 140,000\\xa0tCO2/year.', '• At the Zeeland refinery, the Company plans to 140,000\\xa0tCO2/year.', 'At the Zeeland refinery, the Company plans to capture carbon from the steam methane reforming unit (SMR1) that produces hydrogen from natural gas.', 'It is also developing a 150\\xa0MW electrolyzer intended to be linked to an offshore wind field.A unit to produce sustainable aviation fuels that emit less than half the CO2 of their fossil equivalents and incorporate over 90% waste materials.', 'CO2 over 90% waste materials.', \"Two 25 MW photovoltaic power plants, equivalent to the elec- tric power needs of 30,000 people.Several renewable electricity projects, which are compati- ble by nature with these criteria, were approved, such as off- shore wind projects Round 4 and ScotWind (United Kingdom), Yunlin (Taiwan), five onshore wind projects in France with a total gross capacity of nearly 200 MW, and several solar ener- gy projects in France, Spain, Iraq and the US, with approximate- ly 3 GW of gross capacity.The Company's strategy of focusing new oil investments on low carbon intensity projects also led it to exit from extra heavy crude oil assets in Venezuela's Orinoco Belt in 2021.\", \"Even if carbon pricing does not currently apply in all of the Company's host countries, TotalEnergies includes, as a base case, a minimum carbon price of $40/ton in its investment cri- teria (or the current price in a given country, if higher), with the assumption of a linear increase to $100 per ton as from 2030.NET ZERO BY 2050, TOGETHER WITH SOCIETY NET ZERO BY 2050, TOGETHER WITH SOCIETY In line with the objectives of the Paris Agreement Scope 1+2 – Net Zero by 2050 Scope 3 – Net Zero by 2050, together with society REDUCE OUR EMISSIONS PRODUCE MORE ENERGY FOR OUR CUSTOMERS WHILE REDUCING OUR PRODUCTS’ CARBON FOOTPRINT PRODUCE MORE ENERGY FOR OUR CUSTOMERS WHILE REDUCING OUR PRODUCTS’ CARBON FOOTPRINT Achieve zero routine flaring by 2030 Achieve zero routine flaring by 2030 and less than 0.1 Mm3/d by 2025.\", 'Decarbonize our electricity purchases Decarbonize our electricity purchases in Europe and the United States in Europe and the United (Scope 2) by 2025.', 'Reduce emissions by 80% from 2020 Reduce emissions levels by 2030.', 'Maintain methane intensity of operated Maintain methane intensity of gas installations below 0.1%.', 'Develop a CCS capacity of more than Develop a CCS capacity 10\\xa0Mt/y by 20305.', 'Invest $100 million a year to develop Invest $100 million a year to develop natural carbon sink capacity of more natural carbon sink capacity than 5\\xa0Mt/y by 2030.', 'Develop a carbon storage offer for our customers with capacity exceeding Develop a carbon storage 10\\xa0Mt/year by 20305.Reduce emissions from its operated industrial facilities (Scope 1+2) by over 40% by 2030 and disclose the progress made at its operated and non- operated facilities.In early 2019, TotalEnergies announced its aim to reduce emissions from its operated facilities to less than 40\\xa0Mt by 2025 and set itself the target of cutting Scope 1&2 net emis- sions (including carbon sinks) for its operated activities by at least 40% in 2030 relative to 2015.', 'Our levers The main route to achieving these objectives is developing emissions reduction projects on our industrial sites, using the best technologies available: improving energy efficien- cy, reducing flaring, reducing methane emissions, supplying renewable electricity and using CCS for residual emissions.', 'To reach our net emissions targets, nature based solutions (NBS1) will, by 2030, offset some of our emissions (5 to 10\\xa0Mt/y).Our progress in 2021 Scope 1+2 emissions decreased from 41.5 Mt in 2020 to 37.0\\xa0 Mt (excluding the impact of Covid) in 2021 thanks to 120\\xa0 emissions-reduction initiatives carried out across the Company and portfolio management aligned with our strate- gy (divestment of the Lindsey refinery in the United Kingdom and the cessation of operations of Grandpuits in France).', 'These data include the commissioning of two combined cycle gas turbine plants.By 2025, 160 upstream projects and more 200\\xa0downstream projects will yield reductions CO2.', 'than 200\\xa0downstream projects will yield reductions in Scope 1+2 emissions of 2.5\\xa0and 4.5\\xa0Mt of CO2 respectively.', 'respectively.', '— In 2020, TotalEnergies decided to aim for net zero emissions for all electricity purchases at its operated sites in Europe by 2025.', 'All In Europe, electricity will be provided by solar farms acquired in Spain in 2020, offering capacity of 5\\xa0GW and production of 10\\xa0TWh/year by 2025.', 'Six\\xa0TWh/year will be routed to European sites under a PPA2.', 'For the United States, in 2021 the Company acquired a portfolio of 2.2\\xa0GW in solar projects and 0.6\\xa0GW in battery storage projects to cover 100% of electricity needs at operated industrial sites, including the Port Arthur refining and petrochemical complex and the La Porte and Carville petrochemical sites.It halved its operated methane emissions between 2010 and 2020.', 'In In line with the Glasgow agreements, the Company is setting new targets for the cur- rent decade: reductions from 2020 levels of 50% by 2025 and 80% by 2030.', 'The Company is also maintaining its target of keeping methane intensity below 0.1% across its operated gas facilities.', 'METHANE EMISSIONS (OPERATED)In 2021, the decline from the year before linked to reductions in venting came to 6 kt per year (projects in Gabon and the U.K.).', 'Leak reduction: annual campaigns to identify and repair leaks at all operated sites will be deployed starting in 2022.', 'In 2021, emissions declined by 4\\xa0kt as a result of leak reduction efforts, including a significant upgrade to the OML58 facility in Nigeria.', 'Reductions in flaring: In 2021, the decrease in flaring from 2020 reduced emissions by 1.8 kt per year.From 2010 to Lacq, France, CO2, 2013, TotalEnergies developed a pilot project in Lacq, France, involving a complete CCS chain, in which carbon from a steam generator was captured using oxy-combustion technology (a European first) and then transported and stored in a depleted reservoir.', 'TotalEnergies allocated $100\\xa0 million to CCS research and projects in 2021, and by 2030 it expects to be expanding storage capacity by around 10\\xa0Mt annually.', '— In the Netherlands, the Company is studying a project to capture 900,000 tons/year of CO2 generated   The carbon would then be transported and stored as part of the Aramis project.', '• In France, in July 2021, TotalEnergies joined with four other industrial companies in the Seine basin to launch development studies for carbon capture and maritime export infrastructure.', '• In Belgium, the Company and its partners are studying the CO2 Antwerp@C project to collect and transport CO2 emissions from the Antwerp CO2 and transport CO2 emissions from the Antwerp industrial port.', 'CO2 industrial port.', 'In all three cases, the CO2 would be stored in depeleted reservoirs in the North Sea.', 'CO2 depeleted reservoirs in the North Sea.', 'Developing transport and storage projects Developing transport and storage projects — and — — • In Norway, the Company, together with Equinor and Shell, launched Northern Lights, the first large-scale carbon transport and storage project.', 'Approved by the Norwegian government in 2020, the project is currently in the construction phase.', 'It will allow industrial emitters in Norway and elsewhere in Europe to store their emissions.', '• In the Netherlands, TotalEnergies and its partners are studying the Aramis project designed to develop a logistics chain and hub in the port of Rotterdam to transport CO2 to depleted offshore fields, some of which are operated by TotalEnergies.', 'CO2 which are operated by TotalEnergies.', '• In the United Kingdom, the Company is working with its partners on the Northern Endurance Partnership transport and storage project, which aims to decarbonize the Teesside and Humberside industrial regions.', 'CO2 of CO2 by the Zeeland refinery’s hydrogen plant as of 2026.', 'CCS PROJECTS IN EUROPEBacked by an average annual budget of $100 million between 2020 and 2030, TotalEnergies aims to build up a stock of 100 million credits1 and develop the annual capacity to produce at least 5 million credits a year as from 2030.', 'As of end-2021, TotalEnergies’ stock stood a little under 7 million certified credits.', 'Under the agreement, more than 15\\xa0Mt of CO2 equivalent will be prevented over ten years.', 'ten years.', '— Since 2021, TotalEnergies and CIMA (Centro de Conservation, Investigacion y Manejo de Areas Naturales), a Peru-based NGO, have been working together in the Peruvian Amazon to fund projects for preserving the primary forest in Cordilleria Azul National Park, which spans 1.35\\xa0million hectares and is included on the IUCN Green List.', '— In March 2021, TotalEnergies and Forêt Ressources Management signed a partnership agreement with the Republic of the Congo for a large-scale, inclusive agroforestry management project that will sequester more than 10\\xa0Mt of CO2.', 'management with the projectIn support of the European Union’s ambitions on the path toward carbon neutrality and in light of Europe’s weight in its Scope 3 emissions in 2015 (256\\xa0 Mt out of 410\\xa0 Mt), the Company has set a specific target of reducing its Scope 1+2+3 emissions in Europe by 30% in absolute terms over the same period, as the reduction in sales of petroleum products will focus particularly on Europe.', 'Our objectives for 2030 TotalEnergies has set a target for 2030 of reducing its global Scope 3 emissions –\\u2009i.e., those from the energy products used by our customers\\u2009– to below 2015 levels, even though over the same period the Company plans to produce and sell 30% more energy products due, in particular, to growth in sales of elec- tricity and LNG.', 'Conversely, in order to prepare for the decline in demand for oil by the end of the decade, the Company has embarked on a voluntary strategy of adapting its Downstream activities in the refining and distribution of petroleum products to align them with its oil production, and it has set itself a new target of lowering Scope 3 emissions from petroleum products sold worldwide by over 30% between 2015 and 2030.Deployment of charging infrastructure • 150,000 charge points worldwide by 2025.', '• 300 service stations on motorways and major roads and 600 urban service stations with high power chargers (HPC) by 2030 to support e-mobility travel in Europe.', 'Automotive Cells Company (ACC), a joint venture founded by TotalEnergies and Stellantis in 2020, is set to emerge as a global player in the development and manufacture of auto- motive batteries beginning in 2023.', 'With Saft, TotalEnergies is giving the new company the benefit of its expertise in R&D.', 'The batteries produced by ACC will power nearly one million EVs a year, or 10% of the European market.The Company’s goal is to provide its customers with storage capacity of more than 10\\xa0Mt\\xa0CO2/year by 2030, with the ambi- tion of lifting capacity to more than 50\\xa0Mt\\xa0CO2/year by 2050.', '10\\xa0Mt\\xa0CO2/year tion of lifting capacity to more than 50\\xa0Mt\\xa0CO2/year by 2050.', 'March 2021: TotalEnergies signs CPPAs with Microsoft (47 MW) and Orange (100\\xa0GWh/year) that include construction of dozens of solar power plants across France.', 'July 2021: The Company signs two CPPAs, one with Air Liquide (50 GWh/year of renewable power over 15 years in Belgium) and the other with Amazon (474\\xa0MW of renewable power generation capacity in the U.S. and Europe).In support of those commitments by the European Commis- sion, it has set a target in Europe of reducing Scope 1+2+3 emissions by 30% between 2015 and 2030.Emissions from operated facilities have declined by approxi- mately 20% since 2015.', 'This includes 4\\xa0Mt of emissions from CCGT power plants following the implementation of the Com- pany’s new strategy in electricity to have flexible generation capacity; the decline for operated oil & gas activities actually came to 30%.GHG EMISSIONS'] \n",
      " 64\n",
      "annoted_sustainability_reports/Energy/BP_2021_Sustainability_report.pdf\n",
      "Document('annoted_sustainability_reports/Energy/BP_2021_Sustainability_report.pdf')\n"
     ]
    },
    {
     "name": "stdout",
     "output_type": "stream",
     "text": [
      "['Our ambition is to be a net zero company by 2050 or sooner, and to help the world get to net zero.', 'For aim 1, which encompasses our Scope 1 and 2 emissions from our operations, we now aim to reduce emissions by 50% by 2030, compared with our previous aim of 30-35%, on the way to being net zero by 2050 or sooner.', 'For aim 3, we are aiming to reduce to net zero the lifecycle emissions for energy products we sell by 2050 or sooner – up from the previous aim of a 50% reduction in their average emissions intensity.', 'This aim now includes physically traded energy products and marketed sales.', 'For 2030 we are now aiming for a 15- 20% reduction in the lifecycle carbon intensity of these products against the 2019 baseline.Divestments are, and continue to be, an important part of our strategy.', 'They enable us to strengthen our balance sheet and high-grade or diversify our portfolio.', 'They will also help bp to create a resilient, lower cost and lower carbon oil, gas and refining portfolio that is smaller but high quality.', 'For aim 1, divestments contribute to reducing our operational emissions.Our combined Scope 1 and Scope 2 emissions, covered by aim 1 were 35.6MtCO2e, a decrease of 35% from our 2019 baseline of 54.4MtCO2e.', 'The total decrease of almost 19MtCO2e includes 14.7MtCO2e in divestments and 2.6MtCO2e in sustainable emission reductions (SERs)b.', 'Compared with 2020 (45.5MtCO2e), Scope 1 and 2 emissions in 2021 decreased by 22%.', 'Scope 1 (direct) emissions, covered by aim 1, were 33.2MtCO2e in 2021, a decrease of 20% from 41.7MtCO2e in 2020.', 'Of those Scope 1 emissions 32.0MtCO2e were from CO2 and 1.1MtCO2e from methanec.', 'Emissions decreased due to divestments, delivery of SERs and other permanent operational changes.', 'Scope 2 (indirect) emissions decreased by 1.4MtCO2e, to 2.4MtCO2e in 2021, a 37% reduction compared with 2020.', 'This decrease resulted from lower carbon power agreements, including at our Gelsenkirchen site, and the divestment of our petrochemicals business at the end of 2020.', 'In 2021 compared with 2020: • Divestments accounted for 9.3MtCO2e of the Scope 1 and Scope 2 emissions decrease including the divestment of our operations in Alaska, our petrochemicals business and bpx energy divestments.', '• The delivery of SERs reduced Scope 1 and 2 emissions by 1.6MtCO2e (in addition to the 1MtCO2e delivered in 2020).', '• Other permanent reductions in 2021 included the repurposing of Kwinana refinery (0.7 MtCO2e.', 'reduction) and cessation of production at Foinaven FPSO (0.2 MtCO2e.', 'reduction).', '• Temporary production-related changes accounted for an increase of 1.1MtCO2e associated with higher activity levels, particularly in refining, and temporary flaring increases in 2021.', '• Total hydrocarbons flared increased from 831kt to 967kt in 2021 due to operational variances including temporary flaring associated with a new production start-up.', 'SERs across our business and activities in 2021 included: • Gelsenkirchen refinery and chemicals facility reduced its Scope 2 emissions from purchased electricity by 520ktCO2e through new lower carbon power agreements.', '• Our Azerbaijan, Georgia, Turkey (AGT) region delivered reductions of 118ktCO2e including 36ktCO2e from waste heat recovery modifications.', '• Oman delivered further reductions of 65ktCO2e through green completions and 28ktCO2e through well-testing without flaring.Our aim 2 is to be net zero on an absolute basis across the carbon in our upstream oil and gas production\\uf0ab by 2050 or sooner.', 'The estimated Scope 3 emissions from the carbon in our upstream oil and gas production were 304MtCO2 in 2021, a reduction of approximately 7% from 328MtCO2 in 2020, mainly associated with portfolio changes, including divestments and existing field decline.Our aim 3 is to reduce to net zero the carbon intensity of the energy products we sell by 2050 or sooner.', 'In 2021, the average carbon intensity of bp’s marketing sales of energy products remained at 79gCO2e/MJb, as in 2019 and 2020.', 'WeOur aim 4 is to install methane measurement at all our existing major oil and gas processing sites by 2023, publish the data, and then drive a 50% reduction in methane intensitya of our operations.We completed the formation of a 50-50 strategic US offshore wind partnership with Equinor to jointly develop up to 4.4GW generating capacity from two major lease areas off the US East Coast through two projects, Empire Wind and Beacon Wind.', 'In the UK, bp and 50-50 partner EnBW were jointly selected as the preferred bidders for two 60-year leases in the UK’s first offshore wind leasing round in a decade – development of these projects, Morgan and Mona, is expected to add up to 3GW offshore wind capacity in the UK.', 'In January 2022, together with EnBW, we were awarded a lease option to develop a major offshore wind project around 60km offshore from Aberdeen, Scotland.', 'This project, to be known as Morven, will have a potential generating capacity of around 2.9GW, sufficient to power more than three million homes.', 'Lightsource bp is further accelerating growth, now targeting up to 25GW by 2025 and will be exclusively developing a potential 9GW solar pipeline for bp following the acquisition of 7X Energy in 2021.', 'In June 2021, Vendima, five flagship Lightsource bp solar projects, began commercial operations in Zaragoza, Spain.', 'The five-project cluster has a total capacity to provide around 250MWp of solar energy, producing electricity which is the equivalent of powering over 107,000 homes.We also identified several new projects and continued to explore new opportunities across multiple geographies.', 'In the UK, we have made several recent announcements, including our plan to build a hydrogen production facility at Teesside in the North East of England, intended to deliver up to 1GW of blue hydrogen by 2030, and the HyGreen Teesside project targeting 60MWe of green hydrogen production by 2025.', 'In HyGreen Teesside could deliver up to 500MW of low carbon electrolytic- enabled hydrogen production by 2030.', 'We are aiming to start production by 2025, with an initial phase of some 60MWe of installed hydrogen production capacity.', 'Together with H2Teesside, which has the capacity to deliver a planned 1GW CCS-enabled blue hydrogen, bp projects could deliver 30% of the UK government’s 5GW hydrogen target.', 'The This aligns with bp’s aim to accelerate our EV charging ambition across key growth markets, through a focus on ‘on-the-go’ charging and fleets and growing our network of around 13,100 charge points today to more than 100,000 by 2030.By 2030 we aim to have developed 50GW of renewable generating capacitya We set a target of 20GW of renewable energy generating capacity to be developed to FID by 2025 with an aim of 50GW by 2030.', 'We are on track with 4.4GW brought to FID by end of 2021 and 23GW in the pipeline.', 'In the UK in January 2022, we were successful in the ScotWind licensing round with our partner EnBW, adding 1.5GW net to our pipeline.', 'This brought our offshore wind pipeline to over 5GW net of offshore wind projects in the core UK and US markets.', 'bp and EnBW have agreed to develop an 860km2 lease located 60km off the coast from Aberdeen as a fixed-bottom offshore wind project with a total generating capacity of around 2.9GW, sufficient to power more than three million homes.'] \n",
      " 43\n",
      "annoted_sustainability_reports/Energy/Shell_2021_Sustainability_report.pdf\n",
      "Document('annoted_sustainability_reports/Energy/Shell_2021_Sustainability_report.pdf')\n",
      "[\"Our climate target is to become a net-zero emissions energy business by 2050, in step with society's progress in achieving the goal of the UN Paris Agreement on climate change.\", 'Our climate target is to become a net-zero emissions energy the goal of the UN Paris Agreement on climate change.', 'We have set targets to reduce the carbon intensity (Net the goal of the UN Paris Agreement on climate change.', 'We have set targets to reduce the carbon intensity (Net Carbon Footprint) of the energy products we sell.', 'This includes short- term targets of 3-4% by 2022, 6-8% by 2023 and 9-12% by 2024 (compared with 2016).', 'It also includes medium- and long- We have set targets to reduce the carbon intensity (Net Carbon Footprint) of the energy products we sell.', 'This includes short- term targets of 3-4% by 2022, 6-8% by 2023 and 9-12% by 2024 (compared with 2016).', 'It also includes medium- and long- term targets of 20% by 2030, 45% by 2035, and 100% by 2050 (compared with 2016), in step with society.', 'term targets of 3-4% by 2022, 6-8% by 2023 and 9-12% by 2024 (compared with 2016).', 'It also includes medium- term targets of 20% by 2030, 45% by 2035, and 100% by 2050 (compared with 2016), in step with society.', 'In October 2021, we announced an absolute emissions reduction target of 50% by 2030, compared with 2016 term targets of 20% by 2030, 45% by 2035, and 100% by 2050 (compared with 2016), in step with society.', 'In October 2021, we announced an absolute emissions reduction target of 50% by 2030, compared with 2016 levels on a net basis.', 'This new target covers all Scope 1 and 2 emissions under Shell’s operational control and complements our existing In October 2021, we announced an absolute emissions reduction target of 50% by 2030, compared with 2016 levels on a net basis.', 'This new target covers all Scope 1 and 2 emissions under Shell’s operational control and complements our existing carbon-intensity targets.', 'net basis.', 'This new target carbon-intensity targets.We aim to be net zero on emissions generated by our operations by 2050 or sooner, in step with society, as well as on emissions associated with the energy we need to power them.', 'We aim to be net zero on emissions generated by our associated with the energy we need to power them.', 'In October 2021, we announced an absolute emissions reduction target of 50% by 2030, compared with 2016 levels on a net basis.', 'This new target covers all Scope 1 and 2 emissions under Shell’s operational control and complements our existing carbon- In October basis.', 'intensity This decrease was in part driven by the shutdown of the Shell Convent Refinery (USA) in late 2020, lower production at the Shell Norco Manufacturing Complex (USA) due to Hurricane Ida, and divestments in 2020 and 2021, which included the Martinez This decrease was in part driven by the shutdown of the Shell Convent Refinery (USA) in late 2020, lower production at the Shell Norco Manufacturing Complex (USA) due to Hurricane Ida, and divestments in 2020 and 2021, which included the Martinez and Puget Sound refineries in the USA and the Fredericia refinery in Denmark.', 'These decreases were partly offset by higher Norco Manufacturing Complex (USA) due to Hurricane Ida, and divestments in 2020 and 2021, which included the Martinez and Puget Sound refineries in the USA and the Fredericia refinery in Denmark.', 'These decreases were partly offset by higher emissions due to the restart of the Prelude floating liquefied natural gas (LNG) facility in Australia (which was shut down for and Puget Sound refineries in the USA and the Fredericia refinery in Denmark.', 'These decreases were partly offset by higher emissions due to the restart of the Prelude floating liquefied natural gas (LNG) facility in Australia (which was shut down for most of 2020) and increased flaring at Shell Nigeria Exploration and Production Company Limited (SNEPCo) in Nigeria.', 'emissions due to the restart of the Prelude floating liquefied natural gas (LNG) facility in Australia (which was shut down of 2020) and increased flaring at Shell Nigeria Exploration and Production Company Limited (SNEPCo) in Nigeria.SCOPE 1 AND SCOPE 2 GHG EMISSIONS CHANGES FROM 2020 TO 2021In 2021, Shell’s total methane emissions were 55 thousand tonnes compared with 67 thousand tonnes in 2020, in part due to reduced methane emissions reported for Malaysia because we relinquished the operatorship of two complexes (E11PA and In 2021, Shell’s total methane emissions were 55 thousand tonnes compared with 67 thousand tonnes in 2020, in part due reduced methane emissions reported for Malaysia because we relinquished the operatorship of two complexes (E11PA and E11PB) on December 31, 2020.', 'We also implemented a more accurate method for calculating fugitive emissions at the Shell- reduced methane emissions reported E11PB) on December 31, 2020. operated QGC natural gas facility'] \n",
      " 25\n"
     ]
    }
   ],
   "source": [
    "highlight_list = []\n",
    "rel_text = []\n",
    "\n",
    "for file in os.listdir(dir):\n",
    "    f = os.path.join(dir, file)\n",
    "    print(f)\n",
    "\n",
    "    doc = fitz.open(f)\n",
    "    print(doc)\n",
    "    result = []\n",
    "    \n",
    "    for page in doc:\n",
    "\n",
    "        highlights = []\n",
    "        annot = page.first_annot\n",
    "        while annot:\n",
    "            if annot.type[0] == 8:\n",
    "                all_coordinates = annot.vertices\n",
    "                try:\n",
    "                    if len(all_coordinates) == 4:\n",
    "                        highlight_coord = fitz.Quad(all_coordinates).rect\n",
    "                        highlights.append(highlight_coord)\n",
    "                    else:\n",
    "                        all_coordinates = [all_coordinates[x:x+4] for x in range(0, len(all_coordinates), 4)]\n",
    "                        for i in range(0,len(all_coordinates)):\n",
    "                            coord = fitz.Quad(all_coordinates[i]).rect\n",
    "                            highlights.append(coord)\n",
    "                except:\n",
    "                    print(\"NoneType found\")\n",
    "            annot = annot.next\n",
    "\n",
    "        all_words = page.get_text_words()\n",
    "        highlight_text = []\n",
    "        if len(highlights) > 0:\n",
    "            for h in highlights:\n",
    "                sentence = []\n",
    "                for w in all_words:\n",
    "                    if fitz.Rect(w[0:4]).intersects(h):\n",
    "                        sentence.append(w[4])\n",
    "                highlight_text.append(\" \".join(sentence))\n",
    "        if len(highlight_text) > 0:\n",
    "            result.append(\" \".join(highlight_text))\n",
    "        \n",
    "\n",
    "    s = \"\"\n",
    "        \n",
    "    for r in result:\n",
    "        if r is not None:\n",
    "            s += r\n",
    "        \n",
    "    #create array of highlighted sentences in the pdf\n",
    "#     highlighted_sentences = s.split('.')\n",
    "    highlighted_sentences = tokenize.sent_tokenize(s)\n",
    "\n",
    "    print(highlighted_sentences, \"\\n\", len(highlighted_sentences))\n",
    "\n",
    "    rel_text.append(highlighted_sentences)\n",
    "\n",
    "    num_highlighted = len(highlighted_sentences)\n",
    "\n",
    "    highlight_list.append(num_highlighted)"
   ]
  },
  {
   "cell_type": "code",
   "execution_count": 12,
   "metadata": {},
   "outputs": [
    {
     "name": "stderr",
     "output_type": "stream",
     "text": [
      "Xref table not zero-indexed. ID numbers for objects will be corrected.\n"
     ]
    },
    {
     "name": "stdout",
     "output_type": "stream",
     "text": [
      "annoted_sustainability_reports/Energy/Total_2022_Sustainability_report.pdf\n",
      "1300\n",
      "annoted_sustainability_reports/Energy/BP_2021_Sustainability_report.pdf\n",
      "874\n",
      "annoted_sustainability_reports/Energy/Shell_2021_Sustainability_report.pdf\n",
      "937\n"
     ]
    }
   ],
   "source": [
    "#Extracting all sentences from the file\n",
    "sentences_list = []\n",
    "all_text = []\n",
    "\n",
    "for file in os.listdir(dir):\n",
    "    f = os.path.join(dir, file)\n",
    "    print(f)\n",
    "\n",
    "    pdfFileObj = open(f, 'rb') \n",
    "    pdfReader = PyPDF2.PdfFileReader(pdfFileObj) \n",
    "\n",
    "    t = \"\"\n",
    "\n",
    "    for count in range(len(fitz.open(f))):\n",
    "        # print(count)\n",
    "        pageObj = pdfReader.getPage(count)\n",
    "        t += pageObj.extractText()\n",
    "        \n",
    "\n",
    "    pdfFileObj.close() \n",
    "#     total_sentences = t.split('.')\n",
    "    total_sentences = tokenize.sent_tokenize(t)\n",
    "    print(len(total_sentences))\n",
    "\n",
    "    all_text.append(total_sentences)\n",
    "\n",
    "    num_sentences = len(total_sentences)\n",
    "\n",
    "    sentences_list.append(num_sentences)\n",
    "\n",
    "#1910 total sentences in Amazon_2021_sustainability_report.pdf\n"
   ]
  },
  {
   "cell_type": "code",
   "execution_count": 13,
   "metadata": {},
   "outputs": [
    {
     "data": {
      "image/png": "[encoded data removed]",
      "text/plain": [
       "<Figure size 432x288 with 1 Axes>"
      ]
     },
     "metadata": {
      "needs_background": "light"
     },
     "output_type": "display_data"
    }
   ],
   "source": [
    "import matplotlib.pyplot as plt\n",
    "import numpy as np\n",
    "import glob\n",
    "y = []\n",
    "\n",
    "x = [\"Total\", \"BP\", \"Shell\"]\n",
    "\n",
    "\n",
    "i = 0\n",
    "\n",
    "for file in os.listdir(dir):\n",
    "    y.append(100 * (highlight_list[i])/sentences_list[i])\n",
    "    i = i+1\n",
    "\n",
    "plt.bar(x, y, width = 0.8)\n",
    "plt.xticks(rotation='vertical')\n",
    "plt.title(\"Energy\")\n",
    "plt.xlabel(\"Company\")\n",
    "plt.ylabel(\"Percent of sentences highlighted\")\n",
    "plt.yticks(np.arange(0, 50, 10))\n",
    "plt.show()"
   ]
  },
  {
   "cell_type": "code",
   "execution_count": 14,
   "metadata": {},
   "outputs": [
    {
     "data": {
      "text/plain": [
       "count    3.000000\n",
       "mean     4.170358\n",
       "std      1.301004\n",
       "min      2.668090\n",
       "25%      3.793999\n",
       "50%      4.919908\n",
       "75%      4.921493\n",
       "max      4.923077\n",
       "dtype: float64"
      ]
     },
     "execution_count": 14,
     "metadata": {},
     "output_type": "execute_result"
    }
   ],
   "source": [
    "import pandas as pd\n",
    "\n",
    "series = pd.Series(y)\n",
    "series.describe()"
   ]
  },
  {
   "cell_type": "code",
   "execution_count": 15,
   "metadata": {},
   "outputs": [
    {
     "name": "stdout",
     "output_type": "stream",
     "text": [
      "Stored 'Energy_reltext' (list)\n",
      "Stored 'Energy_alltext' (list)\n"
     ]
    }
   ],
   "source": [
    "#storing variable so they can be called between notebooks (for aggregate analysis, test/train data sets, and modeling later on)\n",
    "\n",
    "Energy_reltext = rel_text\n",
    "Energy_alltext = all_text\n",
    "\n",
    "%store Energy_reltext\n",
    "%store Energy_alltext"
   ]
  },
  {
   "cell_type": "code",
   "execution_count": 16,
   "metadata": {},
   "outputs": [],
   "source": [
    "def extract_sentences(text):\n",
    "    sentences = []\n",
    "    for report in text:\n",
    "        for sent in report:\n",
    "            sentences.append(sent)\n",
    "    return sentences"
   ]
  },
  {
   "cell_type": "code",
   "execution_count": 17,
   "metadata": {},
   "outputs": [],
   "source": [
    "pd.DataFrame(extract_sentences(Energy_reltext)).to_csv(\"Energy_reltext.csv\", encoding = 'utf-8-sig')"
   ]
  },
  {
   "cell_type": "code",
   "execution_count": 18,
   "metadata": {},
   "outputs": [],
   "source": [
    "pd.DataFrame(extract_sentences(Energy_alltext)).to_csv(\"Energy_alltext.csv\", encoding = 'utf-8-sig')"
   ]
  },
  {
   "cell_type": "code",
   "execution_count": null,
   "metadata": {},
   "outputs": [],
   "source": []
  }
 ],
 "metadata": {
  "kernelspec": {
   "display_name": "Python 3 (ipykernel)",
   "language": "python",
   "name": "python3"
  },
  "language_info": {
   "codemirror_mode": {
    "name": "ipython",
    "version": 3
   },
   "file_extension": ".py",
   "mimetype": "text/x-python",
   "name": "python",
   "nbconvert_exporter": "python",
   "pygments_lexer": "ipython3",
   "version": "3.9.7"
  }
 },
 "nbformat": 4,
 "nbformat_minor": 4
}
