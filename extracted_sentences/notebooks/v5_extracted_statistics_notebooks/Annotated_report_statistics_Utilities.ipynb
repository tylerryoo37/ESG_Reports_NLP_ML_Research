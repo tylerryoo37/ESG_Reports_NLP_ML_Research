{
 "cells": [
  {
   "cell_type": "code",
   "execution_count": 73,
   "metadata": {},
   "outputs": [],
   "source": [
    "import os\n",
    "import PyPDF2\n",
    "import fitz\n",
    "import pandas as pd\n",
    "import collections\n",
    "import re"
   ]
  },
  {
   "cell_type": "code",
   "execution_count": 74,
   "metadata": {},
   "outputs": [],
   "source": [
    "from nltk import tokenize\n",
    "# import nltk\n",
    "# nltk.download('punkt')"
   ]
  },
  {
   "cell_type": "code",
   "execution_count": 75,
   "metadata": {},
   "outputs": [],
   "source": [
    "dir = 'annoted_sustainability_reports/Utilities'"
   ]
  },
  {
   "cell_type": "code",
   "execution_count": 76,
   "metadata": {},
   "outputs": [],
   "source": [
    "x_label = [\"Dominion_Energy\", \"Duke_Energy\", \"AEP\",\"NextEraEnergyZeroCarbonBlueprint\"]"
   ]
  },
  {
   "cell_type": "markdown",
   "metadata": {},
   "source": [
    "### Extracting Sentences: Refined Version"
   ]
  },
  {
   "cell_type": "code",
   "execution_count": 77,
   "metadata": {},
   "outputs": [],
   "source": [
    "# this method will return a list of highlighted sentences in each page \n",
    "def get_page_highlights_coord(annot):\n",
    "    page_highlights_coord = []\n",
    "    while annot:\n",
    "        if annot.type[0] == 8:\n",
    "            all_coordinates = annot.vertices\n",
    "            try:\n",
    "                if len(all_coordinates) == 4:\n",
    "                    highlight_coord = fitz.Quad(all_coordinates).rect\n",
    "                    page_highlights_coord.append(highlight_coord)\n",
    "                else:\n",
    "                    all_coordinates = [all_coordinates[x:x+4] for x in range(0, len(all_coordinates), 4)]\n",
    "                    for i in range(0,len(all_coordinates)):\n",
    "                        coord = fitz.Quad(all_coordinates[i]).rect\n",
    "                        page_highlights_coord.append(coord)\n",
    "            except:\n",
    "                print(\"NoneType found\")\n",
    "        annot = annot.next\n",
    "    return page_highlights_coord\n",
    "        "
   ]
  },
  {
   "cell_type": "code",
   "execution_count": 78,
   "metadata": {},
   "outputs": [],
   "source": [
    "def get_page_highlights_text(page_highlights_coord, all_words, test_pos, repeat_coord):\n",
    "    page_highlights = collections.defaultdict(list)\n",
    "    for h in page_highlights_coord:\n",
    "        test_dict = collections.defaultdict(list) # intialize a dictionary that keeps order and \n",
    "        # indication of where the sentence breaks occur\n",
    "        for w in all_words:\n",
    "            if (fitz.Rect(w[0:4]).intersects(h)): \n",
    "            # find intersections where the original report overlaps with the highlighted sentences\n",
    "                new_pos = int(str(\"%02d\" % w[5]) + str(\"%02d\" % w[6]) + str(\"%02d\" % w[7])) \n",
    "#                 print(new_pos, w[4])\n",
    "                if new_pos not in repeat_coord:\n",
    "                    repeat_coord.append(new_pos)\n",
    "                    if test_pos <  new_pos:\n",
    "#                         print('less than', test_pos, new_pos, w[4])\n",
    "                        test_pos = new_pos \n",
    "                        test_dict[new_pos].append(w[4])\n",
    "                        page_highlights[new_pos].append(test_dict[new_pos][0])\n",
    "#                         page_highlights.append({new_pos : test_dict[new_pos]})\n",
    "                    else:\n",
    "#                         print('greater than', test_pos, new_pos, w[4])\n",
    "                        test_dict = collections.defaultdict(list)\n",
    "                        test_pos = 0\n",
    "                        test_dict[new_pos].append(w[4])\n",
    "                        page_highlights[new_pos].append(test_dict[new_pos][0])\n",
    "#                         page_highlights.append({new_pos : test_dict[new_pos]})\n",
    "                else:\n",
    "                    continue\n",
    "    return page_highlights\n",
    "                    "
   ]
  },
  {
   "cell_type": "code",
   "execution_count": 79,
   "metadata": {},
   "outputs": [],
   "source": [
    "def get_total_highlights_text(total_page_highlights):\n",
    "    total_page_highlights_text = []\n",
    "    for i in total_page_highlights:\n",
    "        highlights = \"\"\n",
    "        sorted_dict = sorted(i.items(), key = lambda kv:kv[0], reverse = False)\n",
    "        for k in sorted_dict:\n",
    "            highlights += k[1][0] + \" \"\n",
    "            \n",
    "        total_page_highlights_text.append(highlights)\n",
    "    \n",
    "    return total_page_highlights_text"
   ]
  },
  {
   "cell_type": "code",
   "execution_count": 80,
   "metadata": {},
   "outputs": [
    {
     "name": "stdout",
     "output_type": "stream",
     "text": [
      "annoted_sustainability_reports/Utilities/Dominion_Energy_2021-climate-report.pdf\n",
      "['Dominion_Energy']\n",
      "Document('annoted_sustainability_reports/Utilities/Dominion_Energy_2021-climate-report.pdf')\n",
      "annoted_sustainability_reports/Utilities/Duke_Energy_2021-esg-report-full.pdf\n",
      "['Duke_Energy']\n",
      "Document('annoted_sustainability_reports/Utilities/Duke_Energy_2021-esg-report-full.pdf')\n",
      "annoted_sustainability_reports/Utilities/AEP_2022_Sustainability-Report.pdf\n",
      "['AEP']\n",
      "Document('annoted_sustainability_reports/Utilities/AEP_2022_Sustainability-Report.pdf')\n",
      "annoted_sustainability_reports/Utilities/NextEraEnergyZeroCarbonBlueprint.pdf\n",
      "['NextEraEnergyZeroCarbonBlueprint']\n",
      "Document('annoted_sustainability_reports/Utilities/NextEraEnergyZeroCarbonBlueprint.pdf')\n"
     ]
    }
   ],
   "source": [
    "# final list of relevant sentences\n",
    "final_relevant = []   \n",
    "final_relevant_comp = []\n",
    "\n",
    "# final list of all sentences \n",
    "final_all = []\n",
    "final_all_comp = []\n",
    "\n",
    "# running all the files in the industry folder\n",
    "for file in os.listdir(dir): \n",
    "    \n",
    "    # f = filename + directory\n",
    "    f = os.path.join(dir, file) \n",
    "    print(f)\n",
    "    \n",
    "    # comp_lab = to label sentence by companies\n",
    "    comp_lab = list(filter(lambda x:  x in f, x_label))\n",
    "    print(comp_lab)\n",
    "    \n",
    "    # opening each company report\n",
    "    doc = fitz.open(f) \n",
    "    print(doc)\n",
    "    \n",
    "    # store the entire report in this list\n",
    "    all_result = []\n",
    "    \n",
    "    test_pos = 0 # keep track of whether values of coordinates increase or decrease --> \n",
    "    #reinitialize if decreases because that means its a new set of sentences (paragraph)\n",
    "    \n",
    "    total_page_highlights = [] # use this list to store all the highlighted sentences of each page\n",
    "    \n",
    "#     test_final_relevant = [] # use this to test printing relevant sentences by company \n",
    "\n",
    "    # iterate each page of the document\n",
    "    for page in doc:\n",
    "        \n",
    "        # extract all the sentences in pdf --> store it in all_result\n",
    "        all_text = page.get_text_words()\n",
    "        all_text = [i[4] for i in all_text]\n",
    "        all_result.append(\" \".join(all_text))\n",
    "        \n",
    "        # extract highlighted sentences coordinates from pdf --> using the get_page_highlights_coord method\n",
    "        annot = page.first_annot\n",
    "        page_highlights_coord = get_page_highlights_coord(annot)\n",
    "        \n",
    "        # convert the page into text so that it can be compared with highlighted coordinates\n",
    "        all_words = page.get_text_words()\n",
    "#         print(all_words)\n",
    "        \n",
    "        # only iterate if highlights were detected\n",
    "        if len(page_highlights_coord) > 0:\n",
    "            repeat_coord = []\n",
    "            # use the get_page_highlights_text to extract coordinates and words into dictionary \n",
    "            #(remove duplicated coordinates here as well)\n",
    "            page_highlights = get_page_highlights_text(page_highlights_coord, all_words, test_pos, repeat_coord)\n",
    "            total_page_highlights.append(page_highlights)\n",
    "            \n",
    "    # use get_total_highlights_text method to sort words by coordinates \n",
    "    # [so that we can get a cleaner version of sentences] and extract the final version of relevant sentences        \n",
    "    total_highlights = get_total_highlights_text(total_page_highlights)\n",
    "    \n",
    "    # loop around total_highlights to tokenize sentences (breaking chunks into sentences)\n",
    "    for i in total_highlights:\n",
    "        i = re.sub(\"\\xa0\", \" \", i)\n",
    "        i = re.sub(\"\\t\", \" \", i)\n",
    "        i = re.sub(\"\\r\", \" \", i)\n",
    "        i = re.sub(\"\\n\", \" \", i)\n",
    "        i = re.sub(\" +\", \" \", i)\n",
    "#         i = i.strip()\n",
    "        final_relevant += tokenize.sent_tokenize(i)\n",
    "        final_relevant_comp += comp_lab * len(tokenize.sent_tokenize(i))\n",
    "    \n",
    "#     print('>>>>RELEVANT<<<<')\n",
    "#     print(final_relevant)\n",
    "#         test_final_relevant += tokenize.sent_tokenize(i.replace(\"\\n\", \" \"))\n",
    "\n",
    "    # loop around all_result to tokenize sentences as well\n",
    "    for i in all_result:\n",
    "        i = re.sub(\"\\xa0\", \" \", i)\n",
    "        i = re.sub(\"\\t\", \" \", i)\n",
    "        i = re.sub(\"\\r\", \" \", i)\n",
    "        i = re.sub(\"\\n\", \" \", i)\n",
    "        i = re.sub(\" +\", \" \", i)\n",
    "#         i = i.strip()\n",
    "        final_all += tokenize.sent_tokenize(i)\n",
    "        final_all_comp += comp_lab * len(tokenize.sent_tokenize(i))\n",
    "        \n",
    "#     print('>>>>ALL<<<<')\n",
    "#     print(final_all)\n",
    "\n",
    "            \n"
   ]
  },
  {
   "cell_type": "markdown",
   "metadata": {},
   "source": [
    "### Relevant & All Sentences into a DataFrame"
   ]
  },
  {
   "cell_type": "code",
   "execution_count": 81,
   "metadata": {},
   "outputs": [
    {
     "data": {
      "text/html": [
       "<div>\n",
       "<style scoped>\n",
       "    .dataframe tbody tr th:only-of-type {\n",
       "        vertical-align: middle;\n",
       "    }\n",
       "\n",
       "    .dataframe tbody tr th {\n",
       "        vertical-align: top;\n",
       "    }\n",
       "\n",
       "    .dataframe thead th {\n",
       "        text-align: right;\n",
       "    }\n",
       "</style>\n",
       "<table border=\"1\" class=\"dataframe\">\n",
       "  <thead>\n",
       "    <tr style=\"text-align: right;\">\n",
       "      <th></th>\n",
       "      <th>relevant_sentences</th>\n",
       "      <th>company_label</th>\n",
       "    </tr>\n",
       "  </thead>\n",
       "  <tbody>\n",
       "    <tr>\n",
       "      <th>0</th>\n",
       "      <td>Dominion Energy Consolidated Energy Mix (GWh) ...</td>\n",
       "      <td>Dominion_Energy</td>\n",
       "    </tr>\n",
       "    <tr>\n",
       "      <th>1</th>\n",
       "      <td>Dominion Energy Consolidated Energy Mix (GWh) ...</td>\n",
       "      <td>Dominion_Energy</td>\n",
       "    </tr>\n",
       "    <tr>\n",
       "      <th>2</th>\n",
       "      <td>We are also expanding our renewable footprint ...</td>\n",
       "      <td>Duke_Energy</td>\n",
       "    </tr>\n",
       "    <tr>\n",
       "      <th>3</th>\n",
       "      <td>Since 2010, we’ve retired 56 coal units repres...</td>\n",
       "      <td>Duke_Energy</td>\n",
       "    </tr>\n",
       "    <tr>\n",
       "      <th>4</th>\n",
       "      <td>Already, the company has reduced carbon emissi...</td>\n",
       "      <td>Duke_Energy</td>\n",
       "    </tr>\n",
       "  </tbody>\n",
       "</table>\n",
       "</div>"
      ],
      "text/plain": [
       "                                  relevant_sentences    company_label\n",
       "0  Dominion Energy Consolidated Energy Mix (GWh) ...  Dominion_Energy\n",
       "1  Dominion Energy Consolidated Energy Mix (GWh) ...  Dominion_Energy\n",
       "2  We are also expanding our renewable footprint ...      Duke_Energy\n",
       "3  Since 2010, we’ve retired 56 coal units repres...      Duke_Energy\n",
       "4  Already, the company has reduced carbon emissi...      Duke_Energy"
      ]
     },
     "execution_count": 81,
     "metadata": {},
     "output_type": "execute_result"
    }
   ],
   "source": [
    "rel_text_df = pd.DataFrame([final_relevant, final_relevant_comp]).transpose().rename(columns = {0: 'relevant_sentences', 1: 'company_label'})\n",
    "rel_text_df.head()"
   ]
  },
  {
   "cell_type": "code",
   "execution_count": 82,
   "metadata": {},
   "outputs": [
    {
     "data": {
      "text/html": [
       "<div>\n",
       "<style scoped>\n",
       "    .dataframe tbody tr th:only-of-type {\n",
       "        vertical-align: middle;\n",
       "    }\n",
       "\n",
       "    .dataframe tbody tr th {\n",
       "        vertical-align: top;\n",
       "    }\n",
       "\n",
       "    .dataframe thead th {\n",
       "        text-align: right;\n",
       "    }\n",
       "</style>\n",
       "<table border=\"1\" class=\"dataframe\">\n",
       "  <thead>\n",
       "    <tr style=\"text-align: right;\">\n",
       "      <th></th>\n",
       "      <th>all_sentences</th>\n",
       "      <th>company_label</th>\n",
       "    </tr>\n",
       "  </thead>\n",
       "  <tbody>\n",
       "    <tr>\n",
       "      <th>0</th>\n",
       "      <td>REPORT 2021 A report based on the recommendati...</td>\n",
       "      <td>Dominion_Energy</td>\n",
       "    </tr>\n",
       "    <tr>\n",
       "      <th>1</th>\n",
       "      <td>2 Dominion Energy Climate Report 2021 Contents...</td>\n",
       "      <td>Dominion_Energy</td>\n",
       "    </tr>\n",
       "    <tr>\n",
       "      <th>2</th>\n",
       "      <td>Such forward-looking statements include, among...</td>\n",
       "      <td>Dominion_Energy</td>\n",
       "    </tr>\n",
       "    <tr>\n",
       "      <th>3</th>\n",
       "      <td>CONTINUED ON PAGE 55</td>\n",
       "      <td>Dominion_Energy</td>\n",
       "    </tr>\n",
       "    <tr>\n",
       "      <th>4</th>\n",
       "      <td>Dominion Energy Climate Report 2021 3 “In Febr...</td>\n",
       "      <td>Dominion_Energy</td>\n",
       "    </tr>\n",
       "  </tbody>\n",
       "</table>\n",
       "</div>"
      ],
      "text/plain": [
       "                                       all_sentences    company_label\n",
       "0  REPORT 2021 A report based on the recommendati...  Dominion_Energy\n",
       "1  2 Dominion Energy Climate Report 2021 Contents...  Dominion_Energy\n",
       "2  Such forward-looking statements include, among...  Dominion_Energy\n",
       "3                               CONTINUED ON PAGE 55  Dominion_Energy\n",
       "4  Dominion Energy Climate Report 2021 3 “In Febr...  Dominion_Energy"
      ]
     },
     "execution_count": 82,
     "metadata": {},
     "output_type": "execute_result"
    }
   ],
   "source": [
    "all_text_df = pd.DataFrame([final_all, final_all_comp]).transpose().rename(columns = {0: 'all_sentences', 1: 'company_label'})\n",
    "all_text_df.head()"
   ]
  },
  {
   "cell_type": "markdown",
   "metadata": {},
   "source": [
    "### Relevant Sentences Statistics"
   ]
  },
  {
   "cell_type": "code",
   "execution_count": 83,
   "metadata": {},
   "outputs": [
    {
     "data": {
      "text/html": [
       "<div>\n",
       "<style scoped>\n",
       "    .dataframe tbody tr th:only-of-type {\n",
       "        vertical-align: middle;\n",
       "    }\n",
       "\n",
       "    .dataframe tbody tr th {\n",
       "        vertical-align: top;\n",
       "    }\n",
       "\n",
       "    .dataframe thead th {\n",
       "        text-align: right;\n",
       "    }\n",
       "</style>\n",
       "<table border=\"1\" class=\"dataframe\">\n",
       "  <thead>\n",
       "    <tr style=\"text-align: right;\">\n",
       "      <th></th>\n",
       "      <th>relevant_sentences</th>\n",
       "    </tr>\n",
       "    <tr>\n",
       "      <th>company_label</th>\n",
       "      <th></th>\n",
       "    </tr>\n",
       "  </thead>\n",
       "  <tbody>\n",
       "    <tr>\n",
       "      <th>Dominion_Energy</th>\n",
       "      <td>2</td>\n",
       "    </tr>\n",
       "    <tr>\n",
       "      <th>Duke_Energy</th>\n",
       "      <td>29</td>\n",
       "    </tr>\n",
       "    <tr>\n",
       "      <th>AEP</th>\n",
       "      <td>21</td>\n",
       "    </tr>\n",
       "    <tr>\n",
       "      <th>NextEraEnergyZeroCarbonBlueprint</th>\n",
       "      <td>21</td>\n",
       "    </tr>\n",
       "  </tbody>\n",
       "</table>\n",
       "</div>"
      ],
      "text/plain": [
       "                                  relevant_sentences\n",
       "company_label                                       \n",
       "Dominion_Energy                                    2\n",
       "Duke_Energy                                       29\n",
       "AEP                                               21\n",
       "NextEraEnergyZeroCarbonBlueprint                  21"
      ]
     },
     "execution_count": 83,
     "metadata": {},
     "output_type": "execute_result"
    }
   ],
   "source": [
    "rel_text_df.groupby('company_label', sort = False).count()"
   ]
  },
  {
   "cell_type": "code",
   "execution_count": 84,
   "metadata": {},
   "outputs": [
    {
     "data": {
      "text/html": [
       "<div>\n",
       "<style scoped>\n",
       "    .dataframe tbody tr th:only-of-type {\n",
       "        vertical-align: middle;\n",
       "    }\n",
       "\n",
       "    .dataframe tbody tr th {\n",
       "        vertical-align: top;\n",
       "    }\n",
       "\n",
       "    .dataframe thead th {\n",
       "        text-align: right;\n",
       "    }\n",
       "</style>\n",
       "<table border=\"1\" class=\"dataframe\">\n",
       "  <thead>\n",
       "    <tr style=\"text-align: right;\">\n",
       "      <th></th>\n",
       "      <th>relevant_sentences</th>\n",
       "      <th>company_label</th>\n",
       "    </tr>\n",
       "  </thead>\n",
       "  <tbody>\n",
       "  </tbody>\n",
       "</table>\n",
       "</div>"
      ],
      "text/plain": [
       "Empty DataFrame\n",
       "Columns: [relevant_sentences, company_label]\n",
       "Index: []"
      ]
     },
     "execution_count": 84,
     "metadata": {},
     "output_type": "execute_result"
    }
   ],
   "source": [
    "rel_text_df[rel_text_df.duplicated()]"
   ]
  },
  {
   "cell_type": "code",
   "execution_count": 85,
   "metadata": {},
   "outputs": [
    {
     "data": {
      "text/html": [
       "<div>\n",
       "<style scoped>\n",
       "    .dataframe tbody tr th:only-of-type {\n",
       "        vertical-align: middle;\n",
       "    }\n",
       "\n",
       "    .dataframe tbody tr th {\n",
       "        vertical-align: top;\n",
       "    }\n",
       "\n",
       "    .dataframe thead th {\n",
       "        text-align: right;\n",
       "    }\n",
       "</style>\n",
       "<table border=\"1\" class=\"dataframe\">\n",
       "  <thead>\n",
       "    <tr style=\"text-align: right;\">\n",
       "      <th></th>\n",
       "      <th>all_sentences</th>\n",
       "    </tr>\n",
       "    <tr>\n",
       "      <th>company_label</th>\n",
       "      <th></th>\n",
       "    </tr>\n",
       "  </thead>\n",
       "  <tbody>\n",
       "    <tr>\n",
       "      <th>Dominion_Energy</th>\n",
       "      <td>677</td>\n",
       "    </tr>\n",
       "    <tr>\n",
       "      <th>Duke_Energy</th>\n",
       "      <td>1021</td>\n",
       "    </tr>\n",
       "    <tr>\n",
       "      <th>AEP</th>\n",
       "      <td>1596</td>\n",
       "    </tr>\n",
       "    <tr>\n",
       "      <th>NextEraEnergyZeroCarbonBlueprint</th>\n",
       "      <td>224</td>\n",
       "    </tr>\n",
       "  </tbody>\n",
       "</table>\n",
       "</div>"
      ],
      "text/plain": [
       "                                  all_sentences\n",
       "company_label                                  \n",
       "Dominion_Energy                             677\n",
       "Duke_Energy                                1021\n",
       "AEP                                        1596\n",
       "NextEraEnergyZeroCarbonBlueprint            224"
      ]
     },
     "execution_count": 85,
     "metadata": {},
     "output_type": "execute_result"
    }
   ],
   "source": [
    "all_text_df.groupby('company_label', sort = False).count()"
   ]
  },
  {
   "cell_type": "markdown",
   "metadata": {},
   "source": [
    "### Getting Sentence Statistics "
   ]
  },
  {
   "cell_type": "code",
   "execution_count": 86,
   "metadata": {},
   "outputs": [],
   "source": [
    "# count rel sentences \n",
    "rel_count = rel_text_df.groupby('company_label', sort = False).count()\n",
    "\n",
    "# count all sentences\n",
    "sent_count = all_text_df.groupby('company_label', sort = False).count()"
   ]
  },
  {
   "cell_type": "code",
   "execution_count": 87,
   "metadata": {},
   "outputs": [
    {
     "data": {
      "text/html": [
       "<div>\n",
       "<style scoped>\n",
       "    .dataframe tbody tr th:only-of-type {\n",
       "        vertical-align: middle;\n",
       "    }\n",
       "\n",
       "    .dataframe tbody tr th {\n",
       "        vertical-align: top;\n",
       "    }\n",
       "\n",
       "    .dataframe thead th {\n",
       "        text-align: right;\n",
       "    }\n",
       "</style>\n",
       "<table border=\"1\" class=\"dataframe\">\n",
       "  <thead>\n",
       "    <tr style=\"text-align: right;\">\n",
       "      <th></th>\n",
       "      <th>all_sentences</th>\n",
       "      <th>relevant_sentences</th>\n",
       "      <th>percentages</th>\n",
       "    </tr>\n",
       "    <tr>\n",
       "      <th>company_label</th>\n",
       "      <th></th>\n",
       "      <th></th>\n",
       "      <th></th>\n",
       "    </tr>\n",
       "  </thead>\n",
       "  <tbody>\n",
       "    <tr>\n",
       "      <th>Dominion_Energy</th>\n",
       "      <td>677</td>\n",
       "      <td>2</td>\n",
       "      <td>0.295421</td>\n",
       "    </tr>\n",
       "    <tr>\n",
       "      <th>Duke_Energy</th>\n",
       "      <td>1021</td>\n",
       "      <td>29</td>\n",
       "      <td>2.840353</td>\n",
       "    </tr>\n",
       "    <tr>\n",
       "      <th>AEP</th>\n",
       "      <td>1596</td>\n",
       "      <td>21</td>\n",
       "      <td>1.315789</td>\n",
       "    </tr>\n",
       "    <tr>\n",
       "      <th>NextEraEnergyZeroCarbonBlueprint</th>\n",
       "      <td>224</td>\n",
       "      <td>21</td>\n",
       "      <td>9.375000</td>\n",
       "    </tr>\n",
       "  </tbody>\n",
       "</table>\n",
       "</div>"
      ],
      "text/plain": [
       "                                  all_sentences  relevant_sentences  \\\n",
       "company_label                                                         \n",
       "Dominion_Energy                             677                   2   \n",
       "Duke_Energy                                1021                  29   \n",
       "AEP                                        1596                  21   \n",
       "NextEraEnergyZeroCarbonBlueprint            224                  21   \n",
       "\n",
       "                                  percentages  \n",
       "company_label                                  \n",
       "Dominion_Energy                      0.295421  \n",
       "Duke_Energy                          2.840353  \n",
       "AEP                                  1.315789  \n",
       "NextEraEnergyZeroCarbonBlueprint     9.375000  "
      ]
     },
     "execution_count": 87,
     "metadata": {},
     "output_type": "execute_result"
    }
   ],
   "source": [
    "sentences_list = []\n",
    "rel_sent_list = []\n",
    "\n",
    "final_text_stat = pd.concat([sent_count, rel_count],  sort = False, axis = 1)\n",
    "\n",
    "[rel_sent_list.append(rel_sent) for rel_sent in final_text_stat['relevant_sentences']]    \n",
    "[sentences_list.append(all_sent) for all_sent in final_text_stat['all_sentences']]    \n",
    "    \n",
    "final_text_stat['relevant_sentences'] = final_text_stat['relevant_sentences'].fillna(0)\n",
    "final_text_stat['percentages'] = final_text_stat['relevant_sentences'] / final_text_stat['all_sentences'] * 100\n",
    "final_text_stat"
   ]
  },
  {
   "cell_type": "code",
   "execution_count": 88,
   "metadata": {},
   "outputs": [
    {
     "data": {
      "image/png": "[encoded data removed]",
      "text/plain": [
       "<Figure size 640x480 with 1 Axes>"
      ]
     },
     "metadata": {},
     "output_type": "display_data"
    }
   ],
   "source": [
    "import matplotlib.pyplot as plt\n",
    "import numpy as np\n",
    "import glob\n",
    "y = []\n",
    "\n",
    "i = 0\n",
    "\n",
    "for file in os.listdir(dir):\n",
    "    y.append(100 * (rel_sent_list[i])/sentences_list[i])\n",
    "    i = i+1\n",
    "\n",
    "plt.bar(x_label, y, width = 0.8)\n",
    "plt.xticks(rotation='vertical')\n",
    "plt.xlabel(\"Company\")\n",
    "plt.ylabel(\"Percent of sentences highlighted\")\n",
    "plt.yticks(np.arange(0, 11, 1))\n",
    "plt.show()"
   ]
  },
  {
   "cell_type": "code",
   "execution_count": 89,
   "metadata": {},
   "outputs": [
    {
     "data": {
      "text/plain": [
       "count    4.000000\n",
       "mean     3.456641\n",
       "std      4.081803\n",
       "min      0.295421\n",
       "25%      1.060697\n",
       "50%      2.078071\n",
       "75%      4.474014\n",
       "max      9.375000\n",
       "dtype: float64"
      ]
     },
     "execution_count": 89,
     "metadata": {},
     "output_type": "execute_result"
    }
   ],
   "source": [
    "import pandas as pd\n",
    "\n",
    "series = pd.Series(y)\n",
    "series.describe()"
   ]
  },
  {
   "cell_type": "markdown",
   "metadata": {},
   "source": [
    "### Exporting and Saving Files "
   ]
  },
  {
   "cell_type": "code",
   "execution_count": 90,
   "metadata": {},
   "outputs": [
    {
     "name": "stdout",
     "output_type": "stream",
     "text": [
      "Stored 'Utlities_reltext' (DataFrame)\n",
      "Stored 'Utlities_alltext' (DataFrame)\n",
      "Stored 'Utlities_stat' (DataFrame)\n"
     ]
    }
   ],
   "source": [
    "#storing variable so they can be called between notebooks (for ML and aggregate work later on)\n",
    "\n",
    "Utlities_reltext = rel_text_df\n",
    "Utlities_alltext = all_text_df\n",
    "Utlities_stat = final_text_stat\n",
    "\n",
    "%store Utlities_reltext\n",
    "%store Utlities_alltext\n",
    "%store Utlities_stat"
   ]
  },
  {
   "cell_type": "code",
   "execution_count": null,
   "metadata": {},
   "outputs": [],
   "source": []
  },
  {
   "cell_type": "code",
   "execution_count": null,
   "metadata": {},
   "outputs": [],
   "source": []
  },
  {
   "cell_type": "code",
   "execution_count": null,
   "metadata": {},
   "outputs": [],
   "source": []
  }
 ],
 "metadata": {
  "kernelspec": {
   "display_name": "Python 3 (ipykernel)",
   "language": "python",
   "name": "python3"
  },
  "language_info": {
   "codemirror_mode": {
    "name": "ipython",
    "version": 3
   },
   "file_extension": ".py",
   "mimetype": "text/x-python",
   "name": "python",
   "nbconvert_exporter": "python",
   "pygments_lexer": "ipython3",
   "version": "3.9.13"
  },
  "vscode": {
   "interpreter": {
    "hash": "db1c1e886ca7e5218f158543d1b9804c0a5c522f5654be9e23cd8543b350db84"
   }
  }
 },
 "nbformat": 4,
 "nbformat_minor": 4
}
