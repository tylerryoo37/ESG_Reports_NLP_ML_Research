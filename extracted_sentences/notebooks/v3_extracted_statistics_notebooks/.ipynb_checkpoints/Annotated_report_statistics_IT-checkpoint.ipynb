{
 "cells": [
  {
   "cell_type": "code",
   "execution_count": 25,
   "metadata": {},
   "outputs": [],
   "source": [
    "import os\n",
    "import PyPDF2\n",
    "import fitz\n",
    "import pandas as pd"
   ]
  },
  {
   "cell_type": "code",
   "execution_count": 26,
   "metadata": {},
   "outputs": [],
   "source": [
    "from nltk import tokenize\n",
    "# import nltk\n",
    "# nltk.download('punkt')"
   ]
  },
  {
   "cell_type": "code",
   "execution_count": 27,
   "metadata": {},
   "outputs": [],
   "source": [
    "dir = 'annoted_sustainability_reports/Info_Tech'"
   ]
  },
  {
   "cell_type": "markdown",
   "metadata": {},
   "source": [
    "### Extracting Sentences"
   ]
  },
  {
   "cell_type": "code",
   "execution_count": 28,
   "metadata": {
    "scrolled": true
   },
   "outputs": [
    {
     "name": "stdout",
     "output_type": "stream",
     "text": [
      "annoted_sustainability_reports/Info_Tech/Accenture_FY2021_Statutory_Sustainability_report.pdf\n",
      "Document('annoted_sustainability_reports/Info_Tech/Accenture_FY2021_Statutory_Sustainability_report.pdf')\n",
      "3\n",
      "annoted_sustainability_reports/Info_Tech/Broadcom_ESG_report.pdf\n",
      "Document('annoted_sustainability_reports/Info_Tech/Broadcom_ESG_report.pdf')\n",
      "3\n",
      "annoted_sustainability_reports/Info_Tech/Mastercard_2021_Sustainability_report.pdf\n",
      "Document('annoted_sustainability_reports/Info_Tech/Mastercard_2021_Sustainability_report.pdf')\n",
      "8\n",
      "annoted_sustainability_reports/Info_Tech/Nvidia_2022_CSR_report.pdf\n",
      "Document('annoted_sustainability_reports/Info_Tech/Nvidia_2022_CSR_report.pdf')\n",
      "4\n",
      "annoted_sustainability_reports/Info_Tech/Oracle_2020_Corporate_Citizenship_report.pdf\n",
      "Document('annoted_sustainability_reports/Info_Tech/Oracle_2020_Corporate_Citizenship_report.pdf')\n",
      "4\n",
      "annoted_sustainability_reports/Info_Tech/Cisco_2021_Purpose_report.pdf\n",
      "Document('annoted_sustainability_reports/Info_Tech/Cisco_2021_Purpose_report.pdf')\n",
      "4\n",
      "annoted_sustainability_reports/Info_Tech/Microsoft_2021_Environmental_Sustainability_Report.pdf\n",
      "Document('annoted_sustainability_reports/Info_Tech/Microsoft_2021_Environmental_Sustainability_Report.pdf')\n",
      "NoneType found\n",
      "14\n",
      "annoted_sustainability_reports/Info_Tech/VIsa_2020_ESG_report.pdf\n",
      "Document('annoted_sustainability_reports/Info_Tech/VIsa_2020_ESG_report.pdf')\n",
      "5\n",
      "annoted_sustainability_reports/Info_Tech/Adobe_2021_CSR_Report.pdf\n",
      "Document('annoted_sustainability_reports/Info_Tech/Adobe_2021_CSR_Report.pdf')\n",
      "4\n",
      "annoted_sustainability_reports/Info_Tech/Apple_2022_Environmental_Progress_Report.pdf\n",
      "Document('annoted_sustainability_reports/Info_Tech/Apple_2022_Environmental_Progress_Report.pdf')\n",
      "17\n"
     ]
    }
   ],
   "source": [
    "# aggregated sentences per report\n",
    "highlighted_num = []\n",
    "highlighted_sentences = [] \n",
    "all_sentences = []\n",
    "highlighted_label = []\n",
    "all_label = []\n",
    "\n",
    "# aggregated sentences of the entire industry (tokenizing highlighted_result & all_result)\n",
    "rel_text = []\n",
    "rel_label = []\n",
    "all_text_final = []\n",
    "\n",
    "x_label = [\"Accenture\", \"Broadcom\", \"Mastercard\", \"Nvidia\", \"Oracle\", \"Cisco\", \"Microsoft\", \"VIsa\", \"Adobe\", \"Apple\"]\n",
    "\n",
    "for file in os.listdir(dir): # running all the files in the industry folder\n",
    "    f = os.path.join(dir, file) # joining filename and directory\n",
    "    print(f)\n",
    "    \n",
    "    # labelling sentences by companies \n",
    "    res = list(filter(lambda x:  x in f, x_label))\n",
    "\n",
    "    doc = fitz.open(f) # opening each company report\n",
    "    print(doc)\n",
    "    \n",
    "    # results of each report\n",
    "    highlighted_result = []\n",
    "    all_result = [] \n",
    "    \n",
    "    # Iterate each page of the document \n",
    "    for page in doc:\n",
    "        \n",
    "        # extract all the sentences in pdf \n",
    "        test = page.get_text()\n",
    "        all_result.append(test)\n",
    "        \n",
    "        # extracting highlighted sentences from pdf \n",
    "        highlights = []\n",
    "        annot = page.first_annot\n",
    "        \n",
    "        while annot:\n",
    "            if annot.type[0] == 8:\n",
    "                all_coordinates = annot.vertices\n",
    "                try:\n",
    "                    if len(all_coordinates) == 4:\n",
    "                        highlight_coord = fitz.Quad(all_coordinates).rect\n",
    "                        highlights.append(highlight_coord)\n",
    "                    else:\n",
    "                        all_coordinates = [all_coordinates[x:x+4] for x in range(0, len(all_coordinates), 4)]\n",
    "                        for i in range(0,len(all_coordinates)):\n",
    "                            coord = fitz.Quad(all_coordinates[i]).rect\n",
    "                            highlights.append(coord)\n",
    "                except:\n",
    "                    print(\"NoneType found\")\n",
    "            annot = annot.next\n",
    "        \n",
    "        # calculate coordinate sum to eliminate duplicated sentences \n",
    "        coordinate_sum_total = []\n",
    "        all_words = page.get_text_words()\n",
    "        highlight_text = []\n",
    "        if len(highlights) > 0:\n",
    "            for h in highlights:\n",
    "                sentence = []\n",
    "                num_i = 0\n",
    "                for w in all_words:\n",
    "                    if (fitz.Rect(w[0:4]).intersects(h)):\n",
    "                        if str(sum(w[0:4])) not in coordinate_sum_total: #if no duplicate coordinate sum found, append\n",
    "                            coordinate_sum_total.append(str(sum(w[0:4])))\n",
    "                            sentence.append(w[4])\n",
    "            \n",
    "                highlight_text.append(\" \".join(sentence))\n",
    "        \n",
    "#         print(highlight_text)\n",
    "        \n",
    "        if len(highlight_text) > 0:\n",
    "            highlighted_result.append(\" \".join(highlight_text))\n",
    "        \n",
    "#         print(result)\n",
    "\n",
    "    # Results of the entire industry & keeps track of number of sentences in highlighted_num\n",
    "    highlighted_num.append(len(highlighted_result))\n",
    "    highlighted_sentences.append(highlighted_result)\n",
    "    all_sentences.append(all_result)\n",
    "    \n",
    "    print(len(highlighted_result))\n",
    "    \n",
    "#         print(test_text)\n",
    "        \n",
    "    for r in highlighted_result:\n",
    "        if r is not None:\n",
    "            # tokenize sentences by pages where the sentences is found \n",
    "            # instead of conducting it to the entire report this enhances accuracy \n",
    "            rel_text += tokenize.sent_tokenize(r)\n",
    "            highlighted_label.append(res)\n",
    "            rel_label += res * len(tokenize.sent_tokenize(r))         \n",
    "    \n",
    "    for i in all_result:\n",
    "        all_text_final += tokenize.sent_tokenize(i.replace(\"\\n\", \" \"))\n",
    "        all_label += res * len(tokenize.sent_tokenize(i.replace(\"\\n\", \" \")))\n",
    "        \n",
    "#     print(highlighted_sentences, \"\\n\", len(highlighted_sentences))\n",
    "\n"
   ]
  },
  {
   "cell_type": "code",
   "execution_count": 29,
   "metadata": {},
   "outputs": [
    {
     "data": {
      "text/plain": [
       "[3, 3, 8, 4, 4, 4, 14, 5, 4, 17]"
      ]
     },
     "execution_count": 29,
     "metadata": {},
     "output_type": "execute_result"
    }
   ],
   "source": [
    "highlighted_num"
   ]
  },
  {
   "cell_type": "code",
   "execution_count": 30,
   "metadata": {},
   "outputs": [
    {
     "data": {
      "text/html": [
       "<div>\n",
       "<style scoped>\n",
       "    .dataframe tbody tr th:only-of-type {\n",
       "        vertical-align: middle;\n",
       "    }\n",
       "\n",
       "    .dataframe tbody tr th {\n",
       "        vertical-align: top;\n",
       "    }\n",
       "\n",
       "    .dataframe thead th {\n",
       "        text-align: right;\n",
       "    }\n",
       "</style>\n",
       "<table border=\"1\" class=\"dataframe\">\n",
       "  <thead>\n",
       "    <tr style=\"text-align: right;\">\n",
       "      <th></th>\n",
       "      <th>relevant_sentences</th>\n",
       "      <th>company_label</th>\n",
       "    </tr>\n",
       "  </thead>\n",
       "  <tbody>\n",
       "    <tr>\n",
       "      <th>0</th>\n",
       "      <td>In this context we announced three new industr...</td>\n",
       "      <td>Accenture</td>\n",
       "    </tr>\n",
       "    <tr>\n",
       "      <th>1</th>\n",
       "      <td>We’ll focus first on actual reductions in our ...</td>\n",
       "      <td>Accenture</td>\n",
       "    </tr>\n",
       "    <tr>\n",
       "      <th>2</th>\n",
       "      <td>To address remaining emissions, we’ll invest i...</td>\n",
       "      <td>Accenture</td>\n",
       "    </tr>\n",
       "    <tr>\n",
       "      <th>3</th>\n",
       "      <td>In addition, at Accenture in Sweden, we have c...</td>\n",
       "      <td>Accenture</td>\n",
       "    </tr>\n",
       "    <tr>\n",
       "      <th>4</th>\n",
       "      <td>To reach our net-zero goal by 2025, we will re...</td>\n",
       "      <td>Accenture</td>\n",
       "    </tr>\n",
       "    <tr>\n",
       "      <th>...</th>\n",
       "      <td>...</td>\n",
       "      <td>...</td>\n",
       "    </tr>\n",
       "    <tr>\n",
       "      <th>210</th>\n",
       "      <td>Appendix A Greenhouse gas emissions</td>\n",
       "      <td>Apple</td>\n",
       "    </tr>\n",
       "    <tr>\n",
       "      <th>211</th>\n",
       "      <td>Corporate facilities energy use</td>\n",
       "      <td>Apple</td>\n",
       "    </tr>\n",
       "    <tr>\n",
       "      <th>212</th>\n",
       "      <td>Facilities renewable energy projects</td>\n",
       "      <td>Apple</td>\n",
       "    </tr>\n",
       "    <tr>\n",
       "      <th>213</th>\n",
       "      <td>Fiscal year 2021 energy and carbon footprint (...</td>\n",
       "      <td>Apple</td>\n",
       "    </tr>\n",
       "    <tr>\n",
       "      <th>214</th>\n",
       "      <td>Our colocation facilities</td>\n",
       "      <td>Apple</td>\n",
       "    </tr>\n",
       "  </tbody>\n",
       "</table>\n",
       "<p>215 rows × 2 columns</p>\n",
       "</div>"
      ],
      "text/plain": [
       "                                    relevant_sentences company_label\n",
       "0    In this context we announced three new industr...     Accenture\n",
       "1    We’ll focus first on actual reductions in our ...     Accenture\n",
       "2    To address remaining emissions, we’ll invest i...     Accenture\n",
       "3    In addition, at Accenture in Sweden, we have c...     Accenture\n",
       "4    To reach our net-zero goal by 2025, we will re...     Accenture\n",
       "..                                                 ...           ...\n",
       "210                Appendix A Greenhouse gas emissions         Apple\n",
       "211                    Corporate facilities energy use         Apple\n",
       "212               Facilities renewable energy projects         Apple\n",
       "213  Fiscal year 2021 energy and carbon footprint (...         Apple\n",
       "214                          Our colocation facilities         Apple\n",
       "\n",
       "[215 rows x 2 columns]"
      ]
     },
     "execution_count": 30,
     "metadata": {},
     "output_type": "execute_result"
    }
   ],
   "source": [
    "rel_text_df = pd.DataFrame([rel_text, rel_label]).transpose()\n",
    "rel_text_df = rel_text_df.rename(columns = {0: 'relevant_sentences', 1: 'company_label'})\n",
    "rel_text_df"
   ]
  },
  {
   "cell_type": "code",
   "execution_count": 31,
   "metadata": {},
   "outputs": [
    {
     "data": {
      "text/html": [
       "<div>\n",
       "<style scoped>\n",
       "    .dataframe tbody tr th:only-of-type {\n",
       "        vertical-align: middle;\n",
       "    }\n",
       "\n",
       "    .dataframe tbody tr th {\n",
       "        vertical-align: top;\n",
       "    }\n",
       "\n",
       "    .dataframe thead th {\n",
       "        text-align: right;\n",
       "    }\n",
       "</style>\n",
       "<table border=\"1\" class=\"dataframe\">\n",
       "  <thead>\n",
       "    <tr style=\"text-align: right;\">\n",
       "      <th></th>\n",
       "      <th>all_sentences</th>\n",
       "      <th>company_label</th>\n",
       "    </tr>\n",
       "  </thead>\n",
       "  <tbody>\n",
       "    <tr>\n",
       "      <th>0</th>\n",
       "      <td>Shaping a  sustainable  future  Accenture AB  ...</td>\n",
       "      <td>Accenture</td>\n",
       "    </tr>\n",
       "    <tr>\n",
       "      <th>1</th>\n",
       "      <td>Statutory Sustainability Report 2021  |  Accen...</td>\n",
       "      <td>Accenture</td>\n",
       "    </tr>\n",
       "    <tr>\n",
       "      <th>2</th>\n",
       "      <td>Statutory Sustainability Report 2021  |  Accen...</td>\n",
       "      <td>Accenture</td>\n",
       "    </tr>\n",
       "    <tr>\n",
       "      <th>3</th>\n",
       "      <td>At Accenture, we like to think of this as shar...</td>\n",
       "      <td>Accenture</td>\n",
       "    </tr>\n",
       "    <tr>\n",
       "      <th>4</th>\n",
       "      <td>Shared success will depend on the  ability to ...</td>\n",
       "      <td>Accenture</td>\n",
       "    </tr>\n",
       "    <tr>\n",
       "      <th>...</th>\n",
       "      <td>...</td>\n",
       "      <td>...</td>\n",
       "    </tr>\n",
       "    <tr>\n",
       "      <th>10585</th>\n",
       "      <td>Beats is a trademark of Beats  Electronics, LL...</td>\n",
       "      <td>Apple</td>\n",
       "    </tr>\n",
       "    <tr>\n",
       "      <th>10586</th>\n",
       "      <td>iOS is a trademark or registered trademark of ...</td>\n",
       "      <td>Apple</td>\n",
       "    </tr>\n",
       "    <tr>\n",
       "      <th>10587</th>\n",
       "      <td>ENERGY STAR and the ENERGY STAR mark are regis...</td>\n",
       "      <td>Apple</td>\n",
       "    </tr>\n",
       "    <tr>\n",
       "      <th>10588</th>\n",
       "      <td>Other product and company names mentioned here...</td>\n",
       "      <td>Apple</td>\n",
       "    </tr>\n",
       "    <tr>\n",
       "      <th>10589</th>\n",
       "      <td>2022 Environmental Progress Report  128 Introd...</td>\n",
       "      <td>Apple</td>\n",
       "    </tr>\n",
       "  </tbody>\n",
       "</table>\n",
       "<p>10590 rows × 2 columns</p>\n",
       "</div>"
      ],
      "text/plain": [
       "                                           all_sentences company_label\n",
       "0      Shaping a  sustainable  future  Accenture AB  ...     Accenture\n",
       "1      Statutory Sustainability Report 2021  |  Accen...     Accenture\n",
       "2      Statutory Sustainability Report 2021  |  Accen...     Accenture\n",
       "3      At Accenture, we like to think of this as shar...     Accenture\n",
       "4      Shared success will depend on the  ability to ...     Accenture\n",
       "...                                                  ...           ...\n",
       "10585  Beats is a trademark of Beats  Electronics, LL...         Apple\n",
       "10586  iOS is a trademark or registered trademark of ...         Apple\n",
       "10587  ENERGY STAR and the ENERGY STAR mark are regis...         Apple\n",
       "10588  Other product and company names mentioned here...         Apple\n",
       "10589  2022 Environmental Progress Report  128 Introd...         Apple\n",
       "\n",
       "[10590 rows x 2 columns]"
      ]
     },
     "execution_count": 31,
     "metadata": {},
     "output_type": "execute_result"
    }
   ],
   "source": [
    "all_text_final_df = pd.DataFrame([all_text_final, all_label]).transpose()\n",
    "all_text_final_df = all_text_final_df.rename(columns = {0: 'all_sentences', 1: 'company_label'})\n",
    "all_text_final_df"
   ]
  },
  {
   "cell_type": "markdown",
   "metadata": {},
   "source": [
    "### Getting Sentence Statistics "
   ]
  },
  {
   "cell_type": "code",
   "execution_count": 32,
   "metadata": {},
   "outputs": [],
   "source": [
    "# count rel sentences \n",
    "rel_count = rel_text_df.groupby('company_label', sort = False).count()\n",
    "\n",
    "# count all sentences\n",
    "sent_count = all_text_final_df.groupby('company_label', sort = False).count()"
   ]
  },
  {
   "cell_type": "code",
   "execution_count": 33,
   "metadata": {},
   "outputs": [
    {
     "data": {
      "text/html": [
       "<div>\n",
       "<style scoped>\n",
       "    .dataframe tbody tr th:only-of-type {\n",
       "        vertical-align: middle;\n",
       "    }\n",
       "\n",
       "    .dataframe tbody tr th {\n",
       "        vertical-align: top;\n",
       "    }\n",
       "\n",
       "    .dataframe thead th {\n",
       "        text-align: right;\n",
       "    }\n",
       "</style>\n",
       "<table border=\"1\" class=\"dataframe\">\n",
       "  <thead>\n",
       "    <tr style=\"text-align: right;\">\n",
       "      <th></th>\n",
       "      <th>all_sentences</th>\n",
       "      <th>relevant_sentences</th>\n",
       "      <th>percentages</th>\n",
       "    </tr>\n",
       "    <tr>\n",
       "      <th>company_label</th>\n",
       "      <th></th>\n",
       "      <th></th>\n",
       "      <th></th>\n",
       "    </tr>\n",
       "  </thead>\n",
       "  <tbody>\n",
       "    <tr>\n",
       "      <th>Accenture</th>\n",
       "      <td>597</td>\n",
       "      <td>14</td>\n",
       "      <td>2.345059</td>\n",
       "    </tr>\n",
       "    <tr>\n",
       "      <th>Broadcom</th>\n",
       "      <td>541</td>\n",
       "      <td>11</td>\n",
       "      <td>2.033272</td>\n",
       "    </tr>\n",
       "    <tr>\n",
       "      <th>Mastercard</th>\n",
       "      <td>1211</td>\n",
       "      <td>29</td>\n",
       "      <td>2.394715</td>\n",
       "    </tr>\n",
       "    <tr>\n",
       "      <th>Nvidia</th>\n",
       "      <td>990</td>\n",
       "      <td>6</td>\n",
       "      <td>0.606061</td>\n",
       "    </tr>\n",
       "    <tr>\n",
       "      <th>Oracle</th>\n",
       "      <td>732</td>\n",
       "      <td>5</td>\n",
       "      <td>0.683060</td>\n",
       "    </tr>\n",
       "    <tr>\n",
       "      <th>Cisco</th>\n",
       "      <td>1520</td>\n",
       "      <td>16</td>\n",
       "      <td>1.052632</td>\n",
       "    </tr>\n",
       "    <tr>\n",
       "      <th>Microsoft</th>\n",
       "      <td>1967</td>\n",
       "      <td>81</td>\n",
       "      <td>4.117946</td>\n",
       "    </tr>\n",
       "    <tr>\n",
       "      <th>VIsa</th>\n",
       "      <td>644</td>\n",
       "      <td>12</td>\n",
       "      <td>1.863354</td>\n",
       "    </tr>\n",
       "    <tr>\n",
       "      <th>Adobe</th>\n",
       "      <td>216</td>\n",
       "      <td>5</td>\n",
       "      <td>2.314815</td>\n",
       "    </tr>\n",
       "    <tr>\n",
       "      <th>Apple</th>\n",
       "      <td>2172</td>\n",
       "      <td>36</td>\n",
       "      <td>1.657459</td>\n",
       "    </tr>\n",
       "  </tbody>\n",
       "</table>\n",
       "</div>"
      ],
      "text/plain": [
       "               all_sentences  relevant_sentences  percentages\n",
       "company_label                                                \n",
       "Accenture                597                  14     2.345059\n",
       "Broadcom                 541                  11     2.033272\n",
       "Mastercard              1211                  29     2.394715\n",
       "Nvidia                   990                   6     0.606061\n",
       "Oracle                   732                   5     0.683060\n",
       "Cisco                   1520                  16     1.052632\n",
       "Microsoft               1967                  81     4.117946\n",
       "VIsa                     644                  12     1.863354\n",
       "Adobe                    216                   5     2.314815\n",
       "Apple                   2172                  36     1.657459"
      ]
     },
     "execution_count": 33,
     "metadata": {},
     "output_type": "execute_result"
    }
   ],
   "source": [
    "sentences_list = []\n",
    "rel_sent_list = []\n",
    "\n",
    "final_text_stat = pd.concat([sent_count, rel_count],  sort = False, axis = 1)\n",
    "\n",
    "[rel_sent_list.append(rel_sent) for rel_sent in final_text_stat['relevant_sentences']]    \n",
    "[sentences_list.append(all_sent) for all_sent in final_text_stat['all_sentences']]    \n",
    "    \n",
    "final_text_stat['relevant_sentences'] = final_text_stat['relevant_sentences'].fillna(0)\n",
    "final_text_stat['percentages'] = final_text_stat['relevant_sentences'] / final_text_stat['all_sentences'] * 100\n",
    "final_text_stat"
   ]
  },
  {
   "cell_type": "code",
   "execution_count": 34,
   "metadata": {},
   "outputs": [
    {
     "data": {
      "image/png": "[encoded data removed]",
      "text/plain": [
       "<Figure size 432x288 with 1 Axes>"
      ]
     },
     "metadata": {
      "needs_background": "light"
     },
     "output_type": "display_data"
    }
   ],
   "source": [
    "import matplotlib.pyplot as plt\n",
    "import numpy as np\n",
    "import glob\n",
    "y = []\n",
    "\n",
    "x = [\"Accenture\", \"Broadcom\", \"Mastercard\", \"Nvidia\", \"Oracle\", \"Cisco\", \"Microsoft\", \"VIsa\", \"Adobe\", \"Apple\"]\n",
    "\n",
    "i = 0\n",
    "\n",
    "for file in os.listdir(dir):\n",
    "    y.append(100 * (rel_sent_list[i])/sentences_list[i])\n",
    "    i = i+1\n",
    "\n",
    "plt.bar(x, y, width = 0.8)\n",
    "plt.xticks(rotation='vertical')\n",
    "plt.xlabel(\"Company\")\n",
    "plt.ylabel(\"Percent of sentences highlighted\")\n",
    "plt.yticks(np.arange(0, 50, 10))\n",
    "plt.show()"
   ]
  },
  {
   "cell_type": "code",
   "execution_count": 35,
   "metadata": {},
   "outputs": [
    {
     "data": {
      "text/plain": [
       "count    10.000000\n",
       "mean      1.906837\n",
       "std       1.026585\n",
       "min       0.606061\n",
       "25%       1.203838\n",
       "50%       1.948313\n",
       "75%       2.337498\n",
       "max       4.117946\n",
       "dtype: float64"
      ]
     },
     "execution_count": 35,
     "metadata": {},
     "output_type": "execute_result"
    }
   ],
   "source": [
    "import pandas as pd\n",
    "\n",
    "series = pd.Series(y)\n",
    "series.describe()"
   ]
  },
  {
   "cell_type": "markdown",
   "metadata": {},
   "source": [
    "### Exporting and Saving Files "
   ]
  },
  {
   "cell_type": "code",
   "execution_count": 43,
   "metadata": {},
   "outputs": [
    {
     "name": "stdout",
     "output_type": "stream",
     "text": [
      "Stored 'IT_reltext' (list)\n",
      "Stored 'IT_alltext' (list)\n",
      "Stored 'IT_stat' (DataFrame)\n"
     ]
    }
   ],
   "source": [
    "#storing variable so they can be called between notebooks (for ML and aggregate work later on)\n",
    "\n",
    "IT_reltext = highlighted_sentences\n",
    "IT_alltext = all_text_final\n",
    "IT_stat = final_text_stat\n",
    "\n",
    "%store IT_reltext\n",
    "%store IT_alltext\n",
    "%store IT_stat"
   ]
  },
  {
   "cell_type": "code",
   "execution_count": 37,
   "metadata": {},
   "outputs": [],
   "source": [
    "def extract_sentences(text):\n",
    "    sentences = []\n",
    "    for report in text:\n",
    "        for sent in report:\n",
    "            sentences.append(sent)\n",
    "    return sentences"
   ]
  },
  {
   "cell_type": "code",
   "execution_count": 38,
   "metadata": {},
   "outputs": [],
   "source": [
    "pd.DataFrame(extract_sentences(IT_reltext)).to_csv(\"IT_reltext.csv\", encoding = 'utf-8-sig')"
   ]
  },
  {
   "cell_type": "code",
   "execution_count": 39,
   "metadata": {},
   "outputs": [],
   "source": [
    "pd.DataFrame(IT_alltext).to_csv(\"IT_alltext.csv\", encoding = 'utf-8-sig')"
   ]
  },
  {
   "cell_type": "code",
   "execution_count": 40,
   "metadata": {},
   "outputs": [],
   "source": [
    "rel_text_df.to_csv(\"IT_reltext_comp.csv\", encoding = 'utf-8-sig')"
   ]
  },
  {
   "cell_type": "code",
   "execution_count": 41,
   "metadata": {},
   "outputs": [],
   "source": [
    "all_text_final_df.to_csv(\"IT_alltext_comp.csv\", encoding = 'utf-8-sig')"
   ]
  },
  {
   "cell_type": "code",
   "execution_count": null,
   "metadata": {},
   "outputs": [],
   "source": []
  }
 ],
 "metadata": {
  "kernelspec": {
   "display_name": "Python 3 (ipykernel)",
   "language": "python",
   "name": "python3"
  },
  "language_info": {
   "codemirror_mode": {
    "name": "ipython",
    "version": 3
   },
   "file_extension": ".py",
   "mimetype": "text/x-python",
   "name": "python",
   "nbconvert_exporter": "python",
   "pygments_lexer": "ipython3",
   "version": "3.9.7"
  },
  "vscode": {
   "interpreter": {
    "hash": "db1c1e886ca7e5218f158543d1b9804c0a5c522f5654be9e23cd8543b350db84"
   }
  }
 },
 "nbformat": 4,
 "nbformat_minor": 4
}
