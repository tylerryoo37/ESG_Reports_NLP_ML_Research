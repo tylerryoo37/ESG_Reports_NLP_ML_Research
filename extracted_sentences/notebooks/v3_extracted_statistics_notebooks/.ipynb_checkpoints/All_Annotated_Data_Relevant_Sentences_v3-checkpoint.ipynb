{
 "cells": [
  {
   "cell_type": "markdown",
   "metadata": {},
   "source": [
    "### Pulling in All the Data Across Notebooks (version 1: aggregated, all, relevant sentences.csv)"
   ]
  },
  {
   "cell_type": "code",
   "execution_count": 2,
   "metadata": {},
   "outputs": [],
   "source": [
    "import pandas as pd\n",
    "import os \n",
    "from nltk import tokenize"
   ]
  },
  {
   "cell_type": "code",
   "execution_count": 3,
   "metadata": {},
   "outputs": [],
   "source": [
    "%store -r HC_reltext\n",
    "%store -r HC_alltext\n",
    "%store -r HC_stat\n",
    "\n",
    "%store -r IND_reltext\n",
    "%store -r IND_alltext\n",
    "%store -r IND_stat\n",
    "\n",
    "%store -r Energy_reltext\n",
    "%store -r Energy_alltext\n",
    "%store -r Energy_stat\n",
    "\n",
    "%store -r CONSTA_reltext\n",
    "%store -r CONSTA_alltext\n",
    "%store -r CONSTA_stat\n",
    "\n",
    "%store -r CONDIS_reltext\n",
    "%store -r CONDIS_alltext\n",
    "%store -r CONDIS_stat\n",
    "\n",
    "%store -r IT_reltext\n",
    "%store -r IT_alltext\n",
    "%store -r IT_stat\n",
    "\n",
    "%store -r Real_Estate_reltext\n",
    "%store -r Real_Estate_alltext\n",
    "%store -r Real_Estate_stat\n",
    "\n",
    "%store -r Materials_reltext\n",
    "%store -r Materials_alltext\n",
    "%store -r Materials_stat\n",
    "\n",
    "%store -r Utilities_reltext\n",
    "%store -r Utilities_alltext\n",
    "%store -r Utilities_stat"
   ]
  },
  {
   "cell_type": "code",
   "execution_count": 5,
   "metadata": {},
   "outputs": [],
   "source": [
    "all_relevant = HC_reltext+IND_reltext+Energy_reltext+CONSTA_reltext+CONDIS_reltext+IT_reltext+Real_Estate_reltext+Materials_reltext+Utilities_reltext"
   ]
  },
  {
   "cell_type": "code",
   "execution_count": 6,
   "metadata": {},
   "outputs": [],
   "source": [
    "all_text = HC_alltext+IND_alltext+Energy_alltext+CONSTA_alltext+CONDIS_alltext+IT_alltext+Real_Estate_alltext+Materials_alltext+Utilities_alltext"
   ]
  },
  {
   "cell_type": "code",
   "execution_count": 7,
   "metadata": {},
   "outputs": [
    {
     "data": {
      "text/plain": [
       "72"
      ]
     },
     "execution_count": 7,
     "metadata": {},
     "output_type": "execute_result"
    }
   ],
   "source": [
    "len(all_relevant)"
   ]
  },
  {
   "cell_type": "code",
   "execution_count": 8,
   "metadata": {},
   "outputs": [
    {
     "data": {
      "text/plain": [
       "72"
      ]
     },
     "execution_count": 8,
     "metadata": {},
     "output_type": "execute_result"
    }
   ],
   "source": [
    "len(all_text)"
   ]
  },
  {
   "cell_type": "code",
   "execution_count": 9,
   "metadata": {},
   "outputs": [],
   "source": [
    "industry_ord = [\"EliLilly\", \"UnitedHealthGroup\", \"Merck\", \"BristolMyersSquibb\", \"Danaher\", \"Johnson&Johnson\", \n",
    "             \"Pfizer\", \"Abbott\", \"ThermosFisherSc\", \"Amgen\", \"Caterpillar\", \"Lockheed\", \"Boeing\", \"UPS\", \"Raytheon\", \n",
    "             \"Delta\", \"Deere\", \"Honeywell\", \"3M\", \"UnionPacific\",\"Total\", \"BP\", \"Shell\", \"Mondelez_Intl\", \"Hershey\", \"Philip_Morris_Intl\", \"PepsiCo\", \"Altria_Environmental\", \"PandG\", \"Altria_TCFD\",\n",
    "             \"Costco\", \"CocaCola\", \"Altria_2021\", \"Walmart\", \"EsteeLauder\",\"McDonalds\", \"TJX\", \"HomeDepot\", \"Lowes\", \"Target\", \"BookingHoldings\", \"Tesla\",\n",
    "             \"Amazon\", \"Nike\", \"Starbucks\", \"Accenture\", \"Broadcom\", \"Mastercard\", \"Nvidia\", \"Oracle\", \"Cisco\", \"Microsoft\", \"VIsa\", \"Adobe\", \"Apple\",\n",
    "             \"AmericanTowerCorp\", \"Prologis\", \"CrownCastle\",\"Linde\", \"Ecolab\", \"SherwinWilliams\", \"IntrntlFlavorsandFragrances\", \"FreeportMcmoran\", \"Nucor\", \n",
    "             \"AirProducts\", \"Corteva\", \"NewmontMining\", \"Dow\", \"Dominion_Energy\", \"Duke_Energy\", \"AEP\",\"NextEraEnergyZeroCarbonBlueprint\"]"
   ]
  },
  {
   "cell_type": "code",
   "execution_count": 10,
   "metadata": {},
   "outputs": [],
   "source": [
    "text_dict = {\"relevant_text\": all_relevant, \"all_text\": all_text, \"industry\": industry_ord}\n",
    "text_df = pd.DataFrame(text_dict)\n",
    "text_df.to_csv(\"aggregated_sentences.csv\", encoding = 'utf-8-sig')\n"
   ]
  },
  {
   "cell_type": "code",
   "execution_count": 11,
   "metadata": {},
   "outputs": [],
   "source": [
    "sent_len = []\n",
    "for i in text_df['relevant_text']:\n",
    "    sent_len.append(len(i))"
   ]
  },
  {
   "cell_type": "code",
   "execution_count": 12,
   "metadata": {},
   "outputs": [],
   "source": [
    "text_df['sentence_len'] = sent_len"
   ]
  },
  {
   "cell_type": "code",
   "execution_count": 13,
   "metadata": {},
   "outputs": [],
   "source": [
    "highlight_only = text_df[text_df['sentence_len'] != 0]"
   ]
  },
  {
   "cell_type": "code",
   "execution_count": 14,
   "metadata": {},
   "outputs": [],
   "source": [
    "all_relevant = []\n",
    "all_text = []\n",
    "\n",
    "for industry in highlight_only['relevant_text']:\n",
    "    for report in industry:\n",
    "        divide = tokenize.sent_tokenize(report)\n",
    "        for each_sent in divide:\n",
    "            all_relevant.append(each_sent)\n",
    "        \n",
    "for industry in highlight_only['all_text']:\n",
    "    for report in industry:\n",
    "        divide = tokenize.sent_tokenize(report)\n",
    "        for each_sent in divide:\n",
    "            all_text.append(each_sent)        "
   ]
  },
  {
   "cell_type": "code",
   "execution_count": 15,
   "metadata": {},
   "outputs": [
    {
     "data": {
      "text/plain": [
       "['From 2012 to 2020, we achieved a 26% reduction in absolute emissions.',\n",
       " 'In 2021, we achieved a 9% absolute  emissions reduction versus 2020.',\n",
       " 'This reduction was partially driven by energy e�ciency improvements and an increase in the  use of renewable electricity including the startup of our solar array in Kinsale.',\n",
       " 'In 2021, 9.6% of our purchased electricity came from renewable sources.',\n",
       " 'A large portion of this renewable electricity is delivered  through our utility providers to our sites in Alcobendas, Spain; Kinsale, Ireland; and Bracknell, UK.']"
      ]
     },
     "execution_count": 15,
     "metadata": {},
     "output_type": "execute_result"
    }
   ],
   "source": [
    "all_relevant[0:5]"
   ]
  },
  {
   "cell_type": "code",
   "execution_count": 16,
   "metadata": {},
   "outputs": [
    {
     "data": {
      "text/plain": [
       "['7/7/22, 10:29 AM Environmental | 2021 ESG Report | Eli Lilly and Company\\nhttps://esg.lilly .com/environmental#tab-control-tab4 1/7Our purpose, t o mak e life better , includes pr otecting and pr eser ving the world we liv e in.',\n",
       " 'Making medicines r equir es the use of v aluable\\nresour ces including ener gy, water and r aw materials.',\n",
       " 'W e’re committed t o reducing our envir onmental footprint acr oss the lif e cycles of\\nour pr oducts and our supply chain.',\n",
       " 'T o track our pr ogress, we measur e and manage ener gy and water use, gr eenhouse gas (GHG)\\nemissions and the gener ation of waste and wastewater thr oughout our manufacturing pr ocess.',\n",
       " 'Lilly manages health, saf ety and the\\nenvir onment (HSE) under a uni\\x00ed go vernance structur e.\\nOur 2030 Envir onmental Goals\\nClimate\\nCarbon neutr al\\nin our own oper ations\\n100%\\nrenewable electricity\\nEnhance\\nfull v alue-chain emissions r epor ting\\nWaste\\nZero\\nwaste t o land\\x00ll\\n100%\\nof plastic waste r epurposed for\\nbene\\x00cial use with at least 90%\\nrecycled or r eused\\nIntegr ate sustainability\\ninto product and packaging design\\nWater\\nNo adv erse impact\\nto water-str essed ar eas\\nNo adv erse impact\\nfrom pharmaceuticals in the\\nenvir onment\\nClimate Waste Water Product Stewar dship\\nClimateOur Envir onmental Appr oach\\nSkip t o main content\\nMenu\\n7/7/22, 10:29 AM Environmental | 2021 ESG Report | Eli Lilly and Company\\nhttps://esg.lilly .com/environmental#tab-control-tab4 2/7\\nManagement Appr oach\\nLilly acknowledges that climate change is an e ver-pr esent r eality that is contributing t o a r eduction in human and envir onmental health.']"
      ]
     },
     "execution_count": 16,
     "metadata": {},
     "output_type": "execute_result"
    }
   ],
   "source": [
    "all_text[0:5]"
   ]
  },
  {
   "cell_type": "code",
   "execution_count": 21,
   "metadata": {},
   "outputs": [],
   "source": [
    "pd.DataFrame(all_relevant).to_csv(\"relevant_sentences.csv\")"
   ]
  },
  {
   "cell_type": "code",
   "execution_count": 22,
   "metadata": {},
   "outputs": [],
   "source": [
    "pd.DataFrame(all_text).to_csv(\"all_sentences.csv\")"
   ]
  },
  {
   "cell_type": "code",
   "execution_count": 19,
   "metadata": {},
   "outputs": [
    {
     "data": {
      "text/plain": [
       "str"
      ]
     },
     "execution_count": 19,
     "metadata": {},
     "output_type": "execute_result"
    }
   ],
   "source": [
    "type(all_text[1])"
   ]
  },
  {
   "cell_type": "code",
   "execution_count": null,
   "metadata": {},
   "outputs": [],
   "source": []
  },
  {
   "cell_type": "code",
   "execution_count": null,
   "metadata": {},
   "outputs": [],
   "source": []
  },
  {
   "cell_type": "markdown",
   "metadata": {},
   "source": [
    "### IGNORE CODES BELOW FOR NOW AS IT CAN BE REPETITIVE"
   ]
  },
  {
   "cell_type": "markdown",
   "metadata": {},
   "source": [
    "### Statistics of Aggregated Data"
   ]
  },
  {
   "cell_type": "code",
   "execution_count": 8,
   "metadata": {
    "scrolled": true
   },
   "outputs": [
    {
     "name": "stdout",
     "output_type": "stream",
     "text": [
      "Total number of documents: 72\n"
     ]
    }
   ],
   "source": [
    "print(\"Total number of documents:\", len(all_relevant))"
   ]
  },
  {
   "cell_type": "code",
   "execution_count": 9,
   "metadata": {},
   "outputs": [],
   "source": [
    "# Order of relevant text and all_text from Healthcare to Utilities\n",
    "\n",
    "Healthcare = [\"EliLilly\", \"UnitedHealthGroup\", \"Merck\", \"BristolMyersSquibb\", \"Danaher\", \"johnsonandjohnson\", \n",
    "     \"Pfizer\", \"Abbott\", \"ThermoFisherScientifiic\", \"Amgen\"]\n",
    "\n",
    "IND = [\"Caterpillar\", \"Lockheed\", \"Boeing\", \"UPS\", \"Raytheon\", \"Delta\", \"Deere\", \"Honeywell\", \"3M\", \"UnionPacific\"]\n",
    "\n",
    "Energy = [\"Total\", \"BP\", \"Shell\"]\n",
    "\n",
    "CONSTA = [\"Mondelez_Intl\", \"Hershey\", \"Philip_Morris_Intl\", \"PepsiCo\", \"Altria_Environmental\", \"PandG\", \"Altria_TCFD\",\n",
    "     \"Costco\", \"CocaCola\", \"Altria_2021\", \"Walmart\", \"EsteeLauder\"]\n",
    "\n",
    "CONDIS = [\"McDonalds\", \"TJX\", \"HomeDepot\", \"Lowes\", \"Target\", \"BookingHoldings\", \"Tesla\",\n",
    "     \"Amazon\", \"Nike\", \"Starbucks\"]\n",
    "\n",
    "IT = [\"Accenture\", \"Broadcom\", \"Mastercard\", \"Nvidia\", \"Oracle\", \"Cisco\", \"Microsoft\", \"VIsa\", \"Adobe\", \"Apple\"]\n",
    "\n",
    "RealEstate = [\"AmericanTowerCorp\", \"Prologis\", \"CrownCastle\"]\n",
    "\n",
    "Materials = [\"Linde\", \"Ecolab\", \"SherwinWilliams\", \"IntrntlFlavorsandFragrances\", \"FreeportMcmoran\", \"Nucor\", \n",
    "     \"AirProducts\", \"Corteva\", \"NewmontMining\", \"Dow\"]\n",
    "\n",
    "Utilities = [\"Dominion_Energy\", \"Duke_Energy\", \"AEP\",\"NextEraEnergyZeroCarbonBlueprint\"]"
   ]
  },
  {
   "cell_type": "code",
   "execution_count": 10,
   "metadata": {},
   "outputs": [],
   "source": [
    "all_companies = Healthcare + IND + Energy + CONSTA + CONDIS + IT + RealEstate + Materials + Utilities\n",
    "\n",
    "report_rel_dict = {}\n",
    "report_all_dict = {}\n",
    "\n",
    "for indx, all_comp in enumerate(all_companies):\n",
    "    report_rel_dict[all_comp] = len(all_relevant[indx])\n",
    "    report_all_dict[all_comp] = len(all_text[indx])"
   ]
  },
  {
   "cell_type": "code",
   "execution_count": 11,
   "metadata": {},
   "outputs": [],
   "source": [
    "ds = [report_rel_dict, report_all_dict]"
   ]
  },
  {
   "cell_type": "code",
   "execution_count": 12,
   "metadata": {},
   "outputs": [],
   "source": [
    "sentences_stat = pd.DataFrame(ds).transpose()\n",
    "sentences_stat = sentences_stat.rename(columns = {0:\"relevant_text\", 1:'all_text'})"
   ]
  },
  {
   "cell_type": "code",
   "execution_count": 13,
   "metadata": {},
   "outputs": [
    {
     "data": {
      "text/html": [
       "<div>\n",
       "<style scoped>\n",
       "    .dataframe tbody tr th:only-of-type {\n",
       "        vertical-align: middle;\n",
       "    }\n",
       "\n",
       "    .dataframe tbody tr th {\n",
       "        vertical-align: top;\n",
       "    }\n",
       "\n",
       "    .dataframe thead th {\n",
       "        text-align: right;\n",
       "    }\n",
       "</style>\n",
       "<table border=\"1\" class=\"dataframe\">\n",
       "  <thead>\n",
       "    <tr style=\"text-align: right;\">\n",
       "      <th></th>\n",
       "      <th>relevant_text</th>\n",
       "      <th>all_text</th>\n",
       "    </tr>\n",
       "  </thead>\n",
       "  <tbody>\n",
       "    <tr>\n",
       "      <th>EliLilly</th>\n",
       "      <td>12</td>\n",
       "      <td>94</td>\n",
       "    </tr>\n",
       "    <tr>\n",
       "      <th>UnitedHealthGroup</th>\n",
       "      <td>0</td>\n",
       "      <td>721</td>\n",
       "    </tr>\n",
       "    <tr>\n",
       "      <th>Merck</th>\n",
       "      <td>8</td>\n",
       "      <td>1874</td>\n",
       "    </tr>\n",
       "    <tr>\n",
       "      <th>BristolMyersSquibb</th>\n",
       "      <td>4</td>\n",
       "      <td>1051</td>\n",
       "    </tr>\n",
       "    <tr>\n",
       "      <th>Danaher</th>\n",
       "      <td>2</td>\n",
       "      <td>720</td>\n",
       "    </tr>\n",
       "    <tr>\n",
       "      <th>...</th>\n",
       "      <td>...</td>\n",
       "      <td>...</td>\n",
       "    </tr>\n",
       "    <tr>\n",
       "      <th>Dow</th>\n",
       "      <td>4</td>\n",
       "      <td>2196</td>\n",
       "    </tr>\n",
       "    <tr>\n",
       "      <th>Dominion_Energy</th>\n",
       "      <td>1</td>\n",
       "      <td>587</td>\n",
       "    </tr>\n",
       "    <tr>\n",
       "      <th>Duke_Energy</th>\n",
       "      <td>20</td>\n",
       "      <td>792</td>\n",
       "    </tr>\n",
       "    <tr>\n",
       "      <th>AEP</th>\n",
       "      <td>15</td>\n",
       "      <td>1501</td>\n",
       "    </tr>\n",
       "    <tr>\n",
       "      <th>NextEra</th>\n",
       "      <td>17</td>\n",
       "      <td>163</td>\n",
       "    </tr>\n",
       "  </tbody>\n",
       "</table>\n",
       "<p>72 rows × 2 columns</p>\n",
       "</div>"
      ],
      "text/plain": [
       "                    relevant_text  all_text\n",
       "EliLilly                       12        94\n",
       "UnitedHealthGroup               0       721\n",
       "Merck                           8      1874\n",
       "BristolMyersSquibb              4      1051\n",
       "Danaher                         2       720\n",
       "...                           ...       ...\n",
       "Dow                             4      2196\n",
       "Dominion_Energy                 1       587\n",
       "Duke_Energy                    20       792\n",
       "AEP                            15      1501\n",
       "NextEra                        17       163\n",
       "\n",
       "[72 rows x 2 columns]"
      ]
     },
     "execution_count": 13,
     "metadata": {},
     "output_type": "execute_result"
    }
   ],
   "source": [
    "sentences_stat"
   ]
  },
  {
   "cell_type": "code",
   "execution_count": 14,
   "metadata": {},
   "outputs": [],
   "source": [
    "sentences_stat['percentage'] = round(sentences_stat['relevant_text'] / sentences_stat['all_text'] * 100, 2)"
   ]
  },
  {
   "cell_type": "code",
   "execution_count": 15,
   "metadata": {},
   "outputs": [],
   "source": [
    "sentences_stat['percentage'] = sentences_stat['percentage'].astype(str) + \"%\""
   ]
  },
  {
   "cell_type": "code",
   "execution_count": 16,
   "metadata": {},
   "outputs": [
    {
     "data": {
      "text/html": [
       "<div>\n",
       "<style scoped>\n",
       "    .dataframe tbody tr th:only-of-type {\n",
       "        vertical-align: middle;\n",
       "    }\n",
       "\n",
       "    .dataframe tbody tr th {\n",
       "        vertical-align: top;\n",
       "    }\n",
       "\n",
       "    .dataframe thead th {\n",
       "        text-align: right;\n",
       "    }\n",
       "</style>\n",
       "<table border=\"1\" class=\"dataframe\">\n",
       "  <thead>\n",
       "    <tr style=\"text-align: right;\">\n",
       "      <th></th>\n",
       "      <th>relevant_text</th>\n",
       "      <th>all_text</th>\n",
       "      <th>percentage</th>\n",
       "    </tr>\n",
       "  </thead>\n",
       "  <tbody>\n",
       "    <tr>\n",
       "      <th>EliLilly</th>\n",
       "      <td>12</td>\n",
       "      <td>94</td>\n",
       "      <td>12.77%</td>\n",
       "    </tr>\n",
       "    <tr>\n",
       "      <th>UnitedHealthGroup</th>\n",
       "      <td>0</td>\n",
       "      <td>721</td>\n",
       "      <td>0.0%</td>\n",
       "    </tr>\n",
       "    <tr>\n",
       "      <th>Merck</th>\n",
       "      <td>8</td>\n",
       "      <td>1874</td>\n",
       "      <td>0.43%</td>\n",
       "    </tr>\n",
       "    <tr>\n",
       "      <th>BristolMyersSquibb</th>\n",
       "      <td>4</td>\n",
       "      <td>1051</td>\n",
       "      <td>0.38%</td>\n",
       "    </tr>\n",
       "    <tr>\n",
       "      <th>Danaher</th>\n",
       "      <td>2</td>\n",
       "      <td>720</td>\n",
       "      <td>0.28%</td>\n",
       "    </tr>\n",
       "    <tr>\n",
       "      <th>...</th>\n",
       "      <td>...</td>\n",
       "      <td>...</td>\n",
       "      <td>...</td>\n",
       "    </tr>\n",
       "    <tr>\n",
       "      <th>Dow</th>\n",
       "      <td>4</td>\n",
       "      <td>2196</td>\n",
       "      <td>0.18%</td>\n",
       "    </tr>\n",
       "    <tr>\n",
       "      <th>Dominion_Energy</th>\n",
       "      <td>1</td>\n",
       "      <td>587</td>\n",
       "      <td>0.17%</td>\n",
       "    </tr>\n",
       "    <tr>\n",
       "      <th>Duke_Energy</th>\n",
       "      <td>20</td>\n",
       "      <td>792</td>\n",
       "      <td>2.53%</td>\n",
       "    </tr>\n",
       "    <tr>\n",
       "      <th>AEP</th>\n",
       "      <td>15</td>\n",
       "      <td>1501</td>\n",
       "      <td>1.0%</td>\n",
       "    </tr>\n",
       "    <tr>\n",
       "      <th>NextEra</th>\n",
       "      <td>17</td>\n",
       "      <td>163</td>\n",
       "      <td>10.43%</td>\n",
       "    </tr>\n",
       "  </tbody>\n",
       "</table>\n",
       "<p>72 rows × 3 columns</p>\n",
       "</div>"
      ],
      "text/plain": [
       "                    relevant_text  all_text percentage\n",
       "EliLilly                       12        94     12.77%\n",
       "UnitedHealthGroup               0       721       0.0%\n",
       "Merck                           8      1874      0.43%\n",
       "BristolMyersSquibb              4      1051      0.38%\n",
       "Danaher                         2       720      0.28%\n",
       "...                           ...       ...        ...\n",
       "Dow                             4      2196      0.18%\n",
       "Dominion_Energy                 1       587      0.17%\n",
       "Duke_Energy                    20       792      2.53%\n",
       "AEP                            15      1501       1.0%\n",
       "NextEra                        17       163     10.43%\n",
       "\n",
       "[72 rows x 3 columns]"
      ]
     },
     "execution_count": 16,
     "metadata": {},
     "output_type": "execute_result"
    }
   ],
   "source": [
    "sentences_stat"
   ]
  },
  {
   "cell_type": "code",
   "execution_count": 17,
   "metadata": {},
   "outputs": [],
   "source": [
    "sentences_stat.to_csv(\"sentences_stat.csv\")"
   ]
  },
  {
   "cell_type": "markdown",
   "metadata": {},
   "source": [
    "### Aggregating all the csv files into total_relevanat_texts and total_all_texts"
   ]
  },
  {
   "cell_type": "code",
   "execution_count": 18,
   "metadata": {},
   "outputs": [],
   "source": [
    "industry_types = ['CONSTA', 'CONDIS', 'Energy', 'IND', 'IT', 'HC', 'Materials', 'Real_Estate', 'Utilities']\n",
    "\n",
    "file_lists = []\n",
    "\n",
    "for i in industry_types:    \n",
    "    rel_file_name = i + \"_reltext.csv\"\n",
    "    file_lists.append(rel_file_name)"
   ]
  },
  {
   "cell_type": "code",
   "execution_count": 19,
   "metadata": {},
   "outputs": [
    {
     "data": {
      "text/plain": [
       "['CONSTA_reltext.csv',\n",
       " 'CONDIS_reltext.csv',\n",
       " 'Energy_reltext.csv',\n",
       " 'IND_reltext.csv',\n",
       " 'IT_reltext.csv',\n",
       " 'HC_reltext.csv',\n",
       " 'Materials_reltext.csv',\n",
       " 'Real_Estate_reltext.csv',\n",
       " 'Utilities_reltext.csv']"
      ]
     },
     "execution_count": 19,
     "metadata": {},
     "output_type": "execute_result"
    }
   ],
   "source": [
    "file_lists"
   ]
  },
  {
   "cell_type": "code",
   "execution_count": 22,
   "metadata": {},
   "outputs": [],
   "source": [
    "path = \"/Users/tylerryoo/t3/sentences_by_industry\"\n",
    "files = [os.path.join(path, file) for file in os.listdir(path)]\n",
    "total_rel_text = pd.concat((pd.read_csv(f) for f in files if f.endswith('reltext.csv')), ignore_index=True).reset_index()\n",
    "total_rel_text = total_rel_text['0']\n",
    "total_rel_text.to_csv(\"total_relevant_texts.csv\", encoding = 'utf-8-sig')"
   ]
  },
  {
   "cell_type": "code",
   "execution_count": 23,
   "metadata": {},
   "outputs": [],
   "source": [
    "total_all_text = pd.concat((pd.read_csv(f) for f in files if f.endswith('alltext.csv')), ignore_index=True).reset_index()\n",
    "total_all_text = total_all_text['0']\n",
    "total_all_text.to_csv(\"total_all_texts.csv\", encoding = 'utf-8-sig')"
   ]
  },
  {
   "cell_type": "markdown",
   "metadata": {},
   "source": [
    "### Save the extracted files to Aggregated_sentences_csv Folder \n",
    "\n",
    "- total_relevant_texts.csv: final version of relevant texts\n",
    "- total_all_texts.csv: final version of all_texts\n",
    "- aggregated_sentences.csv: both relevant and all sentences \n",
    "- all_sentences.csv: all sentences only\n",
    "- relevant_sentences.csv: relevant sentences only\n",
    "- sentences_stat.csv: extracted data statistics\n",
    "\n"
   ]
  },
  {
   "cell_type": "code",
   "execution_count": null,
   "metadata": {},
   "outputs": [],
   "source": []
  }
 ],
 "metadata": {
  "kernelspec": {
   "display_name": "Python 3 (ipykernel)",
   "language": "python",
   "name": "python3"
  },
  "language_info": {
   "codemirror_mode": {
    "name": "ipython",
    "version": 3
   },
   "file_extension": ".py",
   "mimetype": "text/x-python",
   "name": "python",
   "nbconvert_exporter": "python",
   "pygments_lexer": "ipython3",
   "version": "3.9.7"
  },
  "vscode": {
   "interpreter": {
    "hash": "db1c1e886ca7e5218f158543d1b9804c0a5c522f5654be9e23cd8543b350db84"
   }
  }
 },
 "nbformat": 4,
 "nbformat_minor": 2
}
