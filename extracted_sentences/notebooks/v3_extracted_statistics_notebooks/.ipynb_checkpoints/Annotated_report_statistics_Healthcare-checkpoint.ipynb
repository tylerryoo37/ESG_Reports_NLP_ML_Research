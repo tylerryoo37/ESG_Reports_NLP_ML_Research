{
 "cells": [
  {
   "cell_type": "code",
   "execution_count": 33,
   "metadata": {},
   "outputs": [],
   "source": [
    "import os\n",
    "import PyPDF2\n",
    "import fitz\n",
    "import pandas as pd"
   ]
  },
  {
   "cell_type": "code",
   "execution_count": 34,
   "metadata": {},
   "outputs": [],
   "source": [
    "from nltk import tokenize\n",
    "# import nltk\n",
    "# nltk.download('punkt')"
   ]
  },
  {
   "cell_type": "code",
   "execution_count": 35,
   "metadata": {},
   "outputs": [],
   "source": [
    "dir = 'annoted_sustainability_reports/Healthcare'\n",
    " "
   ]
  },
  {
   "cell_type": "markdown",
   "metadata": {},
   "source": [
    "### Extracting Sentences"
   ]
  },
  {
   "cell_type": "code",
   "execution_count": 41,
   "metadata": {
    "scrolled": false
   },
   "outputs": [
    {
     "name": "stdout",
     "output_type": "stream",
     "text": [
      "annoted_sustainability_reports/Healthcare/EliLilly_2021_Environmental_ESG_report.pdf\n",
      "Document('annoted_sustainability_reports/Healthcare/EliLilly_2021_Environmental_ESG_report.pdf')\n",
      "5\n",
      "annoted_sustainability_reports/Healthcare/UnitedHealthGroup_2021-sustainability-report.pdf\n",
      "Document('annoted_sustainability_reports/Healthcare/UnitedHealthGroup_2021-sustainability-report.pdf')\n",
      "0\n",
      "annoted_sustainability_reports/Healthcare/Merck_2021_ESG_report.pdf\n",
      "Document('annoted_sustainability_reports/Healthcare/Merck_2021_ESG_report.pdf')\n",
      "6\n",
      "annoted_sustainability_reports/Healthcare/BristolMyersSquibb_2020_ESG.pdf\n",
      "Document('annoted_sustainability_reports/Healthcare/BristolMyersSquibb_2020_ESG.pdf')\n",
      "3\n",
      "annoted_sustainability_reports/Healthcare/Danaher_2021_sustainability_report.pdf\n",
      "Document('annoted_sustainability_reports/Healthcare/Danaher_2021_sustainability_report.pdf')\n",
      "2\n",
      "annoted_sustainability_reports/Healthcare/johnsonandjohnson_2021-health-for-humanity-report-pdf.pdf\n",
      "Document('annoted_sustainability_reports/Healthcare/johnsonandjohnson_2021-health-for-humanity-report-pdf.pdf')\n",
      "NoneType found\n",
      "5\n",
      "annoted_sustainability_reports/Healthcare/Pfizer_NetZero_2022_update.pdf\n",
      "Document('annoted_sustainability_reports/Healthcare/Pfizer_NetZero_2022_update.pdf')\n",
      "1\n",
      "annoted_sustainability_reports/Healthcare/Abbott_2021_sustainability_report.pdf\n",
      "Document('annoted_sustainability_reports/Healthcare/Abbott_2021_sustainability_report.pdf')\n",
      "4\n",
      "annoted_sustainability_reports/Healthcare/ThermoFisherScientifiic_2021_CSR_report.pdf\n",
      "Document('annoted_sustainability_reports/Healthcare/ThermoFisherScientifiic_2021_CSR_report.pdf')\n",
      "4\n",
      "annoted_sustainability_reports/Healthcare/Amgen_2021_ESG_report.pdf\n",
      "Document('annoted_sustainability_reports/Healthcare/Amgen_2021_ESG_report.pdf')\n",
      "4\n"
     ]
    }
   ],
   "source": [
    "# aggregated sentences per report\n",
    "highlighted_num = []\n",
    "highlighted_sentences = [] \n",
    "all_sentences = []\n",
    "highlighted_label = []\n",
    "all_label = []\n",
    "\n",
    "# aggregated sentences of the entire industry (tokenizing highlighted_result & all_result)\n",
    "rel_text = []\n",
    "rel_label = []\n",
    "all_text_final = []\n",
    "\n",
    "\n",
    "# labels used to keep the order of sentences by company names \n",
    "x_label = [\"EliLilly\", \"UnitedHealthGroup\", \"Merck\", \"BristolMyersSquibb\", \"Danaher\", \"johnsonandjohnson\", \n",
    "            \"Pfizer\", \"Abbott\", \"ThermoFisherScientifiic\", \"Amgen\"]\n",
    "\n",
    "\n",
    "for file in os.listdir(dir): # running all the files in the industry folder\n",
    "    f = os.path.join(dir, file) # joining filename and directory\n",
    "    print(f)\n",
    "    \n",
    "    # labelling sentences by companies \n",
    "    res = list(filter(lambda x:  x in f, x_label))\n",
    "\n",
    "    doc = fitz.open(f) # opening each company report\n",
    "    print(doc)\n",
    "    \n",
    "    # results of each report\n",
    "    highlighted_result = []\n",
    "    all_result = [] \n",
    "    \n",
    "    # Iterate each page of the document \n",
    "    for page in doc:\n",
    "        \n",
    "        # extract all the sentences in pdf \n",
    "        test = page.get_text()\n",
    "        all_result.append(test)\n",
    "        \n",
    "        # extracting highlighted sentences from pdf \n",
    "        highlights = []\n",
    "        annot = page.first_annot\n",
    "        \n",
    "        while annot:\n",
    "            if annot.type[0] == 8:\n",
    "                all_coordinates = annot.vertices\n",
    "                try:\n",
    "                    if len(all_coordinates) == 4:\n",
    "                        highlight_coord = fitz.Quad(all_coordinates).rect\n",
    "                        highlights.append(highlight_coord)\n",
    "                    else:\n",
    "                        all_coordinates = [all_coordinates[x:x+4] for x in range(0, len(all_coordinates), 4)]\n",
    "                        for i in range(0,len(all_coordinates)):\n",
    "                            coord = fitz.Quad(all_coordinates[i]).rect\n",
    "                            highlights.append(coord)\n",
    "                except:\n",
    "                    print(\"NoneType found\")\n",
    "            annot = annot.next\n",
    "        \n",
    "        # calculate coordinate sum to eliminate duplicated sentences \n",
    "        coordinate_sum_total = []\n",
    "        all_words = page.get_text_words()\n",
    "        highlight_text = []\n",
    "        if len(highlights) > 0:\n",
    "            for h in highlights:\n",
    "                sentence = []\n",
    "                num_i = 0\n",
    "                for w in all_words:\n",
    "                    if (fitz.Rect(w[0:4]).intersects(h)):\n",
    "                        if str(sum(w[0:4])) not in coordinate_sum_total: #if no duplicate coordinate sum found, append\n",
    "                            coordinate_sum_total.append(str(sum(w[0:4])))\n",
    "                            sentence.append(w[4])\n",
    "            \n",
    "                highlight_text.append(\" \".join(sentence))\n",
    "        \n",
    "#         print(highlight_text)\n",
    "        \n",
    "        if len(highlight_text) > 0:\n",
    "            highlighted_result.append(\" \".join(highlight_text))\n",
    "        \n",
    "#         print(result)\n",
    "\n",
    "    # Results of the entire industry & keeps track of number of sentences in highlighted_num\n",
    "    highlighted_num.append(len(highlighted_result))\n",
    "    highlighted_sentences.append(highlighted_result)\n",
    "    all_sentences.append(all_result)\n",
    "    \n",
    "    print(len(highlighted_result))\n",
    "    \n",
    "#         print(test_text)\n",
    "        \n",
    "    for r in highlighted_result:\n",
    "        if r is not None:\n",
    "            # tokenize sentences by pages where the sentences is found \n",
    "            # instead of conducting it to the entire report this enhances accuracy \n",
    "            rel_text += tokenize.sent_tokenize(r)\n",
    "            highlighted_label.append(res)\n",
    "            rel_label += res * len(tokenize.sent_tokenize(r))         \n",
    "    \n",
    "    for i in all_result:\n",
    "        all_text_final += tokenize.sent_tokenize(i.replace(\"\\n\", \" \"))\n",
    "        all_label += res * len(tokenize.sent_tokenize(i.replace(\"\\n\", \" \")))\n",
    "        \n",
    "#     print(highlighted_sentences, \"\\n\", len(highlighted_sentences))\n",
    "\n"
   ]
  },
  {
   "cell_type": "code",
   "execution_count": 37,
   "metadata": {
    "scrolled": true
   },
   "outputs": [
    {
     "data": {
      "text/plain": [
       "[5, 0, 6, 3, 2, 5, 1, 4, 4, 4]"
      ]
     },
     "execution_count": 37,
     "metadata": {},
     "output_type": "execute_result"
    }
   ],
   "source": [
    "highlighted_num"
   ]
  },
  {
   "cell_type": "code",
   "execution_count": 42,
   "metadata": {},
   "outputs": [
    {
     "data": {
      "text/html": [
       "<div>\n",
       "<style scoped>\n",
       "    .dataframe tbody tr th:only-of-type {\n",
       "        vertical-align: middle;\n",
       "    }\n",
       "\n",
       "    .dataframe tbody tr th {\n",
       "        vertical-align: top;\n",
       "    }\n",
       "\n",
       "    .dataframe thead th {\n",
       "        text-align: right;\n",
       "    }\n",
       "</style>\n",
       "<table border=\"1\" class=\"dataframe\">\n",
       "  <thead>\n",
       "    <tr style=\"text-align: right;\">\n",
       "      <th></th>\n",
       "      <th>relevant_sentences</th>\n",
       "      <th>company_label</th>\n",
       "    </tr>\n",
       "  </thead>\n",
       "  <tbody>\n",
       "    <tr>\n",
       "      <th>0</th>\n",
       "      <td>From 2012 to 2020, we achieved a 26% reduction...</td>\n",
       "      <td>EliLilly</td>\n",
       "    </tr>\n",
       "    <tr>\n",
       "      <th>1</th>\n",
       "      <td>In 2021, we achieved a 9% absolute emissions r...</td>\n",
       "      <td>EliLilly</td>\n",
       "    </tr>\n",
       "    <tr>\n",
       "      <th>2</th>\n",
       "      <td>This reduction was partially driven by energy ...</td>\n",
       "      <td>EliLilly</td>\n",
       "    </tr>\n",
       "    <tr>\n",
       "      <th>3</th>\n",
       "      <td>In 2021, 9.6% of our purchased electricity cam...</td>\n",
       "      <td>EliLilly</td>\n",
       "    </tr>\n",
       "    <tr>\n",
       "      <th>4</th>\n",
       "      <td>A large portion of this renewable electricity ...</td>\n",
       "      <td>EliLilly</td>\n",
       "    </tr>\n",
       "    <tr>\n",
       "      <th>...</th>\n",
       "      <td>...</td>\n",
       "      <td>...</td>\n",
       "    </tr>\n",
       "    <tr>\n",
       "      <th>67</th>\n",
       "      <td>Renewable electricity (% of total electricity)...</td>\n",
       "      <td>ThermoFisherScientifiic</td>\n",
       "    </tr>\n",
       "    <tr>\n",
       "      <th>68</th>\n",
       "      <td>Through innovative manufacturing technologies ...</td>\n",
       "      <td>Amgen</td>\n",
       "    </tr>\n",
       "    <tr>\n",
       "      <th>69</th>\n",
       "      <td>“It Nevertheless, as of January 1, 2022, Barre...</td>\n",
       "      <td>Amgen</td>\n",
       "    </tr>\n",
       "    <tr>\n",
       "      <th>70</th>\n",
       "      <td>ENERGY In 2021, we increased the amount of ren...</td>\n",
       "      <td>Amgen</td>\n",
       "    </tr>\n",
       "    <tr>\n",
       "      <th>71</th>\n",
       "      <td>Carbon emissions from onsite combustion of fue...</td>\n",
       "      <td>Amgen</td>\n",
       "    </tr>\n",
       "  </tbody>\n",
       "</table>\n",
       "<p>72 rows × 2 columns</p>\n",
       "</div>"
      ],
      "text/plain": [
       "                                   relevant_sentences            company_label\n",
       "0   From 2012 to 2020, we achieved a 26% reduction...                 EliLilly\n",
       "1   In 2021, we achieved a 9% absolute emissions r...                 EliLilly\n",
       "2   This reduction was partially driven by energy ...                 EliLilly\n",
       "3   In 2021, 9.6% of our purchased electricity cam...                 EliLilly\n",
       "4   A large portion of this renewable electricity ...                 EliLilly\n",
       "..                                                ...                      ...\n",
       "67  Renewable electricity (% of total electricity)...  ThermoFisherScientifiic\n",
       "68  Through innovative manufacturing technologies ...                    Amgen\n",
       "69  “It Nevertheless, as of January 1, 2022, Barre...                    Amgen\n",
       "70  ENERGY In 2021, we increased the amount of ren...                    Amgen\n",
       "71  Carbon emissions from onsite combustion of fue...                    Amgen\n",
       "\n",
       "[72 rows x 2 columns]"
      ]
     },
     "execution_count": 42,
     "metadata": {},
     "output_type": "execute_result"
    }
   ],
   "source": [
    "rel_text_df = pd.DataFrame([rel_text, rel_label]).transpose()\n",
    "rel_text_df = rel_text_df.rename(columns = {0: 'relevant_sentences', 1: 'company_label'})\n",
    "rel_text_df"
   ]
  },
  {
   "cell_type": "code",
   "execution_count": 43,
   "metadata": {},
   "outputs": [
    {
     "data": {
      "text/html": [
       "<div>\n",
       "<style scoped>\n",
       "    .dataframe tbody tr th:only-of-type {\n",
       "        vertical-align: middle;\n",
       "    }\n",
       "\n",
       "    .dataframe tbody tr th {\n",
       "        vertical-align: top;\n",
       "    }\n",
       "\n",
       "    .dataframe thead th {\n",
       "        text-align: right;\n",
       "    }\n",
       "</style>\n",
       "<table border=\"1\" class=\"dataframe\">\n",
       "  <thead>\n",
       "    <tr style=\"text-align: right;\">\n",
       "      <th></th>\n",
       "      <th>all_sentences</th>\n",
       "      <th>company_label</th>\n",
       "    </tr>\n",
       "  </thead>\n",
       "  <tbody>\n",
       "    <tr>\n",
       "      <th>0</th>\n",
       "      <td>7/7/22, 10:29 AM Environmental | 2021 ESG Repo...</td>\n",
       "      <td>EliLilly</td>\n",
       "    </tr>\n",
       "    <tr>\n",
       "      <th>1</th>\n",
       "      <td>Making medicines requires the use of valuable ...</td>\n",
       "      <td>EliLilly</td>\n",
       "    </tr>\n",
       "    <tr>\n",
       "      <th>2</th>\n",
       "      <td>We’re committed to reducing our environmental ...</td>\n",
       "      <td>EliLilly</td>\n",
       "    </tr>\n",
       "    <tr>\n",
       "      <th>3</th>\n",
       "      <td>To track our progress, we measure and manage e...</td>\n",
       "      <td>EliLilly</td>\n",
       "    </tr>\n",
       "    <tr>\n",
       "      <th>4</th>\n",
       "      <td>Lilly manages health, safety and the environme...</td>\n",
       "      <td>EliLilly</td>\n",
       "    </tr>\n",
       "    <tr>\n",
       "      <th>...</th>\n",
       "      <td>...</td>\n",
       "      <td>...</td>\n",
       "    </tr>\n",
       "    <tr>\n",
       "      <th>12439</th>\n",
       "      <td>Global economic conditions  may magnify certai...</td>\n",
       "      <td>Amgen</td>\n",
       "    </tr>\n",
       "    <tr>\n",
       "      <th>12440</th>\n",
       "      <td>Our business  performance could affect or limi...</td>\n",
       "      <td>Amgen</td>\n",
       "    </tr>\n",
       "    <tr>\n",
       "      <th>12441</th>\n",
       "      <td>We may not be able to access the capital and  ...</td>\n",
       "      <td>Amgen</td>\n",
       "    </tr>\n",
       "    <tr>\n",
       "      <th>12442</th>\n",
       "      <td>Reference to our website is not intended to fu...</td>\n",
       "      <td>Amgen</td>\n",
       "    </tr>\n",
       "    <tr>\n",
       "      <th>12443</th>\n",
       "      <td>APPENDIX</td>\n",
       "      <td>Amgen</td>\n",
       "    </tr>\n",
       "  </tbody>\n",
       "</table>\n",
       "<p>12444 rows × 2 columns</p>\n",
       "</div>"
      ],
      "text/plain": [
       "                                           all_sentences company_label\n",
       "0      7/7/22, 10:29 AM Environmental | 2021 ESG Repo...      EliLilly\n",
       "1      Making medicines requires the use of valuable ...      EliLilly\n",
       "2      We’re committed to reducing our environmental ...      EliLilly\n",
       "3      To track our progress, we measure and manage e...      EliLilly\n",
       "4      Lilly manages health, safety and the environme...      EliLilly\n",
       "...                                                  ...           ...\n",
       "12439  Global economic conditions  may magnify certai...         Amgen\n",
       "12440  Our business  performance could affect or limi...         Amgen\n",
       "12441  We may not be able to access the capital and  ...         Amgen\n",
       "12442  Reference to our website is not intended to fu...         Amgen\n",
       "12443                                           APPENDIX         Amgen\n",
       "\n",
       "[12444 rows x 2 columns]"
      ]
     },
     "execution_count": 43,
     "metadata": {},
     "output_type": "execute_result"
    }
   ],
   "source": [
    "all_text_final_df = pd.DataFrame([all_text_final, all_label]).transpose()\n",
    "all_text_final_df = all_text_final_df.rename(columns = {0: 'all_sentences', 1: 'company_label'})\n",
    "all_text_final_df"
   ]
  },
  {
   "cell_type": "markdown",
   "metadata": {},
   "source": [
    "### Getting Sentence Statistics "
   ]
  },
  {
   "cell_type": "code",
   "execution_count": 63,
   "metadata": {},
   "outputs": [],
   "source": [
    "# count rel sentences \n",
    "rel_count = rel_text_df.groupby('company_label', sort = False).count()\n",
    "\n",
    "# count all sentences\n",
    "sent_count = all_text_final_df.groupby('company_label', sort = False).count()"
   ]
  },
  {
   "cell_type": "code",
   "execution_count": 65,
   "metadata": {},
   "outputs": [
    {
     "data": {
      "text/html": [
       "<div>\n",
       "<style scoped>\n",
       "    .dataframe tbody tr th:only-of-type {\n",
       "        vertical-align: middle;\n",
       "    }\n",
       "\n",
       "    .dataframe tbody tr th {\n",
       "        vertical-align: top;\n",
       "    }\n",
       "\n",
       "    .dataframe thead th {\n",
       "        text-align: right;\n",
       "    }\n",
       "</style>\n",
       "<table border=\"1\" class=\"dataframe\">\n",
       "  <thead>\n",
       "    <tr style=\"text-align: right;\">\n",
       "      <th></th>\n",
       "      <th>all_sentences</th>\n",
       "      <th>relevant_sentences</th>\n",
       "      <th>percentages</th>\n",
       "    </tr>\n",
       "    <tr>\n",
       "      <th>company_label</th>\n",
       "      <th></th>\n",
       "      <th></th>\n",
       "      <th></th>\n",
       "    </tr>\n",
       "  </thead>\n",
       "  <tbody>\n",
       "    <tr>\n",
       "      <th>EliLilly</th>\n",
       "      <td>105</td>\n",
       "      <td>16.0</td>\n",
       "      <td>15.238095</td>\n",
       "    </tr>\n",
       "    <tr>\n",
       "      <th>UnitedHealthGroup</th>\n",
       "      <td>1065</td>\n",
       "      <td>0.0</td>\n",
       "      <td>0.000000</td>\n",
       "    </tr>\n",
       "    <tr>\n",
       "      <th>Merck</th>\n",
       "      <td>2464</td>\n",
       "      <td>13.0</td>\n",
       "      <td>0.527597</td>\n",
       "    </tr>\n",
       "    <tr>\n",
       "      <th>BristolMyersSquibb</th>\n",
       "      <td>1211</td>\n",
       "      <td>5.0</td>\n",
       "      <td>0.412882</td>\n",
       "    </tr>\n",
       "    <tr>\n",
       "      <th>Danaher</th>\n",
       "      <td>945</td>\n",
       "      <td>2.0</td>\n",
       "      <td>0.211640</td>\n",
       "    </tr>\n",
       "    <tr>\n",
       "      <th>johnsonandjohnson</th>\n",
       "      <td>2118</td>\n",
       "      <td>14.0</td>\n",
       "      <td>0.661001</td>\n",
       "    </tr>\n",
       "    <tr>\n",
       "      <th>Pfizer</th>\n",
       "      <td>59</td>\n",
       "      <td>1.0</td>\n",
       "      <td>1.694915</td>\n",
       "    </tr>\n",
       "    <tr>\n",
       "      <th>Abbott</th>\n",
       "      <td>2141</td>\n",
       "      <td>10.0</td>\n",
       "      <td>0.467071</td>\n",
       "    </tr>\n",
       "    <tr>\n",
       "      <th>ThermoFisherScientifiic</th>\n",
       "      <td>921</td>\n",
       "      <td>7.0</td>\n",
       "      <td>0.760043</td>\n",
       "    </tr>\n",
       "    <tr>\n",
       "      <th>Amgen</th>\n",
       "      <td>1415</td>\n",
       "      <td>4.0</td>\n",
       "      <td>0.282686</td>\n",
       "    </tr>\n",
       "  </tbody>\n",
       "</table>\n",
       "</div>"
      ],
      "text/plain": [
       "                         all_sentences  relevant_sentences  percentages\n",
       "company_label                                                          \n",
       "EliLilly                           105                16.0    15.238095\n",
       "UnitedHealthGroup                 1065                 0.0     0.000000\n",
       "Merck                             2464                13.0     0.527597\n",
       "BristolMyersSquibb                1211                 5.0     0.412882\n",
       "Danaher                            945                 2.0     0.211640\n",
       "johnsonandjohnson                 2118                14.0     0.661001\n",
       "Pfizer                              59                 1.0     1.694915\n",
       "Abbott                            2141                10.0     0.467071\n",
       "ThermoFisherScientifiic            921                 7.0     0.760043\n",
       "Amgen                             1415                 4.0     0.282686"
      ]
     },
     "execution_count": 65,
     "metadata": {},
     "output_type": "execute_result"
    }
   ],
   "source": [
    "sentences_list = []\n",
    "rel_sent_list = []\n",
    "\n",
    "final_text_stat = pd.concat([sent_count, rel_count],  sort = False, axis = 1)\n",
    "\n",
    "[rel_sent_list.append(rel_sent) for rel_sent in final_text_stat['relevant_sentences']]    \n",
    "[sentences_list.append(all_sent) for all_sent in final_text_stat['all_sentences']]    \n",
    "    \n",
    "final_text_stat['relevant_sentences'] = final_text_stat['relevant_sentences'].fillna(0)\n",
    "final_text_stat['percentages'] = final_text_stat['relevant_sentences'] / final_text_stat['all_sentences'] * 100\n",
    "final_text_stat"
   ]
  },
  {
   "cell_type": "code",
   "execution_count": 66,
   "metadata": {},
   "outputs": [
    {
     "data": {
      "image/png": "[encoded data removed]",
      "text/plain": [
       "<Figure size 432x288 with 1 Axes>"
      ]
     },
     "metadata": {
      "needs_background": "light"
     },
     "output_type": "display_data"
    }
   ],
   "source": [
    "import matplotlib.pyplot as plt\n",
    "import numpy as np\n",
    "import glob\n",
    "y = []\n",
    "\n",
    "x = [\"EliLilly\", \"UnitedHealthGroup\", \"Merck\", \"BristolMyersSquibb\", \"Danaher\", \"johnsonandjohnson\", \n",
    "     \"Pfizer\", \"Abbott\", \"ThermoFisherScientifiic\", \"Amgen\"]\n",
    "\n",
    "i = 0\n",
    "\n",
    "for file in os.listdir(dir):\n",
    "    y.append(100 * (rel_sent_list[i])/sentences_list[i])\n",
    "    i = i+1\n",
    "\n",
    "plt.bar(x, y, width = 0.8)\n",
    "plt.xticks(rotation='vertical')\n",
    "plt.xlabel(\"Company\")\n",
    "plt.ylabel(\"Percent of sentences highlighted\")\n",
    "plt.yticks(np.arange(0, 50, 10))\n",
    "plt.show()"
   ]
  },
  {
   "cell_type": "code",
   "execution_count": 47,
   "metadata": {},
   "outputs": [
    {
     "data": {
      "text/plain": [
       "count    10.000000\n",
       "mean      0.829959\n",
       "std       1.460014\n",
       "min       0.000000\n",
       "25%       0.217748\n",
       "50%       0.245618\n",
       "75%       0.396404\n",
       "max       4.761905\n",
       "dtype: float64"
      ]
     },
     "execution_count": 47,
     "metadata": {},
     "output_type": "execute_result"
    }
   ],
   "source": [
    "import pandas as pd\n",
    "\n",
    "series = pd.Series(y)\n",
    "series.describe()"
   ]
  },
  {
   "cell_type": "markdown",
   "metadata": {},
   "source": [
    "### Exporting and Saving Files "
   ]
  },
  {
   "cell_type": "code",
   "execution_count": 48,
   "metadata": {},
   "outputs": [
    {
     "name": "stdout",
     "output_type": "stream",
     "text": [
      "Stored 'HC_reltext' (list)\n",
      "Stored 'HC_alltext' (list)\n",
      "Stored 'HC_stat' (DataFrame)\n"
     ]
    }
   ],
   "source": [
    "#storing variable so they can be called between notebooks (for ML and aggregate work later on)\n",
    "\n",
    "HC_reltext = highlighted_sentences\n",
    "HC_alltext = all_text_final\n",
    "HC_stat = final_text_stat\n",
    "\n",
    "%store HC_reltext\n",
    "%store HC_alltext\n",
    "%store HC_stat"
   ]
  },
  {
   "cell_type": "code",
   "execution_count": 49,
   "metadata": {},
   "outputs": [],
   "source": [
    "def extract_sentences(text):\n",
    "    sentences = []\n",
    "    for report in text:\n",
    "        for sent in report:\n",
    "            sentences.append(sent)\n",
    "    return sentences"
   ]
  },
  {
   "cell_type": "code",
   "execution_count": 50,
   "metadata": {},
   "outputs": [],
   "source": [
    "pd.DataFrame(extract_sentences(HC_reltext)).to_csv(\"HC_reltext.csv\", encoding = 'utf-8-sig')"
   ]
  },
  {
   "cell_type": "code",
   "execution_count": 51,
   "metadata": {},
   "outputs": [],
   "source": [
    "pd.DataFrame(HC_alltext).to_csv(\"HC_alltext.csv\", encoding = 'utf-8-sig')"
   ]
  },
  {
   "cell_type": "code",
   "execution_count": 52,
   "metadata": {},
   "outputs": [],
   "source": [
    "rel_text_df.to_csv(\"HC_reltext_comp.csv\", encoding = 'utf-8-sig')"
   ]
  },
  {
   "cell_type": "code",
   "execution_count": 53,
   "metadata": {},
   "outputs": [],
   "source": [
    "all_text_final_df.to_csv(\"HC_alltext_comp.csv\", encoding = 'utf-8-sig')"
   ]
  },
  {
   "cell_type": "code",
   "execution_count": null,
   "metadata": {},
   "outputs": [],
   "source": []
  }
 ],
 "metadata": {
  "kernelspec": {
   "display_name": "Python 3 (ipykernel)",
   "language": "python",
   "name": "python3"
  },
  "language_info": {
   "codemirror_mode": {
    "name": "ipython",
    "version": 3
   },
   "file_extension": ".py",
   "mimetype": "text/x-python",
   "name": "python",
   "nbconvert_exporter": "python",
   "pygments_lexer": "ipython3",
   "version": "3.9.7"
  },
  "vscode": {
   "interpreter": {
    "hash": "db1c1e886ca7e5218f158543d1b9804c0a5c522f5654be9e23cd8543b350db84"
   }
  }
 },
 "nbformat": 4,
 "nbformat_minor": 4
}
