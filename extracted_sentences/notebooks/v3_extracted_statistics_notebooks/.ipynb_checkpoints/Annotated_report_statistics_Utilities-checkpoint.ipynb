{
 "cells": [
  {
   "cell_type": "code",
   "execution_count": 2,
   "id": "ac129345",
   "metadata": {},
   "outputs": [],
   "source": [
    "import os\n",
    "import PyPDF2\n",
    "import fitz\n",
    "import pandas as pd"
   ]
  },
  {
   "cell_type": "code",
   "execution_count": 3,
   "id": "aeb61c69",
   "metadata": {},
   "outputs": [],
   "source": [
    "from nltk import tokenize\n",
    "# import nltk\n",
    "# nltk.download('punkt')"
   ]
  },
  {
   "cell_type": "code",
   "execution_count": 4,
   "id": "0ef95e9d",
   "metadata": {},
   "outputs": [],
   "source": [
    "dir = 'annoted_sustainability_reports/Utilities'"
   ]
  },
  {
   "cell_type": "markdown",
   "id": "df18591c",
   "metadata": {},
   "source": [
    "### Extracting Sentences"
   ]
  },
  {
   "cell_type": "code",
   "execution_count": 5,
   "id": "f927fefc",
   "metadata": {},
   "outputs": [
    {
     "name": "stdout",
     "output_type": "stream",
     "text": [
      "annoted_sustainability_reports/Utilities/Dominion_Energy_2021-climate-report.pdf\n",
      "Document('annoted_sustainability_reports/Utilities/Dominion_Energy_2021-climate-report.pdf')\n",
      "2\n",
      "annoted_sustainability_reports/Utilities/Duke_Energy_2021-esg-report-full.pdf\n",
      "Document('annoted_sustainability_reports/Utilities/Duke_Energy_2021-esg-report-full.pdf')\n",
      "10\n",
      "annoted_sustainability_reports/Utilities/AEP_2022_Sustainability-Report.pdf\n",
      "Document('annoted_sustainability_reports/Utilities/AEP_2022_Sustainability-Report.pdf')\n",
      "7\n",
      "annoted_sustainability_reports/Utilities/NextEraEnergyZeroCarbonBlueprint.pdf\n",
      "Document('annoted_sustainability_reports/Utilities/NextEraEnergyZeroCarbonBlueprint.pdf')\n",
      "3\n"
     ]
    }
   ],
   "source": [
    "# aggregated sentences per report\n",
    "highlighted_num = []\n",
    "highlighted_sentences = [] \n",
    "all_sentences = []\n",
    "highlighted_label = []\n",
    "all_label = []\n",
    "\n",
    "# aggregated sentences of the entire industry (tokenizing highlighted_result & all_result)\n",
    "rel_text = []\n",
    "rel_label = []\n",
    "all_text_final = []\n",
    "\n",
    "x_label = [\"Dominion_Energy\", \"Duke_Energy\", \"AEP\",\"NextEraEnergyZeroCarbonBlueprint\"]\n",
    "\n",
    "for file in os.listdir(dir): # running all the files in the industry folder\n",
    "    f = os.path.join(dir, file) # joining filename and directory\n",
    "    print(f)\n",
    "    \n",
    "    # labelling sentences by companies \n",
    "    res = list(filter(lambda x:  x in f, x_label))\n",
    "\n",
    "    doc = fitz.open(f) # opening each company report\n",
    "    print(doc)\n",
    "    \n",
    "    # results of each report\n",
    "    highlighted_result = []\n",
    "    all_result = [] \n",
    "    \n",
    "    # Iterate each page of the document \n",
    "    for page in doc:\n",
    "        \n",
    "        # extract all the sentences in pdf \n",
    "        test = page.get_text()\n",
    "        all_result.append(test)\n",
    "        \n",
    "        # extracting highlighted sentences from pdf \n",
    "        highlights = []\n",
    "        annot = page.first_annot\n",
    "        \n",
    "        while annot:\n",
    "            if annot.type[0] == 8:\n",
    "                all_coordinates = annot.vertices\n",
    "                try:\n",
    "                    if len(all_coordinates) == 4:\n",
    "                        highlight_coord = fitz.Quad(all_coordinates).rect\n",
    "                        highlights.append(highlight_coord)\n",
    "                    else:\n",
    "                        all_coordinates = [all_coordinates[x:x+4] for x in range(0, len(all_coordinates), 4)]\n",
    "                        for i in range(0,len(all_coordinates)):\n",
    "                            coord = fitz.Quad(all_coordinates[i]).rect\n",
    "                            highlights.append(coord)\n",
    "                except:\n",
    "                    print(\"NoneType found\")\n",
    "            annot = annot.next\n",
    "        \n",
    "        # calculate coordinate sum to eliminate duplicated sentences \n",
    "        coordinate_sum_total = []\n",
    "        all_words = page.get_text_words()\n",
    "        highlight_text = []\n",
    "        if len(highlights) > 0:\n",
    "            for h in highlights:\n",
    "                sentence = []\n",
    "                num_i = 0\n",
    "                for w in all_words:\n",
    "                    if (fitz.Rect(w[0:4]).intersects(h)):\n",
    "                        if str(sum(w[0:4])) not in coordinate_sum_total: #if no duplicate coordinate sum found, append\n",
    "                            coordinate_sum_total.append(str(sum(w[0:4])))\n",
    "                            sentence.append(w[4])\n",
    "            \n",
    "                highlight_text.append(\" \".join(sentence))\n",
    "        \n",
    "#         print(highlight_text)\n",
    "        \n",
    "        if len(highlight_text) > 0:\n",
    "            highlighted_result.append(\" \".join(highlight_text))\n",
    "        \n",
    "#         print(result)\n",
    "\n",
    "    # Results of the entire industry & keeps track of number of sentences in highlighted_num\n",
    "    highlighted_num.append(len(highlighted_result))\n",
    "    highlighted_sentences.append(highlighted_result)\n",
    "    all_sentences.append(all_result)\n",
    "    \n",
    "    print(len(highlighted_result))\n",
    "    \n",
    "#         print(test_text)\n",
    "        \n",
    "    for r in highlighted_result:\n",
    "        if r is not None:\n",
    "            # tokenize sentences by pages where the sentences is found \n",
    "            # instead of conducting it to the entire report this enhances accuracy \n",
    "            rel_text += tokenize.sent_tokenize(r)\n",
    "            highlighted_label.append(res)\n",
    "            rel_label += res * len(tokenize.sent_tokenize(r))         \n",
    "    \n",
    "    for i in all_result:\n",
    "        all_text_final += tokenize.sent_tokenize(i.replace(\"\\n\", \" \"))\n",
    "        all_label += res * len(tokenize.sent_tokenize(i.replace(\"\\n\", \" \")))\n",
    "        \n",
    "#     print(highlighted_sentences, \"\\n\", len(highlighted_sentences))\n",
    "\n"
   ]
  },
  {
   "cell_type": "code",
   "execution_count": 6,
   "id": "04515298",
   "metadata": {},
   "outputs": [
    {
     "data": {
      "text/plain": [
       "[2, 10, 7, 3]"
      ]
     },
     "execution_count": 6,
     "metadata": {},
     "output_type": "execute_result"
    }
   ],
   "source": [
    "highlighted_num"
   ]
  },
  {
   "cell_type": "code",
   "execution_count": 7,
   "id": "9da7b76a",
   "metadata": {},
   "outputs": [
    {
     "data": {
      "text/html": [
       "<div>\n",
       "<style scoped>\n",
       "    .dataframe tbody tr th:only-of-type {\n",
       "        vertical-align: middle;\n",
       "    }\n",
       "\n",
       "    .dataframe tbody tr th {\n",
       "        vertical-align: top;\n",
       "    }\n",
       "\n",
       "    .dataframe thead th {\n",
       "        text-align: right;\n",
       "    }\n",
       "</style>\n",
       "<table border=\"1\" class=\"dataframe\">\n",
       "  <thead>\n",
       "    <tr style=\"text-align: right;\">\n",
       "      <th></th>\n",
       "      <th>relevant_sentences</th>\n",
       "      <th>company_label</th>\n",
       "    </tr>\n",
       "  </thead>\n",
       "  <tbody>\n",
       "    <tr>\n",
       "      <th>0</th>\n",
       "      <td>Dominion Energy Consolidated Energy Mix (GWh) ...</td>\n",
       "      <td>Dominion_Energy</td>\n",
       "    </tr>\n",
       "    <tr>\n",
       "      <th>1</th>\n",
       "      <td>Dominion Energy Consolidated Energy Mix (GWh) ...</td>\n",
       "      <td>Dominion_Energy</td>\n",
       "    </tr>\n",
       "    <tr>\n",
       "      <th>2</th>\n",
       "      <td>We are also expanding our renewable footprint ...</td>\n",
       "      <td>Duke_Energy</td>\n",
       "    </tr>\n",
       "    <tr>\n",
       "      <th>3</th>\n",
       "      <td>Since 2010, we’ve retired 56 coal units repres...</td>\n",
       "      <td>Duke_Energy</td>\n",
       "    </tr>\n",
       "    <tr>\n",
       "      <th>4</th>\n",
       "      <td>Already, the company has reduced carbon emissi...</td>\n",
       "      <td>Duke_Energy</td>\n",
       "    </tr>\n",
       "    <tr>\n",
       "      <th>...</th>\n",
       "      <td>...</td>\n",
       "      <td>...</td>\n",
       "    </tr>\n",
       "    <tr>\n",
       "      <th>67</th>\n",
       "      <td>2018 Retired and demolished 636 MW of coal and...</td>\n",
       "      <td>NextEraEnergyZeroCarbonBlueprint</td>\n",
       "    </tr>\n",
       "    <tr>\n",
       "      <th>68</th>\n",
       "      <td>2019 Aquired Gulf Power, which added 1,750 MW ...</td>\n",
       "      <td>NextEraEnergyZeroCarbonBlueprint</td>\n",
       "    </tr>\n",
       "    <tr>\n",
       "      <th>69</th>\n",
       "      <td>2020 Retired 615 MW of nuclear and 330 MW of c...</td>\n",
       "      <td>NextEraEnergyZeroCarbonBlueprint</td>\n",
       "    </tr>\n",
       "    <tr>\n",
       "      <th>70</th>\n",
       "      <td>2021 Added 2,008 MW of wind, 1,547 MW of solar...</td>\n",
       "      <td>NextEraEnergyZeroCarbonBlueprint</td>\n",
       "    </tr>\n",
       "    <tr>\n",
       "      <th>71</th>\n",
       "      <td>offsets  rely on not Does</td>\n",
       "      <td>NextEraEnergyZeroCarbonBlueprint</td>\n",
       "    </tr>\n",
       "  </tbody>\n",
       "</table>\n",
       "<p>72 rows × 2 columns</p>\n",
       "</div>"
      ],
      "text/plain": [
       "                                   relevant_sentences  \\\n",
       "0   Dominion Energy Consolidated Energy Mix (GWh) ...   \n",
       "1   Dominion Energy Consolidated Energy Mix (GWh) ...   \n",
       "2   We are also expanding our renewable footprint ...   \n",
       "3   Since 2010, we’ve retired 56 coal units repres...   \n",
       "4   Already, the company has reduced carbon emissi...   \n",
       "..                                                ...   \n",
       "67  2018 Retired and demolished 636 MW of coal and...   \n",
       "68  2019 Aquired Gulf Power, which added 1,750 MW ...   \n",
       "69  2020 Retired 615 MW of nuclear and 330 MW of c...   \n",
       "70  2021 Added 2,008 MW of wind, 1,547 MW of solar...   \n",
       "71                          offsets  rely on not Does   \n",
       "\n",
       "                       company_label  \n",
       "0                    Dominion_Energy  \n",
       "1                    Dominion_Energy  \n",
       "2                        Duke_Energy  \n",
       "3                        Duke_Energy  \n",
       "4                        Duke_Energy  \n",
       "..                               ...  \n",
       "67  NextEraEnergyZeroCarbonBlueprint  \n",
       "68  NextEraEnergyZeroCarbonBlueprint  \n",
       "69  NextEraEnergyZeroCarbonBlueprint  \n",
       "70  NextEraEnergyZeroCarbonBlueprint  \n",
       "71  NextEraEnergyZeroCarbonBlueprint  \n",
       "\n",
       "[72 rows x 2 columns]"
      ]
     },
     "execution_count": 7,
     "metadata": {},
     "output_type": "execute_result"
    }
   ],
   "source": [
    "rel_text_df = pd.DataFrame([rel_text, rel_label]).transpose()\n",
    "rel_text_df = rel_text_df.rename(columns = {0: 'relevant_sentences', 1: 'company_label'})\n",
    "rel_text_df"
   ]
  },
  {
   "cell_type": "code",
   "execution_count": 8,
   "id": "68c6a179",
   "metadata": {},
   "outputs": [
    {
     "data": {
      "text/html": [
       "<div>\n",
       "<style scoped>\n",
       "    .dataframe tbody tr th:only-of-type {\n",
       "        vertical-align: middle;\n",
       "    }\n",
       "\n",
       "    .dataframe tbody tr th {\n",
       "        vertical-align: top;\n",
       "    }\n",
       "\n",
       "    .dataframe thead th {\n",
       "        text-align: right;\n",
       "    }\n",
       "</style>\n",
       "<table border=\"1\" class=\"dataframe\">\n",
       "  <thead>\n",
       "    <tr style=\"text-align: right;\">\n",
       "      <th></th>\n",
       "      <th>all_sentences</th>\n",
       "      <th>company_label</th>\n",
       "    </tr>\n",
       "  </thead>\n",
       "  <tbody>\n",
       "    <tr>\n",
       "      <th>0</th>\n",
       "      <td>REPORT 2021 A report based on the recommendati...</td>\n",
       "      <td>Dominion_Energy</td>\n",
       "    </tr>\n",
       "    <tr>\n",
       "      <th>1</th>\n",
       "      <td>2   Dominion Energy Climate Report 2021 Conten...</td>\n",
       "      <td>Dominion_Energy</td>\n",
       "    </tr>\n",
       "    <tr>\n",
       "      <th>2</th>\n",
       "      <td>Such forward-looking  statements include, amon...</td>\n",
       "      <td>Dominion_Energy</td>\n",
       "    </tr>\n",
       "    <tr>\n",
       "      <th>3</th>\n",
       "      <td>CONTINUED ON PAGE 55</td>\n",
       "      <td>Dominion_Energy</td>\n",
       "    </tr>\n",
       "    <tr>\n",
       "      <th>4</th>\n",
       "      <td>Dominion Energy Climate Report 2021  3  “In Fe...</td>\n",
       "      <td>Dominion_Energy</td>\n",
       "    </tr>\n",
       "  </tbody>\n",
       "</table>\n",
       "</div>"
      ],
      "text/plain": [
       "                                       all_sentences    company_label\n",
       "0  REPORT 2021 A report based on the recommendati...  Dominion_Energy\n",
       "1  2   Dominion Energy Climate Report 2021 Conten...  Dominion_Energy\n",
       "2  Such forward-looking  statements include, amon...  Dominion_Energy\n",
       "3                               CONTINUED ON PAGE 55  Dominion_Energy\n",
       "4  Dominion Energy Climate Report 2021  3  “In Fe...  Dominion_Energy"
      ]
     },
     "execution_count": 8,
     "metadata": {},
     "output_type": "execute_result"
    }
   ],
   "source": [
    "all_text_final_df = pd.DataFrame([all_text_final, all_label]).transpose()\n",
    "all_text_final_df = all_text_final_df.rename(columns = {0: 'all_sentences', 1: 'company_label'})\n",
    "all_text_final_df.head()"
   ]
  },
  {
   "cell_type": "markdown",
   "id": "a0d498fb",
   "metadata": {},
   "source": [
    "### Getting Sentence Statistics "
   ]
  },
  {
   "cell_type": "code",
   "execution_count": 9,
   "id": "6257e6e8",
   "metadata": {},
   "outputs": [],
   "source": [
    "# count rel sentences \n",
    "rel_count = rel_text_df.groupby('company_label', sort = False).count()\n",
    "\n",
    "# count all sentences\n",
    "sent_count = all_text_final_df.groupby('company_label', sort = False).count()"
   ]
  },
  {
   "cell_type": "code",
   "execution_count": 10,
   "id": "17abf858",
   "metadata": {},
   "outputs": [
    {
     "data": {
      "text/html": [
       "<div>\n",
       "<style scoped>\n",
       "    .dataframe tbody tr th:only-of-type {\n",
       "        vertical-align: middle;\n",
       "    }\n",
       "\n",
       "    .dataframe tbody tr th {\n",
       "        vertical-align: top;\n",
       "    }\n",
       "\n",
       "    .dataframe thead th {\n",
       "        text-align: right;\n",
       "    }\n",
       "</style>\n",
       "<table border=\"1\" class=\"dataframe\">\n",
       "  <thead>\n",
       "    <tr style=\"text-align: right;\">\n",
       "      <th></th>\n",
       "      <th>all_sentences</th>\n",
       "      <th>relevant_sentences</th>\n",
       "      <th>percentages</th>\n",
       "    </tr>\n",
       "    <tr>\n",
       "      <th>company_label</th>\n",
       "      <th></th>\n",
       "      <th></th>\n",
       "      <th></th>\n",
       "    </tr>\n",
       "  </thead>\n",
       "  <tbody>\n",
       "    <tr>\n",
       "      <th>Dominion_Energy</th>\n",
       "      <td>677</td>\n",
       "      <td>2</td>\n",
       "      <td>0.295421</td>\n",
       "    </tr>\n",
       "    <tr>\n",
       "      <th>Duke_Energy</th>\n",
       "      <td>1075</td>\n",
       "      <td>29</td>\n",
       "      <td>2.697674</td>\n",
       "    </tr>\n",
       "    <tr>\n",
       "      <th>AEP</th>\n",
       "      <td>1596</td>\n",
       "      <td>21</td>\n",
       "      <td>1.315789</td>\n",
       "    </tr>\n",
       "    <tr>\n",
       "      <th>NextEraEnergyZeroCarbonBlueprint</th>\n",
       "      <td>224</td>\n",
       "      <td>20</td>\n",
       "      <td>8.928571</td>\n",
       "    </tr>\n",
       "  </tbody>\n",
       "</table>\n",
       "</div>"
      ],
      "text/plain": [
       "                                  all_sentences  relevant_sentences  \\\n",
       "company_label                                                         \n",
       "Dominion_Energy                             677                   2   \n",
       "Duke_Energy                                1075                  29   \n",
       "AEP                                        1596                  21   \n",
       "NextEraEnergyZeroCarbonBlueprint            224                  20   \n",
       "\n",
       "                                  percentages  \n",
       "company_label                                  \n",
       "Dominion_Energy                      0.295421  \n",
       "Duke_Energy                          2.697674  \n",
       "AEP                                  1.315789  \n",
       "NextEraEnergyZeroCarbonBlueprint     8.928571  "
      ]
     },
     "execution_count": 10,
     "metadata": {},
     "output_type": "execute_result"
    }
   ],
   "source": [
    "sentences_list = []\n",
    "rel_sent_list = []\n",
    "\n",
    "final_text_stat = pd.concat([sent_count, rel_count],  sort = False, axis = 1)\n",
    "\n",
    "[rel_sent_list.append(rel_sent) for rel_sent in final_text_stat['relevant_sentences']]    \n",
    "[sentences_list.append(all_sent) for all_sent in final_text_stat['all_sentences']]    \n",
    "    \n",
    "final_text_stat['relevant_sentences'] = final_text_stat['relevant_sentences'].fillna(0)\n",
    "final_text_stat['percentages'] = final_text_stat['relevant_sentences'] / final_text_stat['all_sentences'] * 100\n",
    "final_text_stat"
   ]
  },
  {
   "cell_type": "code",
   "execution_count": 11,
   "id": "d181ca06",
   "metadata": {},
   "outputs": [
    {
     "data": {
      "image/png": "[encoded data removed]",
      "text/plain": [
       "<Figure size 432x288 with 1 Axes>"
      ]
     },
     "metadata": {
      "needs_background": "light"
     },
     "output_type": "display_data"
    }
   ],
   "source": [
    "import matplotlib.pyplot as plt\n",
    "import numpy as np\n",
    "import glob\n",
    "y = []\n",
    "\n",
    "x = [\"Dominion_Energy\", \"Duke_Energy\", \"AEP\",\"NextEraEnergyZeroCarbonBlueprint\"]\n",
    "\n",
    "i = 0\n",
    "\n",
    "for file in os.listdir(dir):\n",
    "    y.append(100 * (rel_sent_list[i])/sentences_list[i])\n",
    "    i = i+1\n",
    "\n",
    "plt.bar(x, y, width = 0.8)\n",
    "plt.xticks(rotation='vertical')\n",
    "plt.xlabel(\"Company\")\n",
    "plt.ylabel(\"Percent of sentences highlighted\")\n",
    "plt.yticks(np.arange(0, 50, 10))\n",
    "plt.show()"
   ]
  },
  {
   "cell_type": "code",
   "execution_count": 12,
   "id": "df70a682",
   "metadata": {},
   "outputs": [
    {
     "data": {
      "text/plain": [
       "count    4.000000\n",
       "mean     3.309364\n",
       "std      3.873321\n",
       "min      0.295421\n",
       "25%      1.060697\n",
       "50%      2.006732\n",
       "75%      4.255399\n",
       "max      8.928571\n",
       "dtype: float64"
      ]
     },
     "execution_count": 12,
     "metadata": {},
     "output_type": "execute_result"
    }
   ],
   "source": [
    "import pandas as pd\n",
    "\n",
    "series = pd.Series(y)\n",
    "series.describe()"
   ]
  },
  {
   "cell_type": "code",
   "execution_count": 18,
   "id": "095790fd",
   "metadata": {},
   "outputs": [
    {
     "name": "stdout",
     "output_type": "stream",
     "text": [
      "Stored 'Utilities_reltext' (list)\n",
      "Stored 'Utilities_alltext' (list)\n",
      "Stored 'Utilities_stat' (DataFrame)\n"
     ]
    }
   ],
   "source": [
    "#storing variable so they can be called between notebooks (for aggregate analysis, test/train data sets, and modeling later on)\n",
    "\n",
    "Utilities_reltext = highlighted_sentences\n",
    "Utilities_alltext = all_text_final\n",
    "Utilities_stat = final_text_stat\n",
    "\n",
    "%store Utilities_reltext\n",
    "%store Utilities_alltext\n",
    "%store Utilities_stat"
   ]
  },
  {
   "cell_type": "code",
   "execution_count": 19,
   "id": "8e1b7305",
   "metadata": {},
   "outputs": [],
   "source": [
    "def extract_sentences(text):\n",
    "    sentences = []\n",
    "    for report in text:\n",
    "        for sent in report:\n",
    "            sentences.append(sent)\n",
    "    return sentences"
   ]
  },
  {
   "cell_type": "code",
   "execution_count": 25,
   "id": "5fccd266",
   "metadata": {},
   "outputs": [],
   "source": [
    "pd.DataFrame(extract_sentences(Utilities_reltext)).to_csv(\"Utilities_reltext.csv\", encoding = 'utf-8-sig')"
   ]
  },
  {
   "cell_type": "code",
   "execution_count": 26,
   "id": "08501022",
   "metadata": {},
   "outputs": [],
   "source": [
    "pd.DataFrame(Utilities_alltext).to_csv(\"Utilities_alltext.csv\", encoding = 'utf-8-sig')"
   ]
  },
  {
   "cell_type": "code",
   "execution_count": 27,
   "id": "3e1ad212",
   "metadata": {},
   "outputs": [],
   "source": [
    "rel_text_df.to_csv(\"Utilities_reltext_comp.csv\", encoding = 'utf-8-sig')"
   ]
  },
  {
   "cell_type": "code",
   "execution_count": 28,
   "id": "4c4ce534",
   "metadata": {},
   "outputs": [],
   "source": [
    "all_text_final_df.to_csv(\"Utilities_alltext_comp.csv\", encoding = 'utf-8-sig')"
   ]
  }
 ],
 "metadata": {
  "kernelspec": {
   "display_name": "Python 3 (ipykernel)",
   "language": "python",
   "name": "python3"
  },
  "language_info": {
   "codemirror_mode": {
    "name": "ipython",
    "version": 3
   },
   "file_extension": ".py",
   "mimetype": "text/x-python",
   "name": "python",
   "nbconvert_exporter": "python",
   "pygments_lexer": "ipython3",
   "version": "3.9.7"
  }
 },
 "nbformat": 4,
 "nbformat_minor": 5
}
