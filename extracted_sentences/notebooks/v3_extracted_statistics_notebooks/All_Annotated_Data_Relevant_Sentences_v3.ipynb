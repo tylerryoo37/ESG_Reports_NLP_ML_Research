{
 "cells": [
  {
   "cell_type": "markdown",
   "metadata": {},
   "source": [
    "### Pulling in All the Data Across Notebooks"
   ]
  },
  {
   "cell_type": "code",
   "execution_count": 36,
   "metadata": {},
   "outputs": [],
   "source": [
    "import pandas as pd\n",
    "import os \n",
    "from nltk import tokenize"
   ]
  },
  {
   "cell_type": "code",
   "execution_count": 37,
   "metadata": {},
   "outputs": [],
   "source": [
    "%store -r HC_reltext\n",
    "%store -r HC_alltext\n",
    "%store -r HC_stat\n",
    "\n",
    "%store -r IND_reltext\n",
    "%store -r IND_alltext\n",
    "%store -r IND_stat\n",
    "\n",
    "%store -r Energy_reltext\n",
    "%store -r Energy_alltext\n",
    "%store -r Energy_stat\n",
    "\n",
    "%store -r CONSTA_reltext\n",
    "%store -r CONSTA_alltext\n",
    "%store -r CONSTA_stat\n",
    "\n",
    "%store -r CONDIS_reltext\n",
    "%store -r CONDIS_alltext\n",
    "%store -r CONDIS_stat\n",
    "\n",
    "%store -r IT_reltext\n",
    "%store -r IT_alltext\n",
    "%store -r IT_stat\n",
    "\n",
    "%store -r Real_Estate_reltext\n",
    "%store -r Real_Estate_alltext\n",
    "%store -r Real_Estate_stat\n",
    "\n",
    "%store -r Materials_reltext\n",
    "%store -r Materials_alltext\n",
    "%store -r Materials_stat\n",
    "\n",
    "%store -r Utilities_reltext\n",
    "%store -r Utilities_alltext\n",
    "%store -r Utilities_stat"
   ]
  },
  {
   "cell_type": "code",
   "execution_count": 45,
   "metadata": {},
   "outputs": [],
   "source": [
    "total_relevant = pd.concat([HC_reltext, IND_reltext, Energy_reltext,\n",
    "                 CONSTA_reltext, CONDIS_reltext, IT_reltext,\n",
    "                 Real_Estate_reltext, Materials_reltext, Utilities_reltext])"
   ]
  },
  {
   "cell_type": "code",
   "execution_count": 46,
   "metadata": {},
   "outputs": [],
   "source": [
    "total_all = pd.concat([HC_alltext, IND_alltext, Energy_alltext,\n",
    "                 CONSTA_alltext, CONDIS_alltext, IT_alltext,\n",
    "                 Real_Estate_alltext, Materials_alltext, Utilities_alltext])"
   ]
  },
  {
   "cell_type": "code",
   "execution_count": 47,
   "metadata": {},
   "outputs": [],
   "source": [
    "total_stat  = pd.concat([HC_stat, IND_stat, Energy_stat,\n",
    "              CONSTA_stat, CONDIS_stat, IT_stat,\n",
    "              Real_Estate_stat, Materials_stat, Utilities_stat])"
   ]
  },
  {
   "cell_type": "code",
   "execution_count": 51,
   "metadata": {},
   "outputs": [],
   "source": [
    "total_relevant['relevant_sentences'].to_csv(\"final_relevant_sentences.csv\", encoding = 'utf-8-sig')"
   ]
  },
  {
   "cell_type": "code",
   "execution_count": 53,
   "metadata": {},
   "outputs": [],
   "source": [
    "total_all['all_sentences'].to_csv(\"final_all_sentences.csv\", encoding = 'utf-8-sig')"
   ]
  },
  {
   "cell_type": "code",
   "execution_count": 54,
   "metadata": {},
   "outputs": [],
   "source": [
    "total_stat.to_csv(\"final_stat.csv\")"
   ]
  },
  {
   "cell_type": "code",
   "execution_count": null,
   "metadata": {},
   "outputs": [],
   "source": []
  }
 ],
 "metadata": {
  "kernelspec": {
   "display_name": "Python 3 (ipykernel)",
   "language": "python",
   "name": "python3"
  },
  "language_info": {
   "codemirror_mode": {
    "name": "ipython",
    "version": 3
   },
   "file_extension": ".py",
   "mimetype": "text/x-python",
   "name": "python",
   "nbconvert_exporter": "python",
   "pygments_lexer": "ipython3",
   "version": "3.9.13"
  },
  "vscode": {
   "interpreter": {
    "hash": "db1c1e886ca7e5218f158543d1b9804c0a5c522f5654be9e23cd8543b350db84"
   }
  }
 },
 "nbformat": 4,
 "nbformat_minor": 2
}
