{
 "cells": [
  {
   "cell_type": "code",
   "execution_count": 1,
   "id": "724a6f13",
   "metadata": {},
   "outputs": [],
   "source": [
    "import os\n",
    "import PyPDF2\n",
    "import fitz\n",
    "import pandas as pd"
   ]
  },
  {
   "cell_type": "code",
   "execution_count": 2,
   "id": "1e23c02d",
   "metadata": {},
   "outputs": [],
   "source": [
    "from nltk import tokenize\n",
    "# import nltk\n",
    "# nltk.download('punkt')"
   ]
  },
  {
   "cell_type": "code",
   "execution_count": 3,
   "id": "3b6b7b47",
   "metadata": {},
   "outputs": [],
   "source": [
    "dir = 'annoted_sustainability_reports/Real_Estate'"
   ]
  },
  {
   "cell_type": "markdown",
   "id": "951caa61",
   "metadata": {},
   "source": [
    "### Extracting Sentences"
   ]
  },
  {
   "cell_type": "code",
   "execution_count": 4,
   "id": "790d316b",
   "metadata": {},
   "outputs": [
    {
     "name": "stdout",
     "output_type": "stream",
     "text": [
      "annoted_sustainability_reports/Real_Estate/AmericanTowerCorp_2021_Sustainability_report.pdf\n",
      "Document('annoted_sustainability_reports/Real_Estate/AmericanTowerCorp_2021_Sustainability_report.pdf')\n",
      "5\n",
      "annoted_sustainability_reports/Real_Estate/Prologis_21to22_ESG_report.pdf\n",
      "Document('annoted_sustainability_reports/Real_Estate/Prologis_21to22_ESG_report.pdf')\n",
      "6\n",
      "annoted_sustainability_reports/Real_Estate/CrownCastle_2021_ESG_report.pdf\n",
      "Document('annoted_sustainability_reports/Real_Estate/CrownCastle_2021_ESG_report.pdf')\n",
      "2\n"
     ]
    }
   ],
   "source": [
    "# aggregated sentences per report\n",
    "highlighted_num = []\n",
    "highlighted_sentences = [] \n",
    "all_sentences = []\n",
    "highlighted_label = []\n",
    "all_label = []\n",
    "\n",
    "# aggregated sentences of the entire industry (tokenizing highlighted_result & all_result)\n",
    "rel_text = []\n",
    "rel_label = []\n",
    "all_text_final = []\n",
    "\n",
    "x_label = [\"AmericanTowerCorp\", \"Prologis\", \"CrownCastle\"]\n",
    "\n",
    "for file in os.listdir(dir): # running all the files in the industry folder\n",
    "    f = os.path.join(dir, file) # joining filename and directory\n",
    "    print(f)\n",
    "    \n",
    "    # labelling sentences by companies \n",
    "    res = list(filter(lambda x:  x in f, x_label))\n",
    "\n",
    "    doc = fitz.open(f) # opening each company report\n",
    "    print(doc)\n",
    "    \n",
    "    # results of each report\n",
    "    highlighted_result = []\n",
    "    all_result = [] \n",
    "    \n",
    "    # Iterate each page of the document \n",
    "    for page in doc:\n",
    "        \n",
    "        # extract all the sentences in pdf \n",
    "        test = page.get_text()\n",
    "        all_result.append(test)\n",
    "        \n",
    "        # extracting highlighted sentences from pdf \n",
    "        highlights = []\n",
    "        annot = page.first_annot\n",
    "        \n",
    "        while annot:\n",
    "            if annot.type[0] == 8:\n",
    "                all_coordinates = annot.vertices\n",
    "                try:\n",
    "                    if len(all_coordinates) == 4:\n",
    "                        highlight_coord = fitz.Quad(all_coordinates).rect\n",
    "                        highlights.append(highlight_coord)\n",
    "                    else:\n",
    "                        all_coordinates = [all_coordinates[x:x+4] for x in range(0, len(all_coordinates), 4)]\n",
    "                        for i in range(0,len(all_coordinates)):\n",
    "                            coord = fitz.Quad(all_coordinates[i]).rect\n",
    "                            highlights.append(coord)\n",
    "                except:\n",
    "                    print(\"NoneType found\")\n",
    "            annot = annot.next\n",
    "        \n",
    "        # calculate coordinate sum to eliminate duplicated sentences \n",
    "        coordinate_sum_total = []\n",
    "        all_words = page.get_text_words()\n",
    "        highlight_text = []\n",
    "        if len(highlights) > 0:\n",
    "            for h in highlights:\n",
    "                sentence = []\n",
    "                num_i = 0\n",
    "                for w in all_words:\n",
    "                    if (fitz.Rect(w[0:4]).intersects(h)):\n",
    "                        if str(sum(w[0:4])) not in coordinate_sum_total: #if no duplicate coordinate sum found, append\n",
    "                            coordinate_sum_total.append(str(sum(w[0:4])))\n",
    "                            sentence.append(w[4])\n",
    "            \n",
    "                highlight_text.append(\" \".join(sentence))\n",
    "        \n",
    "#         print(highlight_text)\n",
    "        \n",
    "        if len(highlight_text) > 0:\n",
    "            highlighted_result.append(\" \".join(highlight_text))\n",
    "        \n",
    "#         print(result)\n",
    "\n",
    "    # Results of the entire industry & keeps track of number of sentences in highlighted_num\n",
    "    highlighted_num.append(len(highlighted_result))\n",
    "    highlighted_sentences.append(highlighted_result)\n",
    "    all_sentences.append(all_result)\n",
    "    \n",
    "    print(len(highlighted_result))\n",
    "    \n",
    "#         print(test_text)\n",
    "        \n",
    "    for r in highlighted_result:\n",
    "        if r is not None:\n",
    "            # tokenize sentences by pages where the sentences is found \n",
    "            # instead of conducting it to the entire report this enhances accuracy \n",
    "            rel_text += tokenize.sent_tokenize(r)\n",
    "            highlighted_label.append(res)\n",
    "            rel_label += res * len(tokenize.sent_tokenize(r))         \n",
    "    \n",
    "    for i in all_result:\n",
    "        all_text_final += tokenize.sent_tokenize(i.replace(\"\\n\", \" \"))\n",
    "        all_label += res * len(tokenize.sent_tokenize(i.replace(\"\\n\", \" \")))\n",
    "        \n",
    "#     print(highlighted_sentences, \"\\n\", len(highlighted_sentences))\n",
    "\n"
   ]
  },
  {
   "cell_type": "code",
   "execution_count": 5,
   "id": "ee01f40a",
   "metadata": {},
   "outputs": [
    {
     "data": {
      "text/plain": [
       "[5, 6, 2]"
      ]
     },
     "execution_count": 5,
     "metadata": {},
     "output_type": "execute_result"
    }
   ],
   "source": [
    "highlighted_num"
   ]
  },
  {
   "cell_type": "code",
   "execution_count": 6,
   "id": "14b87d3b",
   "metadata": {},
   "outputs": [
    {
     "data": {
      "text/html": [
       "<div>\n",
       "<style scoped>\n",
       "    .dataframe tbody tr th:only-of-type {\n",
       "        vertical-align: middle;\n",
       "    }\n",
       "\n",
       "    .dataframe tbody tr th {\n",
       "        vertical-align: top;\n",
       "    }\n",
       "\n",
       "    .dataframe thead th {\n",
       "        text-align: right;\n",
       "    }\n",
       "</style>\n",
       "<table border=\"1\" class=\"dataframe\">\n",
       "  <thead>\n",
       "    <tr style=\"text-align: right;\">\n",
       "      <th></th>\n",
       "      <th>relevant_sentences</th>\n",
       "      <th>company_label</th>\n",
       "    </tr>\n",
       "  </thead>\n",
       "  <tbody>\n",
       "    <tr>\n",
       "      <th>0</th>\n",
       "      <td>American Tower is targeting a 40% reduction in...</td>\n",
       "      <td>AmericanTowerCorp</td>\n",
       "    </tr>\n",
       "    <tr>\n",
       "      <th>1</th>\n",
       "      <td>American Tower is targeting a 40% reduction in...</td>\n",
       "      <td>AmericanTowerCorp</td>\n",
       "    </tr>\n",
       "    <tr>\n",
       "      <th>2</th>\n",
       "      <td>In 2021, our scope 1 emissions decreased 6.5% ...</td>\n",
       "      <td>AmericanTowerCorp</td>\n",
       "    </tr>\n",
       "    <tr>\n",
       "      <th>3</th>\n",
       "      <td>Our overall scope 1 and 2 emissions reduction ...</td>\n",
       "      <td>AmericanTowerCorp</td>\n",
       "    </tr>\n",
       "    <tr>\n",
       "      <th>4</th>\n",
       "      <td>At 99% of the approximately 1,000 newly built ...</td>\n",
       "      <td>AmericanTowerCorp</td>\n",
       "    </tr>\n",
       "  </tbody>\n",
       "</table>\n",
       "</div>"
      ],
      "text/plain": [
       "                                  relevant_sentences      company_label\n",
       "0  American Tower is targeting a 40% reduction in...  AmericanTowerCorp\n",
       "1  American Tower is targeting a 40% reduction in...  AmericanTowerCorp\n",
       "2  In 2021, our scope 1 emissions decreased 6.5% ...  AmericanTowerCorp\n",
       "3  Our overall scope 1 and 2 emissions reduction ...  AmericanTowerCorp\n",
       "4  At 99% of the approximately 1,000 newly built ...  AmericanTowerCorp"
      ]
     },
     "execution_count": 6,
     "metadata": {},
     "output_type": "execute_result"
    }
   ],
   "source": [
    "rel_text_df = pd.DataFrame([rel_text, rel_label]).transpose()\n",
    "rel_text_df = rel_text_df.rename(columns = {0: 'relevant_sentences', 1: 'company_label'})\n",
    "rel_text_df.head()"
   ]
  },
  {
   "cell_type": "code",
   "execution_count": 7,
   "id": "e11da442",
   "metadata": {},
   "outputs": [
    {
     "data": {
      "text/html": [
       "<div>\n",
       "<style scoped>\n",
       "    .dataframe tbody tr th:only-of-type {\n",
       "        vertical-align: middle;\n",
       "    }\n",
       "\n",
       "    .dataframe tbody tr th {\n",
       "        vertical-align: top;\n",
       "    }\n",
       "\n",
       "    .dataframe thead th {\n",
       "        text-align: right;\n",
       "    }\n",
       "</style>\n",
       "<table border=\"1\" class=\"dataframe\">\n",
       "  <thead>\n",
       "    <tr style=\"text-align: right;\">\n",
       "      <th></th>\n",
       "      <th>all_sentences</th>\n",
       "      <th>company_label</th>\n",
       "    </tr>\n",
       "  </thead>\n",
       "  <tbody>\n",
       "    <tr>\n",
       "      <th>0</th>\n",
       "      <td>2021 Sustainability Report</td>\n",
       "      <td>AmericanTowerCorp</td>\n",
       "    </tr>\n",
       "    <tr>\n",
       "      <th>1</th>\n",
       "      <td>Table of Contents 3 About American Tower 5  Le...</td>\n",
       "      <td>AmericanTowerCorp</td>\n",
       "    </tr>\n",
       "    <tr>\n",
       "      <th>2</th>\n",
       "      <td>About American Tower Founded in 1995, American...</td>\n",
       "      <td>AmericanTowerCorp</td>\n",
       "    </tr>\n",
       "    <tr>\n",
       "      <th>3</th>\n",
       "      <td>With a presence in 25 countries, we  are a lea...</td>\n",
       "      <td>AmericanTowerCorp</td>\n",
       "    </tr>\n",
       "    <tr>\n",
       "      <th>4</th>\n",
       "      <td>We lease space on our communications  sites to...</td>\n",
       "      <td>AmericanTowerCorp</td>\n",
       "    </tr>\n",
       "  </tbody>\n",
       "</table>\n",
       "</div>"
      ],
      "text/plain": [
       "                                       all_sentences      company_label\n",
       "0                         2021 Sustainability Report  AmericanTowerCorp\n",
       "1  Table of Contents 3 About American Tower 5  Le...  AmericanTowerCorp\n",
       "2  About American Tower Founded in 1995, American...  AmericanTowerCorp\n",
       "3  With a presence in 25 countries, we  are a lea...  AmericanTowerCorp\n",
       "4  We lease space on our communications  sites to...  AmericanTowerCorp"
      ]
     },
     "execution_count": 7,
     "metadata": {},
     "output_type": "execute_result"
    }
   ],
   "source": [
    "all_text_final_df = pd.DataFrame([all_text_final, all_label]).transpose()\n",
    "all_text_final_df = all_text_final_df.rename(columns = {0: 'all_sentences', 1: 'company_label'})\n",
    "all_text_final_df.head()"
   ]
  },
  {
   "cell_type": "markdown",
   "id": "e2ffe694",
   "metadata": {},
   "source": [
    "### Getting Sentence Statistics "
   ]
  },
  {
   "cell_type": "code",
   "execution_count": 8,
   "id": "0ad66695",
   "metadata": {},
   "outputs": [],
   "source": [
    "# count rel sentences \n",
    "rel_count = rel_text_df.groupby('company_label', sort = False).count()\n",
    "\n",
    "# count all sentences\n",
    "sent_count = all_text_final_df.groupby('company_label', sort = False).count()"
   ]
  },
  {
   "cell_type": "code",
   "execution_count": 9,
   "id": "166a5b59",
   "metadata": {},
   "outputs": [
    {
     "data": {
      "text/html": [
       "<div>\n",
       "<style scoped>\n",
       "    .dataframe tbody tr th:only-of-type {\n",
       "        vertical-align: middle;\n",
       "    }\n",
       "\n",
       "    .dataframe tbody tr th {\n",
       "        vertical-align: top;\n",
       "    }\n",
       "\n",
       "    .dataframe thead th {\n",
       "        text-align: right;\n",
       "    }\n",
       "</style>\n",
       "<table border=\"1\" class=\"dataframe\">\n",
       "  <thead>\n",
       "    <tr style=\"text-align: right;\">\n",
       "      <th></th>\n",
       "      <th>all_sentences</th>\n",
       "      <th>relevant_sentences</th>\n",
       "      <th>percentages</th>\n",
       "    </tr>\n",
       "    <tr>\n",
       "      <th>company_label</th>\n",
       "      <th></th>\n",
       "      <th></th>\n",
       "      <th></th>\n",
       "    </tr>\n",
       "  </thead>\n",
       "  <tbody>\n",
       "    <tr>\n",
       "      <th>AmericanTowerCorp</th>\n",
       "      <td>1210</td>\n",
       "      <td>15</td>\n",
       "      <td>1.239669</td>\n",
       "    </tr>\n",
       "    <tr>\n",
       "      <th>Prologis</th>\n",
       "      <td>896</td>\n",
       "      <td>26</td>\n",
       "      <td>2.901786</td>\n",
       "    </tr>\n",
       "    <tr>\n",
       "      <th>CrownCastle</th>\n",
       "      <td>146</td>\n",
       "      <td>4</td>\n",
       "      <td>2.739726</td>\n",
       "    </tr>\n",
       "  </tbody>\n",
       "</table>\n",
       "</div>"
      ],
      "text/plain": [
       "                   all_sentences  relevant_sentences  percentages\n",
       "company_label                                                    \n",
       "AmericanTowerCorp           1210                  15     1.239669\n",
       "Prologis                     896                  26     2.901786\n",
       "CrownCastle                  146                   4     2.739726"
      ]
     },
     "execution_count": 9,
     "metadata": {},
     "output_type": "execute_result"
    }
   ],
   "source": [
    "sentences_list = []\n",
    "rel_sent_list = []\n",
    "\n",
    "final_text_stat = pd.concat([sent_count, rel_count],  sort = False, axis = 1)\n",
    "\n",
    "[rel_sent_list.append(rel_sent) for rel_sent in final_text_stat['relevant_sentences']]    \n",
    "[sentences_list.append(all_sent) for all_sent in final_text_stat['all_sentences']]    \n",
    "    \n",
    "final_text_stat['relevant_sentences'] = final_text_stat['relevant_sentences'].fillna(0)\n",
    "final_text_stat['percentages'] = final_text_stat['relevant_sentences'] / final_text_stat['all_sentences'] * 100\n",
    "final_text_stat"
   ]
  },
  {
   "cell_type": "code",
   "execution_count": 10,
   "id": "6b827610",
   "metadata": {},
   "outputs": [
    {
     "data": {
      "image/png": "[encoded data removed]",
      "text/plain": [
       "<Figure size 432x288 with 1 Axes>"
      ]
     },
     "metadata": {
      "needs_background": "light"
     },
     "output_type": "display_data"
    }
   ],
   "source": [
    "import matplotlib.pyplot as plt\n",
    "import numpy as np\n",
    "import glob\n",
    "y = []\n",
    "\n",
    "x = [\"AmericanTowerCorp\", \"Prologis\", \"CrownCastle\"]\n",
    "\n",
    "i = 0\n",
    "\n",
    "for file in os.listdir(dir):\n",
    "    y.append(100 * (rel_sent_list[i])/sentences_list[i])\n",
    "    i = i+1\n",
    "\n",
    "plt.bar(x, y, width = 0.8)\n",
    "plt.xticks(rotation='vertical')\n",
    "plt.xlabel(\"Company\")\n",
    "plt.ylabel(\"Percent of sentences highlighted\")\n",
    "plt.yticks(np.arange(0, 50, 10))\n",
    "plt.show()"
   ]
  },
  {
   "cell_type": "code",
   "execution_count": 11,
   "id": "da7ae593",
   "metadata": {},
   "outputs": [
    {
     "data": {
      "text/plain": [
       "count    3.000000\n",
       "mean     2.293727\n",
       "std      0.916430\n",
       "min      1.239669\n",
       "25%      1.989698\n",
       "50%      2.739726\n",
       "75%      2.820756\n",
       "max      2.901786\n",
       "dtype: float64"
      ]
     },
     "execution_count": 11,
     "metadata": {},
     "output_type": "execute_result"
    }
   ],
   "source": [
    "import pandas as pd\n",
    "\n",
    "series = pd.Series(y)\n",
    "series.describe()"
   ]
  },
  {
   "cell_type": "markdown",
   "id": "8ecb4c04",
   "metadata": {},
   "source": [
    "### Exporting and Saving Files "
   ]
  },
  {
   "cell_type": "code",
   "execution_count": 12,
   "id": "a8457196",
   "metadata": {},
   "outputs": [
    {
     "name": "stdout",
     "output_type": "stream",
     "text": [
      "Stored 'Real_Estate_reltext' (DataFrame)\n",
      "Stored 'Real_Estate_alltext' (DataFrame)\n",
      "Stored 'Real_Estate_stat' (DataFrame)\n"
     ]
    }
   ],
   "source": [
    "#storing variable so they can be called between notebooks (for aggregate analysis, test/train data sets, and modeling later on)\n",
    "\n",
    "Real_Estate_reltext = rel_text_df\n",
    "Real_Estate_alltext = all_text_final_df\n",
    "Real_Estate_stat = final_text_stat\n",
    "\n",
    "%store Real_Estate_reltext\n",
    "%store Real_Estate_alltext\n",
    "%store Real_Estate_stat"
   ]
  },
  {
   "cell_type": "code",
   "execution_count": null,
   "id": "ba70f2d5",
   "metadata": {},
   "outputs": [],
   "source": []
  }
 ],
 "metadata": {
  "kernelspec": {
   "display_name": "Python 3 (ipykernel)",
   "language": "python",
   "name": "python3"
  },
  "language_info": {
   "codemirror_mode": {
    "name": "ipython",
    "version": 3
   },
   "file_extension": ".py",
   "mimetype": "text/x-python",
   "name": "python",
   "nbconvert_exporter": "python",
   "pygments_lexer": "ipython3",
   "version": "3.9.7"
  }
 },
 "nbformat": 4,
 "nbformat_minor": 5
}
