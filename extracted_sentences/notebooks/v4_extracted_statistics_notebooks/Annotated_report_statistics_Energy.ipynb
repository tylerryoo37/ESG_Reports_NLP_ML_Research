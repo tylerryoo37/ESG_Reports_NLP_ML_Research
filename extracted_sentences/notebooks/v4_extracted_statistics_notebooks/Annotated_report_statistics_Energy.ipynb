{
 "cells": [
  {
   "cell_type": "code",
   "execution_count": 1,
   "metadata": {},
   "outputs": [],
   "source": [
    "import os\n",
    "import PyPDF2\n",
    "import fitz\n",
    "import pandas as pd"
   ]
  },
  {
   "cell_type": "code",
   "execution_count": 2,
   "metadata": {},
   "outputs": [],
   "source": [
    "from nltk import tokenize\n",
    "# import nltk\n",
    "# nltk.download('punkt')"
   ]
  },
  {
   "cell_type": "code",
   "execution_count": 3,
   "metadata": {},
   "outputs": [],
   "source": [
    "dir = 'annoted_sustainability_reports/Energy/'\n"
   ]
  },
  {
   "cell_type": "markdown",
   "metadata": {},
   "source": [
    "### Extracting Sentences"
   ]
  },
  {
   "cell_type": "code",
   "execution_count": 4,
   "metadata": {},
   "outputs": [
    {
     "name": "stdout",
     "output_type": "stream",
     "text": [
      "annoted_sustainability_reports/Energy/Total_2022_Sustainability_report.pdf\n",
      "Document('annoted_sustainability_reports/Energy/Total_2022_Sustainability_report.pdf')\n",
      "NoneType found\n",
      "22\n",
      "annoted_sustainability_reports/Energy/BP_2021_Sustainability_report.pdf\n",
      "Document('annoted_sustainability_reports/Energy/BP_2021_Sustainability_report.pdf')\n",
      "9\n",
      "annoted_sustainability_reports/Energy/Shell_2021_Sustainability_report.pdf\n",
      "Document('annoted_sustainability_reports/Energy/Shell_2021_Sustainability_report.pdf')\n",
      "4\n"
     ]
    }
   ],
   "source": [
    "# aggregated sentences per report\n",
    "highlighted_num = []\n",
    "highlighted_sentences = [] \n",
    "all_sentences = []\n",
    "highlighted_label = []\n",
    "all_label = []\n",
    "\n",
    "# aggregated sentences of the entire industry (tokenizing highlighted_result & all_result)\n",
    "rel_text = []\n",
    "rel_label = []\n",
    "all_text_final = []\n",
    "\n",
    "\n",
    "x_label = [\"Total\", \"BP\", \"Shell\"]\n",
    "\n",
    "for file in os.listdir(dir): # running all the files in the industry folder\n",
    "    f = os.path.join(dir, file) # joining filename and directory\n",
    "    print(f)\n",
    "    \n",
    "    # labelling sentences by companies \n",
    "    res = list(filter(lambda x:  x in f, x_label))\n",
    "\n",
    "    doc = fitz.open(f) # opening each company report\n",
    "    print(doc)\n",
    "    \n",
    "    # results of each report\n",
    "    highlighted_result = []\n",
    "    all_result = [] \n",
    "    \n",
    "    # Iterate each page of the document \n",
    "    for page in doc:\n",
    "        \n",
    "        # extract all the sentences in pdf \n",
    "        test = page.get_text()\n",
    "        all_result.append(test)\n",
    "        \n",
    "        # extracting highlighted sentences from pdf \n",
    "        highlights = []\n",
    "        annot = page.first_annot\n",
    "        \n",
    "        # https://medium.com/@vinitvaibhav9/extracting-pdf-highlights-using-python-9512af43a6d\n",
    "        while annot:\n",
    "            if annot.type[0] == 8:\n",
    "                all_coordinates = annot.vertices\n",
    "                try:\n",
    "                    if len(all_coordinates) == 4:\n",
    "                        highlight_coord = fitz.Quad(all_coordinates).rect\n",
    "                        highlights.append(highlight_coord)\n",
    "                    else:\n",
    "                        all_coordinates = [all_coordinates[x:x+4] for x in range(0, len(all_coordinates), 4)]\n",
    "                        for i in range(0,len(all_coordinates)):\n",
    "                            coord = fitz.Quad(all_coordinates[i]).rect\n",
    "                            highlights.append(coord)\n",
    "                except:\n",
    "                    print(\"NoneType found\")\n",
    "            annot = annot.next\n",
    "        \n",
    "        # calculate coordinate sum to eliminate duplicated sentences \n",
    "        coordinate_sum_total = []\n",
    "        all_words = page.get_text_words()\n",
    "        highlight_text = []\n",
    "        if len(highlights) > 0:\n",
    "            for h in highlights:\n",
    "                sentence = []\n",
    "                num_i = 0\n",
    "                for w in all_words:\n",
    "                    if (fitz.Rect(w[0:4]).intersects(h)):\n",
    "                        if str(sum(w[0:4])) not in coordinate_sum_total: #if no duplicate coordinate sum found, append\n",
    "                            coordinate_sum_total.append(str(sum(w[0:4])))\n",
    "                            sentence.append(w[4])\n",
    "            \n",
    "                highlight_text.append(\" \".join(sentence))\n",
    "        \n",
    "#         print(highlight_text)\n",
    "        \n",
    "        if len(highlight_text) > 0:\n",
    "            highlighted_result.append(\" \".join(highlight_text))\n",
    "        \n",
    "#         print(result)\n",
    "\n",
    "    # Results of the entire industry & keeps track of number of sentences in highlighted_num\n",
    "    highlighted_num.append(len(highlighted_result))\n",
    "    highlighted_sentences.append(highlighted_result)\n",
    "    all_sentences.append(all_result)\n",
    "    \n",
    "    print(len(highlighted_result))\n",
    "    \n",
    "#         print(test_text)\n",
    "        \n",
    "    for r in highlighted_result:\n",
    "        if r is not None:\n",
    "            # tokenize sentences by pages where the sentences is found \n",
    "            # instead of conducting it to the entire report this enhances accuracy \n",
    "            rel_text += tokenize.sent_tokenize(r)\n",
    "            highlighted_label.append(res)\n",
    "            rel_label += res * len(tokenize.sent_tokenize(r))         \n",
    "    \n",
    "    for i in all_result:\n",
    "        all_text_final += tokenize.sent_tokenize(i.replace(\"\\n\", \" \"))\n",
    "        all_label += res * len(tokenize.sent_tokenize(i.replace(\"\\n\", \" \")))\n",
    "        \n",
    "#     print(highlighted_sentences, \"\\n\", len(highlighted_sentences))\n",
    "\n"
   ]
  },
  {
   "cell_type": "code",
   "execution_count": 5,
   "metadata": {},
   "outputs": [
    {
     "data": {
      "text/plain": [
       "[22, 9, 4]"
      ]
     },
     "execution_count": 5,
     "metadata": {},
     "output_type": "execute_result"
    }
   ],
   "source": [
    "highlighted_num"
   ]
  },
  {
   "cell_type": "code",
   "execution_count": 6,
   "metadata": {},
   "outputs": [
    {
     "data": {
      "text/html": [
       "<div>\n",
       "<style scoped>\n",
       "    .dataframe tbody tr th:only-of-type {\n",
       "        vertical-align: middle;\n",
       "    }\n",
       "\n",
       "    .dataframe tbody tr th {\n",
       "        vertical-align: top;\n",
       "    }\n",
       "\n",
       "    .dataframe thead th {\n",
       "        text-align: right;\n",
       "    }\n",
       "</style>\n",
       "<table border=\"1\" class=\"dataframe\">\n",
       "  <thead>\n",
       "    <tr style=\"text-align: right;\">\n",
       "      <th></th>\n",
       "      <th>relevant_sentences</th>\n",
       "      <th>company_label</th>\n",
       "    </tr>\n",
       "  </thead>\n",
       "  <tbody>\n",
       "    <tr>\n",
       "      <th>0</th>\n",
       "      <td>We affirm our ambitious target of a more than ...</td>\n",
       "      <td>Total</td>\n",
       "    </tr>\n",
       "    <tr>\n",
       "      <th>1</th>\n",
       "      <td>To that, we add phased targets for reducing me...</td>\n",
       "      <td>Total</td>\n",
       "    </tr>\n",
       "    <tr>\n",
       "      <th>2</th>\n",
       "      <td>otalEnergies is reducing the share of petro- l...</td>\n",
       "      <td>Total</td>\n",
       "    </tr>\n",
       "    <tr>\n",
       "      <th>3</th>\n",
       "      <td>The Company aims to produce 2 TWh per year of ...</td>\n",
       "      <td>Total</td>\n",
       "    </tr>\n",
       "    <tr>\n",
       "      <th>4</th>\n",
       "      <td>In early 2021, TotalEnergies became a major pl...</td>\n",
       "      <td>Total</td>\n",
       "    </tr>\n",
       "    <tr>\n",
       "      <th>...</th>\n",
       "      <td>...</td>\n",
       "      <td>...</td>\n",
       "    </tr>\n",
       "    <tr>\n",
       "      <th>136</th>\n",
       "      <td>This new target covers all Scope 1 and 2 emiss...</td>\n",
       "      <td>Shell</td>\n",
       "    </tr>\n",
       "    <tr>\n",
       "      <th>137</th>\n",
       "      <td>These decreases were partly offset by higher e...</td>\n",
       "      <td>Shell</td>\n",
       "    </tr>\n",
       "    <tr>\n",
       "      <th>138</th>\n",
       "      <td>SCOPE 1 AND SCOPE 2 GHG EMISSIONS CHANGES FROM...</td>\n",
       "      <td>Shell</td>\n",
       "    </tr>\n",
       "    <tr>\n",
       "      <th>139</th>\n",
       "      <td>In 2021, Shell’s total methane emissions were ...</td>\n",
       "      <td>Shell</td>\n",
       "    </tr>\n",
       "    <tr>\n",
       "      <th>140</th>\n",
       "      <td>We also implemented a more accurate method for...</td>\n",
       "      <td>Shell</td>\n",
       "    </tr>\n",
       "  </tbody>\n",
       "</table>\n",
       "<p>141 rows × 2 columns</p>\n",
       "</div>"
      ],
      "text/plain": [
       "                                    relevant_sentences company_label\n",
       "0    We affirm our ambitious target of a more than ...         Total\n",
       "1    To that, we add phased targets for reducing me...         Total\n",
       "2    otalEnergies is reducing the share of petro- l...         Total\n",
       "3    The Company aims to produce 2 TWh per year of ...         Total\n",
       "4    In early 2021, TotalEnergies became a major pl...         Total\n",
       "..                                                 ...           ...\n",
       "136  This new target covers all Scope 1 and 2 emiss...         Shell\n",
       "137  These decreases were partly offset by higher e...         Shell\n",
       "138  SCOPE 1 AND SCOPE 2 GHG EMISSIONS CHANGES FROM...         Shell\n",
       "139  In 2021, Shell’s total methane emissions were ...         Shell\n",
       "140  We also implemented a more accurate method for...         Shell\n",
       "\n",
       "[141 rows x 2 columns]"
      ]
     },
     "execution_count": 6,
     "metadata": {},
     "output_type": "execute_result"
    }
   ],
   "source": [
    "rel_text_df = pd.DataFrame([rel_text, rel_label]).transpose()\n",
    "rel_text_df = rel_text_df.rename(columns = {0: 'relevant_sentences', 1: 'company_label'})\n",
    "rel_text_df"
   ]
  },
  {
   "cell_type": "code",
   "execution_count": 7,
   "metadata": {},
   "outputs": [
    {
     "data": {
      "text/html": [
       "<div>\n",
       "<style scoped>\n",
       "    .dataframe tbody tr th:only-of-type {\n",
       "        vertical-align: middle;\n",
       "    }\n",
       "\n",
       "    .dataframe tbody tr th {\n",
       "        vertical-align: top;\n",
       "    }\n",
       "\n",
       "    .dataframe thead th {\n",
       "        text-align: right;\n",
       "    }\n",
       "</style>\n",
       "<table border=\"1\" class=\"dataframe\">\n",
       "  <thead>\n",
       "    <tr style=\"text-align: right;\">\n",
       "      <th></th>\n",
       "      <th>all_sentences</th>\n",
       "      <th>company_label</th>\n",
       "    </tr>\n",
       "  </thead>\n",
       "  <tbody>\n",
       "    <tr>\n",
       "      <th>0</th>\n",
       "      <td>MAGENTA YELLOW CYAN 30-34 Rue du Chemin Vert 7...</td>\n",
       "      <td>Total</td>\n",
       "    </tr>\n",
       "    <tr>\n",
       "      <th>1</th>\n",
       "      <td>TECHNIQUE TONS RECOMMANDÉS TOTAL TOT_21_00008_...</td>\n",
       "      <td>Total</td>\n",
       "    </tr>\n",
       "    <tr>\n",
       "      <th>2</th>\n",
       "      <td>To that end, TotalEnergies leverages the princ...</td>\n",
       "      <td>Total</td>\n",
       "    </tr>\n",
       "    <tr>\n",
       "      <th>3</th>\n",
       "      <td>Safety, operational excellence and sustainable...</td>\n",
       "      <td>Total</td>\n",
       "    </tr>\n",
       "    <tr>\n",
       "      <th>4</th>\n",
       "      <td>•  Respect for each other is another TotalEner...</td>\n",
       "      <td>Total</td>\n",
       "    </tr>\n",
       "    <tr>\n",
       "      <th>...</th>\n",
       "      <td>...</td>\n",
       "      <td>...</td>\n",
       "    </tr>\n",
       "    <tr>\n",
       "      <th>3870</th>\n",
       "      <td>CO2e (CO2 equivalent) refers to CO2, CH4, N2O.</td>\n",
       "      <td>Shell</td>\n",
       "    </tr>\n",
       "    <tr>\n",
       "      <th>3871</th>\n",
       "      <td>Divestments is a measure used to monitor the p...</td>\n",
       "      <td>Shell</td>\n",
       "    </tr>\n",
       "    <tr>\n",
       "      <th>3872</th>\n",
       "      <td>This measure comprises proceeds from sale of p...</td>\n",
       "      <td>Shell</td>\n",
       "    </tr>\n",
       "    <tr>\n",
       "      <th>3873</th>\n",
       "      <td>Shell PurePlus, Shell Helix, Shell Rimula, She...</td>\n",
       "      <td>Shell</td>\n",
       "    </tr>\n",
       "    <tr>\n",
       "      <th>3874</th>\n",
       "      <td>SUSTAINABILITY REPORT 2020 SHELL PLC  Follow @...</td>\n",
       "      <td>Shell</td>\n",
       "    </tr>\n",
       "  </tbody>\n",
       "</table>\n",
       "<p>3875 rows × 2 columns</p>\n",
       "</div>"
      ],
      "text/plain": [
       "                                          all_sentences company_label\n",
       "0     MAGENTA YELLOW CYAN 30-34 Rue du Chemin Vert 7...         Total\n",
       "1     TECHNIQUE TONS RECOMMANDÉS TOTAL TOT_21_00008_...         Total\n",
       "2     To that end, TotalEnergies leverages the princ...         Total\n",
       "3     Safety, operational excellence and sustainable...         Total\n",
       "4     •  Respect for each other is another TotalEner...         Total\n",
       "...                                                 ...           ...\n",
       "3870     CO2e (CO2 equivalent) refers to CO2, CH4, N2O.         Shell\n",
       "3871  Divestments is a measure used to monitor the p...         Shell\n",
       "3872  This measure comprises proceeds from sale of p...         Shell\n",
       "3873  Shell PurePlus, Shell Helix, Shell Rimula, She...         Shell\n",
       "3874  SUSTAINABILITY REPORT 2020 SHELL PLC  Follow @...         Shell\n",
       "\n",
       "[3875 rows x 2 columns]"
      ]
     },
     "execution_count": 7,
     "metadata": {},
     "output_type": "execute_result"
    }
   ],
   "source": [
    "all_text_final_df = pd.DataFrame([all_text_final, all_label]).transpose()\n",
    "all_text_final_df = all_text_final_df.rename(columns = {0: 'all_sentences', 1: 'company_label'})\n",
    "all_text_final_df"
   ]
  },
  {
   "cell_type": "markdown",
   "metadata": {},
   "source": [
    "### Getting Sentence Statistics "
   ]
  },
  {
   "cell_type": "code",
   "execution_count": 8,
   "metadata": {},
   "outputs": [],
   "source": [
    "# count rel sentences \n",
    "rel_count = rel_text_df.groupby('company_label', sort = False).count()\n",
    "\n",
    "# count all sentences\n",
    "sent_count = all_text_final_df.groupby('company_label', sort = False).count()"
   ]
  },
  {
   "cell_type": "code",
   "execution_count": 9,
   "metadata": {},
   "outputs": [
    {
     "data": {
      "text/html": [
       "<div>\n",
       "<style scoped>\n",
       "    .dataframe tbody tr th:only-of-type {\n",
       "        vertical-align: middle;\n",
       "    }\n",
       "\n",
       "    .dataframe tbody tr th {\n",
       "        vertical-align: top;\n",
       "    }\n",
       "\n",
       "    .dataframe thead th {\n",
       "        text-align: right;\n",
       "    }\n",
       "</style>\n",
       "<table border=\"1\" class=\"dataframe\">\n",
       "  <thead>\n",
       "    <tr style=\"text-align: right;\">\n",
       "      <th></th>\n",
       "      <th>all_sentences</th>\n",
       "      <th>relevant_sentences</th>\n",
       "      <th>percentages</th>\n",
       "    </tr>\n",
       "    <tr>\n",
       "      <th>company_label</th>\n",
       "      <th></th>\n",
       "      <th></th>\n",
       "      <th></th>\n",
       "    </tr>\n",
       "  </thead>\n",
       "  <tbody>\n",
       "    <tr>\n",
       "      <th>Total</th>\n",
       "      <td>1481</td>\n",
       "      <td>77</td>\n",
       "      <td>5.199190</td>\n",
       "    </tr>\n",
       "    <tr>\n",
       "      <th>BP</th>\n",
       "      <td>1216</td>\n",
       "      <td>51</td>\n",
       "      <td>4.194079</td>\n",
       "    </tr>\n",
       "    <tr>\n",
       "      <th>Shell</th>\n",
       "      <td>1178</td>\n",
       "      <td>13</td>\n",
       "      <td>1.103565</td>\n",
       "    </tr>\n",
       "  </tbody>\n",
       "</table>\n",
       "</div>"
      ],
      "text/plain": [
       "               all_sentences  relevant_sentences  percentages\n",
       "company_label                                                \n",
       "Total                   1481                  77     5.199190\n",
       "BP                      1216                  51     4.194079\n",
       "Shell                   1178                  13     1.103565"
      ]
     },
     "execution_count": 9,
     "metadata": {},
     "output_type": "execute_result"
    }
   ],
   "source": [
    "sentences_list = []\n",
    "rel_sent_list = []\n",
    "\n",
    "final_text_stat = pd.concat([sent_count, rel_count],  sort = False, axis = 1)\n",
    "\n",
    "[rel_sent_list.append(rel_sent) for rel_sent in final_text_stat['relevant_sentences']]    \n",
    "[sentences_list.append(all_sent) for all_sent in final_text_stat['all_sentences']]    \n",
    "    \n",
    "final_text_stat['relevant_sentences'] = final_text_stat['relevant_sentences'].fillna(0)\n",
    "final_text_stat['percentages'] = final_text_stat['relevant_sentences'] / final_text_stat['all_sentences'] * 100\n",
    "final_text_stat"
   ]
  },
  {
   "cell_type": "code",
   "execution_count": 10,
   "metadata": {},
   "outputs": [
    {
     "data": {
      "image/png": "[encoded data removed]",
      "text/plain": [
       "<Figure size 432x288 with 1 Axes>"
      ]
     },
     "metadata": {
      "needs_background": "light"
     },
     "output_type": "display_data"
    }
   ],
   "source": [
    "import matplotlib.pyplot as plt\n",
    "import numpy as np\n",
    "import glob\n",
    "y = []\n",
    "\n",
    "x = [\"Total\", \"BP\", \"Shell\"]\n",
    "\n",
    "\n",
    "i = 0\n",
    "\n",
    "for file in os.listdir(dir):\n",
    "    y.append(100 * (rel_sent_list[i])/sentences_list[i])\n",
    "    i = i+1\n",
    "\n",
    "plt.bar(x, y, width = 0.8)\n",
    "plt.xticks(rotation='vertical')\n",
    "plt.title(\"Energy\")\n",
    "plt.xlabel(\"Company\")\n",
    "plt.ylabel(\"Percent of sentences highlighted\")\n",
    "plt.yticks(np.arange(0, 50, 10))\n",
    "plt.show()"
   ]
  },
  {
   "cell_type": "code",
   "execution_count": 11,
   "metadata": {},
   "outputs": [
    {
     "data": {
      "text/plain": [
       "count    3.000000\n",
       "mean     3.498945\n",
       "std      2.134466\n",
       "min      1.103565\n",
       "25%      2.648822\n",
       "50%      4.194079\n",
       "75%      4.696634\n",
       "max      5.199190\n",
       "dtype: float64"
      ]
     },
     "execution_count": 11,
     "metadata": {},
     "output_type": "execute_result"
    }
   ],
   "source": [
    "import pandas as pd\n",
    "\n",
    "series = pd.Series(y)\n",
    "series.describe()"
   ]
  },
  {
   "cell_type": "markdown",
   "metadata": {},
   "source": [
    "### Exporting and Saving Files "
   ]
  },
  {
   "cell_type": "code",
   "execution_count": 12,
   "metadata": {},
   "outputs": [
    {
     "name": "stdout",
     "output_type": "stream",
     "text": [
      "Stored 'Energy_reltext' (DataFrame)\n",
      "Stored 'Energy_alltext' (DataFrame)\n",
      "Stored 'Energy_stat' (DataFrame)\n"
     ]
    }
   ],
   "source": [
    "#storing variable so they can be called between notebooks (for aggregate analysis, test/train data sets, and modeling later on)\n",
    "\n",
    "Energy_reltext = rel_text_df\n",
    "Energy_alltext = all_text_final_df\n",
    "Energy_stat = final_text_stat\n",
    "\n",
    "%store Energy_reltext\n",
    "%store Energy_alltext\n",
    "%store Energy_stat"
   ]
  },
  {
   "cell_type": "code",
   "execution_count": null,
   "metadata": {},
   "outputs": [],
   "source": []
  }
 ],
 "metadata": {
  "kernelspec": {
   "display_name": "Python 3 (ipykernel)",
   "language": "python",
   "name": "python3"
  },
  "language_info": {
   "codemirror_mode": {
    "name": "ipython",
    "version": 3
   },
   "file_extension": ".py",
   "mimetype": "text/x-python",
   "name": "python",
   "nbconvert_exporter": "python",
   "pygments_lexer": "ipython3",
   "version": "3.9.13"
  }
 },
 "nbformat": 4,
 "nbformat_minor": 4
}
