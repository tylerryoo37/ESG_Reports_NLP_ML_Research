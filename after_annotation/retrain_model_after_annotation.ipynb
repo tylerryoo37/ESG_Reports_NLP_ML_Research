{
 "cells": [
  {
   "cell_type": "markdown",
   "id": "b02ddcf0",
   "metadata": {},
   "source": [
    "### Read all_sentences and annotated sentences"
   ]
  },
  {
   "cell_type": "code",
   "execution_count": 974,
   "id": "3991d001",
   "metadata": {},
   "outputs": [
    {
     "data": {
      "text/plain": [
       "815"
      ]
     },
     "execution_count": 974,
     "metadata": {},
     "output_type": "execute_result"
    }
   ],
   "source": [
    "import pandas as pd \n",
    "import re\n",
    "\n",
    "annotated = pd.read_csv('annotated_to_retrain.csv')\n",
    "annotated = annotated.rename(columns = {'Sentences': 'sentences'})\n",
    "len(annotated)"
   ]
  },
  {
   "cell_type": "code",
   "execution_count": 975,
   "id": "dd28f473",
   "metadata": {},
   "outputs": [
    {
     "data": {
      "text/plain": [
       "77277"
      ]
     },
     "execution_count": 975,
     "metadata": {},
     "output_type": "execute_result"
    }
   ],
   "source": [
    "all_sentences = pd.read_csv('../relevant_irrelevant_sentences_labeled_final/all_sentences.csv', index_col = 0)\n",
    "len(all_sentences)"
   ]
  },
  {
   "cell_type": "code",
   "execution_count": 976,
   "id": "e5b82787",
   "metadata": {},
   "outputs": [
    {
     "data": {
      "text/html": [
       "<div>\n",
       "<style scoped>\n",
       "    .dataframe tbody tr th:only-of-type {\n",
       "        vertical-align: middle;\n",
       "    }\n",
       "\n",
       "    .dataframe tbody tr th {\n",
       "        vertical-align: top;\n",
       "    }\n",
       "\n",
       "    .dataframe thead th {\n",
       "        text-align: right;\n",
       "    }\n",
       "</style>\n",
       "<table border=\"1\" class=\"dataframe\">\n",
       "  <thead>\n",
       "    <tr style=\"text-align: right;\">\n",
       "      <th></th>\n",
       "      <th>key</th>\n",
       "      <th>sentences</th>\n",
       "      <th>company_label</th>\n",
       "      <th>label</th>\n",
       "    </tr>\n",
       "  </thead>\n",
       "  <tbody>\n",
       "  </tbody>\n",
       "</table>\n",
       "</div>"
      ],
      "text/plain": [
       "Empty DataFrame\n",
       "Columns: [key, sentences, company_label, label]\n",
       "Index: []"
      ]
     },
     "execution_count": 976,
     "metadata": {},
     "output_type": "execute_result"
    }
   ],
   "source": [
    "all_sentences[all_sentences.label.isnull()]"
   ]
  },
  {
   "cell_type": "code",
   "execution_count": 977,
   "id": "b16be5c4",
   "metadata": {},
   "outputs": [
    {
     "data": {
      "text/html": [
       "<div>\n",
       "<style scoped>\n",
       "    .dataframe tbody tr th:only-of-type {\n",
       "        vertical-align: middle;\n",
       "    }\n",
       "\n",
       "    .dataframe tbody tr th {\n",
       "        vertical-align: top;\n",
       "    }\n",
       "\n",
       "    .dataframe thead th {\n",
       "        text-align: right;\n",
       "    }\n",
       "</style>\n",
       "<table border=\"1\" class=\"dataframe\">\n",
       "  <thead>\n",
       "    <tr style=\"text-align: right;\">\n",
       "      <th></th>\n",
       "      <th>key</th>\n",
       "      <th>sentences</th>\n",
       "      <th>company_label</th>\n",
       "      <th>label</th>\n",
       "    </tr>\n",
       "  </thead>\n",
       "  <tbody>\n",
       "    <tr>\n",
       "      <th>1</th>\n",
       "      <td>1</td>\n",
       "      <td>In 2021, 9.6% of our purchased electricity cam...</td>\n",
       "      <td>EliLilly</td>\n",
       "      <td>rel</td>\n",
       "    </tr>\n",
       "    <tr>\n",
       "      <th>2</th>\n",
       "      <td>2</td>\n",
       "      <td>A large portion of this renewable electricity ...</td>\n",
       "      <td>EliLilly</td>\n",
       "      <td>rel</td>\n",
       "    </tr>\n",
       "    <tr>\n",
       "      <th>3</th>\n",
       "      <td>3</td>\n",
       "      <td>From 2012 to 2020, we achieved a 26% reduction...</td>\n",
       "      <td>EliLilly</td>\n",
       "      <td>rel</td>\n",
       "    </tr>\n",
       "    <tr>\n",
       "      <th>4</th>\n",
       "      <td>4</td>\n",
       "      <td>In 2021, we achieved a 9% absolute emissions r...</td>\n",
       "      <td>EliLilly</td>\n",
       "      <td>rel</td>\n",
       "    </tr>\n",
       "    <tr>\n",
       "      <th>5</th>\n",
       "      <td>5</td>\n",
       "      <td>This reduction was partially driven by energy ...</td>\n",
       "      <td>EliLilly</td>\n",
       "      <td>rel</td>\n",
       "    </tr>\n",
       "    <tr>\n",
       "      <th>...</th>\n",
       "      <td>...</td>\n",
       "      <td>...</td>\n",
       "      <td>...</td>\n",
       "      <td>...</td>\n",
       "    </tr>\n",
       "    <tr>\n",
       "      <th>77273</th>\n",
       "      <td>77273</td>\n",
       "      <td>→ FPL’s four nuclear units continue to operate...</td>\n",
       "      <td>NextEraEnergyZeroCarbonBlueprint</td>\n",
       "      <td>irr</td>\n",
       "    </tr>\n",
       "    <tr>\n",
       "      <th>77274</th>\n",
       "      <td>77274</td>\n",
       "      <td>Technology We assume that: → FPL’s gas plants ...</td>\n",
       "      <td>NextEraEnergyZeroCarbonBlueprint</td>\n",
       "      <td>irr</td>\n",
       "    </tr>\n",
       "    <tr>\n",
       "      <th>77275</th>\n",
       "      <td>77275</td>\n",
       "      <td>→ NextEra Energy Resources would invest in ele...</td>\n",
       "      <td>NextEraEnergyZeroCarbonBlueprint</td>\n",
       "      <td>irr</td>\n",
       "    </tr>\n",
       "    <tr>\n",
       "      <th>77276</th>\n",
       "      <td>77276</td>\n",
       "      <td>→ All non-FPL fossil generation assets would r...</td>\n",
       "      <td>NextEraEnergyZeroCarbonBlueprint</td>\n",
       "      <td>irr</td>\n",
       "    </tr>\n",
       "    <tr>\n",
       "      <th>77277</th>\n",
       "      <td>77277</td>\n",
       "      <td>→ Vehicle fleet conversions are based on the a...</td>\n",
       "      <td>NextEraEnergyZeroCarbonBlueprint</td>\n",
       "      <td>irr</td>\n",
       "    </tr>\n",
       "  </tbody>\n",
       "</table>\n",
       "<p>77277 rows × 4 columns</p>\n",
       "</div>"
      ],
      "text/plain": [
       "         key                                          sentences  \\\n",
       "1          1  In 2021, 9.6% of our purchased electricity cam...   \n",
       "2          2  A large portion of this renewable electricity ...   \n",
       "3          3  From 2012 to 2020, we achieved a 26% reduction...   \n",
       "4          4  In 2021, we achieved a 9% absolute emissions r...   \n",
       "5          5  This reduction was partially driven by energy ...   \n",
       "...      ...                                                ...   \n",
       "77273  77273  → FPL’s four nuclear units continue to operate...   \n",
       "77274  77274  Technology We assume that: → FPL’s gas plants ...   \n",
       "77275  77275  → NextEra Energy Resources would invest in ele...   \n",
       "77276  77276  → All non-FPL fossil generation assets would r...   \n",
       "77277  77277  → Vehicle fleet conversions are based on the a...   \n",
       "\n",
       "                          company_label label  \n",
       "1                              EliLilly   rel  \n",
       "2                              EliLilly   rel  \n",
       "3                              EliLilly   rel  \n",
       "4                              EliLilly   rel  \n",
       "5                              EliLilly   rel  \n",
       "...                                 ...   ...  \n",
       "77273  NextEraEnergyZeroCarbonBlueprint   irr  \n",
       "77274  NextEraEnergyZeroCarbonBlueprint   irr  \n",
       "77275  NextEraEnergyZeroCarbonBlueprint   irr  \n",
       "77276  NextEraEnergyZeroCarbonBlueprint   irr  \n",
       "77277  NextEraEnergyZeroCarbonBlueprint   irr  \n",
       "\n",
       "[77277 rows x 4 columns]"
      ]
     },
     "execution_count": 977,
     "metadata": {},
     "output_type": "execute_result"
    }
   ],
   "source": [
    "all_sentences"
   ]
  },
  {
   "cell_type": "code",
   "execution_count": 978,
   "id": "4606f5c7",
   "metadata": {},
   "outputs": [
    {
     "data": {
      "text/html": [
       "<div>\n",
       "<style scoped>\n",
       "    .dataframe tbody tr th:only-of-type {\n",
       "        vertical-align: middle;\n",
       "    }\n",
       "\n",
       "    .dataframe tbody tr th {\n",
       "        vertical-align: top;\n",
       "    }\n",
       "\n",
       "    .dataframe thead th {\n",
       "        text-align: right;\n",
       "    }\n",
       "</style>\n",
       "<table border=\"1\" class=\"dataframe\">\n",
       "  <thead>\n",
       "    <tr style=\"text-align: right;\">\n",
       "      <th></th>\n",
       "      <th>key</th>\n",
       "      <th>sentences</th>\n",
       "      <th>company_label</th>\n",
       "      <th>label</th>\n",
       "    </tr>\n",
       "  </thead>\n",
       "  <tbody>\n",
       "    <tr>\n",
       "      <th>1</th>\n",
       "      <td>1</td>\n",
       "      <td>In 2021, 9.6% of our purchased electricity cam...</td>\n",
       "      <td>EliLilly</td>\n",
       "      <td>rel</td>\n",
       "    </tr>\n",
       "    <tr>\n",
       "      <th>2</th>\n",
       "      <td>2</td>\n",
       "      <td>A large portion of this renewable electricity ...</td>\n",
       "      <td>EliLilly</td>\n",
       "      <td>rel</td>\n",
       "    </tr>\n",
       "    <tr>\n",
       "      <th>3</th>\n",
       "      <td>3</td>\n",
       "      <td>From 2012 to 2020, we achieved a 26% reduction...</td>\n",
       "      <td>EliLilly</td>\n",
       "      <td>rel</td>\n",
       "    </tr>\n",
       "    <tr>\n",
       "      <th>4</th>\n",
       "      <td>4</td>\n",
       "      <td>In 2021, we achieved a 9% absolute emissions r...</td>\n",
       "      <td>EliLilly</td>\n",
       "      <td>rel</td>\n",
       "    </tr>\n",
       "    <tr>\n",
       "      <th>5</th>\n",
       "      <td>5</td>\n",
       "      <td>This reduction was partially driven by energy ...</td>\n",
       "      <td>EliLilly</td>\n",
       "      <td>rel</td>\n",
       "    </tr>\n",
       "    <tr>\n",
       "      <th>...</th>\n",
       "      <td>...</td>\n",
       "      <td>...</td>\n",
       "      <td>...</td>\n",
       "      <td>...</td>\n",
       "    </tr>\n",
       "    <tr>\n",
       "      <th>77273</th>\n",
       "      <td>77273</td>\n",
       "      <td>→ FPL’s four nuclear units continue to operate...</td>\n",
       "      <td>NextEraEnergyZeroCarbonBlueprint</td>\n",
       "      <td>irr</td>\n",
       "    </tr>\n",
       "    <tr>\n",
       "      <th>77274</th>\n",
       "      <td>77274</td>\n",
       "      <td>Technology We assume that: → FPL’s gas plants ...</td>\n",
       "      <td>NextEraEnergyZeroCarbonBlueprint</td>\n",
       "      <td>irr</td>\n",
       "    </tr>\n",
       "    <tr>\n",
       "      <th>77275</th>\n",
       "      <td>77275</td>\n",
       "      <td>→ NextEra Energy Resources would invest in ele...</td>\n",
       "      <td>NextEraEnergyZeroCarbonBlueprint</td>\n",
       "      <td>irr</td>\n",
       "    </tr>\n",
       "    <tr>\n",
       "      <th>77276</th>\n",
       "      <td>77276</td>\n",
       "      <td>→ All non-FPL fossil generation assets would r...</td>\n",
       "      <td>NextEraEnergyZeroCarbonBlueprint</td>\n",
       "      <td>irr</td>\n",
       "    </tr>\n",
       "    <tr>\n",
       "      <th>77277</th>\n",
       "      <td>77277</td>\n",
       "      <td>→ Vehicle fleet conversions are based on the a...</td>\n",
       "      <td>NextEraEnergyZeroCarbonBlueprint</td>\n",
       "      <td>irr</td>\n",
       "    </tr>\n",
       "  </tbody>\n",
       "</table>\n",
       "<p>77277 rows × 4 columns</p>\n",
       "</div>"
      ],
      "text/plain": [
       "         key                                          sentences  \\\n",
       "1          1  In 2021, 9.6% of our purchased electricity cam...   \n",
       "2          2  A large portion of this renewable electricity ...   \n",
       "3          3  From 2012 to 2020, we achieved a 26% reduction...   \n",
       "4          4  In 2021, we achieved a 9% absolute emissions r...   \n",
       "5          5  This reduction was partially driven by energy ...   \n",
       "...      ...                                                ...   \n",
       "77273  77273  → FPL’s four nuclear units continue to operate...   \n",
       "77274  77274  Technology We assume that: → FPL’s gas plants ...   \n",
       "77275  77275  → NextEra Energy Resources would invest in ele...   \n",
       "77276  77276  → All non-FPL fossil generation assets would r...   \n",
       "77277  77277  → Vehicle fleet conversions are based on the a...   \n",
       "\n",
       "                          company_label label  \n",
       "1                              EliLilly   rel  \n",
       "2                              EliLilly   rel  \n",
       "3                              EliLilly   rel  \n",
       "4                              EliLilly   rel  \n",
       "5                              EliLilly   rel  \n",
       "...                                 ...   ...  \n",
       "77273  NextEraEnergyZeroCarbonBlueprint   irr  \n",
       "77274  NextEraEnergyZeroCarbonBlueprint   irr  \n",
       "77275  NextEraEnergyZeroCarbonBlueprint   irr  \n",
       "77276  NextEraEnergyZeroCarbonBlueprint   irr  \n",
       "77277  NextEraEnergyZeroCarbonBlueprint   irr  \n",
       "\n",
       "[77277 rows x 4 columns]"
      ]
     },
     "execution_count": 978,
     "metadata": {},
     "output_type": "execute_result"
    }
   ],
   "source": [
    "all_sentences"
   ]
  },
  {
   "cell_type": "code",
   "execution_count": 979,
   "id": "ead184b3",
   "metadata": {},
   "outputs": [
    {
     "data": {
      "text/html": [
       "<div>\n",
       "<style scoped>\n",
       "    .dataframe tbody tr th:only-of-type {\n",
       "        vertical-align: middle;\n",
       "    }\n",
       "\n",
       "    .dataframe tbody tr th {\n",
       "        vertical-align: top;\n",
       "    }\n",
       "\n",
       "    .dataframe thead th {\n",
       "        text-align: right;\n",
       "    }\n",
       "</style>\n",
       "<table border=\"1\" class=\"dataframe\">\n",
       "  <thead>\n",
       "    <tr style=\"text-align: right;\">\n",
       "      <th></th>\n",
       "      <th>key</th>\n",
       "    </tr>\n",
       "    <tr>\n",
       "      <th>label</th>\n",
       "      <th></th>\n",
       "    </tr>\n",
       "  </thead>\n",
       "  <tbody>\n",
       "    <tr>\n",
       "      <th>irr</th>\n",
       "      <td>76406</td>\n",
       "    </tr>\n",
       "    <tr>\n",
       "      <th>rel</th>\n",
       "      <td>871</td>\n",
       "    </tr>\n",
       "  </tbody>\n",
       "</table>\n",
       "</div>"
      ],
      "text/plain": [
       "         key\n",
       "label       \n",
       "irr    76406\n",
       "rel      871"
      ]
     },
     "execution_count": 979,
     "metadata": {},
     "output_type": "execute_result"
    }
   ],
   "source": [
    "all_sentences.groupby('label').count()[['key']]"
   ]
  },
  {
   "cell_type": "markdown",
   "id": "1ac5fc12",
   "metadata": {},
   "source": [
    "### Merge annotated data with all_sentences"
   ]
  },
  {
   "cell_type": "code",
   "execution_count": 980,
   "id": "4e638869",
   "metadata": {},
   "outputs": [],
   "source": [
    "annotated_merged = annotated.merge(all_sentences, how = 'left', on = 'sentences')"
   ]
  },
  {
   "cell_type": "code",
   "execution_count": 981,
   "id": "de0b4a00",
   "metadata": {},
   "outputs": [
    {
     "data": {
      "text/plain": [
       "815"
      ]
     },
     "execution_count": 981,
     "metadata": {},
     "output_type": "execute_result"
    }
   ],
   "source": [
    "len(annotated_merged)"
   ]
  },
  {
   "cell_type": "code",
   "execution_count": 982,
   "id": "a784c0f4",
   "metadata": {},
   "outputs": [],
   "source": [
    "# check label change status by combining true label and classified by hand column\n",
    "annotated_merged['label_change'] = annotated_merged['True Label'] + annotated_merged['Classified by Hand']"
   ]
  },
  {
   "cell_type": "code",
   "execution_count": 983,
   "id": "f2900061",
   "metadata": {},
   "outputs": [],
   "source": [
    "annotated_merged = annotated_merged.drop(['label', 'company_label'], axis = 1 )"
   ]
  },
  {
   "cell_type": "code",
   "execution_count": 984,
   "id": "b0c7b0f1",
   "metadata": {},
   "outputs": [],
   "source": [
    "# Separately keep track of sentences that weren't merged but didn't have any status change"
   ]
  },
  {
   "cell_type": "code",
   "execution_count": 985,
   "id": "346491c7",
   "metadata": {},
   "outputs": [
    {
     "data": {
      "text/plain": [
       "21"
      ]
     },
     "execution_count": 985,
     "metadata": {},
     "output_type": "execute_result"
    }
   ],
   "source": [
    "# 31 of annotated sentences were not merged properly with all sentences\n",
    "len(annotated_merged[annotated_merged.key.isnull()])"
   ]
  },
  {
   "cell_type": "code",
   "execution_count": 986,
   "id": "658c2fe2",
   "metadata": {},
   "outputs": [
    {
     "data": {
      "text/plain": [
       "10"
      ]
     },
     "execution_count": 986,
     "metadata": {},
     "output_type": "execute_result"
    }
   ],
   "source": [
    "# 13 of these didn't have any label status change (8: relrel and 5: irrirr) focus on 18 with label status change\n",
    "len(annotated_merged[annotated_merged.key.isnull() & ((annotated_merged.label_change != 'relrel') & (annotated_merged.label_change != 'irrirr'))])"
   ]
  },
  {
   "cell_type": "code",
   "execution_count": 987,
   "id": "83da0574",
   "metadata": {},
   "outputs": [
    {
     "data": {
      "text/plain": [
       "6"
      ]
     },
     "execution_count": 987,
     "metadata": {},
     "output_type": "execute_result"
    }
   ],
   "source": [
    "len(annotated_merged[annotated_merged.key.isnull() & (annotated_merged.label_change == 'relrel')])"
   ]
  },
  {
   "cell_type": "code",
   "execution_count": 988,
   "id": "02dacea0",
   "metadata": {},
   "outputs": [
    {
     "data": {
      "text/plain": [
       "5"
      ]
     },
     "execution_count": 988,
     "metadata": {},
     "output_type": "execute_result"
    }
   ],
   "source": [
    "len(annotated_merged[annotated_merged.key.isnull() & (annotated_merged.label_change == 'irrirr')])"
   ]
  },
  {
   "cell_type": "code",
   "execution_count": 989,
   "id": "fbe59695",
   "metadata": {},
   "outputs": [
    {
     "data": {
      "text/html": [
       "<div>\n",
       "<style scoped>\n",
       "    .dataframe tbody tr th:only-of-type {\n",
       "        vertical-align: middle;\n",
       "    }\n",
       "\n",
       "    .dataframe tbody tr th {\n",
       "        vertical-align: top;\n",
       "    }\n",
       "\n",
       "    .dataframe thead th {\n",
       "        text-align: right;\n",
       "    }\n",
       "</style>\n",
       "<table border=\"1\" class=\"dataframe\">\n",
       "  <thead>\n",
       "    <tr style=\"text-align: right;\">\n",
       "      <th></th>\n",
       "      <th>sentences</th>\n",
       "      <th>Naive Bayes</th>\n",
       "      <th>KNN</th>\n",
       "      <th>Decision Tree</th>\n",
       "      <th>Logistic Regression</th>\n",
       "      <th>Perceptron Model</th>\n",
       "      <th>Random Forest</th>\n",
       "      <th>SVM</th>\n",
       "      <th>sum count</th>\n",
       "      <th>Company</th>\n",
       "      <th>True Label</th>\n",
       "      <th>Classified by Hand</th>\n",
       "      <th>Pattern Recognition</th>\n",
       "      <th>Issues / Comments</th>\n",
       "      <th>key</th>\n",
       "      <th>label_change</th>\n",
       "    </tr>\n",
       "  </thead>\n",
       "  <tbody>\n",
       "    <tr>\n",
       "      <th>313</th>\n",
       "      <td>#NAME?</td>\n",
       "      <td>1</td>\n",
       "      <td>1</td>\n",
       "      <td>1</td>\n",
       "      <td>1</td>\n",
       "      <td>1</td>\n",
       "      <td>1</td>\n",
       "      <td>1</td>\n",
       "      <td>7</td>\n",
       "      <td>Microsoft</td>\n",
       "      <td>irr</td>\n",
       "      <td>irr</td>\n",
       "      <td>NaN</td>\n",
       "      <td>incomplete sentence?</td>\n",
       "      <td>NaN</td>\n",
       "      <td>irrirr</td>\n",
       "    </tr>\n",
       "    <tr>\n",
       "      <th>497</th>\n",
       "      <td>In This Section Climate Action Strategy 2030 C...</td>\n",
       "      <td>0</td>\n",
       "      <td>1</td>\n",
       "      <td>0</td>\n",
       "      <td>1</td>\n",
       "      <td>0</td>\n",
       "      <td>1</td>\n",
       "      <td>1</td>\n",
       "      <td>4</td>\n",
       "      <td>EliLilly</td>\n",
       "      <td>irr</td>\n",
       "      <td>irr</td>\n",
       "      <td>NaN</td>\n",
       "      <td>table of contents containing relevant info?</td>\n",
       "      <td>NaN</td>\n",
       "      <td>irrirr</td>\n",
       "    </tr>\n",
       "    <tr>\n",
       "      <th>761</th>\n",
       "      <td>This assessment considered the following: 1.</td>\n",
       "      <td>0</td>\n",
       "      <td>0</td>\n",
       "      <td>0</td>\n",
       "      <td>0</td>\n",
       "      <td>1</td>\n",
       "      <td>0</td>\n",
       "      <td>0</td>\n",
       "      <td>1</td>\n",
       "      <td>NewmontMining</td>\n",
       "      <td>irr</td>\n",
       "      <td>irr</td>\n",
       "      <td>NaN</td>\n",
       "      <td>NaN</td>\n",
       "      <td>NaN</td>\n",
       "      <td>irrirr</td>\n",
       "    </tr>\n",
       "    <tr>\n",
       "      <th>762</th>\n",
       "      <td>Newmont Corporation 2021 Climate Report Strate...</td>\n",
       "      <td>0</td>\n",
       "      <td>0</td>\n",
       "      <td>1</td>\n",
       "      <td>0</td>\n",
       "      <td>0</td>\n",
       "      <td>0</td>\n",
       "      <td>0</td>\n",
       "      <td>1</td>\n",
       "      <td>NewmontMining</td>\n",
       "      <td>irr</td>\n",
       "      <td>irr</td>\n",
       "      <td>NaN</td>\n",
       "      <td>NaN</td>\n",
       "      <td>NaN</td>\n",
       "      <td>irrirr</td>\n",
       "    </tr>\n",
       "    <tr>\n",
       "      <th>764</th>\n",
       "      <td>Availability of capital could pose another cha...</td>\n",
       "      <td>0</td>\n",
       "      <td>0</td>\n",
       "      <td>1</td>\n",
       "      <td>0</td>\n",
       "      <td>0</td>\n",
       "      <td>0</td>\n",
       "      <td>0</td>\n",
       "      <td>1</td>\n",
       "      <td>NewmontMining</td>\n",
       "      <td>irr</td>\n",
       "      <td>irr</td>\n",
       "      <td>NaN</td>\n",
       "      <td>NaN</td>\n",
       "      <td>NaN</td>\n",
       "      <td>irrirr</td>\n",
       "    </tr>\n",
       "  </tbody>\n",
       "</table>\n",
       "</div>"
      ],
      "text/plain": [
       "                                             sentences  Naive Bayes  KNN  \\\n",
       "313                                             #NAME?            1    1   \n",
       "497  In This Section Climate Action Strategy 2030 C...            0    1   \n",
       "761       This assessment considered the following: 1.            0    0   \n",
       "762  Newmont Corporation 2021 Climate Report Strate...            0    0   \n",
       "764  Availability of capital could pose another cha...            0    0   \n",
       "\n",
       "     Decision Tree  Logistic Regression  Perceptron Model  Random Forest  SVM  \\\n",
       "313              1                    1                 1              1    1   \n",
       "497              0                    1                 0              1    1   \n",
       "761              0                    0                 1              0    0   \n",
       "762              1                    0                 0              0    0   \n",
       "764              1                    0                 0              0    0   \n",
       "\n",
       "     sum count        Company True Label Classified by Hand  \\\n",
       "313          7      Microsoft        irr                irr   \n",
       "497          4       EliLilly        irr                irr   \n",
       "761          1  NewmontMining        irr                irr   \n",
       "762          1  NewmontMining        irr                irr   \n",
       "764          1  NewmontMining        irr                irr   \n",
       "\n",
       "    Pattern Recognition                            Issues / Comments  key  \\\n",
       "313                 NaN                         incomplete sentence?  NaN   \n",
       "497                 NaN  table of contents containing relevant info?  NaN   \n",
       "761                 NaN                                          NaN  NaN   \n",
       "762                 NaN                                          NaN  NaN   \n",
       "764                 NaN                                          NaN  NaN   \n",
       "\n",
       "    label_change  \n",
       "313       irrirr  \n",
       "497       irrirr  \n",
       "761       irrirr  \n",
       "762       irrirr  \n",
       "764       irrirr  "
      ]
     },
     "execution_count": 989,
     "metadata": {},
     "output_type": "execute_result"
    }
   ],
   "source": [
    "annotated_merged[annotated_merged.key.isnull() & (annotated_merged.label_change == 'irrirr')]"
   ]
  },
  {
   "cell_type": "code",
   "execution_count": 990,
   "id": "d00b7df9",
   "metadata": {},
   "outputs": [],
   "source": [
    "# annotated not merged with changes in status (rel --> rel or irr --> irr are disregarded)\n",
    "annotated_not_merged = annotated_merged[annotated_merged.key.isnull() & ((annotated_merged.label_change != 'relrel') & (annotated_merged.label_change != 'irrirr'))]"
   ]
  },
  {
   "cell_type": "code",
   "execution_count": 991,
   "id": "13811bf4",
   "metadata": {},
   "outputs": [],
   "source": [
    "annotated_merged = annotated_merged[annotated_merged.key.notnull()]"
   ]
  },
  {
   "cell_type": "code",
   "execution_count": 992,
   "id": "3ce227a4",
   "metadata": {},
   "outputs": [
    {
     "data": {
      "text/html": [
       "<div>\n",
       "<style scoped>\n",
       "    .dataframe tbody tr th:only-of-type {\n",
       "        vertical-align: middle;\n",
       "    }\n",
       "\n",
       "    .dataframe tbody tr th {\n",
       "        vertical-align: top;\n",
       "    }\n",
       "\n",
       "    .dataframe thead th {\n",
       "        text-align: right;\n",
       "    }\n",
       "</style>\n",
       "<table border=\"1\" class=\"dataframe\">\n",
       "  <thead>\n",
       "    <tr style=\"text-align: right;\">\n",
       "      <th></th>\n",
       "      <th>sentences</th>\n",
       "      <th>Naive Bayes</th>\n",
       "      <th>KNN</th>\n",
       "      <th>Decision Tree</th>\n",
       "      <th>Logistic Regression</th>\n",
       "      <th>Perceptron Model</th>\n",
       "      <th>Random Forest</th>\n",
       "      <th>SVM</th>\n",
       "      <th>sum count</th>\n",
       "      <th>Company</th>\n",
       "      <th>True Label</th>\n",
       "      <th>Classified by Hand</th>\n",
       "      <th>Pattern Recognition</th>\n",
       "      <th>Issues / Comments</th>\n",
       "      <th>key</th>\n",
       "      <th>label_change</th>\n",
       "    </tr>\n",
       "  </thead>\n",
       "  <tbody>\n",
       "    <tr>\n",
       "      <th>187</th>\n",
       "      <td>TotalEnergies allocated $100 million to CCS re...</td>\n",
       "      <td>0</td>\n",
       "      <td>0</td>\n",
       "      <td>1</td>\n",
       "      <td>0</td>\n",
       "      <td>0</td>\n",
       "      <td>0</td>\n",
       "      <td>0</td>\n",
       "      <td>1</td>\n",
       "      <td>Total</td>\n",
       "      <td>rel</td>\n",
       "      <td>irr</td>\n",
       "      <td>NaN</td>\n",
       "      <td>need more context</td>\n",
       "      <td>NaN</td>\n",
       "      <td>relirr</td>\n",
       "    </tr>\n",
       "    <tr>\n",
       "      <th>233</th>\n",
       "      <td>Net zero operations« Our aim 1 is to be net ze...</td>\n",
       "      <td>1</td>\n",
       "      <td>1</td>\n",
       "      <td>0</td>\n",
       "      <td>1</td>\n",
       "      <td>1</td>\n",
       "      <td>1</td>\n",
       "      <td>1</td>\n",
       "      <td>6</td>\n",
       "      <td>BP</td>\n",
       "      <td>irr</td>\n",
       "      <td>rel</td>\n",
       "      <td>NaN</td>\n",
       "      <td>NaN</td>\n",
       "      <td>NaN</td>\n",
       "      <td>irrrel</td>\n",
       "    </tr>\n",
       "    <tr>\n",
       "      <th>277</th>\n",
       "      <td>Our current initiatives include: Designing for...</td>\n",
       "      <td>1</td>\n",
       "      <td>1</td>\n",
       "      <td>0</td>\n",
       "      <td>1</td>\n",
       "      <td>1</td>\n",
       "      <td>0</td>\n",
       "      <td>1</td>\n",
       "      <td>5</td>\n",
       "      <td>EliLilly</td>\n",
       "      <td>irr</td>\n",
       "      <td>rel</td>\n",
       "      <td>NaN</td>\n",
       "      <td>NaN</td>\n",
       "      <td>NaN</td>\n",
       "      <td>irrrel</td>\n",
       "    </tr>\n",
       "    <tr>\n",
       "      <th>330</th>\n",
       "      <td>Newmont Corporation 2021 Climate Report 46 App...</td>\n",
       "      <td>1</td>\n",
       "      <td>1</td>\n",
       "      <td>1</td>\n",
       "      <td>1</td>\n",
       "      <td>1</td>\n",
       "      <td>1</td>\n",
       "      <td>1</td>\n",
       "      <td>7</td>\n",
       "      <td>NewmontMining</td>\n",
       "      <td>irr</td>\n",
       "      <td>rel</td>\n",
       "      <td>NaN</td>\n",
       "      <td>NaN</td>\n",
       "      <td>NaN</td>\n",
       "      <td>irrrel</td>\n",
       "    </tr>\n",
       "    <tr>\n",
       "      <th>398</th>\n",
       "      <td>BASING CALCULATIONS ON THE LARGEST VOLUME IN E...</td>\n",
       "      <td>1</td>\n",
       "      <td>1</td>\n",
       "      <td>0</td>\n",
       "      <td>1</td>\n",
       "      <td>0</td>\n",
       "      <td>1</td>\n",
       "      <td>1</td>\n",
       "      <td>5</td>\n",
       "      <td>Total</td>\n",
       "      <td>irr</td>\n",
       "      <td>rel</td>\n",
       "      <td>NaN</td>\n",
       "      <td>NaN</td>\n",
       "      <td>NaN</td>\n",
       "      <td>irrrel</td>\n",
       "    </tr>\n",
       "  </tbody>\n",
       "</table>\n",
       "</div>"
      ],
      "text/plain": [
       "                                             sentences  Naive Bayes  KNN  \\\n",
       "187  TotalEnergies allocated $100 million to CCS re...            0    0   \n",
       "233  Net zero operations« Our aim 1 is to be net ze...            1    1   \n",
       "277  Our current initiatives include: Designing for...            1    1   \n",
       "330  Newmont Corporation 2021 Climate Report 46 App...            1    1   \n",
       "398  BASING CALCULATIONS ON THE LARGEST VOLUME IN E...            1    1   \n",
       "\n",
       "     Decision Tree  Logistic Regression  Perceptron Model  Random Forest  SVM  \\\n",
       "187              1                    0                 0              0    0   \n",
       "233              0                    1                 1              1    1   \n",
       "277              0                    1                 1              0    1   \n",
       "330              1                    1                 1              1    1   \n",
       "398              0                    1                 0              1    1   \n",
       "\n",
       "     sum count        Company True Label Classified by Hand  \\\n",
       "187          1          Total        rel                irr   \n",
       "233          6             BP        irr                rel   \n",
       "277          5       EliLilly        irr                rel   \n",
       "330          7  NewmontMining        irr                rel   \n",
       "398          5          Total        irr                rel   \n",
       "\n",
       "    Pattern Recognition  Issues / Comments  key label_change  \n",
       "187                 NaN  need more context  NaN       relirr  \n",
       "233                 NaN                NaN  NaN       irrrel  \n",
       "277                 NaN                NaN  NaN       irrrel  \n",
       "330                 NaN                NaN  NaN       irrrel  \n",
       "398                 NaN                NaN  NaN       irrrel  "
      ]
     },
     "execution_count": 992,
     "metadata": {},
     "output_type": "execute_result"
    }
   ],
   "source": [
    "annotated_not_merged.head()"
   ]
  },
  {
   "cell_type": "code",
   "execution_count": 993,
   "id": "75f4eaae",
   "metadata": {},
   "outputs": [],
   "source": [
    "from fuzzywuzzy import fuzz\n",
    "from fuzzywuzzy import process"
   ]
  },
  {
   "cell_type": "markdown",
   "id": "bfb4cce4",
   "metadata": {},
   "source": [
    "### String comparison to match the remaining not_merged data"
   ]
  },
  {
   "cell_type": "code",
   "execution_count": 994,
   "id": "aca6e35b",
   "metadata": {},
   "outputs": [],
   "source": [
    "# not_merged_all = []\n",
    "# not_merged_annotated = []\n",
    "\n",
    "# for i in annotated_not_merged.sentences.to_list():\n",
    "#     val = process.extractOne(i, all_sentences['sentences'], scorer = fuzz.partial_ratio)\n",
    "#     not_merged_all.append(val) # from all_sentences\n",
    "#     not_merged_annotated.append(i) # from annotated_not_merged"
   ]
  },
  {
   "cell_type": "code",
   "execution_count": 995,
   "id": "55906d4a",
   "metadata": {},
   "outputs": [],
   "source": [
    "match_not_merged = pd.DataFrame([not_merged_all, not_merged_annotated], index = ['not_merged_all', 'not_merged_annotated']).transpose()"
   ]
  },
  {
   "cell_type": "code",
   "execution_count": 996,
   "id": "664e42a7",
   "metadata": {},
   "outputs": [],
   "source": [
    "match_not_merged.to_csv('match_not_merged.csv', encoding = 'utf-8-sig')"
   ]
  },
  {
   "cell_type": "code",
   "execution_count": 997,
   "id": "15b25e5d",
   "metadata": {},
   "outputs": [],
   "source": [
    "match_not_merged = pd.read_csv('match_not_merged.csv', index_col = 0)"
   ]
  },
  {
   "cell_type": "code",
   "execution_count": 998,
   "id": "1e6e15fc",
   "metadata": {},
   "outputs": [],
   "source": [
    "match_not_merged['not_merged_all_sent'] = [i[0] for i in not_merged_all]"
   ]
  },
  {
   "cell_type": "code",
   "execution_count": 999,
   "id": "9f4d7ec7",
   "metadata": {},
   "outputs": [],
   "source": [
    "match_not_merged = match_not_merged.drop(['not_merged_all'], axis = 1)"
   ]
  },
  {
   "cell_type": "code",
   "execution_count": 1000,
   "id": "3c784c96",
   "metadata": {},
   "outputs": [],
   "source": [
    "match_not_merged = match_not_merged.rename(columns = {'not_merged_annotated': 'sentences'})"
   ]
  },
  {
   "cell_type": "code",
   "execution_count": 1001,
   "id": "49098103",
   "metadata": {},
   "outputs": [],
   "source": [
    "match_not_merged = match_not_merged.merge(annotated, how = 'left', on = 'sentences')"
   ]
  },
  {
   "cell_type": "code",
   "execution_count": 1002,
   "id": "bd956655",
   "metadata": {},
   "outputs": [],
   "source": [
    "match_not_merged = match_not_merged.rename(columns = {'sentences': 'not_merged_annotated', 'not_merged_all_sent': 'sentences'})"
   ]
  },
  {
   "cell_type": "code",
   "execution_count": 1003,
   "id": "7f8ede6a",
   "metadata": {},
   "outputs": [],
   "source": [
    "match_not_merged = match_not_merged.drop('not_merged_annotated', axis = 1)"
   ]
  },
  {
   "cell_type": "code",
   "execution_count": 1004,
   "id": "06b74950",
   "metadata": {},
   "outputs": [],
   "source": [
    "match_not_merged = match_not_merged.merge(all_sentences, how = 'left', on = 'sentences')"
   ]
  },
  {
   "cell_type": "code",
   "execution_count": 1005,
   "id": "e0d19fb0",
   "metadata": {},
   "outputs": [],
   "source": [
    "match_not_merged = match_not_merged.drop(['company_label', 'label'], axis = 1)"
   ]
  },
  {
   "cell_type": "code",
   "execution_count": 1006,
   "id": "3d5f5e30",
   "metadata": {},
   "outputs": [],
   "source": [
    "match_not_merged['label_change'] = match_not_merged['True Label'] + match_not_merged['Classified by Hand']"
   ]
  },
  {
   "cell_type": "code",
   "execution_count": 1007,
   "id": "98aa8465",
   "metadata": {},
   "outputs": [
    {
     "data": {
      "text/html": [
       "<div>\n",
       "<style scoped>\n",
       "    .dataframe tbody tr th:only-of-type {\n",
       "        vertical-align: middle;\n",
       "    }\n",
       "\n",
       "    .dataframe tbody tr th {\n",
       "        vertical-align: top;\n",
       "    }\n",
       "\n",
       "    .dataframe thead th {\n",
       "        text-align: right;\n",
       "    }\n",
       "</style>\n",
       "<table border=\"1\" class=\"dataframe\">\n",
       "  <thead>\n",
       "    <tr style=\"text-align: right;\">\n",
       "      <th></th>\n",
       "      <th>sentences</th>\n",
       "      <th>Naive Bayes</th>\n",
       "      <th>KNN</th>\n",
       "      <th>Decision Tree</th>\n",
       "      <th>Logistic Regression</th>\n",
       "      <th>Perceptron Model</th>\n",
       "      <th>Random Forest</th>\n",
       "      <th>SVM</th>\n",
       "      <th>sum count</th>\n",
       "      <th>Company</th>\n",
       "      <th>True Label</th>\n",
       "      <th>Classified by Hand</th>\n",
       "      <th>Pattern Recognition</th>\n",
       "      <th>Issues / Comments</th>\n",
       "      <th>key</th>\n",
       "      <th>label_change</th>\n",
       "    </tr>\n",
       "  </thead>\n",
       "  <tbody>\n",
       "    <tr>\n",
       "      <th>0</th>\n",
       "      <td>TotalEnergies allocated $100  million to CCS r...</td>\n",
       "      <td>0</td>\n",
       "      <td>0</td>\n",
       "      <td>1</td>\n",
       "      <td>0</td>\n",
       "      <td>0</td>\n",
       "      <td>0</td>\n",
       "      <td>0</td>\n",
       "      <td>1</td>\n",
       "      <td>Total</td>\n",
       "      <td>rel</td>\n",
       "      <td>irr</td>\n",
       "      <td>NaN</td>\n",
       "      <td>need more context</td>\n",
       "      <td>236.0</td>\n",
       "      <td>relirr</td>\n",
       "    </tr>\n",
       "    <tr>\n",
       "      <th>1</th>\n",
       "      <td>Net zero operations Our aim 1 is to be net ze...</td>\n",
       "      <td>1</td>\n",
       "      <td>1</td>\n",
       "      <td>0</td>\n",
       "      <td>1</td>\n",
       "      <td>1</td>\n",
       "      <td>1</td>\n",
       "      <td>1</td>\n",
       "      <td>6</td>\n",
       "      <td>BP</td>\n",
       "      <td>irr</td>\n",
       "      <td>rel</td>\n",
       "      <td>NaN</td>\n",
       "      <td>NaN</td>\n",
       "      <td>23887.0</td>\n",
       "      <td>irrrel</td>\n",
       "    </tr>\n",
       "    <tr>\n",
       "      <th>2</th>\n",
       "      <td>Our current initiatives include:   Designing f...</td>\n",
       "      <td>1</td>\n",
       "      <td>1</td>\n",
       "      <td>0</td>\n",
       "      <td>1</td>\n",
       "      <td>1</td>\n",
       "      <td>0</td>\n",
       "      <td>1</td>\n",
       "      <td>5</td>\n",
       "      <td>EliLilly</td>\n",
       "      <td>irr</td>\n",
       "      <td>rel</td>\n",
       "      <td>NaN</td>\n",
       "      <td>NaN</td>\n",
       "      <td>904.0</td>\n",
       "      <td>irrrel</td>\n",
       "    </tr>\n",
       "  </tbody>\n",
       "</table>\n",
       "</div>"
      ],
      "text/plain": [
       "                                           sentences  Naive Bayes  KNN  \\\n",
       "0  TotalEnergies allocated $100  million to CCS r...            0    0   \n",
       "1  Net zero operations Our aim 1 is to be net ze...            1    1   \n",
       "2  Our current initiatives include:   Designing f...            1    1   \n",
       "\n",
       "   Decision Tree  Logistic Regression  Perceptron Model  Random Forest  SVM  \\\n",
       "0              1                    0                 0              0    0   \n",
       "1              0                    1                 1              1    1   \n",
       "2              0                    1                 1              0    1   \n",
       "\n",
       "   sum count   Company True Label Classified by Hand Pattern Recognition  \\\n",
       "0          1     Total        rel                irr                 NaN   \n",
       "1          6        BP        irr                rel                 NaN   \n",
       "2          5  EliLilly        irr                rel                 NaN   \n",
       "\n",
       "   Issues / Comments      key label_change  \n",
       "0  need more context    236.0       relirr  \n",
       "1                NaN  23887.0       irrrel  \n",
       "2                NaN    904.0       irrrel  "
      ]
     },
     "execution_count": 1007,
     "metadata": {},
     "output_type": "execute_result"
    }
   ],
   "source": [
    "match_not_merged.head(3)"
   ]
  },
  {
   "cell_type": "code",
   "execution_count": 1008,
   "id": "498b934f",
   "metadata": {},
   "outputs": [],
   "source": [
    "after_annotation = pd.concat([annotated_merged, match_not_merged])"
   ]
  },
  {
   "cell_type": "code",
   "execution_count": 1009,
   "id": "c31c9b03",
   "metadata": {},
   "outputs": [],
   "source": [
    "after_annotation = after_annotation.drop_duplicates(subset = 'key')"
   ]
  },
  {
   "cell_type": "code",
   "execution_count": 1010,
   "id": "92569bb2",
   "metadata": {},
   "outputs": [
    {
     "data": {
      "text/plain": [
       "812"
      ]
     },
     "execution_count": 1010,
     "metadata": {},
     "output_type": "execute_result"
    }
   ],
   "source": [
    "len(annotated_merged) + len(match_not_merged)"
   ]
  },
  {
   "cell_type": "code",
   "execution_count": 1011,
   "id": "4c04f521",
   "metadata": {},
   "outputs": [
    {
     "data": {
      "text/plain": [
       "804"
      ]
     },
     "execution_count": 1011,
     "metadata": {},
     "output_type": "execute_result"
    }
   ],
   "source": [
    "len(after_annotation)"
   ]
  },
  {
   "cell_type": "markdown",
   "id": "ebd55741",
   "metadata": {},
   "source": [
    "### Check status of label change"
   ]
  },
  {
   "cell_type": "code",
   "execution_count": 1012,
   "id": "5f018bcb",
   "metadata": {},
   "outputs": [],
   "source": [
    "# 784 + 18 (16 after removing duplicates) + 13 (no status changed: relrel = 8, irrirr = 5)\n",
    "\n",
    "label_change_stat = pd.DataFrame(after_annotation.groupby('label_change').count()['sentences'])"
   ]
  },
  {
   "cell_type": "code",
   "execution_count": 1013,
   "id": "13f5a62b",
   "metadata": {},
   "outputs": [
    {
     "data": {
      "text/html": [
       "<div>\n",
       "<style scoped>\n",
       "    .dataframe tbody tr th:only-of-type {\n",
       "        vertical-align: middle;\n",
       "    }\n",
       "\n",
       "    .dataframe tbody tr th {\n",
       "        vertical-align: top;\n",
       "    }\n",
       "\n",
       "    .dataframe thead th {\n",
       "        text-align: right;\n",
       "    }\n",
       "</style>\n",
       "<table border=\"1\" class=\"dataframe\">\n",
       "  <thead>\n",
       "    <tr style=\"text-align: right;\">\n",
       "      <th></th>\n",
       "      <th>sentences</th>\n",
       "    </tr>\n",
       "    <tr>\n",
       "      <th>label_change</th>\n",
       "      <th></th>\n",
       "    </tr>\n",
       "  </thead>\n",
       "  <tbody>\n",
       "    <tr>\n",
       "      <th>irrirr</th>\n",
       "      <td>256</td>\n",
       "    </tr>\n",
       "    <tr>\n",
       "      <th>irrrel</th>\n",
       "      <td>159</td>\n",
       "    </tr>\n",
       "    <tr>\n",
       "      <th>relirr</th>\n",
       "      <td>114</td>\n",
       "    </tr>\n",
       "    <tr>\n",
       "      <th>relrel</th>\n",
       "      <td>275</td>\n",
       "    </tr>\n",
       "  </tbody>\n",
       "</table>\n",
       "</div>"
      ],
      "text/plain": [
       "              sentences\n",
       "label_change           \n",
       "irrirr              256\n",
       "irrrel              159\n",
       "relirr              114\n",
       "relrel              275"
      ]
     },
     "execution_count": 1013,
     "metadata": {},
     "output_type": "execute_result"
    }
   ],
   "source": [
    "label_change_stat"
   ]
  },
  {
   "cell_type": "code",
   "execution_count": 1014,
   "id": "24199c5d",
   "metadata": {},
   "outputs": [],
   "source": [
    "label_change_stat['sentences']['irrirr'] = label_change_stat['sentences']['irrirr'] + 5"
   ]
  },
  {
   "cell_type": "code",
   "execution_count": 1015,
   "id": "8a4182c3",
   "metadata": {},
   "outputs": [],
   "source": [
    "label_change_stat['sentences']['relrel'] = label_change_stat['sentences']['relrel'] + 8"
   ]
  },
  {
   "cell_type": "markdown",
   "id": "73eb1a62",
   "metadata": {},
   "source": [
    "### Statistics of label_change after adding 8 and 7 "
   ]
  },
  {
   "cell_type": "code",
   "execution_count": 1016,
   "id": "ccef02bf",
   "metadata": {},
   "outputs": [
    {
     "data": {
      "text/html": [
       "<div>\n",
       "<style scoped>\n",
       "    .dataframe tbody tr th:only-of-type {\n",
       "        vertical-align: middle;\n",
       "    }\n",
       "\n",
       "    .dataframe tbody tr th {\n",
       "        vertical-align: top;\n",
       "    }\n",
       "\n",
       "    .dataframe thead th {\n",
       "        text-align: right;\n",
       "    }\n",
       "</style>\n",
       "<table border=\"1\" class=\"dataframe\">\n",
       "  <thead>\n",
       "    <tr style=\"text-align: right;\">\n",
       "      <th></th>\n",
       "      <th>sentences</th>\n",
       "    </tr>\n",
       "    <tr>\n",
       "      <th>label_change</th>\n",
       "      <th></th>\n",
       "    </tr>\n",
       "  </thead>\n",
       "  <tbody>\n",
       "    <tr>\n",
       "      <th>irrirr</th>\n",
       "      <td>261</td>\n",
       "    </tr>\n",
       "    <tr>\n",
       "      <th>irrrel</th>\n",
       "      <td>159</td>\n",
       "    </tr>\n",
       "    <tr>\n",
       "      <th>relirr</th>\n",
       "      <td>114</td>\n",
       "    </tr>\n",
       "    <tr>\n",
       "      <th>relrel</th>\n",
       "      <td>283</td>\n",
       "    </tr>\n",
       "  </tbody>\n",
       "</table>\n",
       "</div>"
      ],
      "text/plain": [
       "              sentences\n",
       "label_change           \n",
       "irrirr              261\n",
       "irrrel              159\n",
       "relirr              114\n",
       "relrel              283"
      ]
     },
     "execution_count": 1016,
     "metadata": {},
     "output_type": "execute_result"
    }
   ],
   "source": [
    "# Total 813 instead of 815 after removing duplicates \n",
    "label_change_stat"
   ]
  },
  {
   "cell_type": "code",
   "execution_count": 1017,
   "id": "874f0373",
   "metadata": {},
   "outputs": [],
   "source": [
    "rel_to_irr = after_annotation[(after_annotation.label_change == 'relirr')]"
   ]
  },
  {
   "cell_type": "code",
   "execution_count": 1018,
   "id": "4e336be0",
   "metadata": {},
   "outputs": [
    {
     "data": {
      "text/plain": [
       "114"
      ]
     },
     "execution_count": 1018,
     "metadata": {},
     "output_type": "execute_result"
    }
   ],
   "source": [
    "len(rel_to_irr)"
   ]
  },
  {
   "cell_type": "code",
   "execution_count": 1019,
   "id": "2b8dc374",
   "metadata": {},
   "outputs": [],
   "source": [
    "irr_to_rel = after_annotation[(after_annotation.label_change == 'irrrel')]"
   ]
  },
  {
   "cell_type": "code",
   "execution_count": 1020,
   "id": "5f095553",
   "metadata": {},
   "outputs": [
    {
     "data": {
      "text/plain": [
       "159"
      ]
     },
     "execution_count": 1020,
     "metadata": {},
     "output_type": "execute_result"
    }
   ],
   "source": [
    "len(irr_to_rel)"
   ]
  },
  {
   "cell_type": "code",
   "execution_count": 1021,
   "id": "7fe31e4a",
   "metadata": {},
   "outputs": [],
   "source": [
    "rel_to_irr = rel_to_irr[['key', 'Classified by Hand']] "
   ]
  },
  {
   "cell_type": "code",
   "execution_count": 1022,
   "id": "2e1e396c",
   "metadata": {},
   "outputs": [],
   "source": [
    "irr_to_rel = irr_to_rel[['key', 'Classified by Hand']]"
   ]
  },
  {
   "cell_type": "code",
   "execution_count": 1023,
   "id": "b7b19cbb",
   "metadata": {},
   "outputs": [],
   "source": [
    "change_label = pd.concat([rel_to_irr, irr_to_rel])"
   ]
  },
  {
   "cell_type": "code",
   "execution_count": 1024,
   "id": "e70ed487",
   "metadata": {},
   "outputs": [],
   "source": [
    "change_label = change_label.drop_duplicates(subset = 'key')"
   ]
  },
  {
   "cell_type": "code",
   "execution_count": 1025,
   "id": "093f2d4d",
   "metadata": {},
   "outputs": [],
   "source": [
    "change_label = change_label.rename(columns = {'Classified by Hand': 'label_change'}) "
   ]
  },
  {
   "cell_type": "code",
   "execution_count": 1026,
   "id": "d871a65f",
   "metadata": {},
   "outputs": [],
   "source": [
    "all_sentences = all_sentences.merge(change_label, how = 'left', on = 'key')"
   ]
  },
  {
   "cell_type": "code",
   "execution_count": 1027,
   "id": "39e7e4fe",
   "metadata": {},
   "outputs": [],
   "source": [
    "test_df = all_sentences[all_sentences.label_change.isnull()][:5]"
   ]
  },
  {
   "cell_type": "code",
   "execution_count": 1028,
   "id": "81ebd6db",
   "metadata": {},
   "outputs": [],
   "source": [
    "test_df['label_change'] = test_df['label_change'].fillna(test_df['label'])"
   ]
  },
  {
   "cell_type": "code",
   "execution_count": 1029,
   "id": "51ee578b",
   "metadata": {},
   "outputs": [],
   "source": [
    "test_df = all_sentences.sample(5)"
   ]
  },
  {
   "cell_type": "code",
   "execution_count": 1030,
   "id": "242d3977",
   "metadata": {},
   "outputs": [],
   "source": [
    "test_df['label_change'] = test_df['label_change'].fillna(test_df['label'])"
   ]
  },
  {
   "cell_type": "code",
   "execution_count": 1031,
   "id": "58131ca2",
   "metadata": {},
   "outputs": [
    {
     "data": {
      "text/html": [
       "<div>\n",
       "<style scoped>\n",
       "    .dataframe tbody tr th:only-of-type {\n",
       "        vertical-align: middle;\n",
       "    }\n",
       "\n",
       "    .dataframe tbody tr th {\n",
       "        vertical-align: top;\n",
       "    }\n",
       "\n",
       "    .dataframe thead th {\n",
       "        text-align: right;\n",
       "    }\n",
       "</style>\n",
       "<table border=\"1\" class=\"dataframe\">\n",
       "  <thead>\n",
       "    <tr style=\"text-align: right;\">\n",
       "      <th></th>\n",
       "      <th>key</th>\n",
       "    </tr>\n",
       "    <tr>\n",
       "      <th>label_change</th>\n",
       "      <th></th>\n",
       "    </tr>\n",
       "  </thead>\n",
       "  <tbody>\n",
       "    <tr>\n",
       "      <th>irr</th>\n",
       "      <td>113</td>\n",
       "    </tr>\n",
       "    <tr>\n",
       "      <th>rel</th>\n",
       "      <td>159</td>\n",
       "    </tr>\n",
       "  </tbody>\n",
       "</table>\n",
       "</div>"
      ],
      "text/plain": [
       "              key\n",
       "label_change     \n",
       "irr           113\n",
       "rel           159"
      ]
     },
     "execution_count": 1031,
     "metadata": {},
     "output_type": "execute_result"
    }
   ],
   "source": [
    "all_sentences.groupby('label_change').count()[['key']]"
   ]
  },
  {
   "cell_type": "code",
   "execution_count": 1032,
   "id": "a3f27324",
   "metadata": {},
   "outputs": [
    {
     "data": {
      "text/html": [
       "<div>\n",
       "<style scoped>\n",
       "    .dataframe tbody tr th:only-of-type {\n",
       "        vertical-align: middle;\n",
       "    }\n",
       "\n",
       "    .dataframe tbody tr th {\n",
       "        vertical-align: top;\n",
       "    }\n",
       "\n",
       "    .dataframe thead th {\n",
       "        text-align: right;\n",
       "    }\n",
       "</style>\n",
       "<table border=\"1\" class=\"dataframe\">\n",
       "  <thead>\n",
       "    <tr style=\"text-align: right;\">\n",
       "      <th></th>\n",
       "      <th>key</th>\n",
       "    </tr>\n",
       "    <tr>\n",
       "      <th>label</th>\n",
       "      <th></th>\n",
       "    </tr>\n",
       "  </thead>\n",
       "  <tbody>\n",
       "    <tr>\n",
       "      <th>irr</th>\n",
       "      <td>76406</td>\n",
       "    </tr>\n",
       "    <tr>\n",
       "      <th>rel</th>\n",
       "      <td>871</td>\n",
       "    </tr>\n",
       "  </tbody>\n",
       "</table>\n",
       "</div>"
      ],
      "text/plain": [
       "         key\n",
       "label       \n",
       "irr    76406\n",
       "rel      871"
      ]
     },
     "execution_count": 1032,
     "metadata": {},
     "output_type": "execute_result"
    }
   ],
   "source": [
    "all_sentences.groupby('label').count()[['key']]"
   ]
  },
  {
   "cell_type": "code",
   "execution_count": 1033,
   "id": "4cd8933f",
   "metadata": {},
   "outputs": [],
   "source": [
    "test_all = all_sentences[all_sentences.label_change.isnull()]"
   ]
  },
  {
   "cell_type": "code",
   "execution_count": 1034,
   "id": "55195f3f",
   "metadata": {},
   "outputs": [],
   "source": [
    "# fill labels that haven't been changed\n",
    "all_sentences['label_change'] = all_sentences['label_change'].fillna(all_sentences['label'])"
   ]
  },
  {
   "cell_type": "code",
   "execution_count": 1035,
   "id": "69cff6c0",
   "metadata": {},
   "outputs": [],
   "source": [
    "all_sentences['label_status'] = all_sentences.label + all_sentences.label_change"
   ]
  },
  {
   "cell_type": "code",
   "execution_count": 1036,
   "id": "70778e72",
   "metadata": {},
   "outputs": [
    {
     "data": {
      "text/html": [
       "<div>\n",
       "<style scoped>\n",
       "    .dataframe tbody tr th:only-of-type {\n",
       "        vertical-align: middle;\n",
       "    }\n",
       "\n",
       "    .dataframe tbody tr th {\n",
       "        vertical-align: top;\n",
       "    }\n",
       "\n",
       "    .dataframe thead th {\n",
       "        text-align: right;\n",
       "    }\n",
       "</style>\n",
       "<table border=\"1\" class=\"dataframe\">\n",
       "  <thead>\n",
       "    <tr style=\"text-align: right;\">\n",
       "      <th></th>\n",
       "      <th>key</th>\n",
       "      <th>sentences</th>\n",
       "      <th>company_label</th>\n",
       "      <th>label</th>\n",
       "      <th>label_change</th>\n",
       "    </tr>\n",
       "    <tr>\n",
       "      <th>label_status</th>\n",
       "      <th></th>\n",
       "      <th></th>\n",
       "      <th></th>\n",
       "      <th></th>\n",
       "      <th></th>\n",
       "    </tr>\n",
       "  </thead>\n",
       "  <tbody>\n",
       "    <tr>\n",
       "      <th>irrirr</th>\n",
       "      <td>76248</td>\n",
       "      <td>76248</td>\n",
       "      <td>76248</td>\n",
       "      <td>76248</td>\n",
       "      <td>76248</td>\n",
       "    </tr>\n",
       "    <tr>\n",
       "      <th>irrrel</th>\n",
       "      <td>158</td>\n",
       "      <td>158</td>\n",
       "      <td>158</td>\n",
       "      <td>158</td>\n",
       "      <td>158</td>\n",
       "    </tr>\n",
       "    <tr>\n",
       "      <th>relirr</th>\n",
       "      <td>111</td>\n",
       "      <td>111</td>\n",
       "      <td>111</td>\n",
       "      <td>111</td>\n",
       "      <td>111</td>\n",
       "    </tr>\n",
       "    <tr>\n",
       "      <th>relrel</th>\n",
       "      <td>760</td>\n",
       "      <td>760</td>\n",
       "      <td>760</td>\n",
       "      <td>760</td>\n",
       "      <td>760</td>\n",
       "    </tr>\n",
       "  </tbody>\n",
       "</table>\n",
       "</div>"
      ],
      "text/plain": [
       "                key  sentences  company_label  label  label_change\n",
       "label_status                                                      \n",
       "irrirr        76248      76248          76248  76248         76248\n",
       "irrrel          158        158            158    158           158\n",
       "relirr          111        111            111    111           111\n",
       "relrel          760        760            760    760           760"
      ]
     },
     "execution_count": 1036,
     "metadata": {},
     "output_type": "execute_result"
    }
   ],
   "source": [
    "all_sentences.groupby('label_status').count()"
   ]
  },
  {
   "cell_type": "code",
   "execution_count": null,
   "id": "af0f5782",
   "metadata": {},
   "outputs": [],
   "source": []
  },
  {
   "cell_type": "code",
   "execution_count": 1045,
   "id": "1ff10256",
   "metadata": {},
   "outputs": [
    {
     "data": {
      "text/html": [
       "<div>\n",
       "<style scoped>\n",
       "    .dataframe tbody tr th:only-of-type {\n",
       "        vertical-align: middle;\n",
       "    }\n",
       "\n",
       "    .dataframe tbody tr th {\n",
       "        vertical-align: top;\n",
       "    }\n",
       "\n",
       "    .dataframe thead th {\n",
       "        text-align: right;\n",
       "    }\n",
       "</style>\n",
       "<table border=\"1\" class=\"dataframe\">\n",
       "  <thead>\n",
       "    <tr style=\"text-align: right;\">\n",
       "      <th></th>\n",
       "      <th>relevant_sentences</th>\n",
       "      <th>irrelevant_sentences</th>\n",
       "    </tr>\n",
       "  </thead>\n",
       "  <tbody>\n",
       "    <tr>\n",
       "      <th>original_data</th>\n",
       "      <td>871</td>\n",
       "      <td>76406</td>\n",
       "    </tr>\n",
       "    <tr>\n",
       "      <th>after_annotation</th>\n",
       "      <td>918</td>\n",
       "      <td>76359</td>\n",
       "    </tr>\n",
       "  </tbody>\n",
       "</table>\n",
       "</div>"
      ],
      "text/plain": [
       "                  relevant_sentences  irrelevant_sentences\n",
       "original_data                    871                 76406\n",
       "after_annotation                 918                 76359"
      ]
     },
     "execution_count": 1045,
     "metadata": {},
     "output_type": "execute_result"
    }
   ],
   "source": [
    "# total number of rel and irr sentences change\n",
    "d = {'relevant_sentences': [871, 871+158-111], 'irrelevant_sentences': [76406, 76406-158+111]}\n",
    "df = pd.DataFrame(data=d, index = ['original_data', 'after_annotation'])\n",
    "df"
   ]
  },
  {
   "cell_type": "code",
   "execution_count": 1046,
   "id": "1283fd5c",
   "metadata": {},
   "outputs": [],
   "source": [
    "df.to_csv('annotation_stats.csv')"
   ]
  },
  {
   "cell_type": "code",
   "execution_count": 1047,
   "id": "f17eac6a",
   "metadata": {},
   "outputs": [],
   "source": [
    "label_change_stat.to_csv('label_change_stat.csv')"
   ]
  },
  {
   "cell_type": "code",
   "execution_count": 1048,
   "id": "cd4e04be",
   "metadata": {},
   "outputs": [
    {
     "data": {
      "text/html": [
       "<div>\n",
       "<style scoped>\n",
       "    .dataframe tbody tr th:only-of-type {\n",
       "        vertical-align: middle;\n",
       "    }\n",
       "\n",
       "    .dataframe tbody tr th {\n",
       "        vertical-align: top;\n",
       "    }\n",
       "\n",
       "    .dataframe thead th {\n",
       "        text-align: right;\n",
       "    }\n",
       "</style>\n",
       "<table border=\"1\" class=\"dataframe\">\n",
       "  <thead>\n",
       "    <tr style=\"text-align: right;\">\n",
       "      <th></th>\n",
       "      <th>key</th>\n",
       "      <th>sentences</th>\n",
       "      <th>company_label</th>\n",
       "      <th>label</th>\n",
       "      <th>label_change</th>\n",
       "      <th>label_status</th>\n",
       "    </tr>\n",
       "  </thead>\n",
       "  <tbody>\n",
       "    <tr>\n",
       "      <th>0</th>\n",
       "      <td>1</td>\n",
       "      <td>In 2021, 9.6% of our purchased electricity cam...</td>\n",
       "      <td>EliLilly</td>\n",
       "      <td>rel</td>\n",
       "      <td>rel</td>\n",
       "      <td>relrel</td>\n",
       "    </tr>\n",
       "    <tr>\n",
       "      <th>1</th>\n",
       "      <td>2</td>\n",
       "      <td>A large portion of this renewable electricity ...</td>\n",
       "      <td>EliLilly</td>\n",
       "      <td>rel</td>\n",
       "      <td>rel</td>\n",
       "      <td>relrel</td>\n",
       "    </tr>\n",
       "    <tr>\n",
       "      <th>2</th>\n",
       "      <td>3</td>\n",
       "      <td>From 2012 to 2020, we achieved a 26% reduction...</td>\n",
       "      <td>EliLilly</td>\n",
       "      <td>rel</td>\n",
       "      <td>rel</td>\n",
       "      <td>relrel</td>\n",
       "    </tr>\n",
       "    <tr>\n",
       "      <th>3</th>\n",
       "      <td>4</td>\n",
       "      <td>In 2021, we achieved a 9% absolute emissions r...</td>\n",
       "      <td>EliLilly</td>\n",
       "      <td>rel</td>\n",
       "      <td>rel</td>\n",
       "      <td>relrel</td>\n",
       "    </tr>\n",
       "    <tr>\n",
       "      <th>4</th>\n",
       "      <td>5</td>\n",
       "      <td>This reduction was partially driven by energy ...</td>\n",
       "      <td>EliLilly</td>\n",
       "      <td>rel</td>\n",
       "      <td>rel</td>\n",
       "      <td>relrel</td>\n",
       "    </tr>\n",
       "    <tr>\n",
       "      <th>...</th>\n",
       "      <td>...</td>\n",
       "      <td>...</td>\n",
       "      <td>...</td>\n",
       "      <td>...</td>\n",
       "      <td>...</td>\n",
       "      <td>...</td>\n",
       "    </tr>\n",
       "    <tr>\n",
       "      <th>77272</th>\n",
       "      <td>77273</td>\n",
       "      <td>→ FPL’s four nuclear units continue to operate...</td>\n",
       "      <td>NextEraEnergyZeroCarbonBlueprint</td>\n",
       "      <td>irr</td>\n",
       "      <td>irr</td>\n",
       "      <td>irrirr</td>\n",
       "    </tr>\n",
       "    <tr>\n",
       "      <th>77273</th>\n",
       "      <td>77274</td>\n",
       "      <td>Technology We assume that: → FPL’s gas plants ...</td>\n",
       "      <td>NextEraEnergyZeroCarbonBlueprint</td>\n",
       "      <td>irr</td>\n",
       "      <td>irr</td>\n",
       "      <td>irrirr</td>\n",
       "    </tr>\n",
       "    <tr>\n",
       "      <th>77274</th>\n",
       "      <td>77275</td>\n",
       "      <td>→ NextEra Energy Resources would invest in ele...</td>\n",
       "      <td>NextEraEnergyZeroCarbonBlueprint</td>\n",
       "      <td>irr</td>\n",
       "      <td>irr</td>\n",
       "      <td>irrirr</td>\n",
       "    </tr>\n",
       "    <tr>\n",
       "      <th>77275</th>\n",
       "      <td>77276</td>\n",
       "      <td>→ All non-FPL fossil generation assets would r...</td>\n",
       "      <td>NextEraEnergyZeroCarbonBlueprint</td>\n",
       "      <td>irr</td>\n",
       "      <td>irr</td>\n",
       "      <td>irrirr</td>\n",
       "    </tr>\n",
       "    <tr>\n",
       "      <th>77276</th>\n",
       "      <td>77277</td>\n",
       "      <td>→ Vehicle fleet conversions are based on the a...</td>\n",
       "      <td>NextEraEnergyZeroCarbonBlueprint</td>\n",
       "      <td>irr</td>\n",
       "      <td>irr</td>\n",
       "      <td>irrirr</td>\n",
       "    </tr>\n",
       "  </tbody>\n",
       "</table>\n",
       "<p>77277 rows × 6 columns</p>\n",
       "</div>"
      ],
      "text/plain": [
       "         key                                          sentences  \\\n",
       "0          1  In 2021, 9.6% of our purchased electricity cam...   \n",
       "1          2  A large portion of this renewable electricity ...   \n",
       "2          3  From 2012 to 2020, we achieved a 26% reduction...   \n",
       "3          4  In 2021, we achieved a 9% absolute emissions r...   \n",
       "4          5  This reduction was partially driven by energy ...   \n",
       "...      ...                                                ...   \n",
       "77272  77273  → FPL’s four nuclear units continue to operate...   \n",
       "77273  77274  Technology We assume that: → FPL’s gas plants ...   \n",
       "77274  77275  → NextEra Energy Resources would invest in ele...   \n",
       "77275  77276  → All non-FPL fossil generation assets would r...   \n",
       "77276  77277  → Vehicle fleet conversions are based on the a...   \n",
       "\n",
       "                          company_label label label_change label_status  \n",
       "0                              EliLilly   rel          rel       relrel  \n",
       "1                              EliLilly   rel          rel       relrel  \n",
       "2                              EliLilly   rel          rel       relrel  \n",
       "3                              EliLilly   rel          rel       relrel  \n",
       "4                              EliLilly   rel          rel       relrel  \n",
       "...                                 ...   ...          ...          ...  \n",
       "77272  NextEraEnergyZeroCarbonBlueprint   irr          irr       irrirr  \n",
       "77273  NextEraEnergyZeroCarbonBlueprint   irr          irr       irrirr  \n",
       "77274  NextEraEnergyZeroCarbonBlueprint   irr          irr       irrirr  \n",
       "77275  NextEraEnergyZeroCarbonBlueprint   irr          irr       irrirr  \n",
       "77276  NextEraEnergyZeroCarbonBlueprint   irr          irr       irrirr  \n",
       "\n",
       "[77277 rows x 6 columns]"
      ]
     },
     "execution_count": 1048,
     "metadata": {},
     "output_type": "execute_result"
    }
   ],
   "source": [
    "all_sentences"
   ]
  },
  {
   "cell_type": "code",
   "execution_count": 1049,
   "id": "e7ac73a7",
   "metadata": {},
   "outputs": [],
   "source": [
    "all_sentences.groupby(['company_label', 'label_change']).count()[['sentences']].to_csv('annotated_sentences_stat.csv')"
   ]
  },
  {
   "cell_type": "code",
   "execution_count": 1050,
   "id": "c2b99f66",
   "metadata": {},
   "outputs": [
    {
     "data": {
      "text/html": [
       "<div>\n",
       "<style scoped>\n",
       "    .dataframe tbody tr th:only-of-type {\n",
       "        vertical-align: middle;\n",
       "    }\n",
       "\n",
       "    .dataframe tbody tr th {\n",
       "        vertical-align: top;\n",
       "    }\n",
       "\n",
       "    .dataframe thead th {\n",
       "        text-align: right;\n",
       "    }\n",
       "</style>\n",
       "<table border=\"1\" class=\"dataframe\">\n",
       "  <thead>\n",
       "    <tr style=\"text-align: right;\">\n",
       "      <th></th>\n",
       "      <th>key</th>\n",
       "      <th>sentences</th>\n",
       "      <th>company_label</th>\n",
       "      <th>label_change</th>\n",
       "      <th>label_status</th>\n",
       "    </tr>\n",
       "    <tr>\n",
       "      <th>label</th>\n",
       "      <th></th>\n",
       "      <th></th>\n",
       "      <th></th>\n",
       "      <th></th>\n",
       "      <th></th>\n",
       "    </tr>\n",
       "  </thead>\n",
       "  <tbody>\n",
       "    <tr>\n",
       "      <th>irr</th>\n",
       "      <td>76406</td>\n",
       "      <td>76406</td>\n",
       "      <td>76406</td>\n",
       "      <td>76406</td>\n",
       "      <td>76406</td>\n",
       "    </tr>\n",
       "    <tr>\n",
       "      <th>rel</th>\n",
       "      <td>871</td>\n",
       "      <td>871</td>\n",
       "      <td>871</td>\n",
       "      <td>871</td>\n",
       "      <td>871</td>\n",
       "    </tr>\n",
       "  </tbody>\n",
       "</table>\n",
       "</div>"
      ],
      "text/plain": [
       "         key  sentences  company_label  label_change  label_status\n",
       "label                                                             \n",
       "irr    76406      76406          76406         76406         76406\n",
       "rel      871        871            871           871           871"
      ]
     },
     "execution_count": 1050,
     "metadata": {},
     "output_type": "execute_result"
    }
   ],
   "source": [
    "all_sentences.groupby('label').count()"
   ]
  },
  {
   "cell_type": "code",
   "execution_count": 1051,
   "id": "751439f6",
   "metadata": {},
   "outputs": [
    {
     "data": {
      "text/html": [
       "<div>\n",
       "<style scoped>\n",
       "    .dataframe tbody tr th:only-of-type {\n",
       "        vertical-align: middle;\n",
       "    }\n",
       "\n",
       "    .dataframe tbody tr th {\n",
       "        vertical-align: top;\n",
       "    }\n",
       "\n",
       "    .dataframe thead th {\n",
       "        text-align: right;\n",
       "    }\n",
       "</style>\n",
       "<table border=\"1\" class=\"dataframe\">\n",
       "  <thead>\n",
       "    <tr style=\"text-align: right;\">\n",
       "      <th></th>\n",
       "      <th>key</th>\n",
       "      <th>sentences</th>\n",
       "      <th>company_label</th>\n",
       "      <th>label</th>\n",
       "      <th>label_status</th>\n",
       "    </tr>\n",
       "    <tr>\n",
       "      <th>label_change</th>\n",
       "      <th></th>\n",
       "      <th></th>\n",
       "      <th></th>\n",
       "      <th></th>\n",
       "      <th></th>\n",
       "    </tr>\n",
       "  </thead>\n",
       "  <tbody>\n",
       "    <tr>\n",
       "      <th>irr</th>\n",
       "      <td>76359</td>\n",
       "      <td>76359</td>\n",
       "      <td>76359</td>\n",
       "      <td>76359</td>\n",
       "      <td>76359</td>\n",
       "    </tr>\n",
       "    <tr>\n",
       "      <th>rel</th>\n",
       "      <td>918</td>\n",
       "      <td>918</td>\n",
       "      <td>918</td>\n",
       "      <td>918</td>\n",
       "      <td>918</td>\n",
       "    </tr>\n",
       "  </tbody>\n",
       "</table>\n",
       "</div>"
      ],
      "text/plain": [
       "                key  sentences  company_label  label  label_status\n",
       "label_change                                                      \n",
       "irr           76359      76359          76359  76359         76359\n",
       "rel             918        918            918    918           918"
      ]
     },
     "execution_count": 1051,
     "metadata": {},
     "output_type": "execute_result"
    }
   ],
   "source": [
    "all_sentences.groupby('label_change').count()"
   ]
  },
  {
   "cell_type": "code",
   "execution_count": 1052,
   "id": "f7ff6b4b",
   "metadata": {},
   "outputs": [
    {
     "data": {
      "text/html": [
       "<div>\n",
       "<style scoped>\n",
       "    .dataframe tbody tr th:only-of-type {\n",
       "        vertical-align: middle;\n",
       "    }\n",
       "\n",
       "    .dataframe tbody tr th {\n",
       "        vertical-align: top;\n",
       "    }\n",
       "\n",
       "    .dataframe thead th {\n",
       "        text-align: right;\n",
       "    }\n",
       "</style>\n",
       "<table border=\"1\" class=\"dataframe\">\n",
       "  <thead>\n",
       "    <tr style=\"text-align: right;\">\n",
       "      <th></th>\n",
       "      <th>key</th>\n",
       "      <th>sentences</th>\n",
       "      <th>company_label</th>\n",
       "      <th>label</th>\n",
       "      <th>label_change</th>\n",
       "      <th>label_status</th>\n",
       "    </tr>\n",
       "  </thead>\n",
       "  <tbody>\n",
       "    <tr>\n",
       "      <th>0</th>\n",
       "      <td>1</td>\n",
       "      <td>In 2021, 9.6% of our purchased electricity cam...</td>\n",
       "      <td>EliLilly</td>\n",
       "      <td>rel</td>\n",
       "      <td>rel</td>\n",
       "      <td>relrel</td>\n",
       "    </tr>\n",
       "    <tr>\n",
       "      <th>1</th>\n",
       "      <td>2</td>\n",
       "      <td>A large portion of this renewable electricity ...</td>\n",
       "      <td>EliLilly</td>\n",
       "      <td>rel</td>\n",
       "      <td>rel</td>\n",
       "      <td>relrel</td>\n",
       "    </tr>\n",
       "    <tr>\n",
       "      <th>2</th>\n",
       "      <td>3</td>\n",
       "      <td>From 2012 to 2020, we achieved a 26% reduction...</td>\n",
       "      <td>EliLilly</td>\n",
       "      <td>rel</td>\n",
       "      <td>rel</td>\n",
       "      <td>relrel</td>\n",
       "    </tr>\n",
       "    <tr>\n",
       "      <th>3</th>\n",
       "      <td>4</td>\n",
       "      <td>In 2021, we achieved a 9% absolute emissions r...</td>\n",
       "      <td>EliLilly</td>\n",
       "      <td>rel</td>\n",
       "      <td>rel</td>\n",
       "      <td>relrel</td>\n",
       "    </tr>\n",
       "    <tr>\n",
       "      <th>4</th>\n",
       "      <td>5</td>\n",
       "      <td>This reduction was partially driven by energy ...</td>\n",
       "      <td>EliLilly</td>\n",
       "      <td>rel</td>\n",
       "      <td>rel</td>\n",
       "      <td>relrel</td>\n",
       "    </tr>\n",
       "    <tr>\n",
       "      <th>...</th>\n",
       "      <td>...</td>\n",
       "      <td>...</td>\n",
       "      <td>...</td>\n",
       "      <td>...</td>\n",
       "      <td>...</td>\n",
       "      <td>...</td>\n",
       "    </tr>\n",
       "    <tr>\n",
       "      <th>77272</th>\n",
       "      <td>77273</td>\n",
       "      <td>→ FPL’s four nuclear units continue to operate...</td>\n",
       "      <td>NextEraEnergyZeroCarbonBlueprint</td>\n",
       "      <td>irr</td>\n",
       "      <td>irr</td>\n",
       "      <td>irrirr</td>\n",
       "    </tr>\n",
       "    <tr>\n",
       "      <th>77273</th>\n",
       "      <td>77274</td>\n",
       "      <td>Technology We assume that: → FPL’s gas plants ...</td>\n",
       "      <td>NextEraEnergyZeroCarbonBlueprint</td>\n",
       "      <td>irr</td>\n",
       "      <td>irr</td>\n",
       "      <td>irrirr</td>\n",
       "    </tr>\n",
       "    <tr>\n",
       "      <th>77274</th>\n",
       "      <td>77275</td>\n",
       "      <td>→ NextEra Energy Resources would invest in ele...</td>\n",
       "      <td>NextEraEnergyZeroCarbonBlueprint</td>\n",
       "      <td>irr</td>\n",
       "      <td>irr</td>\n",
       "      <td>irrirr</td>\n",
       "    </tr>\n",
       "    <tr>\n",
       "      <th>77275</th>\n",
       "      <td>77276</td>\n",
       "      <td>→ All non-FPL fossil generation assets would r...</td>\n",
       "      <td>NextEraEnergyZeroCarbonBlueprint</td>\n",
       "      <td>irr</td>\n",
       "      <td>irr</td>\n",
       "      <td>irrirr</td>\n",
       "    </tr>\n",
       "    <tr>\n",
       "      <th>77276</th>\n",
       "      <td>77277</td>\n",
       "      <td>→ Vehicle fleet conversions are based on the a...</td>\n",
       "      <td>NextEraEnergyZeroCarbonBlueprint</td>\n",
       "      <td>irr</td>\n",
       "      <td>irr</td>\n",
       "      <td>irrirr</td>\n",
       "    </tr>\n",
       "  </tbody>\n",
       "</table>\n",
       "<p>77277 rows × 6 columns</p>\n",
       "</div>"
      ],
      "text/plain": [
       "         key                                          sentences  \\\n",
       "0          1  In 2021, 9.6% of our purchased electricity cam...   \n",
       "1          2  A large portion of this renewable electricity ...   \n",
       "2          3  From 2012 to 2020, we achieved a 26% reduction...   \n",
       "3          4  In 2021, we achieved a 9% absolute emissions r...   \n",
       "4          5  This reduction was partially driven by energy ...   \n",
       "...      ...                                                ...   \n",
       "77272  77273  → FPL’s four nuclear units continue to operate...   \n",
       "77273  77274  Technology We assume that: → FPL’s gas plants ...   \n",
       "77274  77275  → NextEra Energy Resources would invest in ele...   \n",
       "77275  77276  → All non-FPL fossil generation assets would r...   \n",
       "77276  77277  → Vehicle fleet conversions are based on the a...   \n",
       "\n",
       "                          company_label label label_change label_status  \n",
       "0                              EliLilly   rel          rel       relrel  \n",
       "1                              EliLilly   rel          rel       relrel  \n",
       "2                              EliLilly   rel          rel       relrel  \n",
       "3                              EliLilly   rel          rel       relrel  \n",
       "4                              EliLilly   rel          rel       relrel  \n",
       "...                                 ...   ...          ...          ...  \n",
       "77272  NextEraEnergyZeroCarbonBlueprint   irr          irr       irrirr  \n",
       "77273  NextEraEnergyZeroCarbonBlueprint   irr          irr       irrirr  \n",
       "77274  NextEraEnergyZeroCarbonBlueprint   irr          irr       irrirr  \n",
       "77275  NextEraEnergyZeroCarbonBlueprint   irr          irr       irrirr  \n",
       "77276  NextEraEnergyZeroCarbonBlueprint   irr          irr       irrirr  \n",
       "\n",
       "[77277 rows x 6 columns]"
      ]
     },
     "execution_count": 1052,
     "metadata": {},
     "output_type": "execute_result"
    }
   ],
   "source": [
    "all_sentences"
   ]
  },
  {
   "cell_type": "code",
   "execution_count": null,
   "id": "36d38a9b",
   "metadata": {},
   "outputs": [],
   "source": []
  },
  {
   "cell_type": "code",
   "execution_count": 665,
   "id": "0ee35b0f",
   "metadata": {},
   "outputs": [],
   "source": [
    "# annotated[annotated['transition'] == 'rel_to_irr'].iloc[:,1:9].sum()"
   ]
  },
  {
   "cell_type": "code",
   "execution_count": 666,
   "id": "56532d53",
   "metadata": {},
   "outputs": [],
   "source": [
    "# annotated[annotated['transition'] == 'irr_to_rel'].iloc[:,1:9].sum() + annotated[annotated['transition'] == 'rel_to_irr'].iloc[:,1:9].sum()"
   ]
  },
  {
   "cell_type": "code",
   "execution_count": null,
   "id": "566e43eb",
   "metadata": {},
   "outputs": [],
   "source": []
  }
 ],
 "metadata": {
  "kernelspec": {
   "display_name": "Python 3 (ipykernel)",
   "language": "python",
   "name": "python3"
  },
  "language_info": {
   "codemirror_mode": {
    "name": "ipython",
    "version": 3
   },
   "file_extension": ".py",
   "mimetype": "text/x-python",
   "name": "python",
   "nbconvert_exporter": "python",
   "pygments_lexer": "ipython3",
   "version": "3.9.13"
  }
 },
 "nbformat": 4,
 "nbformat_minor": 5
}
